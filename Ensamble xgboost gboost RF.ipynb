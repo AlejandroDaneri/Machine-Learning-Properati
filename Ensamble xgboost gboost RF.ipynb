{
 "cells": [
  {
   "cell_type": "code",
   "execution_count": 1,
   "metadata": {},
   "outputs": [
    {
     "data": {
      "text/html": [
       "<style>.container { width:97% !important; }</style>"
      ],
      "text/plain": [
       "<IPython.core.display.HTML object>"
      ]
     },
     "metadata": {},
     "output_type": "display_data"
    },
    {
     "data": {
      "application/javascript": [
       "if (!(\"Notification\" in window)) {\n",
       "    alert(\"This browser does not support desktop notifications, so the %%notify magic will not work.\");\n",
       "} else if (Notification.permission !== 'granted' && Notification.permission !== 'denied') {\n",
       "    Notification.requestPermission(function (permission) {\n",
       "        if(!('permission' in Notification)) {\n",
       "            Notification.permission = permission;\n",
       "        }\n",
       "    })\n",
       "}\n"
      ],
      "text/plain": [
       "<IPython.core.display.Javascript object>"
      ]
     },
     "metadata": {},
     "output_type": "display_data"
    }
   ],
   "source": [
    "import pandas as pd\n",
    "import numpy as np\n",
    "import matplotlib.pyplot as plt\n",
    "\n",
    "from IPython.core.display import display, HTML\n",
    "display(HTML(\"<style>.container { width:97% !important; }</style>\"))\n",
    "\n",
    "from sklearn.model_selection import GridSearchCV, RandomizedSearchCV, train_test_split\n",
    "from sklearn.ensemble import ExtraTreesRegressor,VotingClassifier\n",
    "from sklearn.ensemble import RandomForestRegressor\n",
    "\n",
    "from sklearn import preprocessing\n",
    "import scoring as score # para hacer los reportes de puntajes\n",
    "from time import time\n",
    "\n",
    "import jupyternotify\n",
    "ip = get_ipython()\n",
    "ip.register_magics(jupyternotify.JupyterNotifyMagics)\n",
    "\n",
    "import scoring as score # para hacer los reportes de puntajes\n",
    "\n",
    "properati = pd.read_csv('datos/properati_final.csv')"
   ]
  },
  {
   "cell_type": "code",
   "execution_count": 2,
   "metadata": {
    "collapsed": true
   },
   "outputs": [],
   "source": [
    "#paso features con strings a numericos\n",
    "le_barrio = preprocessing.LabelEncoder()\n",
    "barrios=properati['state_name']\n",
    "le_barrio.fit(barrios)\n",
    "properati['state_name'] = le_barrio.transform(barrios)\n",
    "\n",
    "le_zona = preprocessing.LabelEncoder()\n",
    "zona=properati['place_name']\n",
    "le_zona.fit(zona)\n",
    "properati['place_name'] = le_zona.transform(zona)\n",
    "\n",
    "le_tipo = preprocessing.LabelEncoder()\n",
    "tipos_prop=properati['property_type']\n",
    "le_tipo.fit(tipos_prop)\n",
    "properati['property_type'] = le_tipo.transform(tipos_prop)"
   ]
  },
  {
   "cell_type": "code",
   "execution_count": 3,
   "metadata": {},
   "outputs": [
    {
     "name": "stdout",
     "output_type": "stream",
     "text": [
      "136353\n",
      "135943\n"
     ]
    }
   ],
   "source": [
    "properati.loc[:,('created_on')] = pd.to_datetime(properati['created_on'])\n",
    "properati['anio'] = [x.year for x in properati['created_on'] ]\n",
    "properati=properati.loc[properati.price_aprox_usd<1e7]\n",
    "print len(properati)\n",
    "properati=properati.groupby(\"place_name\").filter(lambda x: len(x)>5)\n",
    "print len(properati)"
   ]
  },
  {
   "cell_type": "code",
   "execution_count": 4,
   "metadata": {
    "collapsed": true
   },
   "outputs": [],
   "source": [
    "#preparo set de datos\n",
    "X = zip(properati['surface_total_in_m2'],\\\n",
    "        properati['surface_covered_in_m2'],properati[\"property_type\"],properati['state_name'],properati['place_name'])\n",
    "y = properati[\"price_aprox_usd\"]"
   ]
  },
  {
   "cell_type": "markdown",
   "metadata": {
    "collapsed": true
   },
   "source": [
    "# GBoost"
   ]
  },
  {
   "cell_type": "code",
   "execution_count": 5,
   "metadata": {},
   "outputs": [
    {
     "name": "stdout",
     "output_type": "stream",
     "text": [
      "GridSearchCV duro 35.95 segundos para 2 candidatos a hiper-parametros.\n",
      "\n",
      "Puesto: 1\n",
      "Promedio training score: 0.987 (std: 0.001)\n",
      "Promedio validation score: 0.747 (std: 0.027)\n",
      "Promedio fit time: 2.511s\n",
      "Hiper-parametros: {'n_estimators': 80}\n",
      "\n",
      "Puesto: 2\n",
      "Promedio training score: 0.987 (std: 0.001)\n",
      "Promedio validation score: 0.742 (std: 0.029)\n",
      "Promedio fit time: 1.431s\n",
      "Hiper-parametros: {'n_estimators': 40}\n",
      "\n"
     ]
    },
    {
     "data": {
      "application/javascript": [
       "$(document).ready(\n",
       "    function() {\n",
       "        function appendUniqueDiv(){\n",
       "            // append a div with our uuid so we can check that it's already\n",
       "            // been sent and avoid duplicates on page reload\n",
       "            var notifiedDiv = document.createElement(\"div\")\n",
       "            notifiedDiv.id = \"baab23bb-3239-49c6-b5ea-5b3b5023367c\"\n",
       "            element.append(notifiedDiv)\n",
       "        }\n",
       "\n",
       "        // only send notifications if the pageload is complete; this will\n",
       "        // help stop extra notifications when a saved notebook is loaded,\n",
       "        // which during testing gives us state \"interactive\", not \"complete\"\n",
       "        if (document.readyState === 'complete') {\n",
       "            // check for the div that signifies that the notification\n",
       "            // was already sent\n",
       "            if (document.getElementById(\"baab23bb-3239-49c6-b5ea-5b3b5023367c\") === null) {\n",
       "                var notificationPayload = {\"body\": \"Cell Execution Has Finished!!\", \"requireInteraction\": false, \"icon\": \"/static/base/images/favicon.ico\"};\n",
       "                if (Notification.permission !== 'denied') {\n",
       "                    if (Notification.permission !== 'granted') { \n",
       "                        Notification.requestPermission(function (permission) {\n",
       "                            if(!('permission' in Notification)) {\n",
       "                                Notification.permission = permission\n",
       "                            }\n",
       "                            if (Notification.permission === 'granted') {\n",
       "                                var notification = new Notification(\"Jupyter Notebook\", notificationPayload)\n",
       "                                appendUniqueDiv()\n",
       "                            }\n",
       "                        })\n",
       "                    } else if (Notification.permission === 'granted') {\n",
       "                        var notification = new Notification(\"Jupyter Notebook\", notificationPayload)\n",
       "                        appendUniqueDiv()\n",
       "                    }\n",
       "                }\n",
       "            }\n",
       "        }\n",
       "    }\n",
       ")\n"
      ],
      "text/plain": [
       "<IPython.core.display.Javascript object>"
      ]
     },
     "metadata": {},
     "output_type": "display_data"
    }
   ],
   "source": [
    "%%notify\n",
    "\n",
    "gb= ExtraTreesRegressor(n_jobs=-1)\n",
    "\n",
    "X_train, X_test, y_train, y_test = train_test_split(\n",
    "    X, y, test_size=0.2)\n",
    "\n",
    "n_estimators=np.arange(10,100,10)\n",
    "\n",
    "param_grid = {\"n_estimators\": n_estimators}\n",
    "\n",
    "search = RandomizedSearchCV(gb, param_distributions=param_grid ,cv=5,n_iter=2) \n",
    "start = time()\n",
    "search.fit(X_train, y_train)\n",
    "\n",
    "print(\"GridSearchCV duro %.2f segundos para %d candidatos a hiper-parametros.\"\n",
    "    % (time() - start, len(search.cv_results_['params'])))\n",
    "print(\"\")\n",
    "score.report_single(search.cv_results_)"
   ]
  },
  {
   "cell_type": "code",
   "execution_count": 6,
   "metadata": {
    "collapsed": true
   },
   "outputs": [],
   "source": [
    "gboost = search.best_estimator_"
   ]
  },
  {
   "cell_type": "markdown",
   "metadata": {},
   "source": [
    "# XGBoost"
   ]
  },
  {
   "cell_type": "code",
   "execution_count": 7,
   "metadata": {},
   "outputs": [
    {
     "name": "stderr",
     "output_type": "stream",
     "text": [
      "/usr/local/lib/python2.7/dist-packages/sklearn/cross_validation.py:41: DeprecationWarning: This module was deprecated in version 0.18 in favor of the model_selection module into which all the refactored classes and functions are moved. Also note that the interface of the new CV iterators are different from that of this module. This module will be removed in 0.20.\n",
      "  \"This module will be removed in 0.20.\", DeprecationWarning)\n"
     ]
    },
    {
     "name": "stdout",
     "output_type": "stream",
     "text": [
      "GridSearchCV duro 30.01 segundos para 2 candidatos a hiper-parametros.\n",
      "\n",
      "Puesto: 1\n",
      "Promedio training score: 0.987 (std: 0.000)\n",
      "Promedio validation score: 0.778 (std: 0.013)\n",
      "Promedio fit time: 2.744s\n",
      "Hiper-parametros: {'n_estimators': 80}\n",
      "\n",
      "Puesto: 2\n",
      "Promedio training score: 0.987 (std: 0.000)\n",
      "Promedio validation score: 0.769 (std: 0.011)\n",
      "Promedio fit time: 0.581s\n",
      "Hiper-parametros: {'n_estimators': 10}\n",
      "\n"
     ]
    },
    {
     "data": {
      "application/javascript": [
       "$(document).ready(\n",
       "    function() {\n",
       "        function appendUniqueDiv(){\n",
       "            // append a div with our uuid so we can check that it's already\n",
       "            // been sent and avoid duplicates on page reload\n",
       "            var notifiedDiv = document.createElement(\"div\")\n",
       "            notifiedDiv.id = \"fe668742-99b4-497e-b785-7c8989aae867\"\n",
       "            element.append(notifiedDiv)\n",
       "        }\n",
       "\n",
       "        // only send notifications if the pageload is complete; this will\n",
       "        // help stop extra notifications when a saved notebook is loaded,\n",
       "        // which during testing gives us state \"interactive\", not \"complete\"\n",
       "        if (document.readyState === 'complete') {\n",
       "            // check for the div that signifies that the notification\n",
       "            // was already sent\n",
       "            if (document.getElementById(\"fe668742-99b4-497e-b785-7c8989aae867\") === null) {\n",
       "                var notificationPayload = {\"body\": \"Cell Execution Has Finished!!\", \"requireInteraction\": false, \"icon\": \"/static/base/images/favicon.ico\"};\n",
       "                if (Notification.permission !== 'denied') {\n",
       "                    if (Notification.permission !== 'granted') { \n",
       "                        Notification.requestPermission(function (permission) {\n",
       "                            if(!('permission' in Notification)) {\n",
       "                                Notification.permission = permission\n",
       "                            }\n",
       "                            if (Notification.permission === 'granted') {\n",
       "                                var notification = new Notification(\"Jupyter Notebook\", notificationPayload)\n",
       "                                appendUniqueDiv()\n",
       "                            }\n",
       "                        })\n",
       "                    } else if (Notification.permission === 'granted') {\n",
       "                        var notification = new Notification(\"Jupyter Notebook\", notificationPayload)\n",
       "                        appendUniqueDiv()\n",
       "                    }\n",
       "                }\n",
       "            }\n",
       "        }\n",
       "    }\n",
       ")\n"
      ],
      "text/plain": [
       "<IPython.core.display.Javascript object>"
      ]
     },
     "metadata": {},
     "output_type": "display_data"
    }
   ],
   "source": [
    "%%notify\n",
    "from xgboost import XGBRegressor\n",
    "xgb= XGBRegressor(nthread=-1)\n",
    "\n",
    "X_train, X_test, y_train, y_test = train_test_split(\n",
    "    X, y, test_size=0.2)\n",
    "\n",
    "learning_rate=np.arange(0.3,0.9,0.2)\n",
    "\n",
    "param_grid = {\"learning_rate\": learning_rate,'min_child_weight':[1,3],'gamma':[i/10.0 for i in range(1,9)],'subsample':[i/10.0 for i in range(6,8)]}\n",
    "\n",
    "search1 = GridSearchCV(xgb, param_grid=param_grid ,cv=5) \n",
    "start = time()\n",
    "search.fit(X_train, y_train)\n",
    "\n",
    "print(\"GridSearchCV duro %.2f segundos para %d candidatos a hiper-parametros.\"\n",
    "    % (time() - start, len(search.cv_results_['params'])))\n",
    "print(\"\")\n",
    "score.report_single(search.cv_results_)"
   ]
  },
  {
   "cell_type": "code",
   "execution_count": 8,
   "metadata": {
    "collapsed": true
   },
   "outputs": [],
   "source": [
    "xgboost = search.best_estimator_"
   ]
  },
  {
   "cell_type": "markdown",
   "metadata": {},
   "source": [
    "# RF"
   ]
  },
  {
   "cell_type": "code",
   "execution_count": 9,
   "metadata": {},
   "outputs": [
    {
     "name": "stdout",
     "output_type": "stream",
     "text": [
      "GridSearchCV duro 39.40 segundos para 2 candidatos a hiper-parametros.\n",
      "\n",
      "Puesto: 1\n",
      "Promedio training score: 0.959 (std: 0.002)\n",
      "Promedio validation score: 0.776 (std: 0.030)\n",
      "Promedio fit time: 2.549s\n",
      "Hiper-parametros: {'n_estimators': 85, 'max_features': 'log2', 'criterion': 'mse'}\n",
      "\n",
      "Puesto: 2\n",
      "Promedio training score: 0.959 (std: 0.001)\n",
      "Promedio validation score: 0.773 (std: 0.027)\n",
      "Promedio fit time: 2.149s\n",
      "Hiper-parametros: {'n_estimators': 70, 'max_features': 'log2', 'criterion': 'mse'}\n",
      "\n"
     ]
    },
    {
     "data": {
      "application/javascript": [
       "$(document).ready(\n",
       "    function() {\n",
       "        function appendUniqueDiv(){\n",
       "            // append a div with our uuid so we can check that it's already\n",
       "            // been sent and avoid duplicates on page reload\n",
       "            var notifiedDiv = document.createElement(\"div\")\n",
       "            notifiedDiv.id = \"8a7f3230-6683-48b5-9556-99386ac787d5\"\n",
       "            element.append(notifiedDiv)\n",
       "        }\n",
       "\n",
       "        // only send notifications if the pageload is complete; this will\n",
       "        // help stop extra notifications when a saved notebook is loaded,\n",
       "        // which during testing gives us state \"interactive\", not \"complete\"\n",
       "        if (document.readyState === 'complete') {\n",
       "            // check for the div that signifies that the notification\n",
       "            // was already sent\n",
       "            if (document.getElementById(\"8a7f3230-6683-48b5-9556-99386ac787d5\") === null) {\n",
       "                var notificationPayload = {\"body\": \"Cell Execution Has Finished!!\", \"requireInteraction\": false, \"icon\": \"/static/base/images/favicon.ico\"};\n",
       "                if (Notification.permission !== 'denied') {\n",
       "                    if (Notification.permission !== 'granted') { \n",
       "                        Notification.requestPermission(function (permission) {\n",
       "                            if(!('permission' in Notification)) {\n",
       "                                Notification.permission = permission\n",
       "                            }\n",
       "                            if (Notification.permission === 'granted') {\n",
       "                                var notification = new Notification(\"Jupyter Notebook\", notificationPayload)\n",
       "                                appendUniqueDiv()\n",
       "                            }\n",
       "                        })\n",
       "                    } else if (Notification.permission === 'granted') {\n",
       "                        var notification = new Notification(\"Jupyter Notebook\", notificationPayload)\n",
       "                        appendUniqueDiv()\n",
       "                    }\n",
       "                }\n",
       "            }\n",
       "        }\n",
       "    }\n",
       ")\n"
      ],
      "text/plain": [
       "<IPython.core.display.Javascript object>"
      ]
     },
     "metadata": {},
     "output_type": "display_data"
    }
   ],
   "source": [
    "%%notify\n",
    "\n",
    "rf = RandomForestRegressor(n_jobs=-1)\n",
    "\n",
    "X_train, X_test, y_train, y_test = train_test_split(\n",
    "    X, y, test_size=0.2)\n",
    "\n",
    "criterion = ['mse']\n",
    "max_features =[\"auto\",\"log2\",None]\n",
    "n_estimators = np.arange(40,100,5)\n",
    "\n",
    "X_train, X_test, y_train, y_test = train_test_split(\n",
    "    X, y, test_size=0.2)\n",
    "\n",
    "param_grid = {\"criterion\": criterion,\"max_features\":max_features,\"n_estimators\":n_estimators}\n",
    "\n",
    "search = RandomizedSearchCV(rf, param_distributions=param_grid ,cv=5,n_iter=2) #refit deja el estimador fiteado con los mejores hiperparametros\n",
    "start = time()\n",
    "search.fit(X_train, y_train)\n",
    "\n",
    "print(\"GridSearchCV duro %.2f segundos para %d candidatos a hiper-parametros.\"\n",
    "    % (time() - start, len(search.cv_results_['params'])))\n",
    "print(\"\")\n",
    "score.report_single(search.cv_results_)"
   ]
  },
  {
   "cell_type": "code",
   "execution_count": null,
   "metadata": {
    "collapsed": true
   },
   "outputs": [],
   "source": [
    "%%notify\n",
    "\n",
    "rf = RandomForestClassifier(n_jobs=-1)\n",
    "\n",
    "criterion = ['gini','entropy']\n",
    "max_features =[\"auto\",\"log2\",None]\n",
    "n_estimators = np.arange(40,100,5)\n",
    "\n",
    "X_train, X_test, y_train, y_test = train_test_split(\n",
    "    X, y, test_size=0.2)\n",
    "\n",
    "param_grid = {\"criterion\": criterion,\"max_features\":max_features,\"n_estimators\":n_estimators}\n",
    "\n",
    "search = GridSearchCV(rf, param_distributions=param_grid ,cv=5,n_iter=10) #refit deja el estimador fiteado con los mejores hiperparametros\n",
    "start = time()\n",
    "search.fit(X_train, y_train)\n",
    "\n",
    "print(\"GridSearchCV duro %.2f segundos para %d candidatos a hiper-parametros.\"\n",
    "    % (time() - start, len(search.cv_results_['params'])))\n",
    "print(\"\")\n",
    "score.report_single(search.cv_results_)"
   ]
  },
  {
   "cell_type": "code",
   "execution_count": 10,
   "metadata": {},
   "outputs": [],
   "source": [
    "rf= search.best_estimator_"
   ]
  },
  {
   "cell_type": "code",
   "execution_count": 9,
   "metadata": {},
   "outputs": [
    {
     "data": {
      "text/plain": [
       "0.86392637136990325"
      ]
     },
     "execution_count": 9,
     "metadata": {},
     "output_type": "execute_result"
    }
   ],
   "source": [
    "search.score(X_test,y_test)"
   ]
  },
  {
   "cell_type": "markdown",
   "metadata": {},
   "source": [
    "# ETC"
   ]
  },
  {
   "cell_type": "code",
   "execution_count": null,
   "metadata": {
    "collapsed": true
   },
   "outputs": [],
   "source": []
  },
  {
   "cell_type": "markdown",
   "metadata": {},
   "source": [
    "# MLP"
   ]
  },
  {
   "cell_type": "code",
   "execution_count": 22,
   "metadata": {
    "collapsed": true
   },
   "outputs": [],
   "source": [
    "from sklearn.neural_network import MLPRegressor"
   ]
  },
  {
   "cell_type": "code",
   "execution_count": 23,
   "metadata": {},
   "outputs": [
    {
     "name": "stderr",
     "output_type": "stream",
     "text": [
      "/usr/local/lib/python2.7/dist-packages/sklearn/neural_network/multilayer_perceptron.py:564: ConvergenceWarning: Stochastic Optimizer: Maximum iterations (200) reached and the optimization hasn't converged yet.\n",
      "  % self.max_iter, ConvergenceWarning)\n",
      "/usr/local/lib/python2.7/dist-packages/sklearn/neural_network/multilayer_perceptron.py:564: ConvergenceWarning: Stochastic Optimizer: Maximum iterations (200) reached and the optimization hasn't converged yet.\n",
      "  % self.max_iter, ConvergenceWarning)\n",
      "/usr/local/lib/python2.7/dist-packages/sklearn/neural_network/multilayer_perceptron.py:564: ConvergenceWarning: Stochastic Optimizer: Maximum iterations (200) reached and the optimization hasn't converged yet.\n",
      "  % self.max_iter, ConvergenceWarning)\n",
      "/usr/local/lib/python2.7/dist-packages/sklearn/neural_network/multilayer_perceptron.py:564: ConvergenceWarning: Stochastic Optimizer: Maximum iterations (200) reached and the optimization hasn't converged yet.\n",
      "  % self.max_iter, ConvergenceWarning)\n"
     ]
    },
    {
     "name": "stdout",
     "output_type": "stream",
     "text": [
      "GridSearchCV duro 804.48 segundos para 4 candidatos a hiper-parametros.\n",
      "\n",
      "Puesto: 1\n",
      "Promedio training score: 0.493 (std: 0.072)\n",
      "Promedio validation score: -0.121 (std: 1.035)\n",
      "Promedio fit time: 105.808s\n",
      "Hiper-parametros: {'activation': 'relu'}\n",
      "\n",
      "Puesto: 2\n",
      "Promedio training score: -0.527 (std: 0.059)\n",
      "Promedio validation score: -0.576 (std: 0.140)\n",
      "Promedio fit time: 93.532s\n",
      "Hiper-parametros: {'activation': 'tanh'}\n",
      "\n",
      "Puesto: 3\n",
      "Promedio training score: -0.528 (std: 0.059)\n",
      "Promedio validation score: -0.577 (std: 0.141)\n",
      "Promedio fit time: 219.882s\n",
      "Hiper-parametros: {'activation': 'logistic'}\n",
      "\n",
      "Puesto: 4\n",
      "Promedio training score: 0.161 (std: 0.131)\n",
      "Promedio validation score: -0.904 (std: 2.015)\n",
      "Promedio fit time: 41.417s\n",
      "Hiper-parametros: {'activation': 'identity'}\n",
      "\n"
     ]
    },
    {
     "name": "stderr",
     "output_type": "stream",
     "text": [
      "/usr/local/lib/python2.7/dist-packages/sklearn/neural_network/multilayer_perceptron.py:564: ConvergenceWarning: Stochastic Optimizer: Maximum iterations (200) reached and the optimization hasn't converged yet.\n",
      "  % self.max_iter, ConvergenceWarning)\n"
     ]
    },
    {
     "data": {
      "application/javascript": [
       "$(document).ready(\n",
       "    function() {\n",
       "        function appendUniqueDiv(){\n",
       "            // append a div with our uuid so we can check that it's already\n",
       "            // been sent and avoid duplicates on page reload\n",
       "            var notifiedDiv = document.createElement(\"div\")\n",
       "            notifiedDiv.id = \"afbf04ff-0073-4a1b-8eea-f7024ddeeed5\"\n",
       "            element.append(notifiedDiv)\n",
       "        }\n",
       "\n",
       "        // only send notifications if the pageload is complete; this will\n",
       "        // help stop extra notifications when a saved notebook is loaded,\n",
       "        // which during testing gives us state \"interactive\", not \"complete\"\n",
       "        if (document.readyState === 'complete') {\n",
       "            // check for the div that signifies that the notification\n",
       "            // was already sent\n",
       "            if (document.getElementById(\"afbf04ff-0073-4a1b-8eea-f7024ddeeed5\") === null) {\n",
       "                var notificationPayload = {\"body\": \"Cell Execution Has Finished!!\", \"requireInteraction\": false, \"icon\": \"/static/base/images/favicon.ico\"};\n",
       "                if (Notification.permission !== 'denied') {\n",
       "                    if (Notification.permission !== 'granted') { \n",
       "                        Notification.requestPermission(function (permission) {\n",
       "                            if(!('permission' in Notification)) {\n",
       "                                Notification.permission = permission\n",
       "                            }\n",
       "                            if (Notification.permission === 'granted') {\n",
       "                                var notification = new Notification(\"Jupyter Notebook\", notificationPayload)\n",
       "                                appendUniqueDiv()\n",
       "                            }\n",
       "                        })\n",
       "                    } else if (Notification.permission === 'granted') {\n",
       "                        var notification = new Notification(\"Jupyter Notebook\", notificationPayload)\n",
       "                        appendUniqueDiv()\n",
       "                    }\n",
       "                }\n",
       "            }\n",
       "        }\n",
       "    }\n",
       ")\n"
      ],
      "text/plain": [
       "<IPython.core.display.Javascript object>"
      ]
     },
     "metadata": {},
     "output_type": "display_data"
    }
   ],
   "source": [
    "%%notify\n",
    "\n",
    "mlp = MLPRegressor()\n",
    "\n",
    "activation = [\"identity\", \"logistic\", \"tanh\", \"relu\"]\n",
    "\n",
    "X_train, X_test, y_train, y_test = train_test_split(\n",
    "    X, y, test_size=0.2)\n",
    "\n",
    "param_grid = {\"activation\": activation}\n",
    "\n",
    "search = GridSearchCV(mlp, param_grid=param_grid ,cv=5,n_jobs=-1) #refit deja el estimador fiteado con los mejores hiperparametros\n",
    "start = time()\n",
    "search.fit(X_train, y_train)\n",
    "\n",
    "print(\"GridSearchCV duro %.2f segundos para %d candidatos a hiper-parametros.\"\n",
    "    % (time() - start, len(search.cv_results_['params'])))\n",
    "print(\"\")\n",
    "score.report_single(search.cv_results_)"
   ]
  },
  {
   "cell_type": "code",
   "execution_count": 24,
   "metadata": {
    "collapsed": true
   },
   "outputs": [],
   "source": [
    "mlp=search.best_estimator_"
   ]
  },
  {
   "cell_type": "code",
   "execution_count": 61,
   "metadata": {},
   "outputs": [
    {
     "data": {
      "text/plain": [
       "0.79543121149897333"
      ]
     },
     "execution_count": 61,
     "metadata": {},
     "output_type": "execute_result"
    }
   ],
   "source": [
    "search.score(X_test,y_test)"
   ]
  },
  {
   "cell_type": "code",
   "execution_count": null,
   "metadata": {
    "collapsed": true
   },
   "outputs": [],
   "source": []
  },
  {
   "cell_type": "markdown",
   "metadata": {},
   "source": [
    "# Lineales"
   ]
  },
  {
   "cell_type": "code",
   "execution_count": 40,
   "metadata": {
    "collapsed": true
   },
   "outputs": [],
   "source": [
    "from sklearn.linear_model import LogisticRegression"
   ]
  },
  {
   "cell_type": "code",
   "execution_count": null,
   "metadata": {},
   "outputs": [
    {
     "name": "stderr",
     "output_type": "stream",
     "text": [
      "/usr/local/lib/python2.7/dist-packages/sklearn/linear_model/logistic.py:1228: UserWarning: 'n_jobs' > 1 does not have any effect when 'solver' is set to 'liblinear'. Got 'n_jobs' = -1.\n",
      "  \" = {}.\".format(self.n_jobs))\n"
     ]
    }
   ],
   "source": [
    "%%notify\n",
    "\n",
    "logr = LogisticRegression(n_jobs=-1)\n",
    "\n",
    "X_train, X_test, y_train, y_test = train_test_split(\n",
    "    X, y, test_size=0.2)\n",
    "\n",
    "logr.fit(X_train, y_train)\n",
    "logr.score(X_test,y_test)"
   ]
  },
  {
   "cell_type": "code",
   "execution_count": 38,
   "metadata": {
    "collapsed": true
   },
   "outputs": [],
   "source": []
  },
  {
   "cell_type": "code",
   "execution_count": null,
   "metadata": {
    "collapsed": true
   },
   "outputs": [],
   "source": []
  },
  {
   "cell_type": "markdown",
   "metadata": {},
   "source": [
    "# Ensamble"
   ]
  },
  {
   "cell_type": "code",
   "execution_count": 11,
   "metadata": {
    "collapsed": true
   },
   "outputs": [],
   "source": [
    "from mlxtend.regressor import StackingRegressor\n",
    "\n",
    "stregr = StackingRegressor(regressors=[xgb,gboost], \n",
    "                           meta_regressor=rf)"
   ]
  },
  {
   "cell_type": "code",
   "execution_count": 12,
   "metadata": {},
   "outputs": [
    {
     "data": {
      "text/plain": [
       "StackingRegressor(meta_regressor=RandomForestRegressor(bootstrap=True, criterion='mse', max_depth=None,\n",
       "           max_features='log2', max_leaf_nodes=None,\n",
       "           min_impurity_decrease=0.0, min_impurity_split=None,\n",
       "           min_samples_leaf=1, min_samples_split=2,\n",
       "           min_weight_fraction_leaf=0.0, n_estimators=85, n_jobs=-1,\n",
       "           oob_score=False, random_state=None, verbose=0, warm_start=False),\n",
       "         regressors=[XGBRegressor(base_score=0.5, colsample_bylevel=1, colsample_bytree=1, gamma=0,\n",
       "       learning_rate=0.1, max_delta_step=0, max_depth=3,\n",
       "       min_child_weight=1, missing=None, n_estimators=100, nthread=-1,\n",
       "       objective='reg:linear', reg_alpha=0, reg_lambda=1,\n",
       "       scale_pos_weight...stimators=80, n_jobs=-1,\n",
       "          oob_score=False, random_state=None, verbose=0, warm_start=False)],\n",
       "         verbose=0)"
      ]
     },
     "execution_count": 12,
     "metadata": {},
     "output_type": "execute_result"
    },
    {
     "data": {
      "application/javascript": [
       "$(document).ready(\n",
       "    function() {\n",
       "        function appendUniqueDiv(){\n",
       "            // append a div with our uuid so we can check that it's already\n",
       "            // been sent and avoid duplicates on page reload\n",
       "            var notifiedDiv = document.createElement(\"div\")\n",
       "            notifiedDiv.id = \"a266aa2a-0c4f-4878-92ee-2ef62a2c6259\"\n",
       "            element.append(notifiedDiv)\n",
       "        }\n",
       "\n",
       "        // only send notifications if the pageload is complete; this will\n",
       "        // help stop extra notifications when a saved notebook is loaded,\n",
       "        // which during testing gives us state \"interactive\", not \"complete\"\n",
       "        if (document.readyState === 'complete') {\n",
       "            // check for the div that signifies that the notification\n",
       "            // was already sent\n",
       "            if (document.getElementById(\"a266aa2a-0c4f-4878-92ee-2ef62a2c6259\") === null) {\n",
       "                var notificationPayload = {\"body\": \"Cell Execution Has Finished!!\", \"requireInteraction\": false, \"icon\": \"/static/base/images/favicon.ico\"};\n",
       "                if (Notification.permission !== 'denied') {\n",
       "                    if (Notification.permission !== 'granted') { \n",
       "                        Notification.requestPermission(function (permission) {\n",
       "                            if(!('permission' in Notification)) {\n",
       "                                Notification.permission = permission\n",
       "                            }\n",
       "                            if (Notification.permission === 'granted') {\n",
       "                                var notification = new Notification(\"Jupyter Notebook\", notificationPayload)\n",
       "                                appendUniqueDiv()\n",
       "                            }\n",
       "                        })\n",
       "                    } else if (Notification.permission === 'granted') {\n",
       "                        var notification = new Notification(\"Jupyter Notebook\", notificationPayload)\n",
       "                        appendUniqueDiv()\n",
       "                    }\n",
       "                }\n",
       "            }\n",
       "        }\n",
       "    }\n",
       ")\n"
      ],
      "text/plain": [
       "<IPython.core.display.Javascript object>"
      ]
     },
     "metadata": {},
     "output_type": "display_data"
    }
   ],
   "source": [
    "%%notify\n",
    "stregr.fit(X_train,y_train)"
   ]
  },
  {
   "cell_type": "code",
   "execution_count": 13,
   "metadata": {},
   "outputs": [
    {
     "data": {
      "text/plain": [
       "0.77901348475768772"
      ]
     },
     "execution_count": 13,
     "metadata": {},
     "output_type": "execute_result"
    }
   ],
   "source": [
    "stregr.score(X_test,y_test)"
   ]
  },
  {
   "cell_type": "code",
   "execution_count": 14,
   "metadata": {},
   "outputs": [
    {
     "name": "stdout",
     "output_type": "stream",
     "text": [
      "Error maximo:5849737.10551\n",
      "Error minimo:0.0\n",
      "39671       9289.091271\n",
      "74578      -8832.882913\n",
      "92320      45000.000000\n",
      "81477         -0.011765\n",
      "62534      -6879.033596\n",
      "41186      18529.720028\n",
      "2591        5564.023137\n",
      "69850      -7291.508605\n",
      "81612      26284.536294\n",
      "64117     -89138.592157\n",
      "80502     -49415.686275\n",
      "125169     10868.860392\n",
      "49791        -25.490196\n",
      "110508     16896.390247\n",
      "7404      -45859.983035\n",
      "46405      52533.231373\n",
      "15457     -10668.690760\n",
      "68993     -49229.411765\n",
      "102412    -29354.388235\n",
      "73859      58052.567647\n",
      "22997      17015.664897\n",
      "125880       -62.202614\n",
      "103238     -6894.135472\n",
      "133694      3741.353222\n",
      "87744      51602.586835\n",
      "130645      9327.677141\n",
      "86497      55709.266667\n",
      "40701      36549.672508\n",
      "35680     137141.400560\n",
      "24725     185490.196078\n",
      "              ...      \n",
      "83643       7619.348235\n",
      "34975      36480.750975\n",
      "111864     49226.330532\n",
      "41705       -123.529412\n",
      "122023      3599.223529\n",
      "109940      -545.169352\n",
      "72906      -1469.954510\n",
      "55867       9344.896443\n",
      "49035      -1773.137255\n",
      "48818         -9.188235\n",
      "100671     -9343.900765\n",
      "64410     -10017.647059\n",
      "50414      21389.643925\n",
      "103041        44.705882\n",
      "58024        -72.846108\n",
      "38269      66257.250687\n",
      "11169      63752.614379\n",
      "69285        900.409804\n",
      "25984      46210.043137\n",
      "91448      17639.752661\n",
      "72926      -9545.721429\n",
      "20655      30794.831274\n",
      "41964     -44941.728016\n",
      "18276          0.000000\n",
      "113240    -23045.261620\n",
      "84125     338119.981326\n",
      "81920       5190.646499\n",
      "118686     23608.571429\n",
      "10090        752.941176\n",
      "40874       1265.922652\n",
      "Name: price_aprox_usd, Length: 27189, dtype: float64\n"
     ]
    }
   ],
   "source": [
    "errores = stregr.predict(X_test)-y_test\n",
    "print (\"Error maximo:{0}\\nError minimo:{1}\".format( max(abs(errores)),min(abs(errores))))\n",
    "print(errores)"
   ]
  },
  {
   "cell_type": "code",
   "execution_count": 15,
   "metadata": {},
   "outputs": [
    {
     "name": "stdout",
     "output_type": "stream",
     "text": [
      "Hay 23655 de 27189 que tienen mas de 1000 USD de error (87%)\n"
     ]
    }
   ],
   "source": [
    "count_max=0\n",
    "max_error=1000\n",
    "lista=[]\n",
    "for error in errores:\n",
    "    if abs(error)>max_error:\n",
    "        count_max+=1\n",
    "        lista.append(abs(error))\n",
    "print (\"Hay {0} de {1} que tienen mas de {2} USD de error ({3}%)\".format(count_max,len(errores),max_error,100 * count_max/len(errores)))"
   ]
  },
  {
   "cell_type": "code",
   "execution_count": 18,
   "metadata": {},
   "outputs": [
    {
     "data": {
      "image/png": "[encoded data removed]",
      "text/plain": [
       "<matplotlib.figure.Figure at 0x7fd650ba6710>"
      ]
     },
     "metadata": {},
     "output_type": "display_data"
    }
   ],
   "source": [
    "# the histogram of the data\n",
    "plt.figure(figsize=(12,8))\n",
    "plt.hist(errores, 500, facecolor='blue')\n",
    "plt.xlabel('Errores')\n",
    "plt.ylabel('Cantidad')\n",
    "#plt.xlim(-10000000, 10000000) #para variar el \"zoom a 0\"\n",
    "plt.yscale('log')\n",
    "plt.xscale('log')\n",
    "plt.show()"
   ]
  },
  {
   "cell_type": "code",
   "execution_count": null,
   "metadata": {
    "collapsed": true
   },
   "outputs": [],
   "source": []
  },
  {
   "cell_type": "code",
   "execution_count": null,
   "metadata": {
    "collapsed": true
   },
   "outputs": [],
   "source": []
  }
 ],
 "metadata": {
  "kernelspec": {
   "display_name": "Python 2",
   "language": "python",
   "name": "python2"
  },
  "language_info": {
   "codemirror_mode": {
    "name": "ipython",
    "version": 2
   },
   "file_extension": ".py",
   "mimetype": "text/x-python",
   "name": "python",
   "nbconvert_exporter": "python",
   "pygments_lexer": "ipython2",
   "version": "2.7.12"
  }
 },
 "nbformat": 4,
 "nbformat_minor": 2
}
