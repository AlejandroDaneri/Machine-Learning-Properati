{
 "cells": [
  {
   "cell_type": "markdown",
   "metadata": {},
   "source": [
    "# pip install xgboost"
   ]
  },
  {
   "cell_type": "code",
   "execution_count": 10,
   "metadata": {},
   "outputs": [
    {
     "data": {
      "text/html": [
       "<style>.container { width:97% !important; }</style>"
      ],
      "text/plain": [
       "<IPython.core.display.HTML object>"
      ]
     },
     "metadata": {},
     "output_type": "display_data"
    },
    {
     "data": {
      "application/javascript": [
       "if (!(\"Notification\" in window)) {\n",
       "    alert(\"This browser does not support desktop notifications, so the %%notify magic will not work.\");\n",
       "} else if (Notification.permission !== 'granted' && Notification.permission !== 'denied') {\n",
       "    Notification.requestPermission(function (permission) {\n",
       "        if(!('permission' in Notification)) {\n",
       "            Notification.permission = permission;\n",
       "        }\n",
       "    })\n",
       "}\n"
      ],
      "text/plain": [
       "<IPython.core.display.Javascript object>"
      ]
     },
     "metadata": {},
     "output_type": "display_data"
    }
   ],
   "source": [
    "import pandas as pd\n",
    "import numpy as np\n",
    "import matplotlib.pyplot as plt\n",
    "\n",
    "from IPython.core.display import display, HTML\n",
    "display(HTML(\"<style>.container { width:97% !important; }</style>\"))\n",
    "\n",
    "import jupyternotify\n",
    "ip = get_ipython()\n",
    "ip.register_magics(jupyternotify.JupyterNotifyMagics)\n",
    "\n",
    "import scoring as score # para hacer los reportes de puntajes\n",
    "from time import time\n",
    "\n",
    "from sklearn import preprocessing\n",
    "from sklearn.ensemble import RandomForestClassifier,RandomForestRegressor,IsolationForest\n",
    "from sklearn.preprocessing import RobustScaler  \n",
    "from sklearn.model_selection import GridSearchCV, RandomizedSearchCV, train_test_split\n",
    "\n",
    "properati = pd.read_csv('datos/properati_final_y_descripcion.csv')\n",
    "zonas = pd.read_csv('datos/todos_los_barrios.csv')"
   ]
  },
  {
   "cell_type": "code",
   "execution_count": 11,
   "metadata": {},
   "outputs": [
    {
     "name": "stderr",
     "output_type": "stream",
     "text": [
      "/usr/local/lib/python2.7/dist-packages/sklearn/preprocessing/label.py:95: DataConversionWarning: A column-vector y was passed when a 1d array was expected. Please change the shape of y to (n_samples, ), for example using ravel().\n",
      "  y = column_or_1d(y, warn=True)\n"
     ]
    }
   ],
   "source": [
    "#paso features con strings a numericos\n",
    "le_zona = preprocessing.LabelEncoder()\n",
    "properati['state_name'] =le_zona.fit_transform(properati['state_name'])\n",
    "\n",
    "le_barrio = preprocessing.LabelEncoder()\n",
    "le_barrio.fit(zonas.values)\n",
    "properati['place_name'] = le_barrio.transform(properati['place_name'])\n",
    "\n",
    "le_tipo = preprocessing.LabelEncoder()\n",
    "properati['property_type'] = le_tipo.fit_transform(properati['property_type'])"
   ]
  },
  {
   "cell_type": "markdown",
   "metadata": {},
   "source": [
    "# Regresor"
   ]
  },
  {
   "cell_type": "code",
   "execution_count": 12,
   "metadata": {},
   "outputs": [],
   "source": [
    "#preparo set de datos\n",
    "originales=[\"surface_total_in_m2\",\"surface_covered_in_m2\",\"place_name\",\"property_type\"]\n",
    "features_nuevas=[\"cochera\",\"comedor\",\"living\",\"amplio\",\"suite\",\"lavadero\",\"terraza\",\"hall\",\"placard\",\"balcon\",\"parrilla\",\"aire\",\"patio\",\"muebles\",\"pileta\"\\\n",
    "                ,\"mesada\",\"parque\",\"quincho\",\"escalera\",\"chalet\",\"monoambiente\",\"porcelanato\",\"caldera\",\"solarium\",\"duplex\",\"cancha\"]\n",
    "columnas=originales+features_nuevas\n",
    "X= properati.loc[:,columnas]    \n",
    "y = properati[\"price_aprox_usd\"]"
   ]
  },
  {
   "cell_type": "code",
   "execution_count": 13,
   "metadata": {},
   "outputs": [],
   "source": [
    "from xgboost import XGBRegressor"
   ]
  },
  {
   "cell_type": "code",
   "execution_count": 14,
   "metadata": {},
   "outputs": [
    {
     "name": "stdout",
     "output_type": "stream",
     "text": [
      "GridSearchCV duro 142.76 segundos para 10 candidatos a hiper-parametros.\n",
      "\n",
      "Puesto: 1\n",
      "Promedio training score: 0.843 (std: 0.011)\n",
      "Promedio validation score: 0.610 (std: 0.120)\n",
      "Promedio fit time: 2.544s\n",
      "Hiper-parametros: {'subsample': 0.8, 'learning_rate': 0.50000000000000011, 'gamma': 0.5, 'min_child_weight': 3}\n",
      "\n",
      "Puesto: 2\n",
      "Promedio training score: 0.840 (std: 0.009)\n",
      "Promedio validation score: 0.608 (std: 0.106)\n",
      "Promedio fit time: 2.071s\n",
      "Hiper-parametros: {'subsample': 1.0, 'learning_rate': 0.50000000000000011, 'gamma': 0.3, 'min_child_weight': 5}\n",
      "\n",
      "Puesto: 3\n",
      "Promedio training score: 0.853 (std: 0.010)\n",
      "Promedio validation score: 0.558 (std: 0.123)\n",
      "Promedio fit time: 1.978s\n",
      "Hiper-parametros: {'subsample': 1.0, 'learning_rate': 0.70000000000000007, 'gamma': 0.3, 'min_child_weight': 6}\n",
      "\n",
      "Puesto: 4\n",
      "Promedio training score: 0.857 (std: 0.012)\n",
      "Promedio validation score: 0.557 (std: 0.156)\n",
      "Promedio fit time: 2.179s\n",
      "Hiper-parametros: {'subsample': 1.0, 'learning_rate': 0.50000000000000011, 'gamma': 0.4, 'min_child_weight': 3}\n",
      "\n",
      "Puesto: 5\n",
      "Promedio training score: 0.795 (std: 0.005)\n",
      "Promedio validation score: 0.552 (std: 0.139)\n",
      "Promedio fit time: 2.402s\n",
      "Hiper-parametros: {'subsample': 0.9, 'learning_rate': 0.30000000000000004, 'gamma': 0.3, 'min_child_weight': 6}\n",
      "\n",
      "Puesto: 6\n",
      "Promedio training score: 0.848 (std: 0.011)\n",
      "Promedio validation score: 0.527 (std: 0.141)\n",
      "Promedio fit time: 2.920s\n",
      "Hiper-parametros: {'subsample': 0.7, 'learning_rate': 0.70000000000000007, 'gamma': 0.3, 'min_child_weight': 3}\n",
      "\n",
      "Puesto: 7\n",
      "Promedio training score: 0.810 (std: 0.007)\n",
      "Promedio validation score: 0.497 (std: 0.192)\n",
      "Promedio fit time: 2.626s\n",
      "Hiper-parametros: {'subsample': 0.8, 'learning_rate': 0.50000000000000011, 'gamma': 0.3, 'min_child_weight': 6}\n",
      "\n",
      "Puesto: 8\n",
      "Promedio training score: 0.848 (std: 0.014)\n",
      "Promedio validation score: 0.474 (std: 0.297)\n",
      "Promedio fit time: 2.878s\n",
      "Hiper-parametros: {'subsample': 0.6, 'learning_rate': 0.50000000000000011, 'gamma': 0.4, 'min_child_weight': 1}\n",
      "\n",
      "Puesto: 9\n",
      "Promedio training score: 0.868 (std: 0.016)\n",
      "Promedio validation score: 0.453 (std: 0.329)\n",
      "Promedio fit time: 2.543s\n",
      "Hiper-parametros: {'subsample': 0.8, 'learning_rate': 0.70000000000000007, 'gamma': 0.3, 'min_child_weight': 1}\n",
      "\n",
      "Puesto: 10\n",
      "Promedio training score: 0.762 (std: 0.011)\n",
      "Promedio validation score: 0.423 (std: 0.310)\n",
      "Promedio fit time: 3.184s\n",
      "Hiper-parametros: {'subsample': 0.6, 'learning_rate': 0.10000000000000001, 'gamma': 0.4, 'min_child_weight': 1}\n",
      "\n"
     ]
    },
    {
     "data": {
      "application/javascript": [
       "$(document).ready(\n",
       "    function() {\n",
       "        function appendUniqueDiv(){\n",
       "            // append a div with our uuid so we can check that it's already\n",
       "            // been sent and avoid duplicates on page reload\n",
       "            var notifiedDiv = document.createElement(\"div\")\n",
       "            notifiedDiv.id = \"194bcd5a-5f86-4052-bdc0-2b1ed5294368\"\n",
       "            element.append(notifiedDiv)\n",
       "        }\n",
       "\n",
       "        // only send notifications if the pageload is complete; this will\n",
       "        // help stop extra notifications when a saved notebook is loaded,\n",
       "        // which during testing gives us state \"interactive\", not \"complete\"\n",
       "        if (document.readyState === 'complete') {\n",
       "            // check for the div that signifies that the notification\n",
       "            // was already sent\n",
       "            if (document.getElementById(\"194bcd5a-5f86-4052-bdc0-2b1ed5294368\") === null) {\n",
       "                var notificationPayload = {\"body\": \"Cell Execution Has Finished!!\", \"requireInteraction\": false, \"icon\": \"/static/base/images/favicon.ico\"};\n",
       "                if (Notification.permission !== 'denied') {\n",
       "                    if (Notification.permission !== 'granted') { \n",
       "                        Notification.requestPermission(function (permission) {\n",
       "                            if(!('permission' in Notification)) {\n",
       "                                Notification.permission = permission\n",
       "                            }\n",
       "                            if (Notification.permission === 'granted') {\n",
       "                                var notification = new Notification(\"Jupyter Notebook\", notificationPayload)\n",
       "                                appendUniqueDiv()\n",
       "                            }\n",
       "                        })\n",
       "                    } else if (Notification.permission === 'granted') {\n",
       "                        var notification = new Notification(\"Jupyter Notebook\", notificationPayload)\n",
       "                        appendUniqueDiv()\n",
       "                    }\n",
       "                }\n",
       "            }\n",
       "        }\n",
       "    }\n",
       ")\n"
      ],
      "text/plain": [
       "<IPython.core.display.Javascript object>"
      ]
     },
     "metadata": {},
     "output_type": "display_data"
    }
   ],
   "source": [
    "%%notify\n",
    "\n",
    "xgb= XGBRegressor(nthread=-1)\n",
    "\n",
    "X_train, X_test, y_train, y_test = train_test_split(\n",
    "    X, y, test_size=0.2)\n",
    "\n",
    "learning_rate=np.arange(0.1,0.8,0.2)\n",
    "\n",
    "param_grid = {\"learning_rate\": learning_rate,'min_child_weight':[1,3,5,6],'gamma':[i/10.0 for i in range(3,6)],'subsample':[i/10.0 for i in range(6,11)]}\n",
    "\n",
    "search = RandomizedSearchCV(xgb, param_distributions=param_grid ,cv=5,n_iter=10) #refit deja el estimador fiteado con los mejores hiperparametros\n",
    "start = time()\n",
    "search.fit(X_train, y_train)\n",
    "\n",
    "print(\"GridSearchCV duro %.2f segundos para %d candidatos a hiper-parametros.\"\n",
    "    % (time() - start, len(search.cv_results_['params'])))\n",
    "print(\"\")\n",
    "score.report_single(search.cv_results_)"
   ]
  },
  {
   "cell_type": "markdown",
   "metadata": {},
   "source": [
    "# Clasificador"
   ]
  },
  {
   "cell_type": "code",
   "execution_count": 1,
   "metadata": {},
   "outputs": [
    {
     "name": "stderr",
     "output_type": "stream",
     "text": [
      "/usr/local/lib/python2.7/dist-packages/sklearn/cross_validation.py:41: DeprecationWarning: This module was deprecated in version 0.18 in favor of the model_selection module into which all the refactored classes and functions are moved. Also note that the interface of the new CV iterators are different from that of this module. This module will be removed in 0.20.\n",
      "  \"This module will be removed in 0.20.\", DeprecationWarning)\n"
     ]
    }
   ],
   "source": [
    "from xgboost import XGBClassifier"
   ]
  },
  {
   "cell_type": "code",
   "execution_count": null,
   "metadata": {
    "collapsed": true
   },
   "outputs": [],
   "source": [
    "%%notify\n",
    "\n",
    "xgb= XGBClassifier(nthread=-1)\n",
    "\n",
    "X_train, X_test, y_train, y_test = train_test_split(\n",
    "    X, y, test_size=0.2)\n",
    "\n",
    "learning_rate=np.arange(0.1,0.8,0.2)\n",
    "\n",
    "param_grid = {\"learning_rate\": learning_rate,'min_child_weight':[1,3,5,6],'gamma':[i/10.0 for i in range(3,6)],'subsample':[i/10.0 for i in range(6,11)]}\n",
    "\n",
    "search = RandomizedSearchCV(xgb, param_distributions=param_grid ,cv=5,n_iter=10) #refit deja el estimador fiteado con los mejores hiperparametros\n",
    "start = time()\n",
    "search.fit(X_train, y_train)\n",
    "\n",
    "print(\"GridSearchCV duro %.2f segundos para %d candidatos a hiper-parametros.\"\n",
    "    % (time() - start, len(search.cv_results_['params'])))\n",
    "print(\"\")\n",
    "score.report_single(search.cv_results_)"
   ]
  },
  {
   "cell_type": "markdown",
   "metadata": {},
   "source": [
    "###  Analsis de errores"
   ]
  },
  {
   "cell_type": "code",
   "execution_count": 15,
   "metadata": {},
   "outputs": [
    {
     "data": {
      "text/plain": [
       "0.66754097761115272"
      ]
     },
     "execution_count": 15,
     "metadata": {},
     "output_type": "execute_result"
    }
   ],
   "source": [
    "search.score(X_test,y_test)"
   ]
  },
  {
   "cell_type": "code",
   "execution_count": 17,
   "metadata": {},
   "outputs": [],
   "source": [
    "mejor = search.best_estimator_"
   ]
  },
  {
   "cell_type": "code",
   "execution_count": 24,
   "metadata": {},
   "outputs": [
    {
     "name": "stdout",
     "output_type": "stream",
     "text": [
      "Error maximo:7834287.5\n",
      "Error minimo:0.34375\n",
      "Con % \n",
      "Error maximo:8607.34%\n",
      "Error minimo:6.61057692308e-05%\n",
      "30779    -129160.812500\n",
      "28531       4183.015625\n",
      "106253     26671.484375\n",
      "26654      53804.359375\n",
      "46425     -70954.843750\n",
      "8200       33493.625000\n",
      "62512     462750.937500\n",
      "11033      38003.023438\n",
      "16582     171109.250000\n",
      "17941     -62596.562500\n",
      "35352      -9361.039062\n",
      "17319      95083.750000\n",
      "98717    -316642.937500\n",
      "73811       9960.828125\n",
      "84166      61521.296875\n",
      "109154      6049.468750\n",
      "122463    -73068.093750\n",
      "6748     -248170.875000\n",
      "77650      68061.812500\n",
      "113977    -34287.390625\n",
      "118295      6006.171875\n",
      "19991     453355.375000\n",
      "11371     -21604.796875\n",
      "50446       5177.636719\n",
      "55404     -26239.500000\n",
      "4028       49375.296875\n",
      "48481       1997.335938\n",
      "73287     -24779.656250\n",
      "11449     -39766.703125\n",
      "106707     19670.328125\n",
      "              ...      \n",
      "52067     -78178.851562\n",
      "108684     43815.968750\n",
      "55125      33063.781250\n",
      "130089     -3163.750000\n",
      "125020     -9094.765625\n",
      "99295      41242.375000\n",
      "21972     -48395.750000\n",
      "107271     54803.250000\n",
      "107409     84892.875000\n",
      "35539     -90711.062500\n",
      "35452     235689.625000\n",
      "104122    -31528.093750\n",
      "53335    -180825.312500\n",
      "32265      28106.070312\n",
      "131032     20183.914062\n",
      "119179    202322.750000\n",
      "40247       2812.968750\n",
      "28604     -13357.390625\n",
      "91760     190519.375000\n",
      "34350      -7944.218750\n",
      "104191     28990.703125\n",
      "126837     -4998.808594\n",
      "89075     100945.140625\n",
      "15614      -6943.937500\n",
      "128572     32036.382812\n",
      "6563       -9848.187500\n",
      "98153      49969.585938\n",
      "20178      17795.109375\n",
      "90998     270885.062500\n",
      "17814      43768.468750\n",
      "Name: price_aprox_usd, Length: 27271, dtype: float64\n"
     ]
    }
   ],
   "source": [
    "errores = mejor.predict(X_test)-y_test\n",
    "errores_porc = 100*((mejor.predict(X_test)-y_test))/y_test\n",
    "print (\"Error maximo:{0}\\nError minimo:{1}\".format( max(abs(errores)),min(abs(errores))))\n",
    "print (\"Con % \\nError maximo:{0}%\\nError minimo:{1}%\".format( max(abs(errores_porc)),min(abs(errores_porc))))\n",
    "print(errores)"
   ]
  },
  {
   "cell_type": "code",
   "execution_count": 25,
   "metadata": {},
   "outputs": [
    {
     "name": "stdout",
     "output_type": "stream",
     "text": [
      "Hay 1233 de 27271 que tienen mas de 100 % de error (4%)\n"
     ]
    }
   ],
   "source": [
    "count_max=0\n",
    "max_error=100\n",
    "lista=[]\n",
    "for error in errores_porc:\n",
    "    if error>max_error:\n",
    "        count_max+=1\n",
    "        lista.append(abs(errores_porc))\n",
    "print (\"Hay {0} de {1} que tienen mas de {2} % de error ({3}%)\".format(count_max,len(errores_porc),max_error,100 * count_max/len(errores_porc)))"
   ]
  },
  {
   "cell_type": "code",
   "execution_count": 26,
   "metadata": {},
   "outputs": [
    {
     "name": "stdout",
     "output_type": "stream",
     "text": [
      "Hay 8558 de 27271 que tienen mas de 20 % de error (31%)\n"
     ]
    }
   ],
   "source": [
    "count_max=0\n",
    "max_error=20\n",
    "lista=[]\n",
    "for error in errores_porc:\n",
    "    if error>max_error:\n",
    "        count_max+=1\n",
    "        lista.append(abs(errores_porc))\n",
    "print (\"Hay {0} de {1} que tienen mas de {2} % de error ({3}%)\".format(count_max,len(errores_porc),max_error,100 * count_max/len(errores_porc)))"
   ]
  },
  {
   "cell_type": "code",
   "execution_count": 27,
   "metadata": {},
   "outputs": [
    {
     "name": "stdout",
     "output_type": "stream",
     "text": [
      "Hay 11428 de 27271 que tienen mas de 10 % de error (41%)\n"
     ]
    }
   ],
   "source": [
    "count_max=0\n",
    "max_error=10\n",
    "lista=[]\n",
    "for error in errores_porc:\n",
    "    if error>max_error:\n",
    "        count_max+=1\n",
    "        lista.append(abs(errores_porc))\n",
    "print (\"Hay {0} de {1} que tienen mas de {2} % de error ({3}%)\".format(count_max,len(errores_porc),max_error,100 * count_max/len(errores_porc)))"
   ]
  },
  {
   "cell_type": "code",
   "execution_count": 28,
   "metadata": {},
   "outputs": [
    {
     "name": "stdout",
     "output_type": "stream",
     "text": [
      "Hay 13040 de 27271 que tienen mas de 5 % de error (47%)\n"
     ]
    }
   ],
   "source": [
    "count_max=0\n",
    "max_error=5\n",
    "lista=[]\n",
    "for error in errores_porc:\n",
    "    if error>max_error:\n",
    "        count_max+=1\n",
    "        lista.append(abs(errores_porc))\n",
    "print (\"Hay {0} de {1} que tienen mas de {2} % de error ({3}%)\".format(count_max,len(errores_porc),max_error,100 * count_max/len(errores_porc)))"
   ]
  },
  {
   "cell_type": "code",
   "execution_count": null,
   "metadata": {
    "collapsed": true
   },
   "outputs": [],
   "source": []
  }
 ],
 "metadata": {
  "kernelspec": {
   "display_name": "Python 2",
   "language": "python",
   "name": "python2"
  },
  "language_info": {
   "codemirror_mode": {
    "name": "ipython",
    "version": 2
   },
   "file_extension": ".py",
   "mimetype": "text/x-python",
   "name": "python",
   "nbconvert_exporter": "python",
   "pygments_lexer": "ipython2",
   "version": "2.7.12"
  }
 },
 "nbformat": 4,
 "nbformat_minor": 2
}
