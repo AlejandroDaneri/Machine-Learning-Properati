{
 "cells": [
  {
   "cell_type": "markdown",
   "metadata": {},
   "source": [
    "# pip install xgboost"
   ]
  },
  {
   "cell_type": "code",
   "execution_count": 3,
   "metadata": {},
   "outputs": [
    {
     "data": {
      "text/html": [
       "<style>.container { width:97% !important; }</style>"
      ],
      "text/plain": [
       "<IPython.core.display.HTML object>"
      ]
     },
     "metadata": {},
     "output_type": "display_data"
    },
    {
     "data": {
      "application/javascript": [
       "if (!(\"Notification\" in window)) {\n",
       "    alert(\"This browser does not support desktop notifications, so the %%notify magic will not work.\");\n",
       "} else if (Notification.permission !== 'granted' && Notification.permission !== 'denied') {\n",
       "    Notification.requestPermission(function (permission) {\n",
       "        if(!('permission' in Notification)) {\n",
       "            Notification.permission = permission;\n",
       "        }\n",
       "    })\n",
       "}\n"
      ],
      "text/plain": [
       "<IPython.core.display.Javascript object>"
      ]
     },
     "metadata": {},
     "output_type": "display_data"
    }
   ],
   "source": [
    "import pandas as pd\n",
    "import numpy as np\n",
    "import matplotlib.pyplot as plt\n",
    "\n",
    "from IPython.core.display import display, HTML\n",
    "display(HTML(\"<style>.container { width:97% !important; }</style>\"))\n",
    "\n",
    "import jupyternotify\n",
    "ip = get_ipython()\n",
    "ip.register_magics(jupyternotify.JupyterNotifyMagics)\n",
    "\n",
    "import scoring as score # para hacer los reportes de puntajes\n",
    "from time import time\n",
    "\n",
    "from sklearn import preprocessing\n",
    "from sklearn.ensemble import RandomForestClassifier,RandomForestRegressor,IsolationForest\n",
    "from sklearn.preprocessing import RobustScaler  \n",
    "from sklearn.model_selection import GridSearchCV, RandomizedSearchCV, train_test_split\n",
    "\n",
    "properati = pd.read_csv('datos/properati_final.csv')"
   ]
  },
  {
   "cell_type": "code",
   "execution_count": 4,
   "metadata": {
    "collapsed": true
   },
   "outputs": [],
   "source": [
    "from datacleaner import autoclean"
   ]
  },
  {
   "cell_type": "code",
   "execution_count": 5,
   "metadata": {
    "collapsed": true
   },
   "outputs": [],
   "source": [
    "properati = autoclean(properati)"
   ]
  },
  {
   "cell_type": "markdown",
   "metadata": {},
   "source": [
    "# Regresor"
   ]
  },
  {
   "cell_type": "code",
   "execution_count": 6,
   "metadata": {},
   "outputs": [
    {
     "name": "stdout",
     "output_type": "stream",
     "text": [
      "136356\n"
     ]
    }
   ],
   "source": [
    "#preparo set de datos\n",
    "X = zip(properati['surface_total_in_m2'],\\\n",
    "        properati['surface_covered_in_m2'],properati[\"property_type\"],properati['state_name'],properati['place_name'])\n",
    "y = properati['price_aprox_usd']\n",
    "print len(X)"
   ]
  },
  {
   "cell_type": "code",
   "execution_count": 8,
   "metadata": {
    "collapsed": true
   },
   "outputs": [],
   "source": [
    "from xgboost import XGBRegressor"
   ]
  },
  {
   "cell_type": "code",
   "execution_count": 25,
   "metadata": {},
   "outputs": [
    {
     "name": "stdout",
     "output_type": "stream",
     "text": [
      "GridSearchCV duro 210.12 segundos para 20 candidatos a hiper-parametros.\n",
      "\n",
      "Puesto: 1\n",
      "Promedio training score: 0.817 (std: 0.004)\n",
      "Promedio validation score: 0.719 (std: 0.028)\n",
      "Promedio fit time: 1.358s\n",
      "Hiper-parametros: {'subsample': 1.0, 'learning_rate': 0.50000000000000011, 'gamma': 0.5, 'min_child_weight': 5}\n",
      "\n",
      "Puesto: 2\n",
      "Promedio training score: 0.820 (std: 0.003)\n",
      "Promedio validation score: 0.718 (std: 0.028)\n",
      "Promedio fit time: 1.390s\n",
      "Hiper-parametros: {'subsample': 1.0, 'learning_rate': 0.50000000000000011, 'gamma': 0.3, 'min_child_weight': 3}\n",
      "\n",
      "Puesto: 2\n",
      "Promedio training score: 0.820 (std: 0.003)\n",
      "Promedio validation score: 0.718 (std: 0.028)\n",
      "Promedio fit time: 1.214s\n",
      "Hiper-parametros: {'subsample': 1.0, 'learning_rate': 0.50000000000000011, 'gamma': 0.5, 'min_child_weight': 3}\n",
      "\n",
      "Puesto: 4\n",
      "Promedio training score: 0.792 (std: 0.005)\n",
      "Promedio validation score: 0.707 (std: 0.033)\n",
      "Promedio fit time: 1.389s\n",
      "Hiper-parametros: {'subsample': 1.0, 'learning_rate': 0.30000000000000004, 'gamma': 0.4, 'min_child_weight': 6}\n",
      "\n",
      "Puesto: 5\n",
      "Promedio training score: 0.785 (std: 0.004)\n",
      "Promedio validation score: 0.707 (std: 0.029)\n",
      "Promedio fit time: 1.419s\n",
      "Hiper-parametros: {'subsample': 0.9, 'learning_rate': 0.30000000000000004, 'gamma': 0.3, 'min_child_weight': 6}\n",
      "\n",
      "Puesto: 6\n",
      "Promedio training score: 0.834 (std: 0.003)\n",
      "Promedio validation score: 0.706 (std: 0.029)\n",
      "Promedio fit time: 1.339s\n",
      "Hiper-parametros: {'subsample': 1.0, 'learning_rate': 0.70000000000000007, 'gamma': 0.3, 'min_child_weight': 3}\n",
      "\n",
      "Puesto: 7\n",
      "Promedio training score: 0.796 (std: 0.005)\n",
      "Promedio validation score: 0.704 (std: 0.032)\n",
      "Promedio fit time: 1.383s\n",
      "Hiper-parametros: {'subsample': 0.9, 'learning_rate': 0.30000000000000004, 'gamma': 0.4, 'min_child_weight': 3}\n",
      "\n",
      "Puesto: 8\n",
      "Promedio training score: 0.810 (std: 0.006)\n",
      "Promedio validation score: 0.702 (std: 0.031)\n",
      "Promedio fit time: 1.557s\n",
      "Hiper-parametros: {'subsample': 0.8, 'learning_rate': 0.50000000000000011, 'gamma': 0.5, 'min_child_weight': 3}\n",
      "\n",
      "Puesto: 9\n",
      "Promedio training score: 0.823 (std: 0.006)\n",
      "Promedio validation score: 0.697 (std: 0.034)\n",
      "Promedio fit time: 1.629s\n",
      "Hiper-parametros: {'subsample': 0.7, 'learning_rate': 0.70000000000000007, 'gamma': 0.3, 'min_child_weight': 1}\n",
      "\n",
      "Puesto: 10\n",
      "Promedio training score: 0.817 (std: 0.006)\n",
      "Promedio validation score: 0.694 (std: 0.041)\n",
      "Promedio fit time: 1.880s\n",
      "Hiper-parametros: {'subsample': 0.8, 'learning_rate': 0.70000000000000007, 'gamma': 0.5, 'min_child_weight': 5}\n",
      "\n"
     ]
    },
    {
     "data": {
      "application/javascript": [
       "$(document).ready(\n",
       "    function() {\n",
       "        function appendUniqueDiv(){\n",
       "            // append a div with our uuid so we can check that it's already\n",
       "            // been sent and avoid duplicates on page reload\n",
       "            var notifiedDiv = document.createElement(\"div\")\n",
       "            notifiedDiv.id = \"f2951e5d-8b7e-4294-8659-a2ccb4542b49\"\n",
       "            element.append(notifiedDiv)\n",
       "        }\n",
       "\n",
       "        // only send notifications if the pageload is complete; this will\n",
       "        // help stop extra notifications when a saved notebook is loaded,\n",
       "        // which during testing gives us state \"interactive\", not \"complete\"\n",
       "        if (document.readyState === 'complete') {\n",
       "            // check for the div that signifies that the notification\n",
       "            // was already sent\n",
       "            if (document.getElementById(\"f2951e5d-8b7e-4294-8659-a2ccb4542b49\") === null) {\n",
       "                var notificationPayload = {\"body\": \"Cell Execution Has Finished!!\", \"requireInteraction\": false, \"icon\": \"/static/base/images/favicon.ico\"};\n",
       "                if (Notification.permission !== 'denied') {\n",
       "                    if (Notification.permission !== 'granted') { \n",
       "                        Notification.requestPermission(function (permission) {\n",
       "                            if(!('permission' in Notification)) {\n",
       "                                Notification.permission = permission\n",
       "                            }\n",
       "                            if (Notification.permission === 'granted') {\n",
       "                                var notification = new Notification(\"Jupyter Notebook\", notificationPayload)\n",
       "                                appendUniqueDiv()\n",
       "                            }\n",
       "                        })\n",
       "                    } else if (Notification.permission === 'granted') {\n",
       "                        var notification = new Notification(\"Jupyter Notebook\", notificationPayload)\n",
       "                        appendUniqueDiv()\n",
       "                    }\n",
       "                }\n",
       "            }\n",
       "        }\n",
       "    }\n",
       ")\n"
      ],
      "text/plain": [
       "<IPython.core.display.Javascript object>"
      ]
     },
     "metadata": {},
     "output_type": "display_data"
    }
   ],
   "source": [
    "%%notify\n",
    "\n",
    "xgb= XGBRegressor(nthread=-1)\n",
    "\n",
    "X_train, X_test, y_train, y_test = train_test_split(\n",
    "    X, y, test_size=0.2)\n",
    "\n",
    "learning_rate=np.arange(0.1,0.8,0.2)\n",
    "\n",
    "param_grid = {\"learning_rate\": learning_rate,'min_child_weight':[1,3,5,6],'gamma':[i/10.0 for i in range(3,6)],'subsample':[i/10.0 for i in range(6,11)]}\n",
    "\n",
    "search = RandomizedSearchCV(xgb, param_distributions=param_grid ,cv=5,n_iter=20) #refit deja el estimador fiteado con los mejores hiperparametros\n",
    "start = time()\n",
    "search.fit(X_train, y_train)\n",
    "\n",
    "print(\"GridSearchCV duro %.2f segundos para %d candidatos a hiper-parametros.\"\n",
    "    % (time() - start, len(search.cv_results_['params'])))\n",
    "print(\"\")\n",
    "score.report_single(search.cv_results_)"
   ]
  },
  {
   "cell_type": "markdown",
   "metadata": {},
   "source": [
    "# Clasificador"
   ]
  },
  {
   "cell_type": "code",
   "execution_count": 1,
   "metadata": {},
   "outputs": [
    {
     "name": "stderr",
     "output_type": "stream",
     "text": [
      "/usr/local/lib/python2.7/dist-packages/sklearn/cross_validation.py:41: DeprecationWarning: This module was deprecated in version 0.18 in favor of the model_selection module into which all the refactored classes and functions are moved. Also note that the interface of the new CV iterators are different from that of this module. This module will be removed in 0.20.\n",
      "  \"This module will be removed in 0.20.\", DeprecationWarning)\n"
     ]
    }
   ],
   "source": [
    "from xgboost import XGBClassifier"
   ]
  },
  {
   "cell_type": "code",
   "execution_count": null,
   "metadata": {
    "collapsed": true
   },
   "outputs": [],
   "source": [
    "%%notify\n",
    "\n",
    "xgb= XGBClassifier(nthread=-1)\n",
    "\n",
    "X_train, X_test, y_train, y_test = train_test_split(\n",
    "    X, y, test_size=0.2)\n",
    "\n",
    "learning_rate=np.arange(0.1,0.8,0.2)\n",
    "\n",
    "param_grid = {\"learning_rate\": learning_rate,'min_child_weight':[1,3,5,6],'gamma':[i/10.0 for i in range(3,6)],'subsample':[i/10.0 for i in range(6,11)]}\n",
    "\n",
    "search = RandomizedSearchCV(xgb, param_distributions=param_grid ,cv=5,n_iter=10) #refit deja el estimador fiteado con los mejores hiperparametros\n",
    "start = time()\n",
    "search.fit(X_train, y_train)\n",
    "\n",
    "print(\"GridSearchCV duro %.2f segundos para %d candidatos a hiper-parametros.\"\n",
    "    % (time() - start, len(search.cv_results_['params'])))\n",
    "print(\"\")\n",
    "score.report_single(search.cv_results_)"
   ]
  },
  {
   "cell_type": "markdown",
   "metadata": {},
   "source": [
    "###  Analsis de errores"
   ]
  },
  {
   "cell_type": "code",
   "execution_count": 26,
   "metadata": {},
   "outputs": [
    {
     "data": {
      "text/plain": [
       "0.45129089948307743"
      ]
     },
     "execution_count": 26,
     "metadata": {},
     "output_type": "execute_result"
    }
   ],
   "source": [
    "search.score(X_test,y_test)"
   ]
  },
  {
   "cell_type": "code",
   "execution_count": 27,
   "metadata": {},
   "outputs": [
    {
     "name": "stdout",
     "output_type": "stream",
     "text": [
      "Error maximo:44537029.5\n",
      "Error minimo:6.15625\n",
      "80305     -24541.015625\n",
      "113921      6582.796875\n",
      "88467     -22940.601562\n",
      "49523      31627.250000\n",
      "81025     107615.093750\n",
      "31475      15831.140625\n",
      "38243      -6054.468750\n",
      "53889      48163.812500\n",
      "9150      -11039.140625\n",
      "27808     103775.765625\n",
      "98949      13662.015625\n",
      "61858      30526.906250\n",
      "134217     23944.703125\n",
      "18821      16666.937500\n",
      "128144    -14775.578125\n",
      "51897      29337.375000\n",
      "54498     -32629.218750\n",
      "47224     -47440.859375\n",
      "25713      32827.015625\n",
      "59534      56042.187500\n",
      "46145    -250599.109375\n",
      "128211     59706.906250\n",
      "105132    237429.187500\n",
      "53844     173017.562500\n",
      "14069     -32695.460938\n",
      "22270      10960.234375\n",
      "28302      21178.875000\n",
      "32600     -52914.703125\n",
      "17991    -247438.437500\n",
      "32542       1943.921875\n",
      "              ...      \n",
      "53701      38163.812500\n",
      "130359    -41572.546875\n",
      "47767     -12187.953125\n",
      "133176     24781.500000\n",
      "134427     32604.546875\n",
      "126938    145358.468750\n",
      "36088     -65808.625000\n",
      "36282     157562.625000\n",
      "45447       5387.812500\n",
      "70687     -24138.062500\n",
      "99126     113293.484375\n",
      "92156      55414.531250\n",
      "90482     -40695.460938\n",
      "44716      77238.187500\n",
      "125683    138551.031250\n",
      "119411     50329.328125\n",
      "125605     27960.906250\n",
      "70058     -31316.929688\n",
      "95194      54335.781250\n",
      "60316      32027.500000\n",
      "40108     -37669.617188\n",
      "71514     -28901.179688\n",
      "114412     -5092.312500\n",
      "13798      10959.546875\n",
      "15006      -7472.234375\n",
      "124160    283226.031250\n",
      "21768      21399.875000\n",
      "30157      27406.296875\n",
      "41813      -5946.640625\n",
      "41291      -7541.265625\n",
      "Name: price_aprox_usd, Length: 27272, dtype: float64\n"
     ]
    }
   ],
   "source": [
    "mejor = search.best_estimator_\n",
    "errores = mejor.predict(X_test)-y_test\n",
    "print (\"Error maximo:{0}\\nError minimo:{1}\".format( max(abs(errores)),min(abs(errores))))\n",
    "print(errores)"
   ]
  },
  {
   "cell_type": "code",
   "execution_count": 28,
   "metadata": {},
   "outputs": [
    {
     "name": "stdout",
     "output_type": "stream",
     "text": [
      "Hay 26750 de 27272 que tienen mas de 1000 USD de error (98%)\n"
     ]
    }
   ],
   "source": [
    "count_max=0\n",
    "max_error=1000\n",
    "lista=[]\n",
    "for error in errores:\n",
    "    if abs(error)>=max_error:\n",
    "        count_max+=1\n",
    "        lista.append(abs(error))\n",
    "print (\"Hay {0} de {1} que tienen mas de {2} USD de error ({3}%)\".format(count_max,len(errores),max_error,100 * count_max/len(errores)))"
   ]
  },
  {
   "cell_type": "code",
   "execution_count": 32,
   "metadata": {},
   "outputs": [
    {
     "data": {
      "image/png": "[encoded data removed]",
      "text/plain": [
       "<matplotlib.figure.Figure at 0x7f2dd44923d0>"
      ]
     },
     "metadata": {},
     "output_type": "display_data"
    }
   ],
   "source": [
    "# the histogram of the data\n",
    "plt.figure(figsize=(12,8))\n",
    "plt.hist(errores, 100, facecolor='blue')\n",
    "plt.xlabel('Errores')\n",
    "plt.ylabel('Cantidad')\n",
    "plt.xlim(-10000000, 10000000) #para variar el \"zoom a 0\"\n",
    "plt.yscale('log')\n",
    "plt.show()"
   ]
  },
  {
   "cell_type": "code",
   "execution_count": null,
   "metadata": {
    "collapsed": true
   },
   "outputs": [],
   "source": []
  },
  {
   "cell_type": "code",
   "execution_count": null,
   "metadata": {
    "collapsed": true
   },
   "outputs": [],
   "source": []
  }
 ],
 "metadata": {
  "kernelspec": {
   "display_name": "Python 2",
   "language": "python",
   "name": "python2"
  },
  "language_info": {
   "codemirror_mode": {
    "name": "ipython",
    "version": 2
   },
   "file_extension": ".py",
   "mimetype": "text/x-python",
   "name": "python",
   "nbconvert_exporter": "python",
   "pygments_lexer": "ipython2",
   "version": "2.7.12"
  }
 },
 "nbformat": 4,
 "nbformat_minor": 2
}
