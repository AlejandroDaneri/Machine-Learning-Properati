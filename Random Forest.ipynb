{
 "cells": [
  {
   "cell_type": "code",
   "execution_count": 15,
   "metadata": {},
   "outputs": [
    {
     "data": {
      "text/html": [
       "<style>.container { width:97% !important; }</style>"
      ],
      "text/plain": [
       "<IPython.core.display.HTML object>"
      ]
     },
     "metadata": {},
     "output_type": "display_data"
    },
    {
     "data": {
      "application/javascript": [
       "if (!(\"Notification\" in window)) {\n",
       "    alert(\"This browser does not support desktop notifications, so the %%notify magic will not work.\");\n",
       "} else if (Notification.permission !== 'granted' && Notification.permission !== 'denied') {\n",
       "    Notification.requestPermission(function (permission) {\n",
       "        if(!('permission' in Notification)) {\n",
       "            Notification.permission = permission;\n",
       "        }\n",
       "    })\n",
       "}\n"
      ],
      "text/plain": [
       "<IPython.core.display.Javascript object>"
      ]
     },
     "metadata": {},
     "output_type": "display_data"
    }
   ],
   "source": [
    "import pandas as pd\n",
    "import numpy as np\n",
    "import matplotlib.pyplot as plt\n",
    "\n",
    "from IPython.core.display import display, HTML\n",
    "display(HTML(\"<style>.container { width:97% !important; }</style>\"))\n",
    "\n",
    "import jupyternotify\n",
    "ip = get_ipython()\n",
    "ip.register_magics(jupyternotify.JupyterNotifyMagics)\n",
    "\n",
    "import scoring as score # para hacer los reportes de puntajes\n",
    "from time import time\n",
    "\n",
    "from sklearn import preprocessing\n",
    "from sklearn.ensemble import RandomForestClassifier\n",
    "from sklearn.preprocessing import StandardScaler  \n",
    "from sklearn.model_selection import GridSearchCV, RandomizedSearchCV, RandomizedSearchCV, ShuffleSplit\n",
    "\n",
    "properati = pd.read_csv('datos/caba_para_mapa.csv',index_col=0,error_bad_lines=False)\n",
    "\n",
    "#tenia un nan nose porque\n",
    "properati.dropna(inplace=True)"
   ]
  },
  {
   "cell_type": "markdown",
   "metadata": {},
   "source": [
    "### Pruebo con np.histogram"
   ]
  },
  {
   "cell_type": "code",
   "execution_count": 9,
   "metadata": {
    "collapsed": true
   },
   "outputs": [],
   "source": [
    "cant_buckets = 15\n",
    "\n",
    "#buckets\n",
    "cantidad,rango = np.histogram(properati['price_usd_per_m2'], bins=cant_buckets)\n",
    "properati['categories_by_price']=pd.cut(properati['price_usd_per_m2'],rango,labels=np.arange(cant_buckets))\n",
    "properati['price_range']=pd.cut(properati['price_usd_per_m2'],rango)\n",
    "#lo casteo a float porque si no tira error \n",
    "properati['categories_by_price']=properati['categories_by_price'].astype(np.float64) \n",
    "\n",
    "#tenia un nan nose porque\n",
    "properati.dropna(inplace=True)"
   ]
  },
  {
   "cell_type": "markdown",
   "metadata": {},
   "source": [
    "### Pruebo con Quantile"
   ]
  },
  {
   "cell_type": "code",
   "execution_count": 25,
   "metadata": {},
   "outputs": [],
   "source": [
    "from sklearn.preprocessing import QuantileTransformer\n",
    "scaler = QuantileTransformer(copy=False)"
   ]
  },
  {
   "cell_type": "code",
   "execution_count": 33,
   "metadata": {},
   "outputs": [
    {
     "name": "stdout",
     "output_type": "stream",
     "text": [
      "(7.0, 8.5)\n",
      "[ 0.86886887  0.86636637]\n",
      "True\n",
      "True\n"
     ]
    }
   ],
   "source": [
    "#preparo set de datos\n",
    "X = zip(properati['dist_a_subte'],properati['dist_a_univ'])\n",
    "y = properati['price_usd_per_m2']\n",
    "print X[0]\n",
    "X=scaler.fit_transform(X,y)\n",
    "print X[0]\n",
    "\n",
    "#reviso si quedo datos anomalos\n",
    "print (np.any(np.isnan(y)) == False)\n",
    "print (np.all(np.isfinite(y)) == True )"
   ]
  },
  {
   "cell_type": "markdown",
   "metadata": {},
   "source": [
    "### Pruebo con RobustScaler"
   ]
  },
  {
   "cell_type": "code",
   "execution_count": 37,
   "metadata": {},
   "outputs": [],
   "source": [
    "from sklearn.preprocessing import RobustScaler\n",
    "scaler = RobustScaler(copy=False)"
   ]
  },
  {
   "cell_type": "code",
   "execution_count": 38,
   "metadata": {},
   "outputs": [
    {
     "name": "stdout",
     "output_type": "stream",
     "text": [
      "(7.0, 8.5)\n",
      "[ 1.1875      0.97560976]\n",
      "True\n",
      "True\n"
     ]
    }
   ],
   "source": [
    "#preparo set de datos\n",
    "X = zip(properati['dist_a_subte'],properati['dist_a_univ'])\n",
    "y = properati['price_usd_per_m2']\n",
    "print X[0]\n",
    "X=scaler.fit_transform(X,y)\n",
    "print X[0]\n",
    "\n",
    "#reviso si quedo datos anomalos\n",
    "print (np.any(np.isnan(y)) == False)\n",
    "print (np.all(np.isfinite(y)) == True )"
   ]
  },
  {
   "cell_type": "markdown",
   "metadata": {},
   "source": [
    "### Busco hiper-parametros con random search. Mejor resultado: np.histogram"
   ]
  },
  {
   "cell_type": "code",
   "execution_count": 39,
   "metadata": {},
   "outputs": [
    {
     "name": "stdout",
     "output_type": "stream",
     "text": [
      "GridSearchCV duro 87.30 segundos para 4 candidatos a hyper-parametros.\n",
      "\n",
      "Puesto: 1\n",
      "Promedio training score: 0.583 (std: 0.004)\n",
      "Promedio validation score: 0.248 (std: 0.012)\n",
      "Promedio score time: 0.303s\n",
      "Hiper-parametros: {'max_features': 'sqrt', 'bootstrap': False}\n",
      "\n",
      "Puesto: 2\n",
      "Promedio training score: 0.583 (std: 0.004)\n",
      "Promedio validation score: 0.248 (std: 0.012)\n",
      "Promedio score time: 0.297s\n",
      "Hiper-parametros: {'max_features': 'auto', 'bootstrap': False}\n",
      "\n",
      "Puesto: 3\n",
      "Promedio training score: 0.583 (std: 0.004)\n",
      "Promedio validation score: 0.247 (std: 0.012)\n",
      "Promedio score time: 0.317s\n",
      "Hiper-parametros: {'max_features': 'log2', 'bootstrap': False}\n",
      "\n",
      "Puesto: 4\n",
      "Promedio training score: 0.583 (std: 0.004)\n",
      "Promedio validation score: 0.247 (std: 0.012)\n",
      "Promedio score time: 0.296s\n",
      "Hiper-parametros: {'max_features': None, 'bootstrap': False}\n",
      "\n"
     ]
    },
    {
     "data": {
      "application/javascript": [
       "$(document).ready(\n",
       "    function() {\n",
       "        function appendUniqueDiv(){\n",
       "            // append a div with our uuid so we can check that it's already\n",
       "            // been sent and avoid duplicates on page reload\n",
       "            var notifiedDiv = document.createElement(\"div\")\n",
       "            notifiedDiv.id = \"82634eec-5ce7-4a56-a152-f6f2089cec54\"\n",
       "            element.append(notifiedDiv)\n",
       "        }\n",
       "\n",
       "        // only send notifications if the pageload is complete; this will\n",
       "        // help stop extra notifications when a saved notebook is loaded,\n",
       "        // which during testing gives us state \"interactive\", not \"complete\"\n",
       "        if (document.readyState === 'complete') {\n",
       "            // check for the div that signifies that the notification\n",
       "            // was already sent\n",
       "            if (document.getElementById(\"82634eec-5ce7-4a56-a152-f6f2089cec54\") === null) {\n",
       "                var notificationPayload = {\"body\": \"Cell Execution Has Finished!!\", \"requireInteraction\": false, \"icon\": \"/static/base/images/favicon.ico\"};\n",
       "                if (Notification.permission !== 'denied') {\n",
       "                    if (Notification.permission !== 'granted') { \n",
       "                        Notification.requestPermission(function (permission) {\n",
       "                            if(!('permission' in Notification)) {\n",
       "                                Notification.permission = permission\n",
       "                            }\n",
       "                            if (Notification.permission === 'granted') {\n",
       "                                var notification = new Notification(\"Jupyter Notebook\", notificationPayload)\n",
       "                                appendUniqueDiv()\n",
       "                            }\n",
       "                        })\n",
       "                    } else if (Notification.permission === 'granted') {\n",
       "                        var notification = new Notification(\"Jupyter Notebook\", notificationPayload)\n",
       "                        appendUniqueDiv()\n",
       "                    }\n",
       "                }\n",
       "            }\n",
       "        }\n",
       "    }\n",
       ")\n"
      ],
      "text/plain": [
       "<IPython.core.display.Javascript object>"
      ]
     },
     "metadata": {},
     "output_type": "display_data"
    }
   ],
   "source": [
    "%%notify\n",
    "\n",
    "rf = RandomForestClassifier(n_jobs=-1)\n",
    "\n",
    "bootstrap=[False]\n",
    "max_features =[\"auto\",\"sqrt\",\"log2\",None]\n",
    "\n",
    "param_grid = {\"bootstrap\": bootstrap,\"max_features\":max_features}\n",
    "custom_cv = ShuffleSplit(n_splits=10, test_size=0.2)\n",
    "\n",
    "grid_search = GridSearchCV(rf, param_grid=param_grid ,cv=custom_cv)\n",
    "start = time()\n",
    "grid_search.fit(X, y)\n",
    "\n",
    "print(\"GridSearchCV duro %.2f segundos para %d candidatos a hyper-parametros.\"\n",
    "    % (time() - start, len(grid_search.cv_results_['params'])))\n",
    "print(\"\")\n",
    "score.report_single(grid_search.cv_results_)"
   ]
  }
 ],
 "metadata": {
  "kernelspec": {
   "display_name": "Python 2",
   "language": "python",
   "name": "python2"
  },
  "language_info": {
   "codemirror_mode": {
    "name": "ipython",
    "version": 2
   },
   "file_extension": ".py",
   "mimetype": "text/x-python",
   "name": "python",
   "nbconvert_exporter": "python",
   "pygments_lexer": "ipython2",
   "version": "2.7.13"
  }
 },
 "nbformat": 4,
 "nbformat_minor": 2
}
