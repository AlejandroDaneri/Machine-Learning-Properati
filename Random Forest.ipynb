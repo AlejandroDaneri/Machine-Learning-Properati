{
 "cells": [
  {
   "cell_type": "code",
   "execution_count": 39,
   "metadata": {},
   "outputs": [
    {
     "data": {
      "text/html": [
       "<style>.container { width:97% !important; }</style>"
      ],
      "text/plain": [
       "<IPython.core.display.HTML object>"
      ]
     },
     "metadata": {},
     "output_type": "display_data"
    },
    {
     "data": {
      "application/javascript": [
       "if (!(\"Notification\" in window)) {\n",
       "    alert(\"This browser does not support desktop notifications, so the %%notify magic will not work.\");\n",
       "} else if (Notification.permission !== 'granted' && Notification.permission !== 'denied') {\n",
       "    Notification.requestPermission(function (permission) {\n",
       "        if(!('permission' in Notification)) {\n",
       "            Notification.permission = permission;\n",
       "        }\n",
       "    })\n",
       "}\n"
      ],
      "text/plain": [
       "<IPython.core.display.Javascript object>"
      ]
     },
     "metadata": {},
     "output_type": "display_data"
    }
   ],
   "source": [
    "import pandas as pd\n",
    "import numpy as np\n",
    "import matplotlib.pyplot as plt\n",
    "\n",
    "from IPython.core.display import display, HTML\n",
    "display(HTML(\"<style>.container { width:97% !important; }</style>\"))\n",
    "\n",
    "import jupyternotify\n",
    "ip = get_ipython()\n",
    "ip.register_magics(jupyternotify.JupyterNotifyMagics)\n",
    "\n",
    "import scoring as score # para hacer los reportes de puntajes\n",
    "from time import time\n",
    "\n",
    "from sklearn import preprocessing\n",
    "from sklearn.ensemble import RandomForestClassifier\n",
    "from sklearn.preprocessing import StandardScaler  \n",
    "from sklearn.model_selection import GridSearchCV, RandomizedSearchCV, RandomizedSearchCV, ShuffleSplit\n",
    "\n",
    "properati = pd.read_csv('datos/caba_para_mapa.csv',index_col=0,error_bad_lines=False)\n",
    "\n",
    "#tenia un nan nose porque\n",
    "properati.dropna(inplace=True)"
   ]
  },
  {
   "cell_type": "code",
   "execution_count": 40,
   "metadata": {
    "collapsed": true
   },
   "outputs": [],
   "source": [
    "#paso features con strings a numericos\n",
    "le_barrio = preprocessing.LabelEncoder()\n",
    "barrios=properati['place_name']\n",
    "le_barrio.fit(barrios)\n",
    "properati['place_name'] = le_barrio.transform(barrios)\n",
    "\n",
    "le_divisa = preprocessing.LabelEncoder()\n",
    "divisa=properati['currency']\n",
    "le_divisa.fit(divisa)\n",
    "properati['currency'] = le_divisa.transform(divisa)\n",
    "\n",
    "le_tipo = preprocessing.LabelEncoder()\n",
    "tipos_prop=properati['property_type']\n",
    "le_tipo.fit(tipos_prop)\n",
    "properati['property_type'] = le_tipo.transform(tipos_prop)"
   ]
  },
  {
   "cell_type": "markdown",
   "metadata": {},
   "source": [
    "### Pruebo con np.histogram"
   ]
  },
  {
   "cell_type": "code",
   "execution_count": 41,
   "metadata": {},
   "outputs": [
    {
     "data": {
      "text/html": [
       "<div>\n",
       "<style>\n",
       "    .dataframe thead tr:only-child th {\n",
       "        text-align: right;\n",
       "    }\n",
       "\n",
       "    .dataframe thead th {\n",
       "        text-align: left;\n",
       "    }\n",
       "\n",
       "    .dataframe tbody tr th {\n",
       "        vertical-align: top;\n",
       "    }\n",
       "</style>\n",
       "<table border=\"1\" class=\"dataframe\">\n",
       "  <thead>\n",
       "    <tr style=\"text-align: right;\">\n",
       "      <th></th>\n",
       "      <th>property_type</th>\n",
       "      <th>place_name</th>\n",
       "      <th>state_name</th>\n",
       "      <th>lat-lon</th>\n",
       "      <th>lat</th>\n",
       "      <th>lon</th>\n",
       "      <th>price</th>\n",
       "      <th>currency</th>\n",
       "      <th>price_aprox_local_currency</th>\n",
       "      <th>price_aprox_usd</th>\n",
       "      <th>...</th>\n",
       "      <th>expenses</th>\n",
       "      <th>properati_url</th>\n",
       "      <th>description</th>\n",
       "      <th>title</th>\n",
       "      <th>dist_a_subte</th>\n",
       "      <th>dist_a_tren</th>\n",
       "      <th>dist_a_univ</th>\n",
       "      <th>dist_a_villa</th>\n",
       "      <th>dist_a_zona_anegada</th>\n",
       "      <th>price_range</th>\n",
       "    </tr>\n",
       "    <tr>\n",
       "      <th>categories_by_price</th>\n",
       "      <th></th>\n",
       "      <th></th>\n",
       "      <th></th>\n",
       "      <th></th>\n",
       "      <th></th>\n",
       "      <th></th>\n",
       "      <th></th>\n",
       "      <th></th>\n",
       "      <th></th>\n",
       "      <th></th>\n",
       "      <th></th>\n",
       "      <th></th>\n",
       "      <th></th>\n",
       "      <th></th>\n",
       "      <th></th>\n",
       "      <th></th>\n",
       "      <th></th>\n",
       "      <th></th>\n",
       "      <th></th>\n",
       "      <th></th>\n",
       "      <th></th>\n",
       "    </tr>\n",
       "  </thead>\n",
       "  <tbody>\n",
       "    <tr>\n",
       "      <th>0.0</th>\n",
       "      <td>19</td>\n",
       "      <td>19</td>\n",
       "      <td>19</td>\n",
       "      <td>19</td>\n",
       "      <td>19</td>\n",
       "      <td>19</td>\n",
       "      <td>19</td>\n",
       "      <td>19</td>\n",
       "      <td>19</td>\n",
       "      <td>19</td>\n",
       "      <td>...</td>\n",
       "      <td>19</td>\n",
       "      <td>19</td>\n",
       "      <td>19</td>\n",
       "      <td>19</td>\n",
       "      <td>19</td>\n",
       "      <td>19</td>\n",
       "      <td>19</td>\n",
       "      <td>19</td>\n",
       "      <td>19</td>\n",
       "      <td>19</td>\n",
       "    </tr>\n",
       "    <tr>\n",
       "      <th>1.0</th>\n",
       "      <td>795</td>\n",
       "      <td>795</td>\n",
       "      <td>795</td>\n",
       "      <td>795</td>\n",
       "      <td>795</td>\n",
       "      <td>795</td>\n",
       "      <td>795</td>\n",
       "      <td>795</td>\n",
       "      <td>795</td>\n",
       "      <td>795</td>\n",
       "      <td>...</td>\n",
       "      <td>795</td>\n",
       "      <td>795</td>\n",
       "      <td>795</td>\n",
       "      <td>795</td>\n",
       "      <td>795</td>\n",
       "      <td>795</td>\n",
       "      <td>795</td>\n",
       "      <td>795</td>\n",
       "      <td>795</td>\n",
       "      <td>795</td>\n",
       "    </tr>\n",
       "    <tr>\n",
       "      <th>2.0</th>\n",
       "      <td>1272</td>\n",
       "      <td>1272</td>\n",
       "      <td>1272</td>\n",
       "      <td>1272</td>\n",
       "      <td>1272</td>\n",
       "      <td>1272</td>\n",
       "      <td>1272</td>\n",
       "      <td>1272</td>\n",
       "      <td>1272</td>\n",
       "      <td>1272</td>\n",
       "      <td>...</td>\n",
       "      <td>1272</td>\n",
       "      <td>1272</td>\n",
       "      <td>1272</td>\n",
       "      <td>1272</td>\n",
       "      <td>1272</td>\n",
       "      <td>1272</td>\n",
       "      <td>1272</td>\n",
       "      <td>1272</td>\n",
       "      <td>1272</td>\n",
       "      <td>1272</td>\n",
       "    </tr>\n",
       "    <tr>\n",
       "      <th>3.0</th>\n",
       "      <td>293</td>\n",
       "      <td>293</td>\n",
       "      <td>293</td>\n",
       "      <td>293</td>\n",
       "      <td>293</td>\n",
       "      <td>293</td>\n",
       "      <td>293</td>\n",
       "      <td>293</td>\n",
       "      <td>293</td>\n",
       "      <td>293</td>\n",
       "      <td>...</td>\n",
       "      <td>293</td>\n",
       "      <td>293</td>\n",
       "      <td>293</td>\n",
       "      <td>293</td>\n",
       "      <td>293</td>\n",
       "      <td>293</td>\n",
       "      <td>293</td>\n",
       "      <td>293</td>\n",
       "      <td>293</td>\n",
       "      <td>293</td>\n",
       "    </tr>\n",
       "    <tr>\n",
       "      <th>4.0</th>\n",
       "      <td>62</td>\n",
       "      <td>62</td>\n",
       "      <td>62</td>\n",
       "      <td>62</td>\n",
       "      <td>62</td>\n",
       "      <td>62</td>\n",
       "      <td>62</td>\n",
       "      <td>62</td>\n",
       "      <td>62</td>\n",
       "      <td>62</td>\n",
       "      <td>...</td>\n",
       "      <td>62</td>\n",
       "      <td>62</td>\n",
       "      <td>62</td>\n",
       "      <td>62</td>\n",
       "      <td>62</td>\n",
       "      <td>62</td>\n",
       "      <td>62</td>\n",
       "      <td>62</td>\n",
       "      <td>62</td>\n",
       "      <td>62</td>\n",
       "    </tr>\n",
       "    <tr>\n",
       "      <th>5.0</th>\n",
       "      <td>15</td>\n",
       "      <td>15</td>\n",
       "      <td>15</td>\n",
       "      <td>15</td>\n",
       "      <td>15</td>\n",
       "      <td>15</td>\n",
       "      <td>15</td>\n",
       "      <td>15</td>\n",
       "      <td>15</td>\n",
       "      <td>15</td>\n",
       "      <td>...</td>\n",
       "      <td>15</td>\n",
       "      <td>15</td>\n",
       "      <td>15</td>\n",
       "      <td>15</td>\n",
       "      <td>15</td>\n",
       "      <td>15</td>\n",
       "      <td>15</td>\n",
       "      <td>15</td>\n",
       "      <td>15</td>\n",
       "      <td>15</td>\n",
       "    </tr>\n",
       "  </tbody>\n",
       "</table>\n",
       "<p>6 rows × 26 columns</p>\n",
       "</div>"
      ],
      "text/plain": [
       "                     property_type  place_name  state_name  lat-lon   lat  \\\n",
       "categories_by_price                                                         \n",
       "0.0                             19          19          19       19    19   \n",
       "1.0                            795         795         795      795   795   \n",
       "2.0                           1272        1272        1272     1272  1272   \n",
       "3.0                            293         293         293      293   293   \n",
       "4.0                             62          62          62       62    62   \n",
       "5.0                             15          15          15       15    15   \n",
       "\n",
       "                      lon  price  currency  price_aprox_local_currency  \\\n",
       "categories_by_price                                                      \n",
       "0.0                    19     19        19                          19   \n",
       "1.0                   795    795       795                         795   \n",
       "2.0                  1272   1272      1272                        1272   \n",
       "3.0                   293    293       293                         293   \n",
       "4.0                    62     62        62                          62   \n",
       "5.0                    15     15        15                          15   \n",
       "\n",
       "                     price_aprox_usd     ...       expenses  properati_url  \\\n",
       "categories_by_price                      ...                                 \n",
       "0.0                               19     ...             19             19   \n",
       "1.0                              795     ...            795            795   \n",
       "2.0                             1272     ...           1272           1272   \n",
       "3.0                              293     ...            293            293   \n",
       "4.0                               62     ...             62             62   \n",
       "5.0                               15     ...             15             15   \n",
       "\n",
       "                     description  title  dist_a_subte  dist_a_tren  \\\n",
       "categories_by_price                                                  \n",
       "0.0                           19     19            19           19   \n",
       "1.0                          795    795           795          795   \n",
       "2.0                         1272   1272          1272         1272   \n",
       "3.0                          293    293           293          293   \n",
       "4.0                           62     62            62           62   \n",
       "5.0                           15     15            15           15   \n",
       "\n",
       "                     dist_a_univ  dist_a_villa  dist_a_zona_anegada  \\\n",
       "categories_by_price                                                   \n",
       "0.0                           19            19                   19   \n",
       "1.0                          795           795                  795   \n",
       "2.0                         1272          1272                 1272   \n",
       "3.0                          293           293                  293   \n",
       "4.0                           62            62                   62   \n",
       "5.0                           15            15                   15   \n",
       "\n",
       "                     price_range  \n",
       "categories_by_price               \n",
       "0.0                           19  \n",
       "1.0                          795  \n",
       "2.0                         1272  \n",
       "3.0                          293  \n",
       "4.0                           62  \n",
       "5.0                           15  \n",
       "\n",
       "[6 rows x 26 columns]"
      ]
     },
     "execution_count": 41,
     "metadata": {},
     "output_type": "execute_result"
    }
   ],
   "source": [
    "cant_buckets = 6\n",
    "\n",
    "#buckets\n",
    "cantidad,rango = np.histogram(properati['price_usd_per_m2'], bins=cant_buckets)\n",
    "properati['categories_by_price']=pd.cut(properati['price_usd_per_m2'],rango,labels=np.arange(cant_buckets))\n",
    "properati['price_range']=pd.cut(properati['price_usd_per_m2'],rango)\n",
    "#lo casteo a float porque si no tira error \n",
    "properati['categories_by_price']=properati['categories_by_price'].astype(np.float64) \n",
    "\n",
    "#tenia un nan nose porque\n",
    "properati.dropna(inplace=True)\n",
    "\n",
    "properati.groupby('categories_by_price').count()"
   ]
  },
  {
   "cell_type": "code",
   "execution_count": 42,
   "metadata": {
    "collapsed": true
   },
   "outputs": [],
   "source": [
    "#preparo set de datos\n",
    "X = zip(properati['dist_a_subte'],properati['dist_a_univ'],properati['dist_a_tren'],properati['dist_a_villa'],\\\n",
    "        properati['dist_a_zona_anegada'],properati['surface_total_in_m2'],properati['place_name'], \\\n",
    "        properati['property_type'])\n",
    "y = properati['categories_by_price']"
   ]
  },
  {
   "cell_type": "markdown",
   "metadata": {},
   "source": [
    "### Pruebo con Quantile . NO MEJORO saltear"
   ]
  },
  {
   "cell_type": "code",
   "execution_count": 4,
   "metadata": {
    "collapsed": true
   },
   "outputs": [],
   "source": [
    "from sklearn.preprocessing import QuantileTransformer\n",
    "scaler = QuantileTransformer(copy=False)"
   ]
  },
  {
   "cell_type": "code",
   "execution_count": 5,
   "metadata": {},
   "outputs": [
    {
     "name": "stdout",
     "output_type": "stream",
     "text": [
      "(7.0, 8.5)\n",
      "[ 0.86886887  0.86636637]\n",
      "True\n",
      "True\n"
     ]
    }
   ],
   "source": [
    "#preparo set de datos\n",
    "X = zip(properati['dist_a_subte'],properati['dist_a_univ'])\n",
    "y = properati['price_usd_per_m2']\n",
    "print X[0]\n",
    "X=scaler.fit_transform(X,y)\n",
    "print X[0]\n",
    "\n",
    "#reviso si quedo datos anomalos\n",
    "print (np.any(np.isnan(y)) == False)\n",
    "print (np.all(np.isfinite(y)) == True )"
   ]
  },
  {
   "cell_type": "markdown",
   "metadata": {},
   "source": [
    "### Pruebo con RobustScaler. NO MEJORO saltear"
   ]
  },
  {
   "cell_type": "code",
   "execution_count": 37,
   "metadata": {
    "collapsed": true
   },
   "outputs": [],
   "source": [
    "from sklearn.preprocessing import RobustScaler\n",
    "scaler = RobustScaler(copy=False)"
   ]
  },
  {
   "cell_type": "code",
   "execution_count": 38,
   "metadata": {},
   "outputs": [
    {
     "name": "stdout",
     "output_type": "stream",
     "text": [
      "(7.0, 8.5)\n",
      "[ 1.1875      0.97560976]\n",
      "True\n",
      "True\n"
     ]
    }
   ],
   "source": [
    "#preparo set de datos\n",
    "X = zip(properati['dist_a_subte'],properati['dist_a_univ'])\n",
    "y = properati['price_usd_per_m2']\n",
    "print X[0]\n",
    "X=scaler.fit_transform(X,y)\n",
    "print X[0]\n",
    "\n",
    "#reviso si quedo datos anomalos\n",
    "print (np.any(np.isnan(y)) == False)\n",
    "print (np.all(np.isfinite(y)) == True )"
   ]
  },
  {
   "cell_type": "markdown",
   "metadata": {},
   "source": [
    "### Busco hiper-parametros con grid search"
   ]
  },
  {
   "cell_type": "code",
   "execution_count": 48,
   "metadata": {},
   "outputs": [
    {
     "name": "stdout",
     "output_type": "stream",
     "text": [
      "GridSearchCV duro 55.97 segundos para 12 candidatos a hyper-parametros.\n",
      "\n",
      "Puesto: 1\n",
      "Promedio training score: 0.993 (std: 0.001)\n",
      "Promedio validation score: 0.757 (std: 0.029)\n",
      "Promedio fit time: 0.239s\n",
      "Hiper-parametros: {'max_features': 'sqrt', 'n_estimators': 30, 'bootstrap': False}\n",
      "\n",
      "Puesto: 2\n",
      "Promedio training score: 0.993 (std: 0.001)\n",
      "Promedio validation score: 0.756 (std: 0.029)\n",
      "Promedio fit time: 0.170s\n",
      "Hiper-parametros: {'max_features': 'auto', 'n_estimators': 10, 'bootstrap': False}\n",
      "\n",
      "Puesto: 3\n",
      "Promedio training score: 0.993 (std: 0.001)\n",
      "Promedio validation score: 0.752 (std: 0.034)\n",
      "Promedio fit time: 0.231s\n",
      "Hiper-parametros: {'max_features': 'log2', 'n_estimators': 40, 'bootstrap': False}\n",
      "\n",
      "Puesto: 4\n",
      "Promedio training score: 0.993 (std: 0.001)\n",
      "Promedio validation score: 0.752 (std: 0.027)\n",
      "Promedio fit time: 0.218s\n",
      "Hiper-parametros: {'max_features': 'auto', 'n_estimators': 40, 'bootstrap': False}\n",
      "\n",
      "Puesto: 5\n",
      "Promedio training score: 0.993 (std: 0.001)\n",
      "Promedio validation score: 0.749 (std: 0.024)\n",
      "Promedio fit time: 0.216s\n",
      "Hiper-parametros: {'max_features': 'log2', 'n_estimators': 20, 'bootstrap': False}\n",
      "\n",
      "Puesto: 6\n",
      "Promedio training score: 0.993 (std: 0.001)\n",
      "Promedio validation score: 0.748 (std: 0.033)\n",
      "Promedio fit time: 0.199s\n",
      "Hiper-parametros: {'max_features': 'sqrt', 'n_estimators': 20, 'bootstrap': False}\n",
      "\n",
      "Puesto: 7\n",
      "Promedio training score: 0.993 (std: 0.001)\n",
      "Promedio validation score: 0.748 (std: 0.030)\n",
      "Promedio fit time: 0.206s\n",
      "Hiper-parametros: {'max_features': 'auto', 'n_estimators': 20, 'bootstrap': False}\n",
      "\n",
      "Puesto: 8\n",
      "Promedio training score: 0.993 (std: 0.001)\n",
      "Promedio validation score: 0.747 (std: 0.039)\n",
      "Promedio fit time: 0.231s\n",
      "Hiper-parametros: {'max_features': 'sqrt', 'n_estimators': 40, 'bootstrap': False}\n",
      "\n",
      "Puesto: 9\n",
      "Promedio training score: 0.993 (std: 0.001)\n",
      "Promedio validation score: 0.746 (std: 0.029)\n",
      "Promedio fit time: 0.221s\n",
      "Hiper-parametros: {'max_features': 'auto', 'n_estimators': 30, 'bootstrap': False}\n",
      "\n",
      "Puesto: 9\n",
      "Promedio training score: 0.993 (std: 0.001)\n",
      "Promedio validation score: 0.746 (std: 0.026)\n",
      "Promedio fit time: 0.208s\n",
      "Hiper-parametros: {'max_features': 'log2', 'n_estimators': 30, 'bootstrap': False}\n",
      "\n"
     ]
    },
    {
     "data": {
      "application/javascript": [
       "$(document).ready(\n",
       "    function() {\n",
       "        function appendUniqueDiv(){\n",
       "            // append a div with our uuid so we can check that it's already\n",
       "            // been sent and avoid duplicates on page reload\n",
       "            var notifiedDiv = document.createElement(\"div\")\n",
       "            notifiedDiv.id = \"8d052e39-5ebe-4293-acd3-5d7513515c35\"\n",
       "            element.append(notifiedDiv)\n",
       "        }\n",
       "\n",
       "        // only send notifications if the pageload is complete; this will\n",
       "        // help stop extra notifications when a saved notebook is loaded,\n",
       "        // which during testing gives us state \"interactive\", not \"complete\"\n",
       "        if (document.readyState === 'complete') {\n",
       "            // check for the div that signifies that the notification\n",
       "            // was already sent\n",
       "            if (document.getElementById(\"8d052e39-5ebe-4293-acd3-5d7513515c35\") === null) {\n",
       "                var notificationPayload = {\"body\": \"Cell Execution Has Finished!!\", \"requireInteraction\": false, \"icon\": \"/static/base/images/favicon.ico\"};\n",
       "                if (Notification.permission !== 'denied') {\n",
       "                    if (Notification.permission !== 'granted') { \n",
       "                        Notification.requestPermission(function (permission) {\n",
       "                            if(!('permission' in Notification)) {\n",
       "                                Notification.permission = permission\n",
       "                            }\n",
       "                            if (Notification.permission === 'granted') {\n",
       "                                var notification = new Notification(\"Jupyter Notebook\", notificationPayload)\n",
       "                                appendUniqueDiv()\n",
       "                            }\n",
       "                        })\n",
       "                    } else if (Notification.permission === 'granted') {\n",
       "                        var notification = new Notification(\"Jupyter Notebook\", notificationPayload)\n",
       "                        appendUniqueDiv()\n",
       "                    }\n",
       "                }\n",
       "            }\n",
       "        }\n",
       "    }\n",
       ")\n"
      ],
      "text/plain": [
       "<IPython.core.display.Javascript object>"
      ]
     },
     "metadata": {},
     "output_type": "display_data"
    }
   ],
   "source": [
    "%%notify\n",
    "\n",
    "from sklearn.model_selection import train_test_split\n",
    "rf = RandomForestClassifier(n_jobs=-1)\n",
    "\n",
    "bootstrap=[False]\n",
    "max_features =[\"auto\",\"sqrt\",\"log2\"]\n",
    "n_estimators = np.arange(10,50,10)\n",
    "\n",
    "X_train, X_test, y_train, y_test = train_test_split(\n",
    "    X, y, test_size=0.2)\n",
    "\n",
    "param_grid = {\"bootstrap\": bootstrap,\"max_features\":max_features,\"n_estimators\":n_estimators}\n",
    "\n",
    "grid_search = GridSearchCV(rf, param_grid=param_grid ,cv=10,refit=True) #refit deja el estimador fiteado con los mejores hiperparametros\n",
    "start = time()\n",
    "grid_search.fit(X_train, y_train)\n",
    "\n",
    "print(\"GridSearchCV duro %.2f segundos para %d candidatos a hyper-parametros.\"\n",
    "    % (time() - start, len(grid_search.cv_results_['params'])))\n",
    "print(\"\")\n",
    "score.report_single(grid_search.cv_results_)"
   ]
  },
  {
   "cell_type": "code",
   "execution_count": 55,
   "metadata": {},
   "outputs": [
    {
     "data": {
      "text/plain": [
       "0.74796747967479671"
      ]
     },
     "execution_count": 55,
     "metadata": {},
     "output_type": "execute_result"
    }
   ],
   "source": [
    "grid_search.score(X_test,y_test) # pruebo el estimador refiteado con el set de test"
   ]
  },
  {
   "cell_type": "code",
   "execution_count": null,
   "metadata": {
    "collapsed": true
   },
   "outputs": [],
   "source": []
  }
 ],
 "metadata": {
  "kernelspec": {
   "display_name": "Python 2",
   "language": "python",
   "name": "python2"
  },
  "language_info": {
   "codemirror_mode": {
    "name": "ipython",
    "version": 2
   },
   "file_extension": ".py",
   "mimetype": "text/x-python",
   "name": "python",
   "nbconvert_exporter": "python",
   "pygments_lexer": "ipython2",
   "version": "2.7.12"
  }
 },
 "nbformat": 4,
 "nbformat_minor": 2
}
