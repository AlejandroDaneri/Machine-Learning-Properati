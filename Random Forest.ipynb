{
 "cells": [
  {
   "cell_type": "code",
   "execution_count": 149,
   "metadata": {},
   "outputs": [
    {
     "data": {
      "text/html": [
       "<style>.container { width:97% !important; }</style>"
      ],
      "text/plain": [
       "<IPython.core.display.HTML object>"
      ]
     },
     "metadata": {},
     "output_type": "display_data"
    },
    {
     "data": {
      "application/javascript": [
       "if (!(\"Notification\" in window)) {\n",
       "    alert(\"This browser does not support desktop notifications, so the %%notify magic will not work.\");\n",
       "} else if (Notification.permission !== 'granted' && Notification.permission !== 'denied') {\n",
       "    Notification.requestPermission(function (permission) {\n",
       "        if(!('permission' in Notification)) {\n",
       "            Notification.permission = permission;\n",
       "        }\n",
       "    })\n",
       "}\n"
      ],
      "text/plain": [
       "<IPython.core.display.Javascript object>"
      ]
     },
     "metadata": {},
     "output_type": "display_data"
    }
   ],
   "source": [
    "import pandas as pd\n",
    "import numpy as np\n",
    "import matplotlib.pyplot as plt\n",
    "\n",
    "from IPython.core.display import display, HTML\n",
    "display(HTML(\"<style>.container { width:97% !important; }</style>\"))\n",
    "\n",
    "import jupyternotify\n",
    "ip = get_ipython()\n",
    "ip.register_magics(jupyternotify.JupyterNotifyMagics)\n",
    "\n",
    "import scoring as score # para hacer los reportes de puntajes\n",
    "from time import time\n",
    "\n",
    "from sklearn import preprocessing\n",
    "from sklearn.ensemble import RandomForestClassifier,RandomForestRegressor,IsolationForest\n",
    "from sklearn.preprocessing import RobustScaler  \n",
    "from sklearn.model_selection import GridSearchCV, RandomizedSearchCV, train_test_split\n",
    "\n",
    "properati = pd.read_csv('datos/properati_final.csv')\n",
    "#test_samples = pd.read_csv('datos/properati_dataset_testing_noprice_acondicionado.csv',error_bad_lines=False)\n"
   ]
  },
  {
   "cell_type": "code",
   "execution_count": 150,
   "metadata": {},
   "outputs": [
    {
     "name": "stdout",
     "output_type": "stream",
     "text": [
      "<class 'pandas.core.frame.DataFrame'>\n",
      "RangeIndex: 136356 entries, 0 to 136355\n",
      "Data columns (total 23 columns):\n",
      "created_on                    136356 non-null object\n",
      "property_type                 136356 non-null object\n",
      "place_name                    136356 non-null object\n",
      "state_name                    136356 non-null object\n",
      "lat-lon                       136356 non-null object\n",
      "lat                           96345 non-null float64\n",
      "lon                           96345 non-null float64\n",
      "price                         136356 non-null float64\n",
      "currency                      136356 non-null object\n",
      "price_aprox_local_currency    136356 non-null float64\n",
      "price_aprox_usd               136356 non-null float64\n",
      "surface_total_in_m2           136356 non-null float64\n",
      "surface_covered_in_m2         136356 non-null float64\n",
      "price_usd_per_m2              136356 non-null float64\n",
      "price_per_m2                  136356 non-null float64\n",
      "floor                         14295 non-null float64\n",
      "rooms                         69632 non-null float64\n",
      "expenses                      25390 non-null float64\n",
      "properati_url                 136356 non-null object\n",
      "description                   136352 non-null object\n",
      "title                         136356 non-null object\n",
      "fecha                         136356 non-null object\n",
      "superficie_descubierta        90183 non-null float64\n",
      "dtypes: float64(13), object(10)\n",
      "memory usage: 23.9+ MB\n"
     ]
    }
   ],
   "source": [
    "properati.info()"
   ]
  },
  {
   "cell_type": "code",
   "execution_count": 151,
   "metadata": {},
   "outputs": [],
   "source": [
    "#paso features con strings a numericos\n",
    "le_barrio = preprocessing.LabelEncoder()\n",
    "barrios=properati['state_name']\n",
    "le_barrio.fit(barrios)\n",
    "properati['state_name'] = le_barrio.transform(barrios)\n",
    "#test_samples['state_name']=le_barrio.transform(test_samples['state_name'])\n",
    "\n",
    "le_zona = preprocessing.LabelEncoder()\n",
    "#zona=pd.concat([properati['place_name'],test_samples['place_name']])\n",
    "zona=properati['place_name']\n",
    "le_zona.fit(zona)\n",
    "properati['place_name'] = le_zona.transform(properati['place_name'])\n",
    "#test_samples['place_name'] = le_zona.transform(test_samples['place_name'])\n",
    "\n",
    "le_tipo = preprocessing.LabelEncoder()\n",
    "tipos_prop=properati['property_type']\n",
    "le_tipo.fit(tipos_prop)\n",
    "properati['property_type'] = le_tipo.transform(tipos_prop)\n",
    "#test_samples['property_type']=le_tipo.transform(test_samples['property_type'])"
   ]
  },
  {
   "cell_type": "code",
   "execution_count": 152,
   "metadata": {},
   "outputs": [
    {
     "name": "stdout",
     "output_type": "stream",
     "text": [
      "136353\n",
      "136153\n"
     ]
    }
   ],
   "source": [
    "properati.loc[:,('created_on')] = pd.to_datetime(properati['created_on'])\n",
    "properati['anio'] = [x.year for x in properati['created_on'] ]\n",
    "properati=properati.loc[properati.price_aprox_usd<1e7]\n",
    "print len(properati)\n",
    "properati=properati.groupby(\"place_name\").filter(lambda x: len(x)>5)\n",
    "print len(properati)"
   ]
  },
  {
   "cell_type": "markdown",
   "metadata": {},
   "source": [
    "# RF clasificador"
   ]
  },
  {
   "cell_type": "code",
   "execution_count": null,
   "metadata": {},
   "outputs": [],
   "source": [
    "cant_buckets = 200\n",
    "\n",
    "#buckets\n",
    "cantidad,rango = np.histogram(properati['price_aprox_usd'], bins=cant_buckets)\n",
    "properati['categories_by_price']=pd.cut(properati['price_aprox_usd'],rango,labels=np.arange(cant_buckets),include_lowest=True)\n",
    "#lo casteo a float porque si no tira error \n",
    "properati['categories_by_price']=properati['categories_by_price'].astype(np.float64) \n",
    "properati.groupby('categories_by_price').count().sort_values(\"lat\",ascending=True)"
   ]
  },
  {
   "cell_type": "code",
   "execution_count": 6,
   "metadata": {
    "collapsed": true
   },
   "outputs": [],
   "source": [
    "#preparo set de datos\n",
    "X = zip(properati['surface_total_in_m2'],\\\n",
    "        properati['surface_covered_in_m2'],properati[\"property_type\"],properati['state_name'],properati['place_name'])\n",
    "y = properati['categories_by_price']"
   ]
  },
  {
   "cell_type": "markdown",
   "metadata": {},
   "source": [
    "### Busco hiper-parametros con random search"
   ]
  },
  {
   "cell_type": "code",
   "execution_count": 14,
   "metadata": {},
   "outputs": [
    {
     "name": "stdout",
     "output_type": "stream",
     "text": [
      "GridSearchCV duro 290.13 segundos para 10 candidatos a hiper-parametros.\n",
      "\n",
      "Puesto: 1\n",
      "Promedio training score: 0.977 (std: 0.000)\n",
      "Promedio validation score: 0.856 (std: 0.002)\n",
      "Promedio fit time: 4.019s\n",
      "Hiper-parametros: {'n_estimators': 95, 'max_features': 'log2', 'criterion': 'entropy'}\n",
      "\n",
      "Puesto: 2\n",
      "Promedio training score: 0.977 (std: 0.000)\n",
      "Promedio validation score: 0.856 (std: 0.002)\n",
      "Promedio fit time: 3.327s\n",
      "Hiper-parametros: {'n_estimators': 95, 'max_features': 'log2', 'criterion': 'gini'}\n",
      "\n",
      "Puesto: 3\n",
      "Promedio training score: 0.977 (std: 0.000)\n",
      "Promedio validation score: 0.856 (std: 0.002)\n",
      "Promedio fit time: 2.969s\n",
      "Hiper-parametros: {'n_estimators': 85, 'max_features': 'log2', 'criterion': 'gini'}\n",
      "\n",
      "Puesto: 4\n",
      "Promedio training score: 0.977 (std: 0.000)\n",
      "Promedio validation score: 0.856 (std: 0.002)\n",
      "Promedio fit time: 2.488s\n",
      "Hiper-parametros: {'n_estimators': 75, 'max_features': 'auto', 'criterion': 'gini'}\n",
      "\n",
      "Puesto: 5\n",
      "Promedio training score: 0.977 (std: 0.000)\n",
      "Promedio validation score: 0.856 (std: 0.003)\n",
      "Promedio fit time: 2.705s\n",
      "Hiper-parametros: {'n_estimators': 60, 'max_features': 'auto', 'criterion': 'entropy'}\n",
      "\n",
      "Puesto: 6\n",
      "Promedio training score: 0.977 (std: 0.000)\n",
      "Promedio validation score: 0.855 (std: 0.002)\n",
      "Promedio fit time: 2.721s\n",
      "Hiper-parametros: {'n_estimators': 65, 'max_features': 'auto', 'criterion': 'entropy'}\n",
      "\n",
      "Puesto: 7\n",
      "Promedio training score: 0.977 (std: 0.000)\n",
      "Promedio validation score: 0.855 (std: 0.003)\n",
      "Promedio fit time: 1.828s\n",
      "Hiper-parametros: {'n_estimators': 55, 'max_features': 'log2', 'criterion': 'gini'}\n",
      "\n",
      "Puesto: 8\n",
      "Promedio training score: 0.977 (std: 0.000)\n",
      "Promedio validation score: 0.854 (std: 0.003)\n",
      "Promedio fit time: 4.503s\n",
      "Hiper-parametros: {'n_estimators': 90, 'max_features': None, 'criterion': 'gini'}\n",
      "\n",
      "Puesto: 9\n",
      "Promedio training score: 0.977 (std: 0.000)\n",
      "Promedio validation score: 0.854 (std: 0.003)\n",
      "Promedio fit time: 3.797s\n",
      "Hiper-parametros: {'n_estimators': 70, 'max_features': None, 'criterion': 'gini'}\n",
      "\n",
      "Puesto: 10\n",
      "Promedio training score: 0.977 (std: 0.000)\n",
      "Promedio validation score: 0.853 (std: 0.002)\n",
      "Promedio fit time: 3.314s\n",
      "Hiper-parametros: {'n_estimators': 45, 'max_features': None, 'criterion': 'entropy'}\n",
      "\n"
     ]
    },
    {
     "data": {
      "application/javascript": [
       "$(document).ready(\n",
       "    function() {\n",
       "        function appendUniqueDiv(){\n",
       "            // append a div with our uuid so we can check that it's already\n",
       "            // been sent and avoid duplicates on page reload\n",
       "            var notifiedDiv = document.createElement(\"div\")\n",
       "            notifiedDiv.id = \"1411ae78-c38d-4d3b-a701-57a9fbc2c85e\"\n",
       "            element.append(notifiedDiv)\n",
       "        }\n",
       "\n",
       "        // only send notifications if the pageload is complete; this will\n",
       "        // help stop extra notifications when a saved notebook is loaded,\n",
       "        // which during testing gives us state \"interactive\", not \"complete\"\n",
       "        if (document.readyState === 'complete') {\n",
       "            // check for the div that signifies that the notification\n",
       "            // was already sent\n",
       "            if (document.getElementById(\"1411ae78-c38d-4d3b-a701-57a9fbc2c85e\") === null) {\n",
       "                var notificationPayload = {\"body\": \"Cell Execution Has Finished!!\", \"requireInteraction\": false, \"icon\": \"/static/base/images/favicon.ico\"};\n",
       "                if (Notification.permission !== 'denied') {\n",
       "                    if (Notification.permission !== 'granted') { \n",
       "                        Notification.requestPermission(function (permission) {\n",
       "                            if(!('permission' in Notification)) {\n",
       "                                Notification.permission = permission\n",
       "                            }\n",
       "                            if (Notification.permission === 'granted') {\n",
       "                                var notification = new Notification(\"Jupyter Notebook\", notificationPayload)\n",
       "                                appendUniqueDiv()\n",
       "                            }\n",
       "                        })\n",
       "                    } else if (Notification.permission === 'granted') {\n",
       "                        var notification = new Notification(\"Jupyter Notebook\", notificationPayload)\n",
       "                        appendUniqueDiv()\n",
       "                    }\n",
       "                }\n",
       "            }\n",
       "        }\n",
       "    }\n",
       ")\n"
      ],
      "text/plain": [
       "<IPython.core.display.Javascript object>"
      ]
     },
     "metadata": {},
     "output_type": "display_data"
    }
   ],
   "source": [
    "%%notify\n",
    "\n",
    "rf = RandomForestClassifier(n_jobs=-1)\n",
    "\n",
    "criterion = ['gini','entropy']\n",
    "max_features =[\"auto\",\"log2\",None]\n",
    "n_estimators = np.arange(40,100,5)\n",
    "\n",
    "X_train, X_test, y_train, y_test = train_test_split(\n",
    "    X, y, test_size=0.2)\n",
    "\n",
    "param_grid = {\"criterion\": criterion,\"max_features\":max_features,\"n_estimators\":n_estimators}\n",
    "\n",
    "search = RandomizedSearchCV(rf, param_distributions=param_grid ,cv=5,n_iter=10) #refit deja el estimador fiteado con los mejores hiperparametros\n",
    "start = time()\n",
    "search.fit(X_train, y_train)\n",
    "\n",
    "print(\"GridSearchCV duro %.2f segundos para %d candidatos a hiper-parametros.\"\n",
    "    % (time() - start, len(search.cv_results_['params'])))\n",
    "print(\"\")\n",
    "score.report_single(search.cv_results_)"
   ]
  },
  {
   "cell_type": "code",
   "execution_count": 15,
   "metadata": {},
   "outputs": [
    {
     "name": "stdout",
     "output_type": "stream",
     "text": [
      "[ 0.29303973  0.42492001  0.06205623  0.04357616  0.17640787]\n"
     ]
    }
   ],
   "source": [
    "mejor_rf = search.best_estimator_\n",
    "print mejor_rf.feature_importances_ # la importancia de cada feature (cuanta informacion le provee al rf) ordenado tal y cual esta zipeado el X"
   ]
  },
  {
   "cell_type": "code",
   "execution_count": 16,
   "metadata": {},
   "outputs": [
    {
     "data": {
      "text/plain": [
       "0.86410970959225575"
      ]
     },
     "execution_count": 16,
     "metadata": {},
     "output_type": "execute_result"
    }
   ],
   "source": [
    "search.score(X_test,y_test) # pruebo el estimador refiteado con el set de test"
   ]
  },
  {
   "cell_type": "markdown",
   "metadata": {},
   "source": [
    "# RF Regresor"
   ]
  },
  {
   "cell_type": "code",
   "execution_count": 153,
   "metadata": {},
   "outputs": [],
   "source": [
    "#preparo set de datos\n",
    "X = zip(properati['surface_total_in_m2'],\\\n",
    "        properati['surface_covered_in_m2'],properati[\"property_type\"],properati['state_name'],properati['place_name'])\n",
    "#test = zip(test_samples['surface_total_in_m2'],\\\n",
    " #       test_samples['surface_covered_in_m2'],test_samples['property_type'],test_samples['state_name'],test_samples['place_name'])\n",
    "y = properati['price_aprox_usd']"
   ]
  },
  {
   "cell_type": "markdown",
   "metadata": {},
   "source": [
    "## Algunos preprocesadores"
   ]
  },
  {
   "cell_type": "markdown",
   "metadata": {},
   "source": [
    "### IsolationForest"
   ]
  },
  {
   "cell_type": "code",
   "execution_count": 154,
   "metadata": {
    "collapsed": true
   },
   "outputs": [],
   "source": [
    "Z= zip(properati['surface_total_in_m2'],\\\n",
    "        properati['surface_covered_in_m2'],properati[\"property_type\"],properati['state_name'],properati['place_name'],properati[\"price_aprox_usd\"])"
   ]
  },
  {
   "cell_type": "code",
   "execution_count": 155,
   "metadata": {},
   "outputs": [
    {
     "data": {
      "text/plain": [
       "IsolationForest(bootstrap=False, contamination=0.1, max_features=1.0,\n",
       "        max_samples='auto', n_estimators=50, n_jobs=-1, random_state=None,\n",
       "        verbose=0)"
      ]
     },
     "execution_count": 155,
     "metadata": {},
     "output_type": "execute_result"
    }
   ],
   "source": [
    "outs = IsolationForest(n_jobs=-1,n_estimators=50)\n",
    "outs.fit(Z)"
   ]
  },
  {
   "cell_type": "code",
   "execution_count": 156,
   "metadata": {},
   "outputs": [
    {
     "data": {
      "text/plain": [
       "136153"
      ]
     },
     "execution_count": 156,
     "metadata": {},
     "output_type": "execute_result"
    }
   ],
   "source": [
    "len(Z)"
   ]
  },
  {
   "cell_type": "code",
   "execution_count": 157,
   "metadata": {
    "collapsed": true
   },
   "outputs": [],
   "source": [
    "nuevo_aux =zip(X,outs.predict(Z)) "
   ]
  },
  {
   "cell_type": "code",
   "execution_count": 158,
   "metadata": {},
   "outputs": [
    {
     "name": "stdout",
     "output_type": "stream",
     "text": [
      "122536\n"
     ]
    }
   ],
   "source": [
    "nuevo=[tupla for tupla in nuevo_aux if tupla[1]==1] #solo necesito lo que devuelve predecir Z y no el Z en si\n",
    "print len(nuevo)\n",
    "nuevo=[tupla[0] for tupla in nuevo_aux]"
   ]
  },
  {
   "cell_type": "markdown",
   "metadata": {},
   "source": [
    "### LocalOutlierFactor"
   ]
  },
  {
   "cell_type": "code",
   "execution_count": 246,
   "metadata": {
    "collapsed": true
   },
   "outputs": [],
   "source": [
    "from sklearn.neighbors import LocalOutlierFactor"
   ]
  },
  {
   "cell_type": "code",
   "execution_count": 247,
   "metadata": {
    "collapsed": true
   },
   "outputs": [],
   "source": [
    "outs = LocalOutlierFactor(n_jobs=-1)"
   ]
  },
  {
   "cell_type": "code",
   "execution_count": 248,
   "metadata": {
    "collapsed": true
   },
   "outputs": [],
   "source": [
    "nuevo_aux =zip(X,outs.fit_predict(Z)) "
   ]
  },
  {
   "cell_type": "code",
   "execution_count": 249,
   "metadata": {},
   "outputs": [
    {
     "name": "stdout",
     "output_type": "stream",
     "text": [
      "3005\n"
     ]
    }
   ],
   "source": [
    "nuevo=[tupla for tupla in nuevo_aux if tupla[1]==1] #solo necesito lo que devuelve predecir Z y no el Z en si\n",
    "print len(nuevo)\n",
    "nuevo=[tupla[0] for tupla in nuevo_aux]"
   ]
  },
  {
   "cell_type": "code",
   "execution_count": 11,
   "metadata": {
    "collapsed": true
   },
   "outputs": [],
   "source": [
    "X=nuevo"
   ]
  },
  {
   "cell_type": "markdown",
   "metadata": {},
   "source": [
    "###  DataCleaner"
   ]
  },
  {
   "cell_type": "code",
   "execution_count": 3,
   "metadata": {
    "collapsed": true
   },
   "outputs": [],
   "source": [
    "from datacleaner import autoclean"
   ]
  },
  {
   "cell_type": "code",
   "execution_count": 6,
   "metadata": {
    "collapsed": true
   },
   "outputs": [],
   "source": [
    "properati = autoclean(properati)"
   ]
  },
  {
   "cell_type": "code",
   "execution_count": 7,
   "metadata": {},
   "outputs": [
    {
     "name": "stdout",
     "output_type": "stream",
     "text": [
      "136356\n"
     ]
    }
   ],
   "source": [
    "#preparo set de datos\n",
    "X = zip(properati['surface_total_in_m2'],\\\n",
    "        properati['surface_covered_in_m2'],properati[\"property_type\"],properati['state_name'],properati['place_name'])\n",
    "y = properati['price_aprox_usd']\n",
    "print len(X)"
   ]
  },
  {
   "cell_type": "markdown",
   "metadata": {},
   "source": [
    "### Random Search"
   ]
  },
  {
   "cell_type": "code",
   "execution_count": null,
   "metadata": {},
   "outputs": [],
   "source": [
    "%%notify\n",
    "\n",
    "rf = RandomForestRegressor(n_jobs=-1)\n",
    "\n",
    "criterion = ['mse']\n",
    "max_features =[\"auto\",\"log2\",None]\n",
    "n_estimators = np.arange(10,200,10)\n",
    "\n",
    "X_train, X_test, y_train, y_test = train_test_split(\n",
    "    X, y, test_size=0.2)\n",
    "\n",
    "param_grid = {\"criterion\": criterion,\"max_features\":max_features,\"n_estimators\":n_estimators}\n",
    "\n",
    "search = RandomizedSearchCV(rf, param_distributions=param_grid ,cv=5,n_iter=20) #refit deja el estimador fiteado con los mejores hiperparametros\n",
    "start = time()\n",
    "search.fit(X_train, y_train)\n",
    "\n",
    "print(\"GridSearchCV duro %.2f segundos para %d candidatos a hiper-parametros.\"\n",
    "    % (time() - start, len(search.cv_results_['params'])))\n",
    "print(\"\")\n",
    "score.report_single(search.cv_results_)"
   ]
  },
  {
   "cell_type": "markdown",
   "metadata": {},
   "source": [
    "### Hago GS en los mejores"
   ]
  },
  {
   "cell_type": "code",
   "execution_count": 159,
   "metadata": {},
   "outputs": [
    {
     "name": "stdout",
     "output_type": "stream",
     "text": [
      "GridSearchCV duro 86.41 segundos para 1 candidatos a hiper-parametros.\n",
      "\n",
      "Puesto: 1\n",
      "Promedio training score: -3656369964.935 (std: 78958734.447)\n",
      "Promedio validation score: -18768300449.656 (std: 4256559159.326)\n",
      "Promedio fit time: 2.886s\n",
      "Hiper-parametros: {'max_features': 'log2', 'n_estimators': 75, 'criterion': 'mse'}\n",
      "\n"
     ]
    },
    {
     "data": {
      "application/javascript": [
       "$(document).ready(\n",
       "    function() {\n",
       "        function appendUniqueDiv(){\n",
       "            // append a div with our uuid so we can check that it's already\n",
       "            // been sent and avoid duplicates on page reload\n",
       "            var notifiedDiv = document.createElement(\"div\")\n",
       "            notifiedDiv.id = \"c0189a8d-17c0-4671-b474-fff48cad4868\"\n",
       "            element.append(notifiedDiv)\n",
       "        }\n",
       "\n",
       "        // only send notifications if the pageload is complete; this will\n",
       "        // help stop extra notifications when a saved notebook is loaded,\n",
       "        // which during testing gives us state \"interactive\", not \"complete\"\n",
       "        if (document.readyState === 'complete') {\n",
       "            // check for the div that signifies that the notification\n",
       "            // was already sent\n",
       "            if (document.getElementById(\"c0189a8d-17c0-4671-b474-fff48cad4868\") === null) {\n",
       "                var notificationPayload = {\"body\": \"Cell Execution Has Finished!!\", \"requireInteraction\": false, \"icon\": \"/static/base/images/favicon.ico\"};\n",
       "                if (Notification.permission !== 'denied') {\n",
       "                    if (Notification.permission !== 'granted') { \n",
       "                        Notification.requestPermission(function (permission) {\n",
       "                            if(!('permission' in Notification)) {\n",
       "                                Notification.permission = permission\n",
       "                            }\n",
       "                            if (Notification.permission === 'granted') {\n",
       "                                var notification = new Notification(\"Jupyter Notebook\", notificationPayload)\n",
       "                                appendUniqueDiv()\n",
       "                            }\n",
       "                        })\n",
       "                    } else if (Notification.permission === 'granted') {\n",
       "                        var notification = new Notification(\"Jupyter Notebook\", notificationPayload)\n",
       "                        appendUniqueDiv()\n",
       "                    }\n",
       "                }\n",
       "            }\n",
       "        }\n",
       "    }\n",
       ")\n"
      ],
      "text/plain": [
       "<IPython.core.display.Javascript object>"
      ]
     },
     "metadata": {},
     "output_type": "display_data"
    }
   ],
   "source": [
    "%%notify\n",
    "\n",
    "rf = RandomForestRegressor(n_jobs=-1)\n",
    "\n",
    "criterion = ['mse']\n",
    "max_features =['log2']\n",
    "#n_estimators = np.arange(70,90,5)\n",
    "n_estimators = [75]\n",
    "\n",
    "X_train, X_test, y_train, y_test = train_test_split(\n",
    "    X, y, test_size=0.2)\n",
    "\n",
    "param_grid = {\"criterion\": criterion,\"max_features\":max_features,\"n_estimators\":n_estimators}\n",
    "\n",
    "search = GridSearchCV(rf, param_grid=param_grid ,cv=20,scoring=\"neg_mean_squared_error\") #refit deja el estimador fiteado con los mejores hiperparametros\n",
    "start = time()\n",
    "search.fit(X_train, y_train)\n",
    "\n",
    "print(\"GridSearchCV duro %.2f segundos para %d candidatos a hiper-parametros.\"\n",
    "    % (time() - start, len(search.cv_results_['params'])))\n",
    "print(\"\")\n",
    "score.report_single(search.cv_results_)"
   ]
  },
  {
   "cell_type": "code",
   "execution_count": 160,
   "metadata": {},
   "outputs": [
    {
     "name": "stdout",
     "output_type": "stream",
     "text": [
      "[ 0.26015002  0.49947707  0.07642359  0.04324822  0.1207011 ]\n"
     ]
    }
   ],
   "source": [
    "mejor_rf = search.best_estimator_\n",
    "print mejor_rf.feature_importances_ # la importancia de cada feature (cuanta informacion le provee al rf) ordenado tal y cual esta zipeado el X"
   ]
  },
  {
   "cell_type": "code",
   "execution_count": 161,
   "metadata": {},
   "outputs": [
    {
     "data": {
      "text/plain": [
       "-17893065000.858807"
      ]
     },
     "execution_count": 161,
     "metadata": {},
     "output_type": "execute_result"
    }
   ],
   "source": [
    "search.score(X_test,y_test)"
   ]
  },
  {
   "cell_type": "markdown",
   "metadata": {},
   "source": [
    "### Esto es para kaggle"
   ]
  },
  {
   "cell_type": "code",
   "execution_count": null,
   "metadata": {
    "collapsed": true
   },
   "outputs": [],
   "source": [
    "resultados = mejor_rf.predict(test)\n",
    "result=pd.DataFrame({'id':test_samples['id'],'price_usd':resultados})\n",
    "result.to_csv('datos/resultados.csv',index=False)"
   ]
  },
  {
   "cell_type": "markdown",
   "metadata": {},
   "source": [
    "## Analsis de errores"
   ]
  },
  {
   "cell_type": "code",
   "execution_count": 143,
   "metadata": {},
   "outputs": [
    {
     "name": "stdout",
     "output_type": "stream",
     "text": [
      "Error maximo:7765952.59556\n",
      "Error minimo:0.0\n",
      "95733     -11533.756837\n",
      "108786     -3733.333333\n",
      "133189     10465.645296\n",
      "97598      52375.555556\n",
      "49362       9269.882458\n",
      "40734       3302.040000\n",
      "93425      52333.333333\n",
      "2479       -5190.940476\n",
      "103697     27106.666667\n",
      "131046    -15203.644672\n",
      "12028      73733.333333\n",
      "86701      -7248.888889\n",
      "38382      11874.437725\n",
      "42526          0.000000\n",
      "60576     220989.941799\n",
      "62521       5840.154121\n",
      "11630      -9593.800000\n",
      "34881     -91173.333333\n",
      "38962      78726.700855\n",
      "83995      29568.586603\n",
      "27581       8021.415423\n",
      "84325      13689.448835\n",
      "4796       24217.714286\n",
      "25051     -28760.000000\n",
      "86462      20398.151619\n",
      "82302     -24900.767111\n",
      "79644     -17463.555556\n",
      "84696      13153.250712\n",
      "9323      -23269.306667\n",
      "110528     -3091.958095\n",
      "              ...      \n",
      "38372       4253.333333\n",
      "60749      28535.555556\n",
      "90988     -94637.154872\n",
      "89146        741.652495\n",
      "114425     -3947.490043\n",
      "112305     27351.111111\n",
      "90327     -88240.000000\n",
      "450        -7356.666667\n",
      "86012     -36183.240000\n",
      "115986    -68266.666667\n",
      "110351    161733.333333\n",
      "29859       5057.981905\n",
      "92865    -157149.320000\n",
      "69182    -562133.333333\n",
      "57677     -25899.547944\n",
      "7399       34142.835553\n",
      "94105      86177.777778\n",
      "78092       3006.666667\n",
      "25186     -11359.479273\n",
      "39740       3846.730477\n",
      "55085     171337.142857\n",
      "95377      16214.697861\n",
      "92767     -57657.728889\n",
      "128410    -20995.240000\n",
      "107338      6720.000000\n",
      "17510     -46645.467075\n",
      "25392      36826.666667\n",
      "19979     131863.703704\n",
      "16306      29012.336428\n",
      "50904       6829.658210\n",
      "Name: price_aprox_usd, Length: 27232, dtype: float64\n"
     ]
    }
   ],
   "source": [
    "errores = mejor_rf.predict(X_test)-y_test\n",
    "print (\"Error maximo:{0}\\nError minimo:{1}\".format( max(abs(errores)),min(abs(errores))))\n",
    "print(errores)"
   ]
  },
  {
   "cell_type": "code",
   "execution_count": 166,
   "metadata": {},
   "outputs": [
    {
     "name": "stdout",
     "output_type": "stream",
     "text": [
      "Hay 3513 de 27232 que tienen mas de 100000.0 USD de error (12%)\n"
     ]
    }
   ],
   "source": [
    "count_max=0\n",
    "max_error=1e5\n",
    "lista=[]\n",
    "for error in errores:\n",
    "    if abs(error)>=max_error:\n",
    "        count_max+=1\n",
    "        lista.append(abs(error))\n",
    "print (\"Hay {0} de {1} que tienen mas de {2} USD de error ({3}%)\".format(count_max,len(errores),max_error,100 * count_max/len(errores)))"
   ]
  },
  {
   "cell_type": "code",
   "execution_count": 168,
   "metadata": {},
   "outputs": [
    {
     "data": {
      "image/png": "[encoded data removed]",
      "text/plain": [
       "<matplotlib.figure.Figure at 0x7fbbc0686d90>"
      ]
     },
     "metadata": {},
     "output_type": "display_data"
    }
   ],
   "source": [
    "# the histogram of the data\n",
    "plt.figure(figsize=(12,8))\n",
    "plt.hist(errores, 500, facecolor='blue')\n",
    "plt.xlabel('Errores')\n",
    "plt.ylabel('Cantidad')\n",
    "#plt.xlim(-1000, 1000) #para variar el \"zoom a 0\"\n",
    "plt.yscale('log')\n",
    "plt.xscale('log')\n",
    "plt.show()"
   ]
  },
  {
   "cell_type": "markdown",
   "metadata": {},
   "source": [
    "###  Distribucion de precios"
   ]
  },
  {
   "cell_type": "code",
   "execution_count": 148,
   "metadata": {},
   "outputs": [
    {
     "data": {
      "image/png": "[encoded data removed]",
      "text/plain": [
       "<matplotlib.figure.Figure at 0x7fbb9e746dd0>"
      ]
     },
     "metadata": {},
     "output_type": "display_data"
    }
   ],
   "source": [
    "plt.figure(figsize=(12,8))\n",
    "cant_buckets=500\n",
    "plt.hist(properati.price_aprox_usd,cant_buckets,facecolor='green')\n",
    "plt.yscale('log')\n",
    "plt.show()"
   ]
  },
  {
   "cell_type": "markdown",
   "metadata": {},
   "source": [
    "## Pruebo reduccion con RF"
   ]
  },
  {
   "cell_type": "code",
   "execution_count": null,
   "metadata": {
    "collapsed": true
   },
   "outputs": [],
   "source": [
    "X = zip(properati['dist_a_subte'],properati['dist_a_univ'],properati['dist_a_tren'],properati['dist_a_villa'],\\\n",
    "        properati['dist_a_zona_anegada'],properati['surface_total_in_m2'],\\\n",
    "        properati['surface_covered_in_m2'],properati['lat'],properati['lon'])\n",
    "\n",
    "y = properati['price_aprox_usd']\n",
    "\n",
    "X=scaler.fit_transform(X,y)"
   ]
  },
  {
   "cell_type": "code",
   "execution_count": null,
   "metadata": {
    "collapsed": true
   },
   "outputs": [],
   "source": [
    "%%notify\n",
    "\n",
    "from sklearn.pipeline import Pipeline\n",
    "from sklearn.decomposition import PCA\n",
    "\n",
    "estimators = [('pca', PCA()), ('rf', RandomForestRegressor())]\n",
    "pipe = Pipeline(estimators)\n",
    "\n",
    "criterion = ['mse']\n",
    "max_features =['log2']\n",
    "n_estimators = np.arange(170,200,10)\n",
    "\n",
    "X_train, X_test, y_train, y_test = train_test_split(\n",
    "    X, y, test_size=0.2)\n",
    "\n",
    "param_grid= dict( pca__n_components=np.arange(1,8,1),rf__criterion = criterion,\n",
    "rf__max_features =max_features,\n",
    "rf__n_estimators = n_estimators)\n",
    "\n",
    "grid_search = GridSearchCV(pipe, param_grid=param_grid,n_jobs=-1,refit=True,cv=5)\n",
    "\n",
    "grid_search.fit(X_train, y_train)"
   ]
  },
  {
   "cell_type": "code",
   "execution_count": null,
   "metadata": {
    "collapsed": true
   },
   "outputs": [],
   "source": [
    "grid_search.best_estimator_.score(X_test,y_test)"
   ]
  },
  {
   "cell_type": "code",
   "execution_count": null,
   "metadata": {
    "collapsed": true
   },
   "outputs": [],
   "source": [
    "estimador_pipe=grid_search.best_estimator_\n",
    "estimador_pipe"
   ]
  },
  {
   "cell_type": "code",
   "execution_count": null,
   "metadata": {
    "collapsed": true
   },
   "outputs": [],
   "source": [
    "estimador_pipe.get_params\n",
    "estimador_pipe.steps[1][1].feature_importances_"
   ]
  },
  {
   "cell_type": "code",
   "execution_count": null,
   "metadata": {
    "collapsed": true
   },
   "outputs": [],
   "source": [
    "errores = estimador_pipe.predict(X_test)-y_test"
   ]
  },
  {
   "cell_type": "code",
   "execution_count": null,
   "metadata": {
    "collapsed": true
   },
   "outputs": [],
   "source": [
    " # the histogram of the data\n",
    "plt.figure(figsize=(12,8))\n",
    "plt.hist(errores, 100, facecolor='blue')\n",
    "plt.xlabel('Errores')\n",
    "plt.ylabel('Cantidad')\n",
    "#plt.xlim(-1000, 1000) #para variar el \"zoom a 0\"\n",
    "plt.yscale('log')\n",
    "plt.show()"
   ]
  },
  {
   "cell_type": "markdown",
   "metadata": {
    "collapsed": true
   },
   "source": [
    "# Probando set Kaggle"
   ]
  },
  {
   "cell_type": "code",
   "execution_count": 2,
   "metadata": {
    "collapsed": true
   },
   "outputs": [],
   "source": [
    "#paso features con strings a numericos\n",
    "le_barrio = preprocessing.LabelEncoder()\n",
    "barrios=properati['state_name']\n",
    "le_barrio.fit(barrios)\n",
    "properati['state_name'] = le_barrio.transform(barrios)\n",
    "\n",
    "le_zona = preprocessing.LabelEncoder()\n",
    "zona=properati['place_name']\n",
    "le_zona.fit(zona)\n",
    "properati['place_name'] = le_zona.transform(zona)\n",
    "\n",
    "le_tipo = preprocessing.LabelEncoder()\n",
    "tipos_prop=properati['property_type']\n",
    "le_tipo.fit(tipos_prop)\n",
    "properati['property_type'] = le_tipo.transform(tipos_prop)"
   ]
  },
  {
   "cell_type": "code",
   "execution_count": 3,
   "metadata": {
    "collapsed": true
   },
   "outputs": [],
   "source": [
    "#preparo set de datos\n",
    "X = zip(properati['surface_total_in_m2'],\\\n",
    "        properati['surface_covered_in_m2'],properati['property_type'],properati['state_name'],properati['place_name'])\n",
    "y = properati['surface_total_in_m2']"
   ]
  },
  {
   "cell_type": "code",
   "execution_count": 6,
   "metadata": {},
   "outputs": [
    {
     "name": "stdout",
     "output_type": "stream",
     "text": [
      "GridSearchCV duro 96.35 segundos para 1 candidatos a hiper-parametros.\n",
      "\n",
      "Puesto: 1\n",
      "Promedio training score: -4138.260 (std: 884.852)\n",
      "Promedio validation score: -27064.770 (std: 22637.812)\n",
      "Promedio fit time: 3.522s\n",
      "Hiper-parametros: {'max_features': 'log2', 'n_estimators': 80, 'criterion': 'mse'}\n",
      "\n"
     ]
    },
    {
     "data": {
      "application/javascript": [
       "$(document).ready(\n",
       "    function() {\n",
       "        function appendUniqueDiv(){\n",
       "            // append a div with our uuid so we can check that it's already\n",
       "            // been sent and avoid duplicates on page reload\n",
       "            var notifiedDiv = document.createElement(\"div\")\n",
       "            notifiedDiv.id = \"42b2a252-1c36-4db9-9d1a-daba208d6900\"\n",
       "            element.append(notifiedDiv)\n",
       "        }\n",
       "\n",
       "        // only send notifications if the pageload is complete; this will\n",
       "        // help stop extra notifications when a saved notebook is loaded,\n",
       "        // which during testing gives us state \"interactive\", not \"complete\"\n",
       "        if (document.readyState === 'complete') {\n",
       "            // check for the div that signifies that the notification\n",
       "            // was already sent\n",
       "            if (document.getElementById(\"42b2a252-1c36-4db9-9d1a-daba208d6900\") === null) {\n",
       "                var notificationPayload = {\"body\": \"Cell Execution Has Finished!!\", \"requireInteraction\": false, \"icon\": \"/static/base/images/favicon.ico\"};\n",
       "                if (Notification.permission !== 'denied') {\n",
       "                    if (Notification.permission !== 'granted') { \n",
       "                        Notification.requestPermission(function (permission) {\n",
       "                            if(!('permission' in Notification)) {\n",
       "                                Notification.permission = permission\n",
       "                            }\n",
       "                            if (Notification.permission === 'granted') {\n",
       "                                var notification = new Notification(\"Jupyter Notebook\", notificationPayload)\n",
       "                                appendUniqueDiv()\n",
       "                            }\n",
       "                        })\n",
       "                    } else if (Notification.permission === 'granted') {\n",
       "                        var notification = new Notification(\"Jupyter Notebook\", notificationPayload)\n",
       "                        appendUniqueDiv()\n",
       "                    }\n",
       "                }\n",
       "            }\n",
       "        }\n",
       "    }\n",
       ")\n"
      ],
      "text/plain": [
       "<IPython.core.display.Javascript object>"
      ]
     },
     "metadata": {},
     "output_type": "display_data"
    }
   ],
   "source": [
    "%%notify\n",
    "\n",
    "rf = RandomForestRegressor(n_jobs=-1)\n",
    "\n",
    "criterion = ['mse']\n",
    "max_features =['log2']\n",
    "n_estimators = [80]\n",
    "\n",
    "param_grid = {\"criterion\": criterion,\"max_features\":max_features,\"n_estimators\":n_estimators}\n",
    "\n",
    "search = GridSearchCV(rf, param_grid=param_grid ,cv=20,scoring=\"neg_mean_squared_error\") #refit deja el estimador fiteado con los mejores hiperparametros\n",
    "start = time()\n",
    "search.fit(X, y)\n",
    "\n",
    "print(\"GridSearchCV duro %.2f segundos para %d candidatos a hiper-parametros.\"\n",
    "    % (time() - start, len(search.cv_results_['params'])))\n",
    "print(\"\")\n",
    "score.report_single(search.cv_results_)"
   ]
  },
  {
   "cell_type": "code",
   "execution_count": null,
   "metadata": {
    "collapsed": true
   },
   "outputs": [],
   "source": [
    "test = pd.read_csv('datos/properati_dataset_testing_noprice.csv')"
   ]
  },
  {
   "cell_type": "code",
   "execution_count": null,
   "metadata": {
    "collapsed": true
   },
   "outputs": [],
   "source": [
    " def recalcular_superficie(row):\n",
    "    if ( np.isnan(row.surface_total_in_m2) and (row.surface_covered_in_m2 !=0) ): #si no tiene la sup total usa la descubierta como total \n",
    "        row.surface_total_in_m2 = row.surface_covered_in_m2\n",
    "    if ( np.isnan(row.surface_covered_in_m2) and (row.surface_total_in_m2 !=0)): #si no tiene la sup total usa la descubierta como total \n",
    "        row.surface_covered_in_m2 = row.surface_total_in_m2\n",
    "    return row\n",
    "test = test.apply(recalcular_superficie,axis=1)"
   ]
  },
  {
   "cell_type": "code",
   "execution_count": null,
   "metadata": {
    "collapsed": true
   },
   "outputs": [],
   "source": [
    "test.info()"
   ]
  },
  {
   "cell_type": "code",
   "execution_count": null,
   "metadata": {
    "collapsed": true
   },
   "outputs": [],
   "source": [
    "estimador_final = search.best_estimator_"
   ]
  },
  {
   "cell_type": "code",
   "execution_count": null,
   "metadata": {
    "collapsed": true
   },
   "outputs": [],
   "source": [
    "#paso features con strings a numericos\n",
    "le_barrio = preprocessing.LabelEncoder()\n",
    "barrios=test['state_name']\n",
    "le_barrio.fit(barrios)\n",
    "test['state_name'] = le_barrio.transform(barrios)\n",
    "\n",
    "le_zona = preprocessing.LabelEncoder()\n",
    "zona=test['place_name']\n",
    "le_zona.fit(zona)\n",
    "test['place_name'] = le_zona.transform(zona)\n",
    "\n",
    "le_tipo = preprocessing.LabelEncoder()\n",
    "tipos_prop=test['property_type']\n",
    "le_tipo.fit(tipos_prop)\n",
    "test['property_type'] = le_tipo.transform(tipos_prop)\n",
    "print le_tipo.get_params()"
   ]
  },
  {
   "cell_type": "code",
   "execution_count": null,
   "metadata": {
    "collapsed": true
   },
   "outputs": [],
   "source": [
    "Z = zip(test['surface_total_in_m2'],\\\n",
    "        test['surface_covered_in_m2'],test['property_type'],test['state_name'],test['place_name'])"
   ]
  },
  {
   "cell_type": "code",
   "execution_count": null,
   "metadata": {
    "collapsed": true
   },
   "outputs": [],
   "source": []
  },
  {
   "cell_type": "code",
   "execution_count": null,
   "metadata": {
    "collapsed": true
   },
   "outputs": [],
   "source": []
  },
  {
   "cell_type": "code",
   "execution_count": 98,
   "metadata": {},
   "outputs": [
    {
     "data": {
      "image/png": "[encoded data removed]",
      "text/plain": [
       "<matplotlib.figure.Figure at 0x7fbbcf0beed0>"
      ]
     },
     "metadata": {},
     "output_type": "display_data"
    }
   ],
   "source": [
    "# the histogram of the data\n",
    "plt.figure(figsize=(12,8))\n",
    "plt.hist(properati[\"surface_total_in_m2\"], 500, facecolor='blue')\n",
    "plt.xlabel('Errores')\n",
    "plt.ylabel('Cantidad')\n",
    "plt.xlim(0, 25000) \n",
    "plt.yscale('log')\n",
    "plt.show()"
   ]
  },
  {
   "cell_type": "code",
   "execution_count": 99,
   "metadata": {},
   "outputs": [
    {
     "data": {
      "image/png": "[encoded data removed]",
      "text/plain": [
       "<matplotlib.figure.Figure at 0x7fbbd24c6690>"
      ]
     },
     "metadata": {},
     "output_type": "display_data"
    }
   ],
   "source": [
    "# the histogram of the data\n",
    "plt.figure(figsize=(12,8))\n",
    "plt.hist(properati[\"surface_covered_in_m2\"], 500, facecolor='blue')\n",
    "plt.xlabel('Errores')\n",
    "plt.ylabel('Cantidad')\n",
    "plt.xlim(0, 25000) \n",
    "plt.yscale('log')\n",
    "plt.show()"
   ]
  },
  {
   "cell_type": "code",
   "execution_count": null,
   "metadata": {
    "collapsed": true
   },
   "outputs": [],
   "source": []
  }
 ],
 "metadata": {
  "kernelspec": {
   "display_name": "Python 2",
   "language": "python",
   "name": "python2"
  },
  "language_info": {
   "codemirror_mode": {
    "name": "ipython",
    "version": 2
   },
   "file_extension": ".py",
   "mimetype": "text/x-python",
   "name": "python",
   "nbconvert_exporter": "python",
   "pygments_lexer": "ipython2",
   "version": "2.7.12"
  }
 },
 "nbformat": 4,
 "nbformat_minor": 2
}
