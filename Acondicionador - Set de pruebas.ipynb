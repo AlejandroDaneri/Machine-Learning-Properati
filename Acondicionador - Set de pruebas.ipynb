{
 "cells": [
  {
   "cell_type": "code",
   "execution_count": 1,
   "metadata": {},
   "outputs": [
    {
     "data": {
      "text/plain": [
       "Index([u'created_on', u'property_type', u'operation', u'place_name',\n",
       "       u'place_with_parent_names', u'country_name', u'state_name', u'lat-lon',\n",
       "       u'lat', u'lon', u'surface_total_in_m2', u'surface_covered_in_m2',\n",
       "       u'floor', u'rooms', u'expenses', u'description'],\n",
       "      dtype='object')"
      ]
     },
     "execution_count": 1,
     "metadata": {},
     "output_type": "execute_result"
    }
   ],
   "source": [
    "import pandas as pd\n",
    "test_samples = pd.read_csv('datos/properati_dataset_testing_noprice.csv',index_col=0,error_bad_lines=False)\n",
    "test_samples.columns"
   ]
  },
  {
   "cell_type": "code",
   "execution_count": 2,
   "metadata": {
    "collapsed": true
   },
   "outputs": [],
   "source": [
    "test_samples['lat-lon'] = [(x, y) if x else None for x,y in zip(test_samples['lat'], test_samples['lon'])] #preparo para calcular distancias\n"
   ]
  },
  {
   "cell_type": "code",
   "execution_count": 3,
   "metadata": {
    "collapsed": true
   },
   "outputs": [],
   "source": [
    "from haversine import haversine\n",
    "def distancia_minima(partida, points):\n",
    "    dist_min = 9999999\n",
    "    distancias=[]\n",
    "    for destino in points:\n",
    "        dist= round(haversine(partida,destino),1)\n",
    "        if (dist<dist_min):\n",
    "            dist_min = dist\n",
    "    return dist"
   ]
  },
  {
   "cell_type": "code",
   "execution_count": 4,
   "metadata": {
    "collapsed": true
   },
   "outputs": [],
   "source": [
    "subtes = pd.read_csv('datos/datasets/CABA/latlon/estaciones-de-subte.csv')\n",
    "subtes['lat-lon'] = [(x, y) for x,y in zip(subtes['y'], subtes['x'])]\n",
    "test_samples['distancia_subte'] = [distancia_minima(x, list(subtes['lat-lon'])) if x else None for x in test_samples['lat-lon']]"
   ]
  },
  {
   "cell_type": "code",
   "execution_count": 5,
   "metadata": {
    "collapsed": true
   },
   "outputs": [],
   "source": [
    "univ = pd.read_csv('datos/datasets/CABA/latlon/universidades.csv',sep=';',error_bad_lines=False)\n",
    "univ['lat-lon']= [(x, y) for x,y in zip(univ['LAT'], univ['LNG'])]\n",
    "test_samples['distancia_universidad'] = [distancia_minima(x, list(univ['lat-lon'])) if x else None for x in test_samples['lat-lon']]"
   ]
  },
  {
   "cell_type": "code",
   "execution_count": 6,
   "metadata": {
    "collapsed": true
   },
   "outputs": [],
   "source": [
    "test_samples.to_csv('datos/properati_dataset_testing_noprice_acondicionado.csv',index=False)"
   ]
  },
  {
   "cell_type": "code",
   "execution_count": null,
   "metadata": {
    "collapsed": true
   },
   "outputs": [],
   "source": []
  }
 ],
 "metadata": {
  "kernelspec": {
   "display_name": "Python 2",
   "language": "python",
   "name": "python2"
  },
  "language_info": {
   "codemirror_mode": {
    "name": "ipython",
    "version": 2
   },
   "file_extension": ".py",
   "mimetype": "text/x-python",
   "name": "python",
   "nbconvert_exporter": "python",
   "pygments_lexer": "ipython2",
   "version": "2.7.12"
  }
 },
 "nbformat": 4,
 "nbformat_minor": 2
}
