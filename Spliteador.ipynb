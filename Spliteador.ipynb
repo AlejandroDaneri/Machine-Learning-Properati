{
 "cells": [
  {
   "cell_type": "code",
   "execution_count": 7,
   "metadata": {
    "collapsed": true
   },
   "outputs": [],
   "source": [
    "import pandas as pd"
   ]
  },
  {
   "cell_type": "code",
   "execution_count": 8,
   "metadata": {},
   "outputs": [
    {
     "data": {
      "text/plain": [
       "Index([u'created_on', u'operation', u'property_type', u'place_name',\n",
       "       u'place_with_parent_names', u'country_name', u'state_name',\n",
       "       u'geonames_id', u'lat', u'lon', u'price', u'currency',\n",
       "       u'precio_aprox_local', u'precio_aprox_usd', u'surface_total_in_m2',\n",
       "       u'surface_covered_in_m2', u'precio_usd_por_m2', u'precio_por_m2',\n",
       "       u'floor', u'rooms', u'expenses', u'description'],\n",
       "      dtype='object')"
      ]
     },
     "execution_count": 8,
     "metadata": {},
     "output_type": "execute_result"
    }
   ],
   "source": [
    "properati = pd.read_csv('datos/properati_remap.csv',index_col=0)\n",
    "properati.columns"
   ]
  },
  {
   "cell_type": "code",
   "execution_count": 9,
   "metadata": {
    "collapsed": true
   },
   "outputs": [],
   "source": [
    "separado = properati['place_with_parent_names'].apply(lambda x: pd.Series(x.split('|')))\n",
    "separado.columns = ['a','pais', 'region','localidad','ciudad','barrio','aborrar'] #mejorar\n",
    "separado = separado.drop(['a','pais','aborrar'],1) # mejorar"
   ]
  },
  {
   "cell_type": "code",
   "execution_count": 10,
   "metadata": {
    "collapsed": true
   },
   "outputs": [],
   "source": [
    "properati = pd.concat([properati, separado], axis=1)"
   ]
  },
  {
   "cell_type": "code",
   "execution_count": 11,
   "metadata": {},
   "outputs": [
    {
     "data": {
      "text/plain": [
       "Index([u'created_on', u'operation', u'property_type', u'place_name',\n",
       "       u'place_with_parent_names', u'country_name', u'state_name',\n",
       "       u'geonames_id', u'lat', u'lon', u'price', u'currency',\n",
       "       u'precio_aprox_local', u'precio_aprox_usd', u'surface_total_in_m2',\n",
       "       u'surface_covered_in_m2', u'precio_usd_por_m2', u'precio_por_m2',\n",
       "       u'floor', u'rooms', u'expenses', u'description', u'region',\n",
       "       u'localidad', u'ciudad', u'barrio'],\n",
       "      dtype='object')"
      ]
     },
     "execution_count": 11,
     "metadata": {},
     "output_type": "execute_result"
    }
   ],
   "source": [
    "properati.columns"
   ]
  },
  {
   "cell_type": "code",
   "execution_count": 12,
   "metadata": {
    "collapsed": true
   },
   "outputs": [],
   "source": [
    "properati.to_csv('datos/properati_2.csv',index=False)"
   ]
  },
  {
   "cell_type": "code",
   "execution_count": null,
   "metadata": {
    "collapsed": true
   },
   "outputs": [],
   "source": []
  }
 ],
 "metadata": {
  "kernelspec": {
   "display_name": "Python 2",
   "language": "python",
   "name": "python2"
  },
  "language_info": {
   "codemirror_mode": {
    "name": "ipython",
    "version": 2
   },
   "file_extension": ".py",
   "mimetype": "text/x-python",
   "name": "python",
   "nbconvert_exporter": "python",
   "pygments_lexer": "ipython2",
   "version": "2.7.12"
  }
 },
 "nbformat": 4,
 "nbformat_minor": 2
}
