{
 "cells": [
  {
   "cell_type": "code",
   "execution_count": 61,
   "metadata": {},
   "outputs": [
    {
     "data": {
      "application/javascript": [
       "if (!(\"Notification\" in window)) {\n",
       "    alert(\"This browser does not support desktop notifications, so the %%notify magic will not work.\");\n",
       "} else if (Notification.permission !== 'granted' && Notification.permission !== 'denied') {\n",
       "    Notification.requestPermission(function (permission) {\n",
       "        if(!('permission' in Notification)) {\n",
       "            Notification.permission = permission;\n",
       "        }\n",
       "    })\n",
       "}\n"
      ],
      "text/plain": [
       "<IPython.core.display.Javascript object>"
      ]
     },
     "metadata": {},
     "output_type": "display_data"
    },
    {
     "data": {
      "text/html": [
       "<style>.container { width:97% !important; }</style>"
      ],
      "text/plain": [
       "<IPython.core.display.HTML object>"
      ]
     },
     "metadata": {},
     "output_type": "display_data"
    }
   ],
   "source": [
    "import pandas as pd\n",
    "import numpy as np\n",
    "import jupyternotify\n",
    "ip = get_ipython()\n",
    "ip.register_magics(jupyternotify.JupyterNotifyMagics)\n",
    "from IPython.core.display import display, HTML\n",
    "display(HTML(\"<style>.container { width:97% !important; }</style>\"))"
   ]
  },
  {
   "cell_type": "code",
   "execution_count": 62,
   "metadata": {},
   "outputs": [
    {
     "data": {
      "text/plain": [
       "Index([u'created_on', u'operation', u'property_type', u'place_name',\n",
       "       u'place_with_parent_names', u'country_name', u'state_name',\n",
       "       u'geonames_id', u'lat-lon', u'lat', u'lon', u'price', u'currency',\n",
       "       u'price_aprox_local_currency', u'price_aprox_usd',\n",
       "       u'surface_total_in_m2', u'surface_covered_in_m2', u'price_usd_per_m2',\n",
       "       u'price_per_m2', u'floor', u'rooms', u'expenses', u'properati_url',\n",
       "       u'description', u'title', u'image_thumbnail'],\n",
       "      dtype='object')"
      ]
     },
     "execution_count": 62,
     "metadata": {},
     "output_type": "execute_result"
    }
   ],
   "source": [
    "properati = pd.read_csv('datos/new.csv',index_col=0,error_bad_lines=False)\n",
    "properati.columns"
   ]
  },
  {
   "cell_type": "code",
   "execution_count": 63,
   "metadata": {},
   "outputs": [
    {
     "name": "stdout",
     "output_type": "stream",
     "text": [
      "1463039\n",
      "991548\n"
     ]
    }
   ],
   "source": [
    "print len(properati)\n",
    "nuevo = properati.loc[(properati.state_name.str.contains(\"Capital Federal\")) | (properati.state_name.str.contains(\"G.B.A\"))]\n",
    "print len(nuevo)"
   ]
  },
  {
   "cell_type": "code",
   "execution_count": 64,
   "metadata": {},
   "outputs": [
    {
     "name": "stdout",
     "output_type": "stream",
     "text": [
      "202581\n"
     ]
    },
    {
     "data": {
      "application/javascript": [
       "$(document).ready(\n",
       "    function() {\n",
       "        function appendUniqueDiv(){\n",
       "            // append a div with our uuid so we can check that it's already\n",
       "            // been sent and avoid duplicates on page reload\n",
       "            var notifiedDiv = document.createElement(\"div\")\n",
       "            notifiedDiv.id = \"3ec4954c-d5b5-499e-8c3c-bebae05908d0\"\n",
       "            element.append(notifiedDiv)\n",
       "        }\n",
       "\n",
       "        // only send notifications if the pageload is complete; this will\n",
       "        // help stop extra notifications when a saved notebook is loaded,\n",
       "        // which during testing gives us state \"interactive\", not \"complete\"\n",
       "        if (document.readyState === 'complete') {\n",
       "            // check for the div that signifies that the notification\n",
       "            // was already sent\n",
       "            if (document.getElementById(\"3ec4954c-d5b5-499e-8c3c-bebae05908d0\") === null) {\n",
       "                var notificationPayload = {\"body\": \"Cell Execution Has Finished!!\", \"requireInteraction\": false, \"icon\": \"/static/base/images/favicon.ico\"};\n",
       "                if (Notification.permission !== 'denied') {\n",
       "                    if (Notification.permission !== 'granted') { \n",
       "                        Notification.requestPermission(function (permission) {\n",
       "                            if(!('permission' in Notification)) {\n",
       "                                Notification.permission = permission\n",
       "                            }\n",
       "                            if (Notification.permission === 'granted') {\n",
       "                                var notification = new Notification(\"Jupyter Notebook\", notificationPayload)\n",
       "                                appendUniqueDiv()\n",
       "                            }\n",
       "                        })\n",
       "                    } else if (Notification.permission === 'granted') {\n",
       "                        var notification = new Notification(\"Jupyter Notebook\", notificationPayload)\n",
       "                        appendUniqueDiv()\n",
       "                    }\n",
       "                }\n",
       "            }\n",
       "        }\n",
       "    }\n",
       ")\n"
      ],
      "text/plain": [
       "<IPython.core.display.Javascript object>"
      ]
     },
     "metadata": {},
     "output_type": "display_data"
    }
   ],
   "source": [
    "%%notify\n",
    "nuevo = nuevo.loc[nuevo['price']!= 0]\n",
    "nuevo = nuevo.dropna(subset=['price'])\n",
    "nuevo.drop_duplicates(inplace=True)\n",
    "nuevo.drop_duplicates(subset=['properati_url'],inplace=True)\n",
    "\n",
    "print len(nuevo)\n",
    "conv_dolar_ars= 17.6445 #precio del dolar usado por properati\n",
    "\n",
    "def recalcular_precios(row):\n",
    "    if (row.currency == 'USD'):\n",
    "        row.price_aprox_usd   = float(row.price)\n",
    "        row.price_aprox_local_currency  = row.price_aprox_usd * conv_dolar_ars # pasa usd a ars\n",
    "        \n",
    "    if (row.currency == 'ARS'):\n",
    "        row.price_aprox_local_currency  = float(row.price)\n",
    "        row.price_aprox_usd  = row.price_aprox_local_currency // conv_dolar_ars # pasa ars a usd\n",
    "        \n",
    "    if (row.surface_total_in_m2 and row.price_aprox_local_currency and row.price_aprox_usd): #si tiene la sup total y los precios calcular los precios por m2\n",
    "        row.price_per_m2   = row.price_aprox_local_currency  // row.surface_total_in_m2\n",
    "        row.price_usd_per_m2  = row.price_aprox_usd // row.surface_total_in_m2\n",
    "     \n",
    "    if ( np.isnan(row.surface_total_in_m2) and row.surface_covered_in_m2 ): #si no tiene la sup total usa la descubierta como total \n",
    "        row.surface_total_in_m2 = row.surface_covered_in_m2\n",
    "    \n",
    "    if (row.price_per_m2 and (np.isnan(row.price_usd_per_m2))): \n",
    "        row.price_usd_per_m2  = row.price_per_m2 // conv_dolar_ars\n",
    "        \n",
    "    if ((np.isnan(row.price_per_m2)) and (np.isnan(row.price_usd_per_m2)) and (not(np.isnan(row.surface_total_in_m2)) ) ):\n",
    "        row.price_usd_per_m2 = row.price_aprox_usd * row.surface_total_in_m2\n",
    "        row.price_per_m2 = row.price_aprox_local_currency * row.surface_total_in_m2\n",
    "        \n",
    "    return row\n",
    "nuevo = nuevo.apply(recalcular_precios,axis=1)"
   ]
  },
  {
   "cell_type": "code",
   "execution_count": 65,
   "metadata": {},
   "outputs": [
    {
     "name": "stdout",
     "output_type": "stream",
     "text": [
      "202581\n",
      "189836\n",
      "189836\n",
      "189836\n",
      "182920\n",
      "182916\n"
     ]
    }
   ],
   "source": [
    "total= len(nuevo)\n",
    "print total\n",
    "print len (nuevo.dropna(subset=['price_usd_per_m2']))\n",
    "print len (nuevo.dropna(subset=['price_per_m2']))\n",
    "print len (nuevo.dropna(subset=['surface_total_in_m2']))\n",
    "print len (nuevo.dropna(subset=['surface_covered_in_m2']))\n",
    "print len (nuevo.dropna(subset=['price_usd_per_m2','price_per_m2','surface_total_in_m2','surface_covered_in_m2']))"
   ]
  },
  {
   "cell_type": "code",
   "execution_count": 66,
   "metadata": {
    "collapsed": true
   },
   "outputs": [],
   "source": [
    "nuevo =nuevo.dropna(subset=['price_usd_per_m2','price_per_m2','surface_total_in_m2','surface_covered_in_m2','place_name'])"
   ]
  },
  {
   "cell_type": "code",
   "execution_count": 67,
   "metadata": {},
   "outputs": [
    {
     "name": "stdout",
     "output_type": "stream",
     "text": [
      "182872\n"
     ]
    }
   ],
   "source": [
    "print len(nuevo)"
   ]
  },
  {
   "cell_type": "code",
   "execution_count": 68,
   "metadata": {
    "collapsed": true
   },
   "outputs": [],
   "source": [
    "nuevo.to_csv('datos/properati_2.csv',index=False)"
   ]
  },
  {
   "cell_type": "code",
   "execution_count": null,
   "metadata": {
    "collapsed": true
   },
   "outputs": [],
   "source": []
  }
 ],
 "metadata": {
  "kernelspec": {
   "display_name": "Python 2",
   "language": "python",
   "name": "python2"
  },
  "language_info": {
   "codemirror_mode": {
    "name": "ipython",
    "version": 2
   },
   "file_extension": ".py",
   "mimetype": "text/x-python",
   "name": "python",
   "nbconvert_exporter": "python",
   "pygments_lexer": "ipython2",
   "version": "2.7.12"
  }
 },
 "nbformat": 4,
 "nbformat_minor": 2
}
