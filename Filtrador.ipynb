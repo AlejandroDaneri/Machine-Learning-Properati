{
 "cells": [
  {
   "cell_type": "code",
   "execution_count": 8,
   "metadata": {
    "collapsed": true
   },
   "outputs": [],
   "source": [
    "import pandas as pd"
   ]
  },
  {
   "cell_type": "code",
   "execution_count": 9,
   "metadata": {},
   "outputs": [
    {
     "data": {
      "text/plain": [
       "Index([u'created_on', u'operation', u'property_type', u'place_name',\n",
       "       u'place_with_parent_names', u'country_name', u'state_name',\n",
       "       u'geonames_id', u'lat-lon', u'lat', u'lon', u'price', u'currency',\n",
       "       u'price_aprox_local_currency', u'price_aprox_usd',\n",
       "       u'surface_total_in_m2', u'surface_covered_in_m2', u'price_usd_per_m2',\n",
       "       u'price_per_m2', u'floor', u'rooms', u'expenses', u'properati_url',\n",
       "       u'description', u'title', u'image_thumbnail'],\n",
       "      dtype='object')"
      ]
     },
     "execution_count": 9,
     "metadata": {},
     "output_type": "execute_result"
    }
   ],
   "source": [
    "properati = pd.read_csv('datos/new.csv',index_col=0,error_bad_lines=False)\n",
    "properati.columns"
   ]
  },
  {
   "cell_type": "code",
   "execution_count": 10,
   "metadata": {},
   "outputs": [
    {
     "name": "stdout",
     "output_type": "stream",
     "text": [
      "1463039\n",
      "991548\n"
     ]
    }
   ],
   "source": [
    "print len(properati)\n",
    "nuevo = properati.loc[(properati.state_name.str.contains(\"Capital Federal\")) | (properati.state_name.str.contains(\"G.B.A\"))]\n",
    "print len(nuevo)"
   ]
  },
  {
   "cell_type": "code",
   "execution_count": 11,
   "metadata": {},
   "outputs": [
    {
     "name": "stdout",
     "output_type": "stream",
     "text": [
      "440701\n",
      "440701\n"
     ]
    }
   ],
   "source": [
    "nuevo = nuevo.dropna(subset=['price'])\n",
    "nuevo.drop_duplicates(inplace=True)\n",
    "print len(nuevo)\n",
    "\n",
    "def recalcular_precios(row):\n",
    "    if (row.currency == 'USD'):\n",
    "        row.price_aprox_usd   = float(row.price)\n",
    "        row.price_aprox_local_currency  = row.price_aprox_usd * 17.6445\n",
    "        \n",
    "    if (row.currency == 'ARS'):\n",
    "        row.price_aprox_local_currency  = float(row.price)\n",
    "        row.price_aprox_usd  = row.price_aprox_local_currency // 17.6445\n",
    "        \n",
    "    if (row.surface_total_in_m2 and row.price_aprox_local_currency and row.price_aprox_usd):\n",
    "        row.price_per_m2   = row.price_aprox_local_currency  // row.surface_total_in_m2\n",
    "        row.price_usd_per_m2  = row.price_aprox_usd // row.surface_total_in_m2\n",
    "    return row\n",
    "nuevo = nuevo.apply(recalcular_precios,axis=1)\n",
    "print len(nuevo)"
   ]
  },
  {
   "cell_type": "code",
   "execution_count": 12,
   "metadata": {},
   "outputs": [
    {
     "data": {
      "text/plain": [
       "440701"
      ]
     },
     "execution_count": 12,
     "metadata": {},
     "output_type": "execute_result"
    }
   ],
   "source": [
    "len(nuevo)"
   ]
  },
  {
   "cell_type": "code",
   "execution_count": 13,
   "metadata": {
    "collapsed": true
   },
   "outputs": [],
   "source": [
    "nuevo.to_csv('datos/properati_2.csv',index=False)"
   ]
  },
  {
   "cell_type": "code",
   "execution_count": null,
   "metadata": {
    "collapsed": true
   },
   "outputs": [],
   "source": []
  }
 ],
 "metadata": {
  "kernelspec": {
   "display_name": "Python 2",
   "language": "python",
   "name": "python2"
  },
  "language_info": {
   "codemirror_mode": {
    "name": "ipython",
    "version": 2
   },
   "file_extension": ".py",
   "mimetype": "text/x-python",
   "name": "python",
   "nbconvert_exporter": "python",
   "pygments_lexer": "ipython2",
   "version": "2.7.12"
  }
 },
 "nbformat": 4,
 "nbformat_minor": 2
}
