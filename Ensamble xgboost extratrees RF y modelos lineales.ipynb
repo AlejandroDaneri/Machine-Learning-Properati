{
 "cells": [
  {
   "cell_type": "code",
   "execution_count": 4,
   "metadata": {},
   "outputs": [
    {
     "data": {
      "text/html": [
       "<style>.container { width:97% !important; }</style>"
      ],
      "text/plain": [
       "<IPython.core.display.HTML object>"
      ]
     },
     "metadata": {},
     "output_type": "display_data"
    },
    {
     "data": {
      "application/javascript": [
       "if (!(\"Notification\" in window)) {\n",
       "    alert(\"This browser does not support desktop notifications, so the %%notify magic will not work.\");\n",
       "} else if (Notification.permission !== 'granted' && Notification.permission !== 'denied') {\n",
       "    Notification.requestPermission(function (permission) {\n",
       "        if(!('permission' in Notification)) {\n",
       "            Notification.permission = permission;\n",
       "        }\n",
       "    })\n",
       "}\n"
      ],
      "text/plain": [
       "<IPython.core.display.Javascript object>"
      ]
     },
     "metadata": {},
     "output_type": "display_data"
    }
   ],
   "source": [
    "import pandas as pd\n",
    "import numpy as np\n",
    "import matplotlib.pyplot as plt\n",
    "\n",
    "from IPython.core.display import display, HTML\n",
    "display(HTML(\"<style>.container { width:97% !important; }</style>\"))\n",
    "\n",
    "from sklearn.model_selection import GridSearchCV, RandomizedSearchCV, train_test_split\n",
    "from sklearn.ensemble import RandomForestRegressor,IsolationForest,ExtraTreesRegressor,GradientBoostingRegressor\n",
    "\n",
    "from sklearn import preprocessing\n",
    "import scoring as score # para hacer los reportes de puntajes\n",
    "from time import time\n",
    "\n",
    "import jupyternotify\n",
    "ip = get_ipython()\n",
    "ip.register_magics(jupyternotify.JupyterNotifyMagics)\n",
    "\n",
    "import scoring as score # para hacer los reportes de puntajes\n",
    "\n",
    "properati = pd.read_csv('datos/properati_final_y_descripcion.csv')\n",
    "zonas = pd.read_csv('datos/todos_los_barrios.csv')\n",
    "\n",
    "tipo_puntaje=\"r2\"\n",
    "iteraciones_de_searchs=20\n",
    "cv=5"
   ]
  },
  {
   "cell_type": "markdown",
   "metadata": {},
   "source": [
    "# Preprocesamiento"
   ]
  },
  {
   "cell_type": "code",
   "execution_count": 5,
   "metadata": {},
   "outputs": [
    {
     "name": "stderr",
     "output_type": "stream",
     "text": [
      "/usr/local/lib/python2.7/dist-packages/sklearn/preprocessing/label.py:95: DataConversionWarning: A column-vector y was passed when a 1d array was expected. Please change the shape of y to (n_samples, ), for example using ravel().\n",
      "  y = column_or_1d(y, warn=True)\n"
     ]
    }
   ],
   "source": [
    "#paso features con strings a numericos\n",
    "le_zona = preprocessing.LabelEncoder()\n",
    "properati['state_name'] =le_zona.fit_transform(properati['state_name'])\n",
    "\n",
    "le_barrio = preprocessing.LabelEncoder()\n",
    "le_barrio.fit(zonas.values)\n",
    "properati['place_name'] = le_barrio.transform(properati['place_name'])\n",
    "\n",
    "le_tipo = preprocessing.LabelEncoder()\n",
    "properati['property_type'] = le_tipo.fit_transform(properati['property_type'])"
   ]
  },
  {
   "cell_type": "code",
   "execution_count": 6,
   "metadata": {},
   "outputs": [
    {
     "name": "stdout",
     "output_type": "stream",
     "text": [
      "133183\n",
      "132784\n"
     ]
    }
   ],
   "source": [
    "properati=properati.loc[properati.price_aprox_usd<1e6]\n",
    "properati=properati.loc[properati.surface_covered_in_m2<7000]\n",
    "print len(properati)\n",
    "properati=properati.groupby(\"place_name\").filter(lambda x: len(x)>5)\n",
    "print len(properati)"
   ]
  },
  {
   "cell_type": "code",
   "execution_count": 7,
   "metadata": {},
   "outputs": [
    {
     "name": "stdout",
     "output_type": "stream",
     "text": [
      "<class 'pandas.core.frame.DataFrame'>\n",
      "Int64Index: 132784 entries, 0 to 136351\n",
      "Data columns (total 24 columns):\n",
      "surface_total_in_m2      132784 non-null float64\n",
      "surface_covered_in_m2    132784 non-null float64\n",
      "place_name               132784 non-null int64\n",
      "property_type            132784 non-null int64\n",
      "cochera                  132784 non-null bool\n",
      "comedor                  132784 non-null bool\n",
      "living                   132784 non-null bool\n",
      "lavadero                 132784 non-null bool\n",
      "terraza                  132784 non-null bool\n",
      "hall                     132784 non-null bool\n",
      "placard                  132784 non-null bool\n",
      "balcon                   132784 non-null bool\n",
      "parrilla                 132784 non-null bool\n",
      "aire                     132784 non-null bool\n",
      "patio                    132784 non-null bool\n",
      "pileta                   132784 non-null bool\n",
      "mesada                   132784 non-null bool\n",
      "parque                   132784 non-null bool\n",
      "quincho                  132784 non-null bool\n",
      "escalera                 132784 non-null bool\n",
      "monoambiente             132784 non-null bool\n",
      "caldera                  132784 non-null bool\n",
      "solarium                 132784 non-null bool\n",
      "duplex                   132784 non-null bool\n",
      "dtypes: bool(20), float64(2), int64(2)\n",
      "memory usage: 7.6 MB\n"
     ]
    }
   ],
   "source": [
    "#preparo set de datos\n",
    "#X = zip(properati['surface_total_in_m2'],\\\n",
    "       # properati['surface_covered_in_m2'],properati['place_name'],properati[\"cochera\"],properati[\"lavadero\"],properati[\"patio\"],properati[\"terraza\"],properati[\"hall\"]\\\n",
    "        #,properati[\"lavadero\"])\n",
    "        #properati['surface_covered_in_m2'],properati['place_name'])\n",
    "originales=[\"surface_total_in_m2\",\"surface_covered_in_m2\",\"place_name\",\"property_type\"]\n",
    "features_nuevas=[\"cochera\",\"comedor\",\"living\",\"lavadero\",\"terraza\",\"hall\",\"placard\",\"balcon\",\"parrilla\",\"aire\",\"patio\",\"pileta\"\\\n",
    "                ,\"mesada\",\"parque\",\"quincho\",\"escalera\",\"monoambiente\",\"caldera\",\"solarium\",\"duplex\"]\n",
    "columnas=originales+features_nuevas\n",
    "X= properati.loc[:,columnas]    \n",
    "y = properati[\"price_aprox_usd\"]\n",
    "X.info()"
   ]
  },
  {
   "cell_type": "code",
   "execution_count": 8,
   "metadata": {
    "collapsed": true
   },
   "outputs": [],
   "source": [
    "X_train, X_test, y_train, y_test = train_test_split(\n",
    "    X, y, test_size=0.2)"
   ]
  },
  {
   "cell_type": "markdown",
   "metadata": {},
   "source": [
    "# XGBoost"
   ]
  },
  {
   "cell_type": "code",
   "execution_count": 40,
   "metadata": {},
   "outputs": [
    {
     "name": "stdout",
     "output_type": "stream",
     "text": [
      "GridSearchCV duro 192.53 segundos para 20 candidatos a hiper-parametros.\n",
      "\n",
      "Puesto: 1\n",
      "Promedio training score: 0.816 (std: 0.001)\n",
      "Promedio validation score: 0.802 (std: 0.003)\n",
      "Promedio fit time: 1.504s\n",
      "Hiper-parametros: {'subsample': 1, 'learning_rate': 0.69999999999999996, 'gamma': 0.30000000000000004, 'min_child_weight': 3}\n",
      "\n",
      "Puesto: 1\n",
      "Promedio training score: 0.816 (std: 0.001)\n",
      "Promedio validation score: 0.802 (std: 0.003)\n",
      "Promedio fit time: 1.448s\n",
      "Hiper-parametros: {'subsample': 1, 'learning_rate': 0.69999999999999996, 'gamma': 0.5, 'min_child_weight': 3}\n",
      "\n",
      "Puesto: 3\n",
      "Promedio training score: 0.815 (std: 0.001)\n",
      "Promedio validation score: 0.800 (std: 0.003)\n",
      "Promedio fit time: 1.708s\n",
      "Hiper-parametros: {'subsample': 1, 'learning_rate': 0.69999999999999996, 'gamma': 0.40000000000000002, 'min_child_weight': 1}\n",
      "\n",
      "Puesto: 3\n",
      "Promedio training score: 0.815 (std: 0.001)\n",
      "Promedio validation score: 0.800 (std: 0.003)\n",
      "Promedio fit time: 1.466s\n",
      "Hiper-parametros: {'subsample': 1, 'learning_rate': 0.69999999999999996, 'gamma': 0.80000000000000004, 'min_child_weight': 1}\n",
      "\n",
      "Puesto: 5\n",
      "Promedio training score: 0.818 (std: 0.002)\n",
      "Promedio validation score: 0.800 (std: 0.003)\n",
      "Promedio fit time: 1.611s\n",
      "Hiper-parametros: {'subsample': 1, 'learning_rate': 0.90000000000000013, 'gamma': 0.10000000000000001, 'min_child_weight': 3}\n",
      "\n",
      "Puesto: 5\n",
      "Promedio training score: 0.818 (std: 0.002)\n",
      "Promedio validation score: 0.800 (std: 0.003)\n",
      "Promedio fit time: 1.559s\n",
      "Hiper-parametros: {'subsample': 1, 'learning_rate': 0.90000000000000013, 'gamma': 0.80000000000000004, 'min_child_weight': 3}\n",
      "\n",
      "Puesto: 5\n",
      "Promedio training score: 0.818 (std: 0.002)\n",
      "Promedio validation score: 0.800 (std: 0.003)\n",
      "Promedio fit time: 1.636s\n",
      "Hiper-parametros: {'subsample': 1, 'learning_rate': 0.90000000000000013, 'gamma': 0.20000000000000001, 'min_child_weight': 3}\n",
      "\n",
      "Puesto: 8\n",
      "Promedio training score: 0.809 (std: 0.001)\n",
      "Promedio validation score: 0.798 (std: 0.004)\n",
      "Promedio fit time: 1.780s\n",
      "Hiper-parametros: {'subsample': 1, 'learning_rate': 0.5, 'gamma': 0.80000000000000004, 'min_child_weight': 3}\n",
      "\n",
      "Puesto: 9\n",
      "Promedio training score: 0.817 (std: 0.002)\n",
      "Promedio validation score: 0.797 (std: 0.004)\n",
      "Promedio fit time: 2.122s\n",
      "Hiper-parametros: {'subsample': 1, 'learning_rate': 0.90000000000000013, 'gamma': 0.30000000000000004, 'min_child_weight': 1}\n",
      "\n",
      "Puesto: 9\n",
      "Promedio training score: 0.817 (std: 0.002)\n",
      "Promedio validation score: 0.797 (std: 0.004)\n",
      "Promedio fit time: 1.831s\n",
      "Hiper-parametros: {'subsample': 1, 'learning_rate': 0.90000000000000013, 'gamma': 0.5, 'min_child_weight': 1}\n",
      "\n",
      "Puesto: 9\n",
      "Promedio training score: 0.817 (std: 0.002)\n",
      "Promedio validation score: 0.797 (std: 0.004)\n",
      "Promedio fit time: 1.805s\n",
      "Hiper-parametros: {'subsample': 1, 'learning_rate': 0.90000000000000013, 'gamma': 0.10000000000000001, 'min_child_weight': 1}\n",
      "\n",
      "Puesto: 9\n",
      "Promedio training score: 0.817 (std: 0.002)\n",
      "Promedio validation score: 0.797 (std: 0.004)\n",
      "Promedio fit time: 1.719s\n",
      "Hiper-parametros: {'subsample': 1, 'learning_rate': 0.90000000000000013, 'gamma': 0.20000000000000001, 'min_child_weight': 1}\n",
      "\n",
      "Puesto: 9\n",
      "Promedio training score: 0.817 (std: 0.002)\n",
      "Promedio validation score: 0.797 (std: 0.004)\n",
      "Promedio fit time: 1.451s\n",
      "Hiper-parametros: {'subsample': 1, 'learning_rate': 0.90000000000000013, 'gamma': 0.59999999999999998, 'min_child_weight': 1}\n",
      "\n"
     ]
    },
    {
     "data": {
      "application/javascript": [
       "$(document).ready(\n",
       "    function() {\n",
       "        function appendUniqueDiv(){\n",
       "            // append a div with our uuid so we can check that it's already\n",
       "            // been sent and avoid duplicates on page reload\n",
       "            var notifiedDiv = document.createElement(\"div\")\n",
       "            notifiedDiv.id = \"128aeff2-44d4-41c4-ba9c-f6321a70de2b\"\n",
       "            element.append(notifiedDiv)\n",
       "        }\n",
       "\n",
       "        // only send notifications if the pageload is complete; this will\n",
       "        // help stop extra notifications when a saved notebook is loaded,\n",
       "        // which during testing gives us state \"interactive\", not \"complete\"\n",
       "        if (document.readyState === 'complete') {\n",
       "            // check for the div that signifies that the notification\n",
       "            // was already sent\n",
       "            if (document.getElementById(\"128aeff2-44d4-41c4-ba9c-f6321a70de2b\") === null) {\n",
       "                var notificationPayload = {\"body\": \"Cell Execution Has Finished!!\", \"requireInteraction\": false, \"icon\": \"/static/base/images/favicon.ico\"};\n",
       "                if (Notification.permission !== 'denied') {\n",
       "                    if (Notification.permission !== 'granted') { \n",
       "                        Notification.requestPermission(function (permission) {\n",
       "                            if(!('permission' in Notification)) {\n",
       "                                Notification.permission = permission\n",
       "                            }\n",
       "                            if (Notification.permission === 'granted') {\n",
       "                                var notification = new Notification(\"Jupyter Notebook\", notificationPayload)\n",
       "                                appendUniqueDiv()\n",
       "                            }\n",
       "                        })\n",
       "                    } else if (Notification.permission === 'granted') {\n",
       "                        var notification = new Notification(\"Jupyter Notebook\", notificationPayload)\n",
       "                        appendUniqueDiv()\n",
       "                    }\n",
       "                }\n",
       "            }\n",
       "        }\n",
       "    }\n",
       ")\n"
      ],
      "text/plain": [
       "<IPython.core.display.Javascript object>"
      ]
     },
     "metadata": {},
     "output_type": "display_data"
    }
   ],
   "source": [
    "%%notify\n",
    "from xgboost import XGBRegressor\n",
    "xgb= XGBRegressor(nthread=-1)\n",
    "\n",
    "learning_rate=np.arange(0.3,0.9,0.2)\n",
    "gamma = np.arange(0.1,0.9,0.1)\n",
    "subsample = [1]\n",
    "\n",
    "param_grid = {\"learning_rate\": learning_rate,'min_child_weight':[1,3],'gamma':gamma,'subsample':subsample}\n",
    "\n",
    "search = RandomizedSearchCV(xgb, param_distributions=param_grid ,cv=cv,n_iter=iteraciones_de_searchs,scoring=tipo_puntaje) \n",
    "start = time()\n",
    "search.fit(X_train, y_train)\n",
    "\n",
    "print(\"GridSearchCV duro %.2f segundos para %d candidatos a hiper-parametros.\"\n",
    "    % (time() - start, len(search.cv_results_['params'])))\n",
    "print(\"\")\n",
    "score.report_single(search.cv_results_)"
   ]
  },
  {
   "cell_type": "code",
   "execution_count": 41,
   "metadata": {
    "collapsed": true
   },
   "outputs": [],
   "source": [
    "xgboost = search.best_estimator_"
   ]
  },
  {
   "cell_type": "markdown",
   "metadata": {},
   "source": [
    "# RF"
   ]
  },
  {
   "cell_type": "code",
   "execution_count": null,
   "metadata": {
    "collapsed": true
   },
   "outputs": [],
   "source": [
    "%%notify\n",
    "\n",
    "rf = RandomForestRegressor(n_jobs=-1)\n",
    "\n",
    "criterion = ['mse']\n",
    "max_features =[\"auto\",None]\n",
    "n_estimators = np.arange(40,100,5)\n",
    "\n",
    "X_train, X_test, y_train, y_test = train_test_split(\n",
    "    X, y, test_size=0.2)\n",
    "\n",
    "param_grid = {\"criterion\": criterion,\"max_features\":max_features,\"n_estimators\":n_estimators}\n",
    "\n",
    "search = RandomizedSearchCV(rf, param_distributions=param_grid ,cv=cv,n_iter=iteraciones_de_searchs,scoring=tipo_puntaje) #refit deja el estimador fiteado con los mejores hiperparametros\n",
    "start = time()\n",
    "search.fit(X_train, y_train)\n",
    "\n",
    "print(\"GridSearchCV duro %.2f segundos para %d candidatos a hiper-parametros.\"\n",
    "    % (time() - start, len(search.cv_results_['params'])))\n",
    "print(\"\")\n",
    "score.report_single(search.cv_results_)"
   ]
  },
  {
   "cell_type": "markdown",
   "metadata": {},
   "source": [
    "## Grid Search"
   ]
  },
  {
   "cell_type": "code",
   "execution_count": 42,
   "metadata": {},
   "outputs": [
    {
     "name": "stdout",
     "output_type": "stream",
     "text": [
      "GridSearchCV duro 173.47 segundos para 4 candidatos a hiper-parametros.\n",
      "\n",
      "Puesto: 1\n",
      "Promedio training score: 0.973 (std: 0.000)\n",
      "Promedio validation score: 0.824 (std: 0.003)\n",
      "Promedio fit time: 7.651s\n",
      "Hiper-parametros: {'max_features': None, 'n_estimators': 65, 'criterion': 'mse'}\n",
      "\n",
      "Puesto: 2\n",
      "Promedio training score: 0.973 (std: 0.000)\n",
      "Promedio validation score: 0.823 (std: 0.003)\n",
      "Promedio fit time: 7.340s\n",
      "Hiper-parametros: {'max_features': None, 'n_estimators': 60, 'criterion': 'mse'}\n",
      "\n",
      "Puesto: 3\n",
      "Promedio training score: 0.973 (std: 0.000)\n",
      "Promedio validation score: 0.823 (std: 0.003)\n",
      "Promedio fit time: 6.510s\n",
      "Hiper-parametros: {'max_features': None, 'n_estimators': 55, 'criterion': 'mse'}\n",
      "\n",
      "Puesto: 4\n",
      "Promedio training score: 0.973 (std: 0.000)\n",
      "Promedio validation score: 0.823 (std: 0.003)\n",
      "Promedio fit time: 6.437s\n",
      "Hiper-parametros: {'max_features': None, 'n_estimators': 50, 'criterion': 'mse'}\n",
      "\n"
     ]
    },
    {
     "data": {
      "application/javascript": [
       "$(document).ready(\n",
       "    function() {\n",
       "        function appendUniqueDiv(){\n",
       "            // append a div with our uuid so we can check that it's already\n",
       "            // been sent and avoid duplicates on page reload\n",
       "            var notifiedDiv = document.createElement(\"div\")\n",
       "            notifiedDiv.id = \"42bb8b21-6c09-45da-a02a-cb13fcadf42d\"\n",
       "            element.append(notifiedDiv)\n",
       "        }\n",
       "\n",
       "        // only send notifications if the pageload is complete; this will\n",
       "        // help stop extra notifications when a saved notebook is loaded,\n",
       "        // which during testing gives us state \"interactive\", not \"complete\"\n",
       "        if (document.readyState === 'complete') {\n",
       "            // check for the div that signifies that the notification\n",
       "            // was already sent\n",
       "            if (document.getElementById(\"42bb8b21-6c09-45da-a02a-cb13fcadf42d\") === null) {\n",
       "                var notificationPayload = {\"body\": \"Cell Execution Has Finished!!\", \"requireInteraction\": false, \"icon\": \"/static/base/images/favicon.ico\"};\n",
       "                if (Notification.permission !== 'denied') {\n",
       "                    if (Notification.permission !== 'granted') { \n",
       "                        Notification.requestPermission(function (permission) {\n",
       "                            if(!('permission' in Notification)) {\n",
       "                                Notification.permission = permission\n",
       "                            }\n",
       "                            if (Notification.permission === 'granted') {\n",
       "                                var notification = new Notification(\"Jupyter Notebook\", notificationPayload)\n",
       "                                appendUniqueDiv()\n",
       "                            }\n",
       "                        })\n",
       "                    } else if (Notification.permission === 'granted') {\n",
       "                        var notification = new Notification(\"Jupyter Notebook\", notificationPayload)\n",
       "                        appendUniqueDiv()\n",
       "                    }\n",
       "                }\n",
       "            }\n",
       "        }\n",
       "    }\n",
       ")\n"
      ],
      "text/plain": [
       "<IPython.core.display.Javascript object>"
      ]
     },
     "metadata": {},
     "output_type": "display_data"
    }
   ],
   "source": [
    "%%notify\n",
    "\n",
    "rf = RandomForestRegressor(n_jobs=-1)\n",
    "\n",
    "criterion = ['mse']\n",
    "max_features =[None]\n",
    "n_estimators = np.arange(50,70,5)\n",
    "\n",
    "param_grid = {\"criterion\": criterion,\"max_features\":max_features,\"n_estimators\":n_estimators}\n",
    "\n",
    "search = GridSearchCV(rf, param_grid=param_grid ,cv=cv,scoring=tipo_puntaje) #refit deja el estimador fiteado con los mejores hiperparametros\n",
    "start = time()\n",
    "search.fit(X_train, y_train)\n",
    "\n",
    "print(\"GridSearchCV duro %.2f segundos para %d candidatos a hiper-parametros.\"\n",
    "    % (time() - start, len(search.cv_results_['params'])))\n",
    "print(\"\")\n",
    "score.report_single(search.cv_results_)"
   ]
  },
  {
   "cell_type": "code",
   "execution_count": 43,
   "metadata": {
    "collapsed": true
   },
   "outputs": [],
   "source": [
    "rf= search.best_estimator_"
   ]
  },
  {
   "cell_type": "code",
   "execution_count": 44,
   "metadata": {},
   "outputs": [
    {
     "data": {
      "text/plain": [
       "array([  7.83724881e-02,   6.39645009e-01,   9.56288937e-02,\n",
       "         6.42328130e-02,   1.90092278e-02,   5.10117766e-03,\n",
       "         5.42251320e-03,   6.37993662e-03,   6.54608450e-03,\n",
       "         1.15905632e-02,   5.41784331e-03,   4.13065413e-03,\n",
       "         7.11902960e-03,   6.41074070e-03,   8.25349991e-03,\n",
       "         7.72396258e-03,   4.11086618e-03,   5.07406171e-03,\n",
       "         5.18615437e-03,   3.81012338e-03,   4.81623621e-04,\n",
       "         3.25339632e-03,   5.30332975e-03,   1.79600786e-03])"
      ]
     },
     "execution_count": 44,
     "metadata": {},
     "output_type": "execute_result"
    }
   ],
   "source": [
    "rf.feature_importances_"
   ]
  },
  {
   "cell_type": "markdown",
   "metadata": {},
   "source": [
    "# ETR"
   ]
  },
  {
   "cell_type": "code",
   "execution_count": 45,
   "metadata": {},
   "outputs": [
    {
     "name": "stdout",
     "output_type": "stream",
     "text": [
      "GridSearchCV duro 529.91 segundos para 12 candidatos a hiper-parametros.\n",
      "\n",
      "Puesto: 1\n",
      "Promedio training score: 0.998 (std: 0.000)\n",
      "Promedio validation score: 0.799 (std: 0.001)\n",
      "Promedio fit time: 8.393s\n",
      "Hiper-parametros: {'n_estimators': 80}\n",
      "\n",
      "Puesto: 2\n",
      "Promedio training score: 0.998 (std: 0.000)\n",
      "Promedio validation score: 0.799 (std: 0.001)\n",
      "Promedio fit time: 8.857s\n",
      "Hiper-parametros: {'n_estimators': 85}\n",
      "\n",
      "Puesto: 3\n",
      "Promedio training score: 0.998 (std: 0.000)\n",
      "Promedio validation score: 0.799 (std: 0.001)\n",
      "Promedio fit time: 9.202s\n",
      "Hiper-parametros: {'n_estimators': 90}\n",
      "\n",
      "Puesto: 4\n",
      "Promedio training score: 0.998 (std: 0.000)\n",
      "Promedio validation score: 0.799 (std: 0.001)\n",
      "Promedio fit time: 9.649s\n",
      "Hiper-parametros: {'n_estimators': 95}\n",
      "\n",
      "Puesto: 5\n",
      "Promedio training score: 0.998 (std: 0.000)\n",
      "Promedio validation score: 0.798 (std: 0.001)\n",
      "Promedio fit time: 7.580s\n",
      "Hiper-parametros: {'n_estimators': 70}\n",
      "\n",
      "Puesto: 6\n",
      "Promedio training score: 0.998 (std: 0.000)\n",
      "Promedio validation score: 0.798 (std: 0.001)\n",
      "Promedio fit time: 7.108s\n",
      "Hiper-parametros: {'n_estimators': 65}\n",
      "\n",
      "Puesto: 7\n",
      "Promedio training score: 0.998 (std: 0.000)\n",
      "Promedio validation score: 0.798 (std: 0.001)\n",
      "Promedio fit time: 7.754s\n",
      "Hiper-parametros: {'n_estimators': 75}\n",
      "\n",
      "Puesto: 8\n",
      "Promedio training score: 0.998 (std: 0.000)\n",
      "Promedio validation score: 0.797 (std: 0.001)\n",
      "Promedio fit time: 6.153s\n",
      "Hiper-parametros: {'n_estimators': 55}\n",
      "\n",
      "Puesto: 9\n",
      "Promedio training score: 0.998 (std: 0.000)\n",
      "Promedio validation score: 0.797 (std: 0.001)\n",
      "Promedio fit time: 6.568s\n",
      "Hiper-parametros: {'n_estimators': 60}\n",
      "\n",
      "Puesto: 10\n",
      "Promedio training score: 0.998 (std: 0.000)\n",
      "Promedio validation score: 0.797 (std: 0.002)\n",
      "Promedio fit time: 5.713s\n",
      "Hiper-parametros: {'n_estimators': 50}\n",
      "\n"
     ]
    },
    {
     "data": {
      "application/javascript": [
       "$(document).ready(\n",
       "    function() {\n",
       "        function appendUniqueDiv(){\n",
       "            // append a div with our uuid so we can check that it's already\n",
       "            // been sent and avoid duplicates on page reload\n",
       "            var notifiedDiv = document.createElement(\"div\")\n",
       "            notifiedDiv.id = \"6a0e84ef-6329-41ca-881a-175b2155b451\"\n",
       "            element.append(notifiedDiv)\n",
       "        }\n",
       "\n",
       "        // only send notifications if the pageload is complete; this will\n",
       "        // help stop extra notifications when a saved notebook is loaded,\n",
       "        // which during testing gives us state \"interactive\", not \"complete\"\n",
       "        if (document.readyState === 'complete') {\n",
       "            // check for the div that signifies that the notification\n",
       "            // was already sent\n",
       "            if (document.getElementById(\"6a0e84ef-6329-41ca-881a-175b2155b451\") === null) {\n",
       "                var notificationPayload = {\"body\": \"Cell Execution Has Finished!!\", \"requireInteraction\": false, \"icon\": \"/static/base/images/favicon.ico\"};\n",
       "                if (Notification.permission !== 'denied') {\n",
       "                    if (Notification.permission !== 'granted') { \n",
       "                        Notification.requestPermission(function (permission) {\n",
       "                            if(!('permission' in Notification)) {\n",
       "                                Notification.permission = permission\n",
       "                            }\n",
       "                            if (Notification.permission === 'granted') {\n",
       "                                var notification = new Notification(\"Jupyter Notebook\", notificationPayload)\n",
       "                                appendUniqueDiv()\n",
       "                            }\n",
       "                        })\n",
       "                    } else if (Notification.permission === 'granted') {\n",
       "                        var notification = new Notification(\"Jupyter Notebook\", notificationPayload)\n",
       "                        appendUniqueDiv()\n",
       "                    }\n",
       "                }\n",
       "            }\n",
       "        }\n",
       "    }\n",
       ")\n"
      ],
      "text/plain": [
       "<IPython.core.display.Javascript object>"
      ]
     },
     "metadata": {},
     "output_type": "display_data"
    }
   ],
   "source": [
    "%%notify\n",
    "\n",
    "etr = ExtraTreesRegressor(n_jobs=-1)\n",
    "\n",
    "n_estimators = np.arange(40,100,5)\n",
    "\n",
    "param_grid = {\"n_estimators\":n_estimators}\n",
    "\n",
    "search = GridSearchCV(etr, param_grid=param_grid ,cv=cv,scoring=tipo_puntaje) #refit deja el estimador fiteado con los mejores hiperparametros\n",
    "start = time()\n",
    "search.fit(X_train, y_train)\n",
    "\n",
    "print(\"GridSearchCV duro %.2f segundos para %d candidatos a hiper-parametros.\"\n",
    "    % (time() - start, len(search.cv_results_['params'])))\n",
    "print(\"\")\n",
    "score.report_single(search.cv_results_)"
   ]
  },
  {
   "cell_type": "code",
   "execution_count": 46,
   "metadata": {
    "collapsed": true
   },
   "outputs": [],
   "source": [
    "etr= search.best_estimator_"
   ]
  },
  {
   "cell_type": "code",
   "execution_count": 47,
   "metadata": {},
   "outputs": [
    {
     "data": {
      "text/plain": [
       "array([ 0.1025775 ,  0.38431277,  0.06099997,  0.11601939,  0.02768446,\n",
       "        0.01194931,  0.00912856,  0.03998314,  0.01297916,  0.03836263,\n",
       "        0.01192696,  0.009114  ,  0.01586781,  0.01221404,  0.01458539,\n",
       "        0.06537316,  0.01058924,  0.01012385,  0.00990585,  0.00781894,\n",
       "        0.00793403,  0.00632625,  0.0085098 ,  0.0057138 ])"
      ]
     },
     "execution_count": 47,
     "metadata": {},
     "output_type": "execute_result"
    }
   ],
   "source": [
    "etr.feature_importances_"
   ]
  },
  {
   "cell_type": "code",
   "execution_count": 56,
   "metadata": {},
   "outputs": [
    {
     "data": {
      "text/plain": [
       "0.81651248817297262"
      ]
     },
     "execution_count": 56,
     "metadata": {},
     "output_type": "execute_result"
    }
   ],
   "source": [
    "etr.scoreore(X_test,y_test)"
   ]
  },
  {
   "cell_type": "markdown",
   "metadata": {},
   "source": [
    "## Lineales"
   ]
  },
  {
   "cell_type": "code",
   "execution_count": 2,
   "metadata": {},
   "outputs": [],
   "source": [
    "from sklearn.linear_model import Lasso,Ridge"
   ]
  },
  {
   "cell_type": "code",
   "execution_count": 9,
   "metadata": {},
   "outputs": [
    {
     "data": {
      "text/plain": [
       "0.46498378198933171"
      ]
     },
     "execution_count": 9,
     "metadata": {},
     "output_type": "execute_result"
    }
   ],
   "source": [
    "lasso=Lasso()\n",
    "lasso.fit(X_train,y_train)\n",
    "lasso.score(X_test,y_test)"
   ]
  },
  {
   "cell_type": "code",
   "execution_count": 10,
   "metadata": {},
   "outputs": [
    {
     "data": {
      "text/plain": [
       "0.4649833332184411"
      ]
     },
     "execution_count": 10,
     "metadata": {},
     "output_type": "execute_result"
    }
   ],
   "source": [
    "ridge=Ridge()\n",
    "ridge.fit(X_train,y_train)\n",
    "ridge.score(X_test,y_test)"
   ]
  },
  {
   "cell_type": "markdown",
   "metadata": {},
   "source": [
    "# Ensamble"
   ]
  },
  {
   "cell_type": "code",
   "execution_count": 48,
   "metadata": {
    "collapsed": true
   },
   "outputs": [],
   "source": [
    "from mlxtend.regressor import StackingRegressor\n",
    "\n",
    "ensamble = StackingRegressor(regressors=[rf,etr,lasso,ridge], \n",
    "                           meta_regressor=xgb)"
   ]
  },
  {
   "cell_type": "code",
   "execution_count": 49,
   "metadata": {},
   "outputs": [
    {
     "data": {
      "text/plain": [
       "StackingRegressor(meta_regressor=XGBRegressor(base_score=0.5, colsample_bylevel=1, colsample_bytree=1, gamma=0,\n",
       "       learning_rate=0.1, max_delta_step=0, max_depth=3,\n",
       "       min_child_weight=1, missing=None, n_estimators=100, nthread=-1,\n",
       "       objective='reg:linear', reg_alpha=0, reg_lambda=1,\n",
       "       scale_pos_weight=1, seed=0, silent=True, subsample=1),\n",
       "         regressors=[RandomForestRegressor(bootstrap=True, criterion='mse', max_depth=None,\n",
       "           max_features=None, max_leaf_nodes=None,\n",
       "           min_impurity_decrease=0.0, min_impurity_split=None,\n",
       "           min_samples_leaf=1, min_samples_split=2,\n",
       "           min_weight_fraction_leaf=0.0, n_estimato...stimators=80, n_jobs=-1,\n",
       "          oob_score=False, random_state=None, verbose=0, warm_start=False)],\n",
       "         verbose=0)"
      ]
     },
     "execution_count": 49,
     "metadata": {},
     "output_type": "execute_result"
    },
    {
     "data": {
      "application/javascript": [
       "$(document).ready(\n",
       "    function() {\n",
       "        function appendUniqueDiv(){\n",
       "            // append a div with our uuid so we can check that it's already\n",
       "            // been sent and avoid duplicates on page reload\n",
       "            var notifiedDiv = document.createElement(\"div\")\n",
       "            notifiedDiv.id = \"e4c41655-f057-40b8-839f-96347d843466\"\n",
       "            element.append(notifiedDiv)\n",
       "        }\n",
       "\n",
       "        // only send notifications if the pageload is complete; this will\n",
       "        // help stop extra notifications when a saved notebook is loaded,\n",
       "        // which during testing gives us state \"interactive\", not \"complete\"\n",
       "        if (document.readyState === 'complete') {\n",
       "            // check for the div that signifies that the notification\n",
       "            // was already sent\n",
       "            if (document.getElementById(\"e4c41655-f057-40b8-839f-96347d843466\") === null) {\n",
       "                var notificationPayload = {\"body\": \"Cell Execution Has Finished!!\", \"requireInteraction\": false, \"icon\": \"/static/base/images/favicon.ico\"};\n",
       "                if (Notification.permission !== 'denied') {\n",
       "                    if (Notification.permission !== 'granted') { \n",
       "                        Notification.requestPermission(function (permission) {\n",
       "                            if(!('permission' in Notification)) {\n",
       "                                Notification.permission = permission\n",
       "                            }\n",
       "                            if (Notification.permission === 'granted') {\n",
       "                                var notification = new Notification(\"Jupyter Notebook\", notificationPayload)\n",
       "                                appendUniqueDiv()\n",
       "                            }\n",
       "                        })\n",
       "                    } else if (Notification.permission === 'granted') {\n",
       "                        var notification = new Notification(\"Jupyter Notebook\", notificationPayload)\n",
       "                        appendUniqueDiv()\n",
       "                    }\n",
       "                }\n",
       "            }\n",
       "        }\n",
       "    }\n",
       ")\n"
      ],
      "text/plain": [
       "<IPython.core.display.Javascript object>"
      ]
     },
     "metadata": {},
     "output_type": "display_data"
    }
   ],
   "source": [
    "%%notify\n",
    "ensamble.fit(X_train,y_train)"
   ]
  },
  {
   "cell_type": "code",
   "execution_count": 50,
   "metadata": {},
   "outputs": [
    {
     "data": {
      "text/plain": [
       "0.81675992245466844"
      ]
     },
     "execution_count": 50,
     "metadata": {},
     "output_type": "execute_result"
    }
   ],
   "source": [
    "ensamble.score(X_test,y_test)"
   ]
  },
  {
   "cell_type": "code",
   "execution_count": 51,
   "metadata": {},
   "outputs": [
    {
     "name": "stdout",
     "output_type": "stream",
     "text": [
      "Error maximo:860407.6875\n",
      "Error minimo:0.34375\n",
      "Con % \n",
      "Error maximo:11875.3989583%\n",
      "Error minimo:0.000366071428571%\n",
      "7289        8144.492188\n",
      "32437    -123436.250000\n",
      "74570      32834.281250\n",
      "62118       1515.750000\n",
      "32002     -24489.671875\n",
      "104773     15339.140625\n",
      "7654       25830.957031\n",
      "59082      11401.523438\n",
      "120670     -1485.937500\n",
      "26189      57991.625000\n",
      "32701       -730.546875\n",
      "45741        470.812500\n",
      "10458     -20013.250000\n",
      "51937       5507.320312\n",
      "65439     -65251.140625\n",
      "50809     -17905.078125\n",
      "43894     -17119.656250\n",
      "51308       -433.375000\n",
      "52880      45434.875000\n",
      "68709    -611625.187500\n",
      "83652        573.156250\n",
      "105896     17945.437500\n",
      "8426       62533.867188\n",
      "21807     -96971.093750\n",
      "95500       -902.843750\n",
      "80359      50310.812500\n",
      "97124      40339.140625\n",
      "74297      40456.656250\n",
      "51500      -1558.843750\n",
      "46497       7959.343750\n",
      "              ...      \n",
      "61393    -206822.312500\n",
      "121150     51314.625000\n",
      "121080       150.687500\n",
      "25366      44032.750000\n",
      "46127     -26456.585938\n",
      "92024     -13550.042969\n",
      "35577        153.656250\n",
      "19746      47816.375000\n",
      "111277    -20019.210938\n",
      "128781     -1410.656250\n",
      "73393     -38272.968750\n",
      "70457          8.812500\n",
      "92408      -6383.062500\n",
      "46353       6032.968750\n",
      "62761      70368.484375\n",
      "54887     -55929.320312\n",
      "3903     -120904.812500\n",
      "37170       2055.781250\n",
      "114253     34566.625000\n",
      "44827      31855.515625\n",
      "19025    -113742.312500\n",
      "8904        1010.140625\n",
      "20367         17.511719\n",
      "61470     -26818.433594\n",
      "51873      50856.093750\n",
      "56741      18507.320312\n",
      "48018       -647.843750\n",
      "50986     -45839.406250\n",
      "75152      23355.531250\n",
      "121541      1544.429688\n",
      "Name: price_aprox_usd, Length: 26557, dtype: float64\n"
     ]
    }
   ],
   "source": [
    "errores = ensamble.predict(X_test)-y_test\n",
    "errores_porc = 100*((ensamble.predict(X_test)-y_test))/y_test\n",
    "print (\"Error maximo:{0}\\nError minimo:{1}\".format( max(abs(errores)),min(abs(errores))))\n",
    "print (\"Con % \\nError maximo:{0}%\\nError minimo:{1}%\".format( max(abs(errores_porc)),min(abs(errores_porc))))\n",
    "print(errores)"
   ]
  },
  {
   "cell_type": "code",
   "execution_count": 52,
   "metadata": {},
   "outputs": [
    {
     "name": "stdout",
     "output_type": "stream",
     "text": [
      "Hay 796 de 26557 que tienen mas de 100 % de error (2%)\n"
     ]
    }
   ],
   "source": [
    "count_max=0\n",
    "max_error=100\n",
    "lista=[]\n",
    "for error in errores_porc:\n",
    "    if error>max_error:\n",
    "        count_max+=1\n",
    "        lista.append(abs(errores_porc))\n",
    "print (\"Hay {0} de {1} que tienen mas de {2} % de error ({3}%)\".format(count_max,len(errores_porc),max_error,100 * count_max/len(errores_porc)))"
   ]
  },
  {
   "cell_type": "code",
   "execution_count": 53,
   "metadata": {},
   "outputs": [
    {
     "name": "stdout",
     "output_type": "stream",
     "text": [
      "Hay 5595 de 26557 que tienen mas de 20 % de error (21%)\n"
     ]
    }
   ],
   "source": [
    "count_max=0\n",
    "max_error=20\n",
    "lista=[]\n",
    "for error in errores_porc:\n",
    "    if error>max_error:\n",
    "        count_max+=1\n",
    "        lista.append(abs(errores_porc))\n",
    "print (\"Hay {0} de {1} que tienen mas de {2} % de error ({3}%)\".format(count_max,len(errores_porc),max_error,100 * count_max/len(errores_porc)))"
   ]
  },
  {
   "cell_type": "code",
   "execution_count": 54,
   "metadata": {},
   "outputs": [
    {
     "name": "stdout",
     "output_type": "stream",
     "text": [
      "Hay 7840 de 26557 que tienen mas de 10 % de error (29%)\n"
     ]
    }
   ],
   "source": [
    "count_max=0\n",
    "max_error=10\n",
    "lista=[]\n",
    "for error in errores_porc:\n",
    "    if error>max_error:\n",
    "        count_max+=1\n",
    "        lista.append(abs(errores_porc))\n",
    "print (\"Hay {0} de {1} que tienen mas de {2} % de error ({3}%)\".format(count_max,len(errores_porc),max_error,100 * count_max/len(errores_porc)))"
   ]
  },
  {
   "cell_type": "code",
   "execution_count": 55,
   "metadata": {},
   "outputs": [
    {
     "name": "stdout",
     "output_type": "stream",
     "text": [
      "Hay 9632 de 26557 que tienen mas de 5 % de error (36%)\n"
     ]
    }
   ],
   "source": [
    "count_max=0\n",
    "max_error=5\n",
    "lista=[]\n",
    "for error in errores_porc:\n",
    "    if error>max_error:\n",
    "        count_max+=1\n",
    "        lista.append(abs(errores_porc))\n",
    "print (\"Hay {0} de {1} que tienen mas de {2} % de error ({3}%)\".format(count_max,len(errores_porc),max_error,100 * count_max/len(errores_porc)))"
   ]
  },
  {
   "cell_type": "markdown",
   "metadata": {},
   "source": [
    "### Errores arriba del maximo. No esta funcionando se cuelga todo"
   ]
  },
  {
   "cell_type": "code",
   "execution_count": null,
   "metadata": {
    "collapsed": true
   },
   "outputs": [],
   "source": [
    "# the histogram of the data\n",
    "plt.figure(figsize=(12,8))\n",
    "plt.hist(lista, 500, facecolor='blue')\n",
    "plt.xlabel('Errores')\n",
    "plt.ylabel('Cantidad')\n",
    "#plt.xlim(-10000000, 10000000) #para variar el \"zoom a 0\"\n",
    "plt.yscale('log')\n",
    "plt.show()"
   ]
  },
  {
   "cell_type": "markdown",
   "metadata": {},
   "source": [
    "### Errores totales"
   ]
  },
  {
   "cell_type": "code",
   "execution_count": null,
   "metadata": {
    "collapsed": true
   },
   "outputs": [],
   "source": [
    "# the histogram of the data\n",
    "plt.figure(figsize=(12,8))\n",
    "plt.hist(errores, 500, facecolor='blue')\n",
    "plt.xlabel('Errores')\n",
    "plt.ylabel('Cantidad')\n",
    "#plt.xlim(-10000000, 10000000) #para variar el \"zoom a 0\"\n",
    "plt.yscale('log')\n",
    "plt.xscale('log')\n",
    "plt.show()"
   ]
  },
  {
   "cell_type": "markdown",
   "metadata": {},
   "source": [
    "# Kaggle"
   ]
  },
  {
   "cell_type": "code",
   "execution_count": 57,
   "metadata": {},
   "outputs": [
    {
     "name": "stdout",
     "output_type": "stream",
     "text": [
      "<class 'pandas.core.frame.DataFrame'>\n",
      "RangeIndex: 14166 entries, 0 to 14165\n",
      "Data columns (total 46 columns):\n",
      "id                         14166 non-null int64\n",
      "created_on                 14166 non-null object\n",
      "property_type              14166 non-null object\n",
      "operation                  14166 non-null object\n",
      "place_name                 14166 non-null object\n",
      "place_with_parent_names    14166 non-null object\n",
      "country_name               14166 non-null object\n",
      "state_name                 14166 non-null object\n",
      "lat-lon                    10487 non-null object\n",
      "lat                        10487 non-null float64\n",
      "lon                        10487 non-null float64\n",
      "surface_total_in_m2        14166 non-null float64\n",
      "surface_covered_in_m2      14166 non-null float64\n",
      "floor                      1368 non-null float64\n",
      "rooms                      7500 non-null float64\n",
      "expenses                   2543 non-null object\n",
      "description                14166 non-null object\n",
      "cochera                    14166 non-null bool\n",
      "comedor                    14166 non-null bool\n",
      "living                     14166 non-null bool\n",
      "amplio                     14166 non-null bool\n",
      "suite                      14166 non-null bool\n",
      "lavadero                   14166 non-null bool\n",
      "terraza                    14166 non-null bool\n",
      "hall                       14166 non-null bool\n",
      "placard                    14166 non-null bool\n",
      "balcon                     14166 non-null bool\n",
      "parrilla                   14166 non-null bool\n",
      "aire                       14166 non-null bool\n",
      "patio                      14166 non-null bool\n",
      "muebles                    14166 non-null bool\n",
      "pileta                     14166 non-null bool\n",
      "mesada                     14166 non-null bool\n",
      "parque                     14166 non-null bool\n",
      "quincho                    14166 non-null bool\n",
      "escalera                   14166 non-null bool\n",
      "chalet                     14166 non-null bool\n",
      "monoambiente               14166 non-null bool\n",
      "porcelanato                14166 non-null bool\n",
      "caldera                    14166 non-null bool\n",
      "solarium                   14166 non-null bool\n",
      "duplex                     14166 non-null bool\n",
      "cancha                     14166 non-null bool\n",
      "ascensor                   14166 non-null bool\n",
      "recepción                  14166 non-null bool\n",
      "vigilancia                 14166 non-null bool\n",
      "dtypes: bool(29), float64(6), int64(1), object(10)\n",
      "memory usage: 2.2+ MB\n"
     ]
    }
   ],
   "source": [
    "test_samples=pd.read_csv(\"datos/properati_dataset_testing_noprice_acondicionado.csv\")\n",
    "test_samples.info()"
   ]
  },
  {
   "cell_type": "code",
   "execution_count": 58,
   "metadata": {
    "collapsed": true
   },
   "outputs": [],
   "source": [
    "#paso features con strings a numericos\n",
    "\n",
    "test_samples['place_name'] = le_barrio.transform(test_samples['place_name'])\n",
    "\n",
    "test_samples['property_type'] = le_tipo.transform(test_samples['property_type'])"
   ]
  },
  {
   "cell_type": "code",
   "execution_count": 59,
   "metadata": {
    "collapsed": true
   },
   "outputs": [],
   "source": [
    "test= test_samples.loc[:,columnas]  "
   ]
  },
  {
   "cell_type": "code",
   "execution_count": 60,
   "metadata": {
    "collapsed": true
   },
   "outputs": [],
   "source": [
    "resultados = ensamble.predict(test)\n",
    "result=pd.DataFrame({'id':test_samples['id'],'price_usd':resultados})\n",
    "result.to_csv('datos/resultados.csv',index=False)"
   ]
  },
  {
   "cell_type": "code",
   "execution_count": null,
   "metadata": {
    "collapsed": true
   },
   "outputs": [],
   "source": []
  }
 ],
 "metadata": {
  "kernelspec": {
   "display_name": "Python 2",
   "language": "python",
   "name": "python2"
  },
  "language_info": {
   "codemirror_mode": {
    "name": "ipython",
    "version": 2
   },
   "file_extension": ".py",
   "mimetype": "text/x-python",
   "name": "python",
   "nbconvert_exporter": "python",
   "pygments_lexer": "ipython2",
   "version": "2.7.12"
  }
 },
 "nbformat": 4,
 "nbformat_minor": 2
}
