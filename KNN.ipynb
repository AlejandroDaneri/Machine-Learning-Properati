{
 "cells": [
  {
   "cell_type": "code",
   "execution_count": 9,
   "metadata": {},
   "outputs": [
    {
     "data": {
      "text/html": [
       "<style>.container { width:97% !important; }</style>"
      ],
      "text/plain": [
       "<IPython.core.display.HTML object>"
      ]
     },
     "metadata": {},
     "output_type": "display_data"
    },
    {
     "data": {
      "application/javascript": [
       "if (!(\"Notification\" in window)) {\n",
       "    alert(\"This browser does not support desktop notifications, so the %%notify magic will not work.\");\n",
       "} else if (Notification.permission !== 'granted' && Notification.permission !== 'denied') {\n",
       "    Notification.requestPermission(function (permission) {\n",
       "        if(!('permission' in Notification)) {\n",
       "            Notification.permission = permission;\n",
       "        }\n",
       "    })\n",
       "}\n"
      ],
      "text/plain": [
       "<IPython.core.display.Javascript object>"
      ]
     },
     "metadata": {},
     "output_type": "display_data"
    }
   ],
   "source": [
    "import pandas as pd\n",
    "import numpy as np\n",
    "import matplotlib.pyplot as plt\n",
    "import matplotlib as mp\n",
    "from sklearn.neighbors import NearestNeighbors\n",
    "properati = pd.read_csv('datos/properati_final.csv',error_bad_lines=False)\n",
    "from IPython.core.display import display, HTML\n",
    "display(HTML(\"<style>.container { width:97% !important; }</style>\"))\n",
    "\n",
    "from sklearn import preprocessing\n",
    "from sklearn.ensemble import RandomForestClassifier,RandomForestRegressor,IsolationForest\n",
    "from sklearn.preprocessing import RobustScaler  \n",
    "from sklearn.model_selection import GridSearchCV, RandomizedSearchCV, train_test_split\n",
    "\n",
    "import jupyternotify\n",
    "ip = get_ipython()\n",
    "ip.register_magics(jupyternotify.JupyterNotifyMagics)\n",
    "\n",
    "import scoring as score # para hacer los reportes de puntajes\n",
    "from time import time"
   ]
  },
  {
   "cell_type": "code",
   "execution_count": 10,
   "metadata": {},
   "outputs": [],
   "source": [
    "#paso features con strings a numericos\n",
    "le_barrio = preprocessing.LabelEncoder()\n",
    "barrios=properati['state_name']\n",
    "le_barrio.fit(barrios)\n",
    "properati['state_name'] = le_barrio.transform(barrios)\n",
    "#test_samples['state_name']=le_barrio.transform(test_samples['state_name'])\n",
    "\n",
    "le_zona = preprocessing.LabelEncoder()\n",
    "#zona=pd.concat([properati['place_name'],test_samples['place_name']])\n",
    "zona=properati['place_name']\n",
    "le_zona.fit(zona)\n",
    "properati['place_name'] = le_zona.transform(properati['place_name'])\n",
    "#test_samples['place_name'] = le_zona.transform(test_samples['place_name'])\n",
    "\n",
    "\n",
    "le_tipo = preprocessing.LabelEncoder()\n",
    "tipos_prop=properati['property_type']\n",
    "le_tipo.fit(tipos_prop)\n",
    "properati['property_type'] = le_tipo.transform(tipos_prop)\n",
    "#test_samples['property_type']=le_tipo.transform(test_samples['property_type'])"
   ]
  },
  {
   "cell_type": "markdown",
   "metadata": {},
   "source": [
    "# Ejemplo trivial KNN con cross validation (CV)"
   ]
  },
  {
   "cell_type": "code",
   "execution_count": 79,
   "metadata": {},
   "outputs": [
    {
     "name": "stdout",
     "output_type": "stream",
     "text": [
      "[[-1. -1.]\n",
      " [ 2.  2.]\n",
      " [ 0.  0.]\n",
      " [ 1.  1.]\n",
      " [-1. -1.]]\n",
      "[2 3 0 1 2]\n",
      "1.0\n"
     ]
    }
   ],
   "source": [
    "from sklearn.model_selection import train_test_split\n",
    "from sklearn.neighbors import KNeighborsRegressor\n",
    "import numpy as np\n",
    "#preparo set de datos\n",
    "X = np.array([[0., 0.], [1., 1.], [-1., -1.], [2., 2.],[0., 0.], [1., 1.], [-1., -1.], [2., 2.],[0., 0.], [1., 1.], [-1., -1.], [2., 2.],[0., 0.], [1., 1.], [-1., -1.], [2., 2.]])\n",
    "y = np.array([0, 1, 2, 3,0, 1, 2, 3,0, 1, 2, 3,0, 1, 2, 3])\n",
    "neigh = KNeighborsRegressor(n_neighbors=2,n_jobs=-1)\n",
    "\n",
    "#preparo lista de scores\n",
    "scores = []\n",
    "\n",
    "#spliteo en set de entrenamiento y de prueba\n",
    "X_train, X_test, y_train, y_test = train_test_split(\n",
    "X, y, test_size=0.3 ) # al asignarle random_state devuelve siempre lo mismo \n",
    "#entreno el set y veo el puntaje que tiene sobre el test\n",
    "reg=neigh.fit(X_train, y_train)\n",
    "print (X_test)\n",
    "#prediccion=reg.predict(X_test)\n",
    "#print (prediccion)\n",
    "print (y_test)\n",
    "print (reg.score(X_test,y_test))\n"
   ]
  },
  {
   "cell_type": "markdown",
   "metadata": {},
   "source": [
    "## CV varias veces en ejemplo anterior"
   ]
  },
  {
   "cell_type": "code",
   "execution_count": 11,
   "metadata": {},
   "outputs": [
    {
     "name": "stdout",
     "output_type": "stream",
     "text": [
      "[0.86842105263157898, 0.8666666666666667, 1.0, 0.89873417721518989, 0.96825396825396826, 0.75, 0.91578947368421049, 1.0, 0.97894736842105268, 1.0]\n",
      "0.924681270687\n"
     ]
    }
   ],
   "source": [
    "from sklearn.model_selection import train_test_split\n",
    "from sklearn.neighbors import KNeighborsRegressor\n",
    "import numpy as np\n",
    "#preparo set de datos\n",
    "X = np.array([[0., 0.], [1., 1.], [-1., -1.], [2., 2.],[0., 0.], [1., 1.], [-1., -1.], [2., 2.],[0., 0.], [1., 1.], [-1., -1.], [2., 2.],[0., 0.], [1., 1.], [-1., -1.], [2., 2.]])\n",
    "y = np.array([0, 1, 2, 3,0, 1, 2, 3,0, 1, 2, 3,0, 1, 2, 3])\n",
    "neigh = KNeighborsRegressor(n_neighbors=2,n_jobs=-1)\n",
    "\n",
    "#preparo lista de scores\n",
    "scores = []\n",
    "\n",
    "for i in range(0,10): # lo pruebo varias veces\n",
    "    #spliteo en set de entrenamiento y de prueba\n",
    "    X_train, X_test, y_train, y_test = train_test_split(\n",
    "    X, y, test_size=0.5 ) # al asignarle random_state devuelve siempre lo mismo \n",
    "    #entreno el set y veo el puntaje que tiene sobre el test\n",
    "    reg=neigh.fit(X_train, y_train)\n",
    "    scores.append(reg.score(X_train,y_train))\n",
    "print(scores) \n",
    "print(np.mean(scores))"
   ]
  },
  {
   "cell_type": "markdown",
   "metadata": {},
   "source": [
    "# Plot de los diferentes puntajes segun K"
   ]
  },
  {
   "cell_type": "code",
   "execution_count": 84,
   "metadata": {},
   "outputs": [
    {
     "data": {
      "image/png": "[encoded data removed]",
      "text/plain": [
       "<matplotlib.figure.Figure at 0x7f4d775c8d10>"
      ]
     },
     "metadata": {},
     "output_type": "display_data"
    }
   ],
   "source": [
    "from sklearn.model_selection import validation_curve\n",
    "import matplotlib.pyplot as plt\n",
    "\n",
    "#preparo set de datos\n",
    "X = np.array([[0., 0.], [1., 1.], [-1., -1.], [2., 2.],[0., 0.], [1., 1.], [-1., -1.], [2., 2.],[0., 0.], [1., 1.], [-1., -1.], [2., 2.],[0., 0.], [1., 1.], [-1., -1.], [2., 2.]])\n",
    "y = np.array([0, 1, 2, 3,0, 1, 2, 3,0, 1, 2, 3,0, 1, 2, 3])\n",
    "\n",
    "param_range=range(1,5)\n",
    "train_scores, test_scores = validation_curve(\n",
    "KNeighborsRegressor(), X, y, param_name=\"n_neighbors\",param_range=param_range,\n",
    "cv=2, n_jobs=-1)\n",
    "train_scores_mean = np.mean(train_scores, axis=1)\n",
    "test_scores_mean = np.mean(test_scores, axis=1)\n",
    "\n",
    "plt.title(\"Validation Curve with KNN\")\n",
    "plt.xlabel(\"K\")\n",
    "plt.ylabel(\"Score\")\n",
    "\n",
    "plt.plot(param_range, train_scores_mean, label=\"Training score\",\n",
    "color=\"darkorange\")\n",
    "plt.plot(param_range, test_scores_mean, label=\"Cross-validation score\",\n",
    "color=\"navy\")\n",
    "\n",
    "plt.legend(loc=\"best\")\n",
    "plt.show()"
   ]
  },
  {
   "cell_type": "markdown",
   "metadata": {},
   "source": [
    "###  Training vs CV score"
   ]
  },
  {
   "cell_type": "code",
   "execution_count": 25,
   "metadata": {},
   "outputs": [
    {
     "data": {
      "image/png": "[encoded data removed]",
      "text/plain": [
       "<matplotlib.figure.Figure at 0x7f6893b97810>"
      ]
     },
     "metadata": {},
     "output_type": "display_data"
    }
   ],
   "source": [
    "from sklearn.model_selection import validation_curve\n",
    "import matplotlib.pyplot as plt\n",
    "from sklearn.preprocessing import Imputer\n",
    "from sklearn.neighbors import KNeighborsRegressor\n",
    "\n",
    "#preparo set de datos\n",
    "X = zip(properati['dist_a_subte'],properati['dist_a_subte'])\n",
    "y = properati['price_per_m2']\n",
    "\n",
    "param_range=range(1,10,2)\n",
    "train_scores, test_scores = validation_curve(\n",
    "KNeighborsRegressor(), X, y, param_name=\"n_neighbors\",param_range=param_range,\n",
    "cv=2,scoring=\"r2\" ,n_jobs=-1)\n",
    "train_scores_mean = np.mean(train_scores, axis=1)\n",
    "test_scores_mean = np.mean(test_scores, axis=1)\n",
    "\n",
    "plt.title(\"Validation Curve with KNN\")\n",
    "plt.xlabel(\"K\")\n",
    "plt.ylabel(\"Score\")\n",
    "\n",
    "plt.plot(param_range, train_scores_mean, label=\"Training score\",\n",
    "color=\"darkorange\",marker=\"o\")\n",
    "plt.plot(param_range, test_scores_mean, label=\"Cross-validation score\",\n",
    "color=\"navy\",marker=\"o\")\n",
    "\n",
    "plt.legend(loc=\"best\")\n",
    "plt.show()\n"
   ]
  },
  {
   "cell_type": "markdown",
   "metadata": {},
   "source": [
    "### Probe escalando los datos, y tampoco funciona"
   ]
  },
  {
   "cell_type": "code",
   "execution_count": 12,
   "metadata": {},
   "outputs": [
    {
     "name": "stdout",
     "output_type": "stream",
     "text": [
      "GridSearchCV duro 269.70 segundos para 19 candidatos a hiper-parametros.\n",
      "\n",
      "Puesto: 1\n",
      "Promedio training score: 0.551 (std: 0.054)\n",
      "Promedio validation score: 0.552 (std: 0.130)\n",
      "Promedio fit time: 0.198s\n",
      "Hiper-parametros: {'n_neighbors': 20}\n",
      "\n",
      "Puesto: 2\n",
      "Promedio training score: 0.532 (std: 0.053)\n",
      "Promedio validation score: 0.549 (std: 0.131)\n",
      "Promedio fit time: 0.198s\n",
      "Hiper-parametros: {'n_neighbors': 30}\n",
      "\n",
      "Puesto: 3\n",
      "Promedio training score: 0.596 (std: 0.052)\n",
      "Promedio validation score: 0.546 (std: 0.134)\n",
      "Promedio fit time: 0.192s\n",
      "Hiper-parametros: {'n_neighbors': 10}\n",
      "\n",
      "Puesto: 4\n",
      "Promedio training score: 0.519 (std: 0.051)\n",
      "Promedio validation score: 0.543 (std: 0.128)\n",
      "Promedio fit time: 0.191s\n",
      "Hiper-parametros: {'n_neighbors': 40}\n",
      "\n",
      "Puesto: 5\n",
      "Promedio training score: 0.510 (std: 0.052)\n",
      "Promedio validation score: 0.540 (std: 0.125)\n",
      "Promedio fit time: 0.190s\n",
      "Hiper-parametros: {'n_neighbors': 50}\n",
      "\n",
      "Puesto: 6\n",
      "Promedio training score: 0.504 (std: 0.051)\n",
      "Promedio validation score: 0.537 (std: 0.121)\n",
      "Promedio fit time: 0.190s\n",
      "Hiper-parametros: {'n_neighbors': 60}\n",
      "\n",
      "Puesto: 7\n",
      "Promedio training score: 0.500 (std: 0.050)\n",
      "Promedio validation score: 0.534 (std: 0.119)\n",
      "Promedio fit time: 0.184s\n",
      "Hiper-parametros: {'n_neighbors': 70}\n",
      "\n",
      "Puesto: 8\n",
      "Promedio training score: 0.497 (std: 0.049)\n",
      "Promedio validation score: 0.530 (std: 0.115)\n",
      "Promedio fit time: 0.190s\n",
      "Hiper-parametros: {'n_neighbors': 80}\n",
      "\n",
      "Puesto: 9\n",
      "Promedio training score: 0.495 (std: 0.048)\n",
      "Promedio validation score: 0.527 (std: 0.115)\n",
      "Promedio fit time: 0.176s\n",
      "Hiper-parametros: {'n_neighbors': 90}\n",
      "\n",
      "Puesto: 10\n",
      "Promedio training score: 0.492 (std: 0.048)\n",
      "Promedio validation score: 0.526 (std: 0.114)\n",
      "Promedio fit time: 0.174s\n",
      "Hiper-parametros: {'n_neighbors': 100}\n",
      "\n"
     ]
    },
    {
     "data": {
      "application/javascript": [
       "$(document).ready(\n",
       "    function() {\n",
       "        function appendUniqueDiv(){\n",
       "            // append a div with our uuid so we can check that it's already\n",
       "            // been sent and avoid duplicates on page reload\n",
       "            var notifiedDiv = document.createElement(\"div\")\n",
       "            notifiedDiv.id = \"9772a37e-9b73-4ab4-9a08-bc9b06e0e2c1\"\n",
       "            element.append(notifiedDiv)\n",
       "        }\n",
       "\n",
       "        // only send notifications if the pageload is complete; this will\n",
       "        // help stop extra notifications when a saved notebook is loaded,\n",
       "        // which during testing gives us state \"interactive\", not \"complete\"\n",
       "        if (document.readyState === 'complete') {\n",
       "            // check for the div that signifies that the notification\n",
       "            // was already sent\n",
       "            if (document.getElementById(\"9772a37e-9b73-4ab4-9a08-bc9b06e0e2c1\") === null) {\n",
       "                var notificationPayload = {\"body\": \"Cell Execution Has Finished!!\", \"requireInteraction\": false, \"icon\": \"/static/base/images/favicon.ico\"};\n",
       "                if (Notification.permission !== 'denied') {\n",
       "                    if (Notification.permission !== 'granted') { \n",
       "                        Notification.requestPermission(function (permission) {\n",
       "                            if(!('permission' in Notification)) {\n",
       "                                Notification.permission = permission\n",
       "                            }\n",
       "                            if (Notification.permission === 'granted') {\n",
       "                                var notification = new Notification(\"Jupyter Notebook\", notificationPayload)\n",
       "                                appendUniqueDiv()\n",
       "                            }\n",
       "                        })\n",
       "                    } else if (Notification.permission === 'granted') {\n",
       "                        var notification = new Notification(\"Jupyter Notebook\", notificationPayload)\n",
       "                        appendUniqueDiv()\n",
       "                    }\n",
       "                }\n",
       "            }\n",
       "        }\n",
       "    }\n",
       ")\n"
      ],
      "text/plain": [
       "<IPython.core.display.Javascript object>"
      ]
     },
     "metadata": {},
     "output_type": "display_data"
    }
   ],
   "source": [
    "%%notify\n",
    "\n",
    "from sklearn.model_selection import train_test_split\n",
    "from sklearn.neighbors import KNeighborsRegressor\n",
    "import numpy as np\n",
    "\n",
    "from sklearn.preprocessing import StandardScaler  \n",
    "from sklearn import datasets, linear_model\n",
    "from sklearn.metrics import mean_squared_error, r2_score\n",
    "\n",
    "#preparo set de datos\n",
    "X = zip(properati['surface_total_in_m2'],\\\n",
    "        properati['surface_covered_in_m2'],properati[\"property_type\"],properati['state_name'],properati['place_name'])\n",
    "y = properati['price_aprox_usd']\n",
    "\n",
    "\n",
    "neigh = KNeighborsRegressor(n_jobs=-1)\n",
    "\n",
    "n_neighbors = np.arange(10,200,10)\n",
    "\n",
    "X_train, X_test, y_train, y_test = train_test_split(\n",
    "    X, y, test_size=0.2)\n",
    "\n",
    "param_grid = {\"n_neighbors\":n_neighbors}\n",
    "\n",
    "search = GridSearchCV(neigh, param_grid=param_grid ,cv=5) #refit deja el estimador fiteado con los mejores hiperparametros\n",
    "start = time()\n",
    "search.fit(X_train, y_train)\n",
    "\n",
    "print(\"GridSearchCV duro %.2f segundos para %d candidatos a hiper-parametros.\"\n",
    "    % (time() - start, len(search.cv_results_['params'])))\n",
    "print(\"\")\n",
    "score.report_single(search.cv_results_)\n"
   ]
  }
 ],
 "metadata": {
  "kernelspec": {
   "display_name": "Python 2",
   "language": "python",
   "name": "python2"
  },
  "language_info": {
   "codemirror_mode": {
    "name": "ipython",
    "version": 2
   },
   "file_extension": ".py",
   "mimetype": "text/x-python",
   "name": "python",
   "nbconvert_exporter": "python",
   "pygments_lexer": "ipython2",
   "version": "2.7.12"
  }
 },
 "nbformat": 4,
 "nbformat_minor": 2
}
