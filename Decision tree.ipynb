{
 "cells": [
  {
   "cell_type": "code",
   "execution_count": 4,
   "metadata": {},
   "outputs": [
    {
     "data": {
      "text/html": [
       "<style>.container { width:97% !important; }</style>"
      ],
      "text/plain": [
       "<IPython.core.display.HTML object>"
      ]
     },
     "metadata": {},
     "output_type": "display_data"
    },
    {
     "data": {
      "application/javascript": [
       "if (!(\"Notification\" in window)) {\n",
       "    alert(\"This browser does not support desktop notifications, so the %%notify magic will not work.\");\n",
       "} else if (Notification.permission !== 'granted' && Notification.permission !== 'denied') {\n",
       "    Notification.requestPermission(function (permission) {\n",
       "        if(!('permission' in Notification)) {\n",
       "            Notification.permission = permission;\n",
       "        }\n",
       "    })\n",
       "}\n"
      ],
      "text/plain": [
       "<IPython.core.display.Javascript object>"
      ]
     },
     "metadata": {},
     "output_type": "display_data"
    }
   ],
   "source": [
    "import pandas as pd\n",
    "import numpy as np\n",
    "import matplotlib.pyplot as plt\n",
    "\n",
    "from IPython.core.display import display, HTML\n",
    "display(HTML(\"<style>.container { width:97% !important; }</style>\"))\n",
    "\n",
    "from sklearn.model_selection import GridSearchCV, RandomizedSearchCV, train_test_split\n",
    "from sklearn import preprocessing\n",
    "import scoring as score # para hacer los reportes de puntajes\n",
    "from time import time\n",
    "\n",
    "import jupyternotify\n",
    "ip = get_ipython()\n",
    "ip.register_magics(jupyternotify.JupyterNotifyMagics)\n",
    "\n",
    "import scoring as score # para hacer los reportes de puntajes\n",
    "from sklearn.tree import DecisionTreeRegressor\n",
    "\n",
    "\n",
    "properati = pd.read_csv('datos/properati_final_y_descripcion.csv')\n",
    "zonas = pd.read_csv('datos/todos_los_barrios.csv')"
   ]
  },
  {
   "cell_type": "code",
   "execution_count": 5,
   "metadata": {},
   "outputs": [
    {
     "name": "stderr",
     "output_type": "stream",
     "text": [
      "/usr/local/lib/python2.7/dist-packages/sklearn/preprocessing/label.py:95: DataConversionWarning: A column-vector y was passed when a 1d array was expected. Please change the shape of y to (n_samples, ), for example using ravel().\n",
      "  y = column_or_1d(y, warn=True)\n"
     ]
    }
   ],
   "source": [
    "#paso features con strings a numericos\n",
    "le_zona = preprocessing.LabelEncoder()\n",
    "properati['state_name'] =le_zona.fit_transform(properati['state_name'])\n",
    "\n",
    "le_barrio = preprocessing.LabelEncoder()\n",
    "le_barrio.fit(zonas.values)\n",
    "properati['place_name'] = le_barrio.transform(properati['place_name'])\n",
    "\n",
    "le_tipo = preprocessing.LabelEncoder()\n",
    "properati['property_type'] = le_tipo.fit_transform(properati['property_type'])"
   ]
  },
  {
   "cell_type": "code",
   "execution_count": 6,
   "metadata": {},
   "outputs": [
    {
     "name": "stdout",
     "output_type": "stream",
     "text": [
      "<class 'pandas.core.frame.DataFrame'>\n",
      "RangeIndex: 136352 entries, 0 to 136351\n",
      "Data columns (total 24 columns):\n",
      "surface_total_in_m2      136352 non-null float64\n",
      "surface_covered_in_m2    136352 non-null float64\n",
      "place_name               136352 non-null int64\n",
      "property_type            136352 non-null int64\n",
      "cochera                  136352 non-null bool\n",
      "comedor                  136352 non-null bool\n",
      "living                   136352 non-null bool\n",
      "lavadero                 136352 non-null bool\n",
      "terraza                  136352 non-null bool\n",
      "hall                     136352 non-null bool\n",
      "placard                  136352 non-null bool\n",
      "balcon                   136352 non-null bool\n",
      "parrilla                 136352 non-null bool\n",
      "aire                     136352 non-null bool\n",
      "patio                    136352 non-null bool\n",
      "pileta                   136352 non-null bool\n",
      "mesada                   136352 non-null bool\n",
      "parque                   136352 non-null bool\n",
      "quincho                  136352 non-null bool\n",
      "escalera                 136352 non-null bool\n",
      "monoambiente             136352 non-null bool\n",
      "caldera                  136352 non-null bool\n",
      "solarium                 136352 non-null bool\n",
      "duplex                   136352 non-null bool\n",
      "dtypes: bool(20), float64(2), int64(2)\n",
      "memory usage: 6.8 MB\n"
     ]
    }
   ],
   "source": [
    "#preparo set de datos\n",
    "#X = zip(properati['surface_total_in_m2'],\\\n",
    "       # properati['surface_covered_in_m2'],properati['place_name'],properati[\"cochera\"],properati[\"lavadero\"],properati[\"patio\"],properati[\"terraza\"],properati[\"hall\"]\\\n",
    "        #,properati[\"lavadero\"])\n",
    "        #properati['surface_covered_in_m2'],properati['place_name'])\n",
    "originales=[\"surface_total_in_m2\",\"surface_covered_in_m2\",\"place_name\",\"property_type\"]\n",
    "features_nuevas=[\"cochera\",\"comedor\",\"living\",\"lavadero\",\"terraza\",\"hall\",\"placard\",\"balcon\",\"parrilla\",\"aire\",\"patio\",\"pileta\"\\\n",
    "                ,\"mesada\",\"parque\",\"quincho\",\"escalera\",\"monoambiente\",\"caldera\",\"solarium\",\"duplex\"]\n",
    "columnas=originales+features_nuevas\n",
    "X= properati.loc[:,columnas]    \n",
    "y = properati[\"price_aprox_usd\"]\n",
    "X.info()"
   ]
  },
  {
   "cell_type": "code",
   "execution_count": 7,
   "metadata": {
    "collapsed": true
   },
   "outputs": [],
   "source": [
    "X_train, X_test, y_train, y_test = train_test_split(\n",
    "    X, y, test_size=0.2)"
   ]
  },
  {
   "cell_type": "code",
   "execution_count": 10,
   "metadata": {},
   "outputs": [
    {
     "name": "stdout",
     "output_type": "stream",
     "text": [
      "GridSearchCV duro 6.49 segundos para 4 candidatos a hiper-parametros.\n",
      "\n",
      "Puesto: 1\n",
      "Promedio training score: 0.999 (std: 0.000)\n",
      "Promedio validation score: 0.551 (std: 0.083)\n",
      "Promedio fit time: 1.046s\n",
      "Hiper-parametros: {'max_features': 'auto'}\n",
      "\n",
      "Puesto: 2\n",
      "Promedio training score: 0.999 (std: 0.000)\n",
      "Promedio validation score: 0.484 (std: 0.065)\n",
      "Promedio fit time: 0.366s\n",
      "Hiper-parametros: {'max_features': 'log2'}\n",
      "\n",
      "Puesto: 3\n",
      "Promedio training score: 0.999 (std: 0.000)\n",
      "Promedio validation score: 0.307 (std: 0.476)\n",
      "Promedio fit time: 0.923s\n",
      "Hiper-parametros: {'max_features': None}\n",
      "\n",
      "Puesto: 4\n",
      "Promedio training score: 0.999 (std: 0.000)\n",
      "Promedio validation score: 0.262 (std: 0.475)\n",
      "Promedio fit time: 0.385s\n",
      "Hiper-parametros: {'max_features': 'sqrt'}\n",
      "\n"
     ]
    },
    {
     "data": {
      "application/javascript": [
       "$(document).ready(\n",
       "    function() {\n",
       "        function appendUniqueDiv(){\n",
       "            // append a div with our uuid so we can check that it's already\n",
       "            // been sent and avoid duplicates on page reload\n",
       "            var notifiedDiv = document.createElement(\"div\")\n",
       "            notifiedDiv.id = \"9ce53931-0f52-4134-8593-60246e88b3e6\"\n",
       "            element.append(notifiedDiv)\n",
       "        }\n",
       "\n",
       "        // only send notifications if the pageload is complete; this will\n",
       "        // help stop extra notifications when a saved notebook is loaded,\n",
       "        // which during testing gives us state \"interactive\", not \"complete\"\n",
       "        if (document.readyState === 'complete') {\n",
       "            // check for the div that signifies that the notification\n",
       "            // was already sent\n",
       "            if (document.getElementById(\"9ce53931-0f52-4134-8593-60246e88b3e6\") === null) {\n",
       "                var notificationPayload = {\"body\": \"Cell Execution Has Finished!!\", \"requireInteraction\": false, \"icon\": \"/static/base/images/favicon.ico\"};\n",
       "                if (Notification.permission !== 'denied') {\n",
       "                    if (Notification.permission !== 'granted') { \n",
       "                        Notification.requestPermission(function (permission) {\n",
       "                            if(!('permission' in Notification)) {\n",
       "                                Notification.permission = permission\n",
       "                            }\n",
       "                            if (Notification.permission === 'granted') {\n",
       "                                var notification = new Notification(\"Jupyter Notebook\", notificationPayload)\n",
       "                                appendUniqueDiv()\n",
       "                            }\n",
       "                        })\n",
       "                    } else if (Notification.permission === 'granted') {\n",
       "                        var notification = new Notification(\"Jupyter Notebook\", notificationPayload)\n",
       "                        appendUniqueDiv()\n",
       "                    }\n",
       "                }\n",
       "            }\n",
       "        }\n",
       "    }\n",
       ")\n"
      ],
      "text/plain": [
       "<IPython.core.display.Javascript object>"
      ]
     },
     "metadata": {},
     "output_type": "display_data"
    }
   ],
   "source": [
    "%%notify\n",
    "tree= DecisionTreeRegressor()\n",
    "\n",
    "max_features=[\"auto\",\"sqrt\",\"log2\",None]\n",
    "param_grid = {\"max_features\": max_features}\n",
    "\n",
    "search = GridSearchCV(tree, param_grid=param_grid ,cv=5,n_jobs=-1) \n",
    "start = time()\n",
    "search.fit(X_train, y_train)\n",
    "\n",
    "print(\"GridSearchCV duro %.2f segundos para %d candidatos a hiper-parametros.\"\n",
    "    % (time() - start, len(search.cv_results_['params'])))\n",
    "print(\"\")\n",
    "score.report_single(search.cv_results_)"
   ]
  },
  {
   "cell_type": "code",
   "execution_count": null,
   "metadata": {
    "collapsed": true
   },
   "outputs": [],
   "source": []
  }
 ],
 "metadata": {
  "kernelspec": {
   "display_name": "Python 2",
   "language": "python",
   "name": "python2"
  },
  "language_info": {
   "codemirror_mode": {
    "name": "ipython",
    "version": 2
   },
   "file_extension": ".py",
   "mimetype": "text/x-python",
   "name": "python",
   "nbconvert_exporter": "python",
   "pygments_lexer": "ipython2",
   "version": "2.7.12"
  }
 },
 "nbformat": 4,
 "nbformat_minor": 2
}
