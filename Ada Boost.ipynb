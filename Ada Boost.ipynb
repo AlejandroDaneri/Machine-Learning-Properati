{
 "cells": [
  {
   "cell_type": "code",
   "execution_count": 7,
   "metadata": {},
   "outputs": [
    {
     "data": {
      "text/html": [
       "<style>.container { width:97% !important; }</style>"
      ],
      "text/plain": [
       "<IPython.core.display.HTML object>"
      ]
     },
     "metadata": {},
     "output_type": "display_data"
    },
    {
     "data": {
      "application/javascript": [
       "if (!(\"Notification\" in window)) {\n",
       "    alert(\"This browser does not support desktop notifications, so the %%notify magic will not work.\");\n",
       "} else if (Notification.permission !== 'granted' && Notification.permission !== 'denied') {\n",
       "    Notification.requestPermission(function (permission) {\n",
       "        if(!('permission' in Notification)) {\n",
       "            Notification.permission = permission;\n",
       "        }\n",
       "    })\n",
       "}\n"
      ],
      "text/plain": [
       "<IPython.core.display.Javascript object>"
      ]
     },
     "metadata": {},
     "output_type": "display_data"
    }
   ],
   "source": [
    "import pandas as pd\n",
    "import numpy as np\n",
    "import matplotlib.pyplot as plt\n",
    "\n",
    "from IPython.core.display import display, HTML\n",
    "display(HTML(\"<style>.container { width:97% !important; }</style>\"))\n",
    "\n",
    "import jupyternotify\n",
    "ip = get_ipython()\n",
    "ip.register_magics(jupyternotify.JupyterNotifyMagics)\n",
    "\n",
    "import scoring as score # para hacer los reportes de puntajes\n",
    "from time import time\n",
    "\n",
    "from sklearn import preprocessing\n",
    "from sklearn.ensemble import AdaBoostClassifier\n",
    "from sklearn.preprocessing import StandardScaler  \n",
    "from sklearn.model_selection import GridSearchCV, RandomizedSearchCV, RandomizedSearchCV, ShuffleSplit\n",
    "\n",
    "properati = pd.read_csv('datos/properati_final.csv',error_bad_lines=False)\n",
    "\n",
    "#tenia un nan nose porque\n",
    "properati.dropna(inplace=True)"
   ]
  },
  {
   "cell_type": "code",
   "execution_count": 8,
   "metadata": {
    "collapsed": true
   },
   "outputs": [],
   "source": [
    "cant_buckets = 15\n",
    "\n",
    "#buckets\n",
    "cantidad,rango = np.histogram(properati['price_usd_per_m2'], bins=cant_buckets)\n",
    "properati['categories_by_price']=pd.cut(properati['price_usd_per_m2'],rango,labels=np.arange(cant_buckets))\n",
    "properati['price_range']=pd.cut(properati['price_usd_per_m2'],rango)\n",
    "#lo casteo a float porque si no tira error \n",
    "properati['categories_by_price']=properati['categories_by_price'].astype(np.float64) \n",
    "\n",
    "#tenia un nan nose porque\n",
    "properati.dropna(inplace=True)"
   ]
  },
  {
   "cell_type": "code",
   "execution_count": 9,
   "metadata": {},
   "outputs": [
    {
     "name": "stdout",
     "output_type": "stream",
     "text": [
      "True\n",
      "True\n"
     ]
    }
   ],
   "source": [
    "#preparo set de datos\n",
    "X = zip(properati['dist_a_subte'],properati['dist_a_univ'])\n",
    "y = properati['categories_by_price']\n",
    "\n",
    "#reviso si quedo datos anomalos\n",
    "print (np.any(np.isnan(y)) == False)\n",
    "print (np.all(np.isfinite(y)) == True )"
   ]
  },
  {
   "cell_type": "markdown",
   "metadata": {},
   "source": [
    "### Busco hiper-parametros con random search"
   ]
  },
  {
   "cell_type": "code",
   "execution_count": 14,
   "metadata": {},
   "outputs": [
    {
     "name": "stdout",
     "output_type": "stream",
     "text": [
      "RandomizedSearchCV duro 72.32 segundos para 50 candidatos a hyper-parametros.\n",
      "\n",
      "Model with rank: 1\n",
      "Mean training score: 0.302 (std: 0.013)\n",
      "Mean validation score: 0.296 (std: 0.026)\n",
      "Mean score time: 0.006s\n",
      "Parameters: {'n_estimators': 41, 'algorithm': 'SAMME'}\n",
      "\n",
      "Model with rank: 2\n",
      "Mean training score: 0.306 (std: 0.020)\n",
      "Mean validation score: 0.296 (std: 0.023)\n",
      "Mean score time: 0.013s\n",
      "Parameters: {'n_estimators': 79, 'algorithm': 'SAMME'}\n",
      "\n",
      "Model with rank: 3\n",
      "Mean training score: 0.302 (std: 0.017)\n",
      "Mean validation score: 0.295 (std: 0.024)\n",
      "Mean score time: 0.007s\n",
      "Parameters: {'n_estimators': 48, 'algorithm': 'SAMME'}\n",
      "\n",
      "Model with rank: 4\n",
      "Mean training score: 0.304 (std: 0.012)\n",
      "Mean validation score: 0.295 (std: 0.023)\n",
      "Mean score time: 0.007s\n",
      "Parameters: {'n_estimators': 52, 'algorithm': 'SAMME'}\n",
      "\n",
      "Model with rank: 4\n",
      "Mean training score: 0.310 (std: 0.015)\n",
      "Mean validation score: 0.295 (std: 0.022)\n",
      "Mean score time: 0.013s\n",
      "Parameters: {'n_estimators': 93, 'algorithm': 'SAMME'}\n",
      "\n",
      "Model with rank: 6\n",
      "Mean training score: 0.311 (std: 0.015)\n",
      "Mean validation score: 0.294 (std: 0.027)\n",
      "Mean score time: 0.013s\n",
      "Parameters: {'n_estimators': 95, 'algorithm': 'SAMME'}\n",
      "\n",
      "Model with rank: 7\n",
      "Mean training score: 0.301 (std: 0.013)\n",
      "Mean validation score: 0.293 (std: 0.021)\n",
      "Mean score time: 0.008s\n",
      "Parameters: {'n_estimators': 55, 'algorithm': 'SAMME'}\n",
      "\n",
      "Model with rank: 8\n",
      "Mean training score: 0.310 (std: 0.015)\n",
      "Mean validation score: 0.293 (std: 0.026)\n",
      "Mean score time: 0.015s\n",
      "Parameters: {'n_estimators': 96, 'algorithm': 'SAMME'}\n",
      "\n",
      "Model with rank: 9\n",
      "Mean training score: 0.298 (std: 0.011)\n",
      "Mean validation score: 0.292 (std: 0.023)\n",
      "Mean score time: 0.007s\n",
      "Parameters: {'n_estimators': 46, 'algorithm': 'SAMME'}\n",
      "\n",
      "Model with rank: 10\n",
      "Mean training score: 0.304 (std: 0.018)\n",
      "Mean validation score: 0.291 (std: 0.023)\n",
      "Mean score time: 0.011s\n",
      "Parameters: {'n_estimators': 78, 'algorithm': 'SAMME'}\n",
      "\n"
     ]
    },
    {
     "data": {
      "application/javascript": [
       "$(document).ready(\n",
       "    function() {\n",
       "        function appendUniqueDiv(){\n",
       "            // append a div with our uuid so we can check that it's already\n",
       "            // been sent and avoid duplicates on page reload\n",
       "            var notifiedDiv = document.createElement(\"div\")\n",
       "            notifiedDiv.id = \"83c775fd-a1d7-429f-a3cf-6e2b2e02235a\"\n",
       "            element.append(notifiedDiv)\n",
       "        }\n",
       "\n",
       "        // only send notifications if the pageload is complete; this will\n",
       "        // help stop extra notifications when a saved notebook is loaded,\n",
       "        // which during testing gives us state \"interactive\", not \"complete\"\n",
       "        if (document.readyState === 'complete') {\n",
       "            // check for the div that signifies that the notification\n",
       "            // was already sent\n",
       "            if (document.getElementById(\"83c775fd-a1d7-429f-a3cf-6e2b2e02235a\") === null) {\n",
       "                var notificationPayload = {\"body\": \"Cell Execution Has Finished!!\", \"requireInteraction\": false, \"icon\": \"/static/base/images/favicon.ico\"};\n",
       "                if (Notification.permission !== 'denied') {\n",
       "                    if (Notification.permission !== 'granted') { \n",
       "                        Notification.requestPermission(function (permission) {\n",
       "                            if(!('permission' in Notification)) {\n",
       "                                Notification.permission = permission\n",
       "                            }\n",
       "                            if (Notification.permission === 'granted') {\n",
       "                                var notification = new Notification(\"Jupyter Notebook\", notificationPayload)\n",
       "                                appendUniqueDiv()\n",
       "                            }\n",
       "                        })\n",
       "                    } else if (Notification.permission === 'granted') {\n",
       "                        var notification = new Notification(\"Jupyter Notebook\", notificationPayload)\n",
       "                        appendUniqueDiv()\n",
       "                    }\n",
       "                }\n",
       "            }\n",
       "        }\n",
       "    }\n",
       ")\n"
      ],
      "text/plain": [
       "<IPython.core.display.Javascript object>"
      ]
     },
     "metadata": {},
     "output_type": "display_data"
    }
   ],
   "source": [
    "%%notify\n",
    "\n",
    "#preparo set de datos\n",
    "X = zip(properati['dist_a_subte'],properati['dist_a_univ'])\n",
    "y = properati['categories_by_price']\n",
    "\n",
    "ab = AdaBoostClassifier()\n",
    "\n",
    "n_estimators =np.arange(40,100,1)\n",
    "algorithm = [\"SAMME\", \"SAMME.R\"]\n",
    "             \n",
    "param_grid = {\"algorithm\": algorithm,\"n_estimators\":n_estimators}\n",
    "custom_cv = ShuffleSplit(n_splits=10, test_size=0.2)\n",
    "\n",
    "random_search = RandomizedSearchCV(ab, param_distributions=param_grid ,cv=custom_cv,n_iter=50,n_jobs=-1)\n",
    "start = time()\n",
    "random_search.fit(X, y)\n",
    "\n",
    "print(\"RandomizedSearchCV duro %.2f segundos para %d candidatos a hyper-parametros.\"\n",
    "    % (time() - start, len(random_search.cv_results_['params'])))\n",
    "print(\"\")\n",
    "score.report_single(random_search.cv_results_)"
   ]
  }
 ],
 "metadata": {
  "kernelspec": {
   "display_name": "Python 2",
   "language": "python",
   "name": "python2"
  },
  "language_info": {
   "codemirror_mode": {
    "name": "ipython",
    "version": 2
   },
   "file_extension": ".py",
   "mimetype": "text/x-python",
   "name": "python",
   "nbconvert_exporter": "python",
   "pygments_lexer": "ipython2",
   "version": "2.7.12"
  }
 },
 "nbformat": 4,
 "nbformat_minor": 2
}
