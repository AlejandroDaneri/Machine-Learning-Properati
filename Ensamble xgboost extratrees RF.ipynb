{
 "cells": [
  {
   "cell_type": "code",
   "execution_count": 1,
   "metadata": {},
   "outputs": [
    {
     "data": {
      "text/html": [
       "<style>.container { width:97% !important; }</style>"
      ],
      "text/plain": [
       "<IPython.core.display.HTML object>"
      ]
     },
     "metadata": {},
     "output_type": "display_data"
    },
    {
     "data": {
      "application/javascript": [
       "if (!(\"Notification\" in window)) {\n",
       "    alert(\"This browser does not support desktop notifications, so the %%notify magic will not work.\");\n",
       "} else if (Notification.permission !== 'granted' && Notification.permission !== 'denied') {\n",
       "    Notification.requestPermission(function (permission) {\n",
       "        if(!('permission' in Notification)) {\n",
       "            Notification.permission = permission;\n",
       "        }\n",
       "    })\n",
       "}\n"
      ],
      "text/plain": [
       "<IPython.core.display.Javascript object>"
      ]
     },
     "metadata": {},
     "output_type": "display_data"
    }
   ],
   "source": [
    "import pandas as pd\n",
    "import numpy as np\n",
    "import matplotlib.pyplot as plt\n",
    "\n",
    "from IPython.core.display import display, HTML\n",
    "display(HTML(\"<style>.container { width:97% !important; }</style>\"))\n",
    "\n",
    "from sklearn.model_selection import GridSearchCV, RandomizedSearchCV, train_test_split\n",
    "from sklearn.ensemble import RandomForestRegressor,IsolationForest,ExtraTreesRegressor,GradientBoostingRegressor\n",
    "\n",
    "from sklearn import preprocessing\n",
    "import scoring as score # para hacer los reportes de puntajes\n",
    "from time import time\n",
    "\n",
    "import jupyternotify\n",
    "ip = get_ipython()\n",
    "ip.register_magics(jupyternotify.JupyterNotifyMagics)\n",
    "\n",
    "import scoring as score # para hacer los reportes de puntajes\n",
    "\n",
    "properati = pd.read_csv('datos/properati_final_y_descripcion.csv')\n",
    "zonas = pd.read_csv('datos/todos_los_barrios.csv')\n",
    "\n",
    "tipo_puntaje=\"r2\"\n",
    "iteraciones_de_searchs=20\n",
    "cv=5"
   ]
  },
  {
   "cell_type": "markdown",
   "metadata": {},
   "source": [
    "# Preprocesamiento"
   ]
  },
  {
   "cell_type": "code",
   "execution_count": 2,
   "metadata": {},
   "outputs": [
    {
     "name": "stderr",
     "output_type": "stream",
     "text": [
      "/usr/local/lib/python2.7/dist-packages/sklearn/preprocessing/label.py:95: DataConversionWarning: A column-vector y was passed when a 1d array was expected. Please change the shape of y to (n_samples, ), for example using ravel().\n",
      "  y = column_or_1d(y, warn=True)\n"
     ]
    }
   ],
   "source": [
    "#paso features con strings a numericos\n",
    "le_zona = preprocessing.LabelEncoder()\n",
    "properati['state_name'] =le_zona.fit_transform(properati['state_name'])\n",
    "\n",
    "le_barrio = preprocessing.LabelEncoder()\n",
    "le_barrio.fit(zonas.values)\n",
    "properati['place_name'] = le_barrio.transform(properati['place_name'])\n",
    "\n",
    "le_tipo = preprocessing.LabelEncoder()\n",
    "properati['property_type'] = le_tipo.fit_transform(properati['property_type'])"
   ]
  },
  {
   "cell_type": "code",
   "execution_count": 3,
   "metadata": {},
   "outputs": [
    {
     "name": "stdout",
     "output_type": "stream",
     "text": [
      "133183\n",
      "132784\n"
     ]
    }
   ],
   "source": [
    "properati=properati.loc[properati.price_aprox_usd<1e6]\n",
    "properati=properati.loc[properati.surface_covered_in_m2<7000]\n",
    "print len(properati)\n",
    "properati=properati.groupby(\"place_name\").filter(lambda x: len(x)>5)\n",
    "print len(properati)"
   ]
  },
  {
   "cell_type": "code",
   "execution_count": 9,
   "metadata": {},
   "outputs": [
    {
     "name": "stdout",
     "output_type": "stream",
     "text": [
      "<class 'pandas.core.frame.DataFrame'>\n",
      "Int64Index: 132784 entries, 0 to 136351\n",
      "Data columns (total 29 columns):\n",
      "surface_total_in_m2      132784 non-null float64\n",
      "surface_covered_in_m2    132784 non-null float64\n",
      "place_name               132784 non-null int64\n",
      "cochera                  132784 non-null bool\n",
      "comedor                  132784 non-null bool\n",
      "living                   132784 non-null bool\n",
      "amplio                   132784 non-null bool\n",
      "suite                    132784 non-null bool\n",
      "lavadero                 132784 non-null bool\n",
      "terraza                  132784 non-null bool\n",
      "hall                     132784 non-null bool\n",
      "placard                  132784 non-null bool\n",
      "balcon                   132784 non-null bool\n",
      "parrilla                 132784 non-null bool\n",
      "aire                     132784 non-null bool\n",
      "patio                    132784 non-null bool\n",
      "muebles                  132784 non-null bool\n",
      "pileta                   132784 non-null bool\n",
      "mesada                   132784 non-null bool\n",
      "parque                   132784 non-null bool\n",
      "quincho                  132784 non-null bool\n",
      "escalera                 132784 non-null bool\n",
      "chalet                   132784 non-null bool\n",
      "monoambiente             132784 non-null bool\n",
      "porcelanato              132784 non-null bool\n",
      "caldera                  132784 non-null bool\n",
      "solarium                 132784 non-null bool\n",
      "duplex                   132784 non-null bool\n",
      "cancha                   132784 non-null bool\n",
      "dtypes: bool(26), float64(2), int64(1)\n",
      "memory usage: 12.3 MB\n"
     ]
    }
   ],
   "source": [
    "#preparo set de datos\n",
    "#X = zip(properati['surface_total_in_m2'],\\\n",
    "       # properati['surface_covered_in_m2'],properati['place_name'],properati[\"cochera\"],properati[\"lavadero\"],properati[\"patio\"],properati[\"terraza\"],properati[\"hall\"]\\\n",
    "        #,properati[\"lavadero\"])\n",
    "        #properati['surface_covered_in_m2'],properati['place_name'])\n",
    "originales=[\"surface_total_in_m2\",\"surface_covered_in_m2\",\"place_name\"]\n",
    "features_nuevas=[\"cochera\",\"comedor\",\"living\",\"amplio\",\"suite\",\"lavadero\",\"terraza\",\"hall\",\"placard\",\"balcon\",\"parrilla\",\"aire\",\"patio\",\"muebles\",\"pileta\"\\\n",
    "                ,\"mesada\",\"parque\",\"quincho\",\"escalera\",\"chalet\",\"monoambiente\",\"porcelanato\",\"caldera\",\"solarium\",\"duplex\",\"cancha\"]\n",
    "columnas=originales+features_nuevas\n",
    "X= properati.loc[:,columnas]    \n",
    "y = properati[\"price_aprox_usd\"]\n",
    "X.info()"
   ]
  },
  {
   "cell_type": "markdown",
   "metadata": {},
   "source": [
    "### Fitlrador ya no funciona"
   ]
  },
  {
   "cell_type": "code",
   "execution_count": 22,
   "metadata": {},
   "outputs": [
    {
     "name": "stdout",
     "output_type": "stream",
     "text": [
      "132784\n",
      "132784\n",
      "28\n"
     ]
    }
   ],
   "source": [
    "a_filtrar = originales+[\"price_aprox_usd\"]\n",
    "Z = properati.loc[:,a_filtrar]\n",
    "\n",
    "filtrador = IsolationForest(n_jobs=-1,n_estimators=50)\n",
    "filtrador.fit(Z)\n",
    "\n",
    "print len(Z)\n",
    "print(len(filtrador.predict(Z)==1))\n"
   ]
  },
  {
   "cell_type": "markdown",
   "metadata": {},
   "source": [
    "# XGBoost"
   ]
  },
  {
   "cell_type": "code",
   "execution_count": 10,
   "metadata": {},
   "outputs": [
    {
     "name": "stdout",
     "output_type": "stream",
     "text": [
      "GridSearchCV duro 220.83 segundos para 20 candidatos a hiper-parametros.\n",
      "\n",
      "Puesto: 1\n",
      "Promedio training score: 0.814 (std: 0.001)\n",
      "Promedio validation score: 0.798 (std: 0.004)\n",
      "Promedio fit time: 2.153s\n",
      "Hiper-parametros: {'subsample': 1, 'learning_rate': 0.69999999999999996, 'gamma': 0.59999999999999998, 'min_child_weight': 3}\n",
      "\n",
      "Puesto: 1\n",
      "Promedio training score: 0.814 (std: 0.001)\n",
      "Promedio validation score: 0.798 (std: 0.004)\n",
      "Promedio fit time: 2.010s\n",
      "Hiper-parametros: {'subsample': 1, 'learning_rate': 0.69999999999999996, 'gamma': 0.5, 'min_child_weight': 3}\n",
      "\n",
      "Puesto: 1\n",
      "Promedio training score: 0.814 (std: 0.001)\n",
      "Promedio validation score: 0.798 (std: 0.004)\n",
      "Promedio fit time: 1.744s\n",
      "Hiper-parametros: {'subsample': 1, 'learning_rate': 0.69999999999999996, 'gamma': 0.40000000000000002, 'min_child_weight': 3}\n",
      "\n",
      "Puesto: 4\n",
      "Promedio training score: 0.815 (std: 0.003)\n",
      "Promedio validation score: 0.798 (std: 0.004)\n",
      "Promedio fit time: 1.723s\n",
      "Hiper-parametros: {'subsample': 1, 'learning_rate': 0.90000000000000013, 'gamma': 0.10000000000000001, 'min_child_weight': 3}\n",
      "\n",
      "Puesto: 4\n",
      "Promedio training score: 0.815 (std: 0.003)\n",
      "Promedio validation score: 0.798 (std: 0.004)\n",
      "Promedio fit time: 2.056s\n",
      "Hiper-parametros: {'subsample': 1, 'learning_rate': 0.90000000000000013, 'gamma': 0.80000000000000004, 'min_child_weight': 3}\n",
      "\n",
      "Puesto: 4\n",
      "Promedio training score: 0.815 (std: 0.003)\n",
      "Promedio validation score: 0.798 (std: 0.004)\n",
      "Promedio fit time: 2.054s\n",
      "Hiper-parametros: {'subsample': 1, 'learning_rate': 0.90000000000000013, 'gamma': 0.70000000000000007, 'min_child_weight': 3}\n",
      "\n",
      "Puesto: 7\n",
      "Promedio training score: 0.814 (std: 0.001)\n",
      "Promedio validation score: 0.798 (std: 0.004)\n",
      "Promedio fit time: 1.784s\n",
      "Hiper-parametros: {'subsample': 1, 'learning_rate': 0.69999999999999996, 'gamma': 0.40000000000000002, 'min_child_weight': 1}\n",
      "\n",
      "Puesto: 7\n",
      "Promedio training score: 0.814 (std: 0.001)\n",
      "Promedio validation score: 0.798 (std: 0.004)\n",
      "Promedio fit time: 1.759s\n",
      "Hiper-parametros: {'subsample': 1, 'learning_rate': 0.69999999999999996, 'gamma': 0.70000000000000007, 'min_child_weight': 1}\n",
      "\n",
      "Puesto: 7\n",
      "Promedio training score: 0.814 (std: 0.001)\n",
      "Promedio validation score: 0.798 (std: 0.004)\n",
      "Promedio fit time: 1.924s\n",
      "Hiper-parametros: {'subsample': 1, 'learning_rate': 0.69999999999999996, 'gamma': 0.10000000000000001, 'min_child_weight': 1}\n",
      "\n",
      "Puesto: 10\n",
      "Promedio training score: 0.816 (std: 0.003)\n",
      "Promedio validation score: 0.798 (std: 0.005)\n",
      "Promedio fit time: 2.024s\n",
      "Hiper-parametros: {'subsample': 1, 'learning_rate': 0.90000000000000013, 'gamma': 0.30000000000000004, 'min_child_weight': 1}\n",
      "\n",
      "Puesto: 10\n",
      "Promedio training score: 0.816 (std: 0.003)\n",
      "Promedio validation score: 0.798 (std: 0.005)\n",
      "Promedio fit time: 1.821s\n",
      "Hiper-parametros: {'subsample': 1, 'learning_rate': 0.90000000000000013, 'gamma': 0.80000000000000004, 'min_child_weight': 1}\n",
      "\n",
      "Puesto: 10\n",
      "Promedio training score: 0.816 (std: 0.003)\n",
      "Promedio validation score: 0.798 (std: 0.005)\n",
      "Promedio fit time: 1.741s\n",
      "Hiper-parametros: {'subsample': 1, 'learning_rate': 0.90000000000000013, 'gamma': 0.20000000000000001, 'min_child_weight': 1}\n",
      "\n",
      "Puesto: 10\n",
      "Promedio training score: 0.816 (std: 0.003)\n",
      "Promedio validation score: 0.798 (std: 0.005)\n",
      "Promedio fit time: 1.676s\n",
      "Hiper-parametros: {'subsample': 1, 'learning_rate': 0.90000000000000013, 'gamma': 0.10000000000000001, 'min_child_weight': 1}\n",
      "\n"
     ]
    },
    {
     "data": {
      "application/javascript": [
       "$(document).ready(\n",
       "    function() {\n",
       "        function appendUniqueDiv(){\n",
       "            // append a div with our uuid so we can check that it's already\n",
       "            // been sent and avoid duplicates on page reload\n",
       "            var notifiedDiv = document.createElement(\"div\")\n",
       "            notifiedDiv.id = \"e2c63986-5f33-4984-b105-4260bb362227\"\n",
       "            element.append(notifiedDiv)\n",
       "        }\n",
       "\n",
       "        // only send notifications if the pageload is complete; this will\n",
       "        // help stop extra notifications when a saved notebook is loaded,\n",
       "        // which during testing gives us state \"interactive\", not \"complete\"\n",
       "        if (document.readyState === 'complete') {\n",
       "            // check for the div that signifies that the notification\n",
       "            // was already sent\n",
       "            if (document.getElementById(\"e2c63986-5f33-4984-b105-4260bb362227\") === null) {\n",
       "                var notificationPayload = {\"body\": \"Cell Execution Has Finished!!\", \"requireInteraction\": false, \"icon\": \"/static/base/images/favicon.ico\"};\n",
       "                if (Notification.permission !== 'denied') {\n",
       "                    if (Notification.permission !== 'granted') { \n",
       "                        Notification.requestPermission(function (permission) {\n",
       "                            if(!('permission' in Notification)) {\n",
       "                                Notification.permission = permission\n",
       "                            }\n",
       "                            if (Notification.permission === 'granted') {\n",
       "                                var notification = new Notification(\"Jupyter Notebook\", notificationPayload)\n",
       "                                appendUniqueDiv()\n",
       "                            }\n",
       "                        })\n",
       "                    } else if (Notification.permission === 'granted') {\n",
       "                        var notification = new Notification(\"Jupyter Notebook\", notificationPayload)\n",
       "                        appendUniqueDiv()\n",
       "                    }\n",
       "                }\n",
       "            }\n",
       "        }\n",
       "    }\n",
       ")\n"
      ],
      "text/plain": [
       "<IPython.core.display.Javascript object>"
      ]
     },
     "metadata": {},
     "output_type": "display_data"
    }
   ],
   "source": [
    "%%notify\n",
    "from xgboost import XGBRegressor\n",
    "xgb= XGBRegressor(nthread=-1)\n",
    "\n",
    "X_train, X_test, y_train, y_test = train_test_split(\n",
    "    X, y, test_size=0.2)\n",
    "\n",
    "learning_rate=np.arange(0.3,0.9,0.2)\n",
    "gamma = np.arange(0.1,0.9,0.1)\n",
    "subsample = [1]\n",
    "\n",
    "param_grid = {\"learning_rate\": learning_rate,'min_child_weight':[1,3],'gamma':gamma,'subsample':subsample}\n",
    "\n",
    "search = RandomizedSearchCV(xgb, param_distributions=param_grid ,cv=cv,n_iter=iteraciones_de_searchs,scoring=tipo_puntaje) \n",
    "start = time()\n",
    "search.fit(X_train, y_train)\n",
    "\n",
    "print(\"GridSearchCV duro %.2f segundos para %d candidatos a hiper-parametros.\"\n",
    "    % (time() - start, len(search.cv_results_['params'])))\n",
    "print(\"\")\n",
    "score.report_single(search.cv_results_)"
   ]
  },
  {
   "cell_type": "code",
   "execution_count": 11,
   "metadata": {
    "collapsed": true
   },
   "outputs": [],
   "source": [
    "xgboost = search.best_estimator_"
   ]
  },
  {
   "cell_type": "markdown",
   "metadata": {},
   "source": [
    "# RF"
   ]
  },
  {
   "cell_type": "code",
   "execution_count": 13,
   "metadata": {},
   "outputs": [
    {
     "name": "stdout",
     "output_type": "stream",
     "text": [
      "GridSearchCV duro 1119.57 segundos para 20 candidatos a hiper-parametros.\n",
      "\n",
      "Puesto: 1\n",
      "Promedio training score: 0.973 (std: 0.000)\n",
      "Promedio validation score: 0.821 (std: 0.004)\n",
      "Promedio fit time: 14.444s\n",
      "Hiper-parametros: {'n_estimators': 95, 'max_features': 'auto', 'criterion': 'mse'}\n",
      "\n",
      "Puesto: 2\n",
      "Promedio training score: 0.973 (std: 0.000)\n",
      "Promedio validation score: 0.821 (std: 0.003)\n",
      "Promedio fit time: 13.192s\n",
      "Hiper-parametros: {'n_estimators': 90, 'max_features': 'auto', 'criterion': 'mse'}\n",
      "\n",
      "Puesto: 3\n",
      "Promedio training score: 0.973 (std: 0.000)\n",
      "Promedio validation score: 0.820 (std: 0.003)\n",
      "Promedio fit time: 11.200s\n",
      "Hiper-parametros: {'n_estimators': 85, 'max_features': None, 'criterion': 'mse'}\n",
      "\n",
      "Puesto: 4\n",
      "Promedio training score: 0.973 (std: 0.000)\n",
      "Promedio validation score: 0.820 (std: 0.003)\n",
      "Promedio fit time: 12.148s\n",
      "Hiper-parametros: {'n_estimators': 95, 'max_features': None, 'criterion': 'mse'}\n",
      "\n",
      "Puesto: 5\n",
      "Promedio training score: 0.973 (std: 0.000)\n",
      "Promedio validation score: 0.820 (std: 0.003)\n",
      "Promedio fit time: 12.426s\n",
      "Hiper-parametros: {'n_estimators': 90, 'max_features': None, 'criterion': 'mse'}\n",
      "\n",
      "Puesto: 6\n",
      "Promedio training score: 0.973 (std: 0.000)\n",
      "Promedio validation score: 0.820 (std: 0.003)\n",
      "Promedio fit time: 12.417s\n",
      "Hiper-parametros: {'n_estimators': 85, 'max_features': 'auto', 'criterion': 'mse'}\n",
      "\n",
      "Puesto: 7\n",
      "Promedio training score: 0.973 (std: 0.000)\n",
      "Promedio validation score: 0.820 (std: 0.003)\n",
      "Promedio fit time: 10.323s\n",
      "Hiper-parametros: {'n_estimators': 80, 'max_features': 'auto', 'criterion': 'mse'}\n",
      "\n",
      "Puesto: 8\n",
      "Promedio training score: 0.973 (std: 0.000)\n",
      "Promedio validation score: 0.820 (std: 0.003)\n",
      "Promedio fit time: 11.517s\n",
      "Hiper-parametros: {'n_estimators': 80, 'max_features': None, 'criterion': 'mse'}\n",
      "\n",
      "Puesto: 9\n",
      "Promedio training score: 0.973 (std: 0.000)\n",
      "Promedio validation score: 0.819 (std: 0.003)\n",
      "Promedio fit time: 9.443s\n",
      "Hiper-parametros: {'n_estimators': 65, 'max_features': None, 'criterion': 'mse'}\n",
      "\n",
      "Puesto: 10\n",
      "Promedio training score: 0.973 (std: 0.000)\n",
      "Promedio validation score: 0.819 (std: 0.003)\n",
      "Promedio fit time: 9.099s\n",
      "Hiper-parametros: {'n_estimators': 65, 'max_features': 'auto', 'criterion': 'mse'}\n",
      "\n"
     ]
    },
    {
     "data": {
      "application/javascript": [
       "$(document).ready(\n",
       "    function() {\n",
       "        function appendUniqueDiv(){\n",
       "            // append a div with our uuid so we can check that it's already\n",
       "            // been sent and avoid duplicates on page reload\n",
       "            var notifiedDiv = document.createElement(\"div\")\n",
       "            notifiedDiv.id = \"51290f3a-1c94-41d2-8892-09d3ca39df23\"\n",
       "            element.append(notifiedDiv)\n",
       "        }\n",
       "\n",
       "        // only send notifications if the pageload is complete; this will\n",
       "        // help stop extra notifications when a saved notebook is loaded,\n",
       "        // which during testing gives us state \"interactive\", not \"complete\"\n",
       "        if (document.readyState === 'complete') {\n",
       "            // check for the div that signifies that the notification\n",
       "            // was already sent\n",
       "            if (document.getElementById(\"51290f3a-1c94-41d2-8892-09d3ca39df23\") === null) {\n",
       "                var notificationPayload = {\"body\": \"Cell Execution Has Finished!!\", \"requireInteraction\": false, \"icon\": \"/static/base/images/favicon.ico\"};\n",
       "                if (Notification.permission !== 'denied') {\n",
       "                    if (Notification.permission !== 'granted') { \n",
       "                        Notification.requestPermission(function (permission) {\n",
       "                            if(!('permission' in Notification)) {\n",
       "                                Notification.permission = permission\n",
       "                            }\n",
       "                            if (Notification.permission === 'granted') {\n",
       "                                var notification = new Notification(\"Jupyter Notebook\", notificationPayload)\n",
       "                                appendUniqueDiv()\n",
       "                            }\n",
       "                        })\n",
       "                    } else if (Notification.permission === 'granted') {\n",
       "                        var notification = new Notification(\"Jupyter Notebook\", notificationPayload)\n",
       "                        appendUniqueDiv()\n",
       "                    }\n",
       "                }\n",
       "            }\n",
       "        }\n",
       "    }\n",
       ")\n"
      ],
      "text/plain": [
       "<IPython.core.display.Javascript object>"
      ]
     },
     "metadata": {},
     "output_type": "display_data"
    }
   ],
   "source": [
    "%%notify\n",
    "\n",
    "rf = RandomForestRegressor(n_jobs=-1)\n",
    "\n",
    "X_train, X_test, y_train, y_test = train_test_split(\n",
    "    X, y, test_size=0.2)\n",
    "\n",
    "criterion = ['mse']\n",
    "max_features =[\"auto\",None]\n",
    "n_estimators = np.arange(40,100,5)\n",
    "\n",
    "X_train, X_test, y_train, y_test = train_test_split(\n",
    "    X, y, test_size=0.2)\n",
    "\n",
    "param_grid = {\"criterion\": criterion,\"max_features\":max_features,\"n_estimators\":n_estimators}\n",
    "\n",
    "search = RandomizedSearchCV(rf, param_distributions=param_grid ,cv=cv,n_iter=iteraciones_de_searchs,scoring=tipo_puntaje) #refit deja el estimador fiteado con los mejores hiperparametros\n",
    "start = time()\n",
    "search.fit(X_train, y_train)\n",
    "\n",
    "print(\"GridSearchCV duro %.2f segundos para %d candidatos a hiper-parametros.\"\n",
    "    % (time() - start, len(search.cv_results_['params'])))\n",
    "print(\"\")\n",
    "score.report_single(search.cv_results_)"
   ]
  },
  {
   "cell_type": "code",
   "execution_count": 14,
   "metadata": {
    "collapsed": true
   },
   "outputs": [],
   "source": [
    "rf= search.best_estimator_"
   ]
  },
  {
   "cell_type": "code",
   "execution_count": 15,
   "metadata": {},
   "outputs": [
    {
     "data": {
      "text/plain": [
       "array([  8.17441973e-02,   6.25368372e-01,   1.11166586e-01,\n",
       "         1.51355090e-02,   6.09481442e-03,   4.90514159e-03,\n",
       "         6.02154820e-03,   4.42486654e-02,   5.61648298e-03,\n",
       "         8.05274279e-03,   6.09697320e-03,   4.75145870e-03,\n",
       "         4.29987434e-03,   1.12289113e-02,   6.00861089e-03,\n",
       "         9.76118265e-03,   4.44102030e-03,   6.32260131e-03,\n",
       "         3.35512972e-03,   4.82324102e-03,   5.40928603e-03,\n",
       "         3.45216402e-03,   4.90911461e-03,   4.66610937e-04,\n",
       "         2.46695049e-03,   2.52531413e-03,   5.88490637e-03,\n",
       "         2.51211469e-03,   2.93047583e-03])"
      ]
     },
     "execution_count": 15,
     "metadata": {},
     "output_type": "execute_result"
    }
   ],
   "source": [
    "rf.feature_importances_"
   ]
  },
  {
   "cell_type": "markdown",
   "metadata": {},
   "source": [
    "# ETR"
   ]
  },
  {
   "cell_type": "code",
   "execution_count": 16,
   "metadata": {},
   "outputs": [
    {
     "name": "stdout",
     "output_type": "stream",
     "text": [
      "GridSearchCV duro 660.74 segundos para 12 candidatos a hiper-parametros.\n",
      "\n",
      "Puesto: 1\n",
      "Promedio training score: 0.998 (std: 0.000)\n",
      "Promedio validation score: 0.787 (std: 0.008)\n",
      "Promedio fit time: 12.222s\n",
      "Hiper-parametros: {'n_estimators': 95}\n",
      "\n",
      "Puesto: 2\n",
      "Promedio training score: 0.998 (std: 0.000)\n",
      "Promedio validation score: 0.786 (std: 0.008)\n",
      "Promedio fit time: 11.851s\n",
      "Hiper-parametros: {'n_estimators': 85}\n",
      "\n",
      "Puesto: 3\n",
      "Promedio training score: 0.998 (std: 0.000)\n",
      "Promedio validation score: 0.786 (std: 0.008)\n",
      "Promedio fit time: 12.348s\n",
      "Hiper-parametros: {'n_estimators': 90}\n",
      "\n",
      "Puesto: 4\n",
      "Promedio training score: 0.998 (std: 0.000)\n",
      "Promedio validation score: 0.785 (std: 0.009)\n",
      "Promedio fit time: 10.908s\n",
      "Hiper-parametros: {'n_estimators': 75}\n",
      "\n",
      "Puesto: 5\n",
      "Promedio training score: 0.998 (std: 0.000)\n",
      "Promedio validation score: 0.785 (std: 0.008)\n",
      "Promedio fit time: 11.122s\n",
      "Hiper-parametros: {'n_estimators': 80}\n",
      "\n",
      "Puesto: 6\n",
      "Promedio training score: 0.998 (std: 0.000)\n",
      "Promedio validation score: 0.785 (std: 0.008)\n",
      "Promedio fit time: 10.063s\n",
      "Hiper-parametros: {'n_estimators': 70}\n",
      "\n",
      "Puesto: 7\n",
      "Promedio training score: 0.998 (std: 0.000)\n",
      "Promedio validation score: 0.785 (std: 0.009)\n",
      "Promedio fit time: 8.686s\n",
      "Hiper-parametros: {'n_estimators': 65}\n",
      "\n",
      "Puesto: 8\n",
      "Promedio training score: 0.998 (std: 0.000)\n",
      "Promedio validation score: 0.784 (std: 0.009)\n",
      "Promedio fit time: 7.473s\n",
      "Hiper-parametros: {'n_estimators': 50}\n",
      "\n",
      "Puesto: 9\n",
      "Promedio training score: 0.998 (std: 0.000)\n",
      "Promedio validation score: 0.784 (std: 0.009)\n",
      "Promedio fit time: 7.862s\n",
      "Hiper-parametros: {'n_estimators': 60}\n",
      "\n",
      "Puesto: 10\n",
      "Promedio training score: 0.998 (std: 0.000)\n",
      "Promedio validation score: 0.784 (std: 0.009)\n",
      "Promedio fit time: 7.697s\n",
      "Hiper-parametros: {'n_estimators': 55}\n",
      "\n"
     ]
    },
    {
     "data": {
      "application/javascript": [
       "$(document).ready(\n",
       "    function() {\n",
       "        function appendUniqueDiv(){\n",
       "            // append a div with our uuid so we can check that it's already\n",
       "            // been sent and avoid duplicates on page reload\n",
       "            var notifiedDiv = document.createElement(\"div\")\n",
       "            notifiedDiv.id = \"ae800d43-e25f-4e41-bf7d-392506e89d05\"\n",
       "            element.append(notifiedDiv)\n",
       "        }\n",
       "\n",
       "        // only send notifications if the pageload is complete; this will\n",
       "        // help stop extra notifications when a saved notebook is loaded,\n",
       "        // which during testing gives us state \"interactive\", not \"complete\"\n",
       "        if (document.readyState === 'complete') {\n",
       "            // check for the div that signifies that the notification\n",
       "            // was already sent\n",
       "            if (document.getElementById(\"ae800d43-e25f-4e41-bf7d-392506e89d05\") === null) {\n",
       "                var notificationPayload = {\"body\": \"Cell Execution Has Finished!!\", \"requireInteraction\": false, \"icon\": \"/static/base/images/favicon.ico\"};\n",
       "                if (Notification.permission !== 'denied') {\n",
       "                    if (Notification.permission !== 'granted') { \n",
       "                        Notification.requestPermission(function (permission) {\n",
       "                            if(!('permission' in Notification)) {\n",
       "                                Notification.permission = permission\n",
       "                            }\n",
       "                            if (Notification.permission === 'granted') {\n",
       "                                var notification = new Notification(\"Jupyter Notebook\", notificationPayload)\n",
       "                                appendUniqueDiv()\n",
       "                            }\n",
       "                        })\n",
       "                    } else if (Notification.permission === 'granted') {\n",
       "                        var notification = new Notification(\"Jupyter Notebook\", notificationPayload)\n",
       "                        appendUniqueDiv()\n",
       "                    }\n",
       "                }\n",
       "            }\n",
       "        }\n",
       "    }\n",
       ")\n"
      ],
      "text/plain": [
       "<IPython.core.display.Javascript object>"
      ]
     },
     "metadata": {},
     "output_type": "display_data"
    }
   ],
   "source": [
    "%%notify\n",
    "\n",
    "etr = ExtraTreesRegressor(n_jobs=-1)\n",
    "\n",
    "n_estimators = np.arange(40,100,5)\n",
    "\n",
    "X_train, X_test, y_train, y_test = train_test_split(\n",
    "    X, y, test_size=0.2)\n",
    "\n",
    "param_grid = {\"n_estimators\":n_estimators}\n",
    "\n",
    "search = GridSearchCV(etr, param_grid=param_grid ,cv=cv,scoring=tipo_puntaje) #refit deja el estimador fiteado con los mejores hiperparametros\n",
    "start = time()\n",
    "search.fit(X_train, y_train)\n",
    "\n",
    "print(\"GridSearchCV duro %.2f segundos para %d candidatos a hiper-parametros.\"\n",
    "    % (time() - start, len(search.cv_results_['params'])))\n",
    "print(\"\")\n",
    "score.report_single(search.cv_results_)"
   ]
  },
  {
   "cell_type": "code",
   "execution_count": 17,
   "metadata": {
    "collapsed": true
   },
   "outputs": [],
   "source": [
    "etr= search.best_estimator_"
   ]
  },
  {
   "cell_type": "code",
   "execution_count": 18,
   "metadata": {},
   "outputs": [
    {
     "data": {
      "text/plain": [
       "array([ 0.07987249,  0.30023241,  0.05795849,  0.01637123,  0.00947262,\n",
       "        0.009189  ,  0.01400762,  0.29010424,  0.01499539,  0.01435476,\n",
       "        0.02494927,  0.0105751 ,  0.00921682,  0.01494102,  0.01155181,\n",
       "        0.01173841,  0.00925077,  0.01342608,  0.0082707 ,  0.01036789,\n",
       "        0.01384984,  0.0070396 ,  0.00850296,  0.00885769,  0.00530134,\n",
       "        0.0060109 ,  0.00906372,  0.0047486 ,  0.00577922])"
      ]
     },
     "execution_count": 18,
     "metadata": {},
     "output_type": "execute_result"
    }
   ],
   "source": [
    "etr.feature_importances_"
   ]
  },
  {
   "cell_type": "markdown",
   "metadata": {},
   "source": [
    "# MLP"
   ]
  },
  {
   "cell_type": "code",
   "execution_count": 127,
   "metadata": {
    "collapsed": true
   },
   "outputs": [],
   "source": [
    "from sklearn.neural_network import MLPRegressor"
   ]
  },
  {
   "cell_type": "code",
   "execution_count": 128,
   "metadata": {},
   "outputs": [
    {
     "name": "stdout",
     "output_type": "stream",
     "text": [
      "GridSearchCV duro 64.37 segundos para 1 candidatos a hiper-parametros.\n",
      "\n",
      "Puesto: 1\n",
      "Promedio training score: -48649291414.936 (std: 1278210409.982)\n",
      "Promedio validation score: -48843115430.570 (std: 5226556298.293)\n",
      "Promedio fit time: 10.628s\n",
      "Hiper-parametros: {'activation': 'identity'}\n",
      "\n"
     ]
    },
    {
     "data": {
      "application/javascript": [
       "$(document).ready(\n",
       "    function() {\n",
       "        function appendUniqueDiv(){\n",
       "            // append a div with our uuid so we can check that it's already\n",
       "            // been sent and avoid duplicates on page reload\n",
       "            var notifiedDiv = document.createElement(\"div\")\n",
       "            notifiedDiv.id = \"12a08486-548d-46c5-855e-660e239cec70\"\n",
       "            element.append(notifiedDiv)\n",
       "        }\n",
       "\n",
       "        // only send notifications if the pageload is complete; this will\n",
       "        // help stop extra notifications when a saved notebook is loaded,\n",
       "        // which during testing gives us state \"interactive\", not \"complete\"\n",
       "        if (document.readyState === 'complete') {\n",
       "            // check for the div that signifies that the notification\n",
       "            // was already sent\n",
       "            if (document.getElementById(\"12a08486-548d-46c5-855e-660e239cec70\") === null) {\n",
       "                var notificationPayload = {\"body\": \"Cell Execution Has Finished!!\", \"requireInteraction\": false, \"icon\": \"/static/base/images/favicon.ico\"};\n",
       "                if (Notification.permission !== 'denied') {\n",
       "                    if (Notification.permission !== 'granted') { \n",
       "                        Notification.requestPermission(function (permission) {\n",
       "                            if(!('permission' in Notification)) {\n",
       "                                Notification.permission = permission\n",
       "                            }\n",
       "                            if (Notification.permission === 'granted') {\n",
       "                                var notification = new Notification(\"Jupyter Notebook\", notificationPayload)\n",
       "                                appendUniqueDiv()\n",
       "                            }\n",
       "                        })\n",
       "                    } else if (Notification.permission === 'granted') {\n",
       "                        var notification = new Notification(\"Jupyter Notebook\", notificationPayload)\n",
       "                        appendUniqueDiv()\n",
       "                    }\n",
       "                }\n",
       "            }\n",
       "        }\n",
       "    }\n",
       ")\n"
      ],
      "text/plain": [
       "<IPython.core.display.Javascript object>"
      ]
     },
     "metadata": {},
     "output_type": "display_data"
    }
   ],
   "source": [
    "%%notify\n",
    "\n",
    "mlp = MLPRegressor()\n",
    "\n",
    "#activation = [\"identity\", \"logistic\", \"tanh\", \"relu\"]\n",
    "activation = [\"identity\"]\n",
    "\n",
    "X_train, X_test, y_train, y_test = train_test_split(\n",
    "    X, y, test_size=0.2)\n",
    "\n",
    "param_grid = {\"activation\": activation}\n",
    "\n",
    "search = GridSearchCV(mlp, param_grid=param_grid ,cv=cv,scoring=tipo_puntaje) #refit deja el estimador fiteado con los mejores hiperparametros\n",
    "start = time()\n",
    "search.fit(X_train, y_train)\n",
    "\n",
    "print(\"GridSearchCV duro %.2f segundos para %d candidatos a hiper-parametros.\"\n",
    "    % (time() - start, len(search.cv_results_['params'])))\n",
    "print(\"\")\n",
    "score.report_single(search.cv_results_)"
   ]
  },
  {
   "cell_type": "code",
   "execution_count": 129,
   "metadata": {
    "collapsed": true
   },
   "outputs": [],
   "source": [
    "mlp=search.best_estimator_"
   ]
  },
  {
   "cell_type": "code",
   "execution_count": 130,
   "metadata": {},
   "outputs": [
    {
     "data": {
      "text/plain": [
       "-43791592775.715477"
      ]
     },
     "execution_count": 130,
     "metadata": {},
     "output_type": "execute_result"
    }
   ],
   "source": [
    "search.score(X_test,y_test)"
   ]
  },
  {
   "cell_type": "markdown",
   "metadata": {},
   "source": [
    "# Ensamble"
   ]
  },
  {
   "cell_type": "code",
   "execution_count": 19,
   "metadata": {
    "collapsed": true
   },
   "outputs": [],
   "source": [
    "from mlxtend.regressor import StackingRegressor\n",
    "\n",
    "stregr = StackingRegressor(regressors=[xgb,etr], \n",
    "                           meta_regressor=rf)"
   ]
  },
  {
   "cell_type": "code",
   "execution_count": 20,
   "metadata": {},
   "outputs": [
    {
     "data": {
      "text/plain": [
       "StackingRegressor(meta_regressor=RandomForestRegressor(bootstrap=True, criterion='mse', max_depth=None,\n",
       "           max_features='auto', max_leaf_nodes=None,\n",
       "           min_impurity_decrease=0.0, min_impurity_split=None,\n",
       "           min_samples_leaf=1, min_samples_split=2,\n",
       "           min_weight_fraction_leaf=0.0, n_estimators=95, n_jobs=-1,\n",
       "           oob_score=False, random_state=None, verbose=0, warm_start=False),\n",
       "         regressors=[XGBRegressor(base_score=0.5, colsample_bylevel=1, colsample_bytree=1, gamma=0,\n",
       "       learning_rate=0.1, max_delta_step=0, max_depth=3,\n",
       "       min_child_weight=1, missing=None, n_estimators=100, nthread=-1,\n",
       "       objective='reg:linear', reg_alpha=0, reg_lambda=1,\n",
       "       scale_pos_weight...stimators=95, n_jobs=-1,\n",
       "          oob_score=False, random_state=None, verbose=0, warm_start=False)],\n",
       "         verbose=0)"
      ]
     },
     "execution_count": 20,
     "metadata": {},
     "output_type": "execute_result"
    },
    {
     "data": {
      "application/javascript": [
       "$(document).ready(\n",
       "    function() {\n",
       "        function appendUniqueDiv(){\n",
       "            // append a div with our uuid so we can check that it's already\n",
       "            // been sent and avoid duplicates on page reload\n",
       "            var notifiedDiv = document.createElement(\"div\")\n",
       "            notifiedDiv.id = \"dec62df9-7632-4f41-89fd-acf85d05b796\"\n",
       "            element.append(notifiedDiv)\n",
       "        }\n",
       "\n",
       "        // only send notifications if the pageload is complete; this will\n",
       "        // help stop extra notifications when a saved notebook is loaded,\n",
       "        // which during testing gives us state \"interactive\", not \"complete\"\n",
       "        if (document.readyState === 'complete') {\n",
       "            // check for the div that signifies that the notification\n",
       "            // was already sent\n",
       "            if (document.getElementById(\"dec62df9-7632-4f41-89fd-acf85d05b796\") === null) {\n",
       "                var notificationPayload = {\"body\": \"Cell Execution Has Finished!!\", \"requireInteraction\": false, \"icon\": \"/static/base/images/favicon.ico\"};\n",
       "                if (Notification.permission !== 'denied') {\n",
       "                    if (Notification.permission !== 'granted') { \n",
       "                        Notification.requestPermission(function (permission) {\n",
       "                            if(!('permission' in Notification)) {\n",
       "                                Notification.permission = permission\n",
       "                            }\n",
       "                            if (Notification.permission === 'granted') {\n",
       "                                var notification = new Notification(\"Jupyter Notebook\", notificationPayload)\n",
       "                                appendUniqueDiv()\n",
       "                            }\n",
       "                        })\n",
       "                    } else if (Notification.permission === 'granted') {\n",
       "                        var notification = new Notification(\"Jupyter Notebook\", notificationPayload)\n",
       "                        appendUniqueDiv()\n",
       "                    }\n",
       "                }\n",
       "            }\n",
       "        }\n",
       "    }\n",
       ")\n"
      ],
      "text/plain": [
       "<IPython.core.display.Javascript object>"
      ]
     },
     "metadata": {},
     "output_type": "display_data"
    }
   ],
   "source": [
    "%%notify\n",
    "stregr.fit(X_train,y_train)"
   ]
  },
  {
   "cell_type": "code",
   "execution_count": 21,
   "metadata": {},
   "outputs": [
    {
     "data": {
      "text/plain": [
       "0.79930132987382674"
      ]
     },
     "execution_count": 21,
     "metadata": {},
     "output_type": "execute_result"
    }
   ],
   "source": [
    "stregr.score(X_test,y_test)"
   ]
  },
  {
   "cell_type": "code",
   "execution_count": 22,
   "metadata": {},
   "outputs": [
    {
     "name": "stdout",
     "output_type": "stream",
     "text": [
      "Error maximo:620042.105263\n",
      "Error minimo:0.0\n",
      "Con % \n",
      "Error maximo:10350.7878231%\n",
      "Error minimo:0.0%\n",
      "126407     -5541.804511\n",
      "74697      25557.894737\n",
      "61013      10127.368421\n",
      "126493      5224.435088\n",
      "130310    -53305.663158\n",
      "73061       1747.368421\n",
      "107737     -1442.198868\n",
      "114240     27273.684211\n",
      "104066    -11489.868324\n",
      "32375       8641.052632\n",
      "124754    -33292.631579\n",
      "94633      -3235.639098\n",
      "121148     -3353.684211\n",
      "3694        8321.052632\n",
      "60534       1326.315789\n",
      "69021      -9381.498947\n",
      "133444     -6094.736842\n",
      "12503      -2326.315789\n",
      "42819      -1136.842105\n",
      "22422     -33978.947368\n",
      "100531      2787.943222\n",
      "36305     -78311.063815\n",
      "107988     17819.458596\n",
      "61641       1989.473684\n",
      "51318      11927.438596\n",
      "18873      67221.052632\n",
      "15934     120592.982456\n",
      "10525      24601.726316\n",
      "16621      82880.754887\n",
      "70431     -15505.263158\n",
      "              ...      \n",
      "24022      -1147.368421\n",
      "97378      18445.473684\n",
      "135970      6685.087719\n",
      "113740     17912.207895\n",
      "117304     -7213.978947\n",
      "83344     -30578.947368\n",
      "73580        178.947368\n",
      "70252      -8877.978947\n",
      "129734    -69265.789474\n",
      "46130      -3211.428571\n",
      "10241       4621.013534\n",
      "21462       8869.178947\n",
      "62394       7176.491228\n",
      "129681    -16299.000000\n",
      "100578      7010.526316\n",
      "70005      -4505.263158\n",
      "91054      -2747.368421\n",
      "42510     -15122.148070\n",
      "33860      -5589.473684\n",
      "56226      -3926.315789\n",
      "26808     -30428.263158\n",
      "37858       4854.566667\n",
      "103667      9121.684211\n",
      "10573      55346.273684\n",
      "132525      6164.427970\n",
      "68262      33396.957895\n",
      "38774       5771.978947\n",
      "75717     -44136.544361\n",
      "17719     -25164.800000\n",
      "57490        831.578947\n",
      "Name: price_aprox_usd, Length: 26557, dtype: float64\n"
     ]
    }
   ],
   "source": [
    "errores = rf.predict(X_test)-y_test\n",
    "errores_porc = 100*((rf.predict(X_test)-y_test))/y_test\n",
    "print (\"Error maximo:{0}\\nError minimo:{1}\".format( max(abs(errores)),min(abs(errores))))\n",
    "print (\"Con % \\nError maximo:{0}%\\nError minimo:{1}%\".format( max(abs(errores_porc)),min(abs(errores_porc))))\n",
    "print(errores)"
   ]
  },
  {
   "cell_type": "code",
   "execution_count": 23,
   "metadata": {},
   "outputs": [
    {
     "name": "stdout",
     "output_type": "stream",
     "text": [
      "Hay 256 de 26557 que tienen mas de 100 % de error (0%)\n"
     ]
    }
   ],
   "source": [
    "count_max=0\n",
    "max_error=100\n",
    "lista=[]\n",
    "for error in errores_porc:\n",
    "    if error>max_error:\n",
    "        count_max+=1\n",
    "        lista.append(abs(errores_porc))\n",
    "print (\"Hay {0} de {1} que tienen mas de {2} % de error ({3}%)\".format(count_max,len(errores_porc),max_error,100 * count_max/len(errores_porc)))"
   ]
  },
  {
   "cell_type": "code",
   "execution_count": 24,
   "metadata": {},
   "outputs": [
    {
     "name": "stdout",
     "output_type": "stream",
     "text": [
      "Hay 5372 de 26557 que tienen mas de 10 % de error (20%)\n"
     ]
    }
   ],
   "source": [
    "count_max=0\n",
    "max_error=10\n",
    "lista=[]\n",
    "for error in errores_porc:\n",
    "    if error>max_error:\n",
    "        count_max+=1\n",
    "        lista.append(abs(errores_porc))\n",
    "print (\"Hay {0} de {1} que tienen mas de {2} % de error ({3}%)\".format(count_max,len(errores_porc),max_error,100 * count_max/len(errores_porc)))"
   ]
  },
  {
   "cell_type": "code",
   "execution_count": 25,
   "metadata": {},
   "outputs": [
    {
     "name": "stdout",
     "output_type": "stream",
     "text": [
      "Hay 8223 de 26557 que tienen mas de 5 % de error (30%)\n"
     ]
    }
   ],
   "source": [
    "count_max=0\n",
    "max_error=5\n",
    "lista=[]\n",
    "for error in errores_porc:\n",
    "    if error>max_error:\n",
    "        count_max+=1\n",
    "        lista.append(abs(errores_porc))\n",
    "print (\"Hay {0} de {1} que tienen mas de {2} % de error ({3}%)\".format(count_max,len(errores_porc),max_error,100 * count_max/len(errores_porc)))"
   ]
  },
  {
   "cell_type": "markdown",
   "metadata": {},
   "source": [
    "### Errores arriba del maximo. No esta funcionando se cuelga todo"
   ]
  },
  {
   "cell_type": "code",
   "execution_count": null,
   "metadata": {},
   "outputs": [],
   "source": [
    "# the histogram of the data\n",
    "plt.figure(figsize=(12,8))\n",
    "plt.hist(lista, 500, facecolor='blue')\n",
    "plt.xlabel('Errores')\n",
    "plt.ylabel('Cantidad')\n",
    "#plt.xlim(-10000000, 10000000) #para variar el \"zoom a 0\"\n",
    "plt.yscale('log')\n",
    "plt.show()"
   ]
  },
  {
   "cell_type": "markdown",
   "metadata": {},
   "source": [
    "### Errores totales"
   ]
  },
  {
   "cell_type": "code",
   "execution_count": null,
   "metadata": {
    "collapsed": true
   },
   "outputs": [],
   "source": [
    "# the histogram of the data\n",
    "plt.figure(figsize=(12,8))\n",
    "plt.hist(errores, 500, facecolor='blue')\n",
    "plt.xlabel('Errores')\n",
    "plt.ylabel('Cantidad')\n",
    "#plt.xlim(-10000000, 10000000) #para variar el \"zoom a 0\"\n",
    "plt.yscale('log')\n",
    "plt.xscale('log')\n",
    "plt.show()"
   ]
  },
  {
   "cell_type": "markdown",
   "metadata": {},
   "source": [
    "# Kaggle"
   ]
  },
  {
   "cell_type": "code",
   "execution_count": 69,
   "metadata": {},
   "outputs": [
    {
     "name": "stdout",
     "output_type": "stream",
     "text": [
      "<class 'pandas.core.frame.DataFrame'>\n",
      "RangeIndex: 14166 entries, 0 to 14165\n",
      "Data columns (total 17 columns):\n",
      "id                         14166 non-null int64\n",
      "created_on                 14166 non-null object\n",
      "property_type              14166 non-null object\n",
      "operation                  14166 non-null object\n",
      "place_name                 14166 non-null object\n",
      "place_with_parent_names    14166 non-null object\n",
      "country_name               14166 non-null object\n",
      "state_name                 14166 non-null object\n",
      "lat-lon                    10487 non-null object\n",
      "lat                        10487 non-null float64\n",
      "lon                        10487 non-null float64\n",
      "surface_total_in_m2        14166 non-null float64\n",
      "surface_covered_in_m2      14166 non-null float64\n",
      "floor                      1368 non-null float64\n",
      "rooms                      7500 non-null float64\n",
      "expenses                   2543 non-null object\n",
      "description                14166 non-null object\n",
      "dtypes: float64(6), int64(1), object(10)\n",
      "memory usage: 1.8+ MB\n"
     ]
    }
   ],
   "source": [
    "test_samples=pd.read_csv(\"datos/properati_dataset_testing_noprice_acondicionado.csv\")\n",
    "test_samples.info()"
   ]
  },
  {
   "cell_type": "code",
   "execution_count": 70,
   "metadata": {
    "collapsed": true
   },
   "outputs": [],
   "source": [
    "test= zip(test_samples['surface_total_in_m2'],\\\n",
    "        test_samples['surface_covered_in_m2'],le_barrio.transform(test_samples['place_name']))"
   ]
  },
  {
   "cell_type": "code",
   "execution_count": 71,
   "metadata": {
    "collapsed": true
   },
   "outputs": [],
   "source": [
    "resultados = stregr.predict(test)\n",
    "result=pd.DataFrame({'id':test_samples['id'],'price_usd':resultados})\n",
    "result.to_csv('datos/resultados.csv',index=False)"
   ]
  },
  {
   "cell_type": "code",
   "execution_count": null,
   "metadata": {
    "collapsed": true
   },
   "outputs": [],
   "source": []
  }
 ],
 "metadata": {
  "kernelspec": {
   "display_name": "Python 2",
   "language": "python",
   "name": "python2"
  },
  "language_info": {
   "codemirror_mode": {
    "name": "ipython",
    "version": 2
   },
   "file_extension": ".py",
   "mimetype": "text/x-python",
   "name": "python",
   "nbconvert_exporter": "python",
   "pygments_lexer": "ipython2",
   "version": "2.7.12"
  }
 },
 "nbformat": 4,
 "nbformat_minor": 2
}
