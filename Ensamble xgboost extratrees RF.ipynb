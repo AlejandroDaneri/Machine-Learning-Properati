{
 "cells": [
  {
   "cell_type": "code",
   "execution_count": 44,
   "metadata": {},
   "outputs": [
    {
     "data": {
      "text/html": [
       "<style>.container { width:97% !important; }</style>"
      ],
      "text/plain": [
       "<IPython.core.display.HTML object>"
      ]
     },
     "metadata": {},
     "output_type": "display_data"
    },
    {
     "data": {
      "application/javascript": [
       "if (!(\"Notification\" in window)) {\n",
       "    alert(\"This browser does not support desktop notifications, so the %%notify magic will not work.\");\n",
       "} else if (Notification.permission !== 'granted' && Notification.permission !== 'denied') {\n",
       "    Notification.requestPermission(function (permission) {\n",
       "        if(!('permission' in Notification)) {\n",
       "            Notification.permission = permission;\n",
       "        }\n",
       "    })\n",
       "}\n"
      ],
      "text/plain": [
       "<IPython.core.display.Javascript object>"
      ]
     },
     "metadata": {},
     "output_type": "display_data"
    }
   ],
   "source": [
    "import pandas as pd\n",
    "import numpy as np\n",
    "import matplotlib.pyplot as plt\n",
    "\n",
    "from IPython.core.display import display, HTML\n",
    "display(HTML(\"<style>.container { width:97% !important; }</style>\"))\n",
    "\n",
    "from sklearn.model_selection import GridSearchCV, RandomizedSearchCV, train_test_split\n",
    "from sklearn.ensemble import RandomForestRegressor,IsolationForest,ExtraTreesRegressor,GradientBoostingRegressor\n",
    "\n",
    "from sklearn import preprocessing\n",
    "import scoring as score # para hacer los reportes de puntajes\n",
    "from time import time\n",
    "\n",
    "import jupyternotify\n",
    "ip = get_ipython()\n",
    "ip.register_magics(jupyternotify.JupyterNotifyMagics)\n",
    "\n",
    "import scoring as score # para hacer los reportes de puntajes\n",
    "\n",
    "properati = pd.read_csv('datos/properati_3.csv')\n",
    "zonas = pd.read_csv('datos/todos_los_barrios.csv')\n",
    "\n",
    "tipo_puntaje=\"r2\"\n",
    "iteraciones_de_searchs=20\n",
    "cv=5"
   ]
  },
  {
   "cell_type": "markdown",
   "metadata": {},
   "source": [
    "# Preprocesamiento"
   ]
  },
  {
   "cell_type": "code",
   "execution_count": 45,
   "metadata": {},
   "outputs": [],
   "source": [
    "#paso features con strings a numericos\n",
    "le_zona = preprocessing.LabelEncoder()\n",
    "properati['state_name'] =le_zona.fit_transform(properati['state_name'])\n",
    "\n",
    "le_barrio = preprocessing.LabelEncoder()\n",
    "le_barrio.fit(zonas.values)\n",
    "properati['place_name'] = le_barrio.transform(properati['place_name'])\n",
    "\n",
    "le_tipo = preprocessing.LabelEncoder()\n",
    "properati['property_type'] = le_tipo.fit_transform(properati['property_type'])"
   ]
  },
  {
   "cell_type": "code",
   "execution_count": 46,
   "metadata": {},
   "outputs": [
    {
     "name": "stdout",
     "output_type": "stream",
     "text": [
      "126957\n",
      "126568\n"
     ]
    }
   ],
   "source": [
    "properati=properati.loc[properati.price_aprox_usd<1e6]\n",
    "properati=properati.loc[properati.surface_covered_in_m2<7000]\n",
    "print len(properati)\n",
    "properati=properati.groupby(\"place_name\").filter(lambda x: len(x)>5)\n",
    "print len(properati)"
   ]
  },
  {
   "cell_type": "code",
   "execution_count": 47,
   "metadata": {
    "collapsed": true
   },
   "outputs": [],
   "source": [
    "#preparo set de datos\n",
    "X = zip(properati['surface_total_in_m2'],\\\n",
    "        properati['surface_covered_in_m2'],properati['place_name'])\n",
    "y = properati[\"price_aprox_usd\"]"
   ]
  },
  {
   "cell_type": "code",
   "execution_count": 48,
   "metadata": {},
   "outputs": [
    {
     "name": "stdout",
     "output_type": "stream",
     "text": [
      "113911\n"
     ]
    }
   ],
   "source": [
    "Z= zip(properati['surface_total_in_m2'],\\\n",
    "        properati['surface_covered_in_m2'],properati['place_name'],properati[\"price_aprox_usd\"])\n",
    "\n",
    "outs = IsolationForest(n_jobs=-1,n_estimators=50)\n",
    "outs.fit(Z)\n",
    "\n",
    "len(Z)\n",
    "\n",
    "nuevo_aux =zip(X,outs.predict(Z)) \n",
    "\n",
    "nuevo=[tupla for tupla in nuevo_aux if tupla[1]==1] #solo necesito lo que devuelve predecir Z y no el Z en si\n",
    "print len(nuevo)\n",
    "nuevo=[tupla[0] for tupla in nuevo_aux]\n",
    "X=nuevo"
   ]
  },
  {
   "cell_type": "markdown",
   "metadata": {},
   "source": [
    "# XGBoost"
   ]
  },
  {
   "cell_type": "code",
   "execution_count": 49,
   "metadata": {},
   "outputs": [
    {
     "name": "stdout",
     "output_type": "stream",
     "text": [
      "GridSearchCV duro 154.61 segundos para 20 candidatos a hiper-parametros.\n",
      "\n",
      "Puesto: 1\n",
      "Promedio training score: 0.749 (std: 0.002)\n",
      "Promedio validation score: 0.731 (std: 0.005)\n",
      "Promedio fit time: 1.564s\n",
      "Hiper-parametros: {'subsample': 1, 'learning_rate': 0.90000000000000013, 'gamma': 0.5, 'min_child_weight': 3}\n",
      "\n",
      "Puesto: 1\n",
      "Promedio training score: 0.749 (std: 0.002)\n",
      "Promedio validation score: 0.731 (std: 0.005)\n",
      "Promedio fit time: 0.942s\n",
      "Hiper-parametros: {'subsample': 1, 'learning_rate': 0.90000000000000013, 'gamma': 0.20000000000000001, 'min_child_weight': 3}\n",
      "\n",
      "Puesto: 1\n",
      "Promedio training score: 0.749 (std: 0.002)\n",
      "Promedio validation score: 0.731 (std: 0.005)\n",
      "Promedio fit time: 1.547s\n",
      "Hiper-parametros: {'subsample': 1, 'learning_rate': 0.90000000000000013, 'gamma': 0.10000000000000001, 'min_child_weight': 3}\n",
      "\n",
      "Puesto: 4\n",
      "Promedio training score: 0.749 (std: 0.002)\n",
      "Promedio validation score: 0.731 (std: 0.006)\n",
      "Promedio fit time: 0.866s\n",
      "Hiper-parametros: {'subsample': 1, 'learning_rate': 0.90000000000000013, 'gamma': 0.80000000000000004, 'min_child_weight': 1}\n",
      "\n",
      "Puesto: 5\n",
      "Promedio training score: 0.745 (std: 0.002)\n",
      "Promedio validation score: 0.730 (std: 0.007)\n",
      "Promedio fit time: 1.129s\n",
      "Hiper-parametros: {'subsample': 1, 'learning_rate': 0.69999999999999996, 'gamma': 0.20000000000000001, 'min_child_weight': 1}\n",
      "\n",
      "Puesto: 6\n",
      "Promedio training score: 0.745 (std: 0.001)\n",
      "Promedio validation score: 0.730 (std: 0.007)\n",
      "Promedio fit time: 1.556s\n",
      "Hiper-parametros: {'subsample': 1, 'learning_rate': 0.69999999999999996, 'gamma': 0.10000000000000001, 'min_child_weight': 3}\n",
      "\n",
      "Puesto: 7\n",
      "Promedio training score: 0.738 (std: 0.002)\n",
      "Promedio validation score: 0.727 (std: 0.005)\n",
      "Promedio fit time: 1.085s\n",
      "Hiper-parametros: {'subsample': 1, 'learning_rate': 0.5, 'gamma': 0.5, 'min_child_weight': 1}\n",
      "\n",
      "Puesto: 8\n",
      "Promedio training score: 0.738 (std: 0.002)\n",
      "Promedio validation score: 0.726 (std: 0.006)\n",
      "Promedio fit time: 1.061s\n",
      "Hiper-parametros: {'subsample': 1, 'learning_rate': 0.5, 'gamma': 0.5, 'min_child_weight': 3}\n",
      "\n",
      "Puesto: 8\n",
      "Promedio training score: 0.738 (std: 0.002)\n",
      "Promedio validation score: 0.726 (std: 0.006)\n",
      "Promedio fit time: 1.021s\n",
      "Hiper-parametros: {'subsample': 1, 'learning_rate': 0.5, 'gamma': 0.20000000000000001, 'min_child_weight': 3}\n",
      "\n",
      "Puesto: 8\n",
      "Promedio training score: 0.738 (std: 0.002)\n",
      "Promedio validation score: 0.726 (std: 0.006)\n",
      "Promedio fit time: 0.939s\n",
      "Hiper-parametros: {'subsample': 1, 'learning_rate': 0.5, 'gamma': 0.70000000000000007, 'min_child_weight': 3}\n",
      "\n",
      "Puesto: 8\n",
      "Promedio training score: 0.738 (std: 0.002)\n",
      "Promedio validation score: 0.726 (std: 0.006)\n",
      "Promedio fit time: 1.181s\n",
      "Hiper-parametros: {'subsample': 1, 'learning_rate': 0.5, 'gamma': 0.30000000000000004, 'min_child_weight': 3}\n",
      "\n",
      "Puesto: 8\n",
      "Promedio training score: 0.738 (std: 0.002)\n",
      "Promedio validation score: 0.726 (std: 0.006)\n",
      "Promedio fit time: 0.868s\n",
      "Hiper-parametros: {'subsample': 1, 'learning_rate': 0.5, 'gamma': 0.10000000000000001, 'min_child_weight': 3}\n",
      "\n"
     ]
    },
    {
     "data": {
      "application/javascript": [
       "$(document).ready(\n",
       "    function() {\n",
       "        function appendUniqueDiv(){\n",
       "            // append a div with our uuid so we can check that it's already\n",
       "            // been sent and avoid duplicates on page reload\n",
       "            var notifiedDiv = document.createElement(\"div\")\n",
       "            notifiedDiv.id = \"f5bb0637-71ed-4c66-82e9-8c8a33d210d7\"\n",
       "            element.append(notifiedDiv)\n",
       "        }\n",
       "\n",
       "        // only send notifications if the pageload is complete; this will\n",
       "        // help stop extra notifications when a saved notebook is loaded,\n",
       "        // which during testing gives us state \"interactive\", not \"complete\"\n",
       "        if (document.readyState === 'complete') {\n",
       "            // check for the div that signifies that the notification\n",
       "            // was already sent\n",
       "            if (document.getElementById(\"f5bb0637-71ed-4c66-82e9-8c8a33d210d7\") === null) {\n",
       "                var notificationPayload = {\"body\": \"Cell Execution Has Finished!!\", \"requireInteraction\": false, \"icon\": \"/static/base/images/favicon.ico\"};\n",
       "                if (Notification.permission !== 'denied') {\n",
       "                    if (Notification.permission !== 'granted') { \n",
       "                        Notification.requestPermission(function (permission) {\n",
       "                            if(!('permission' in Notification)) {\n",
       "                                Notification.permission = permission\n",
       "                            }\n",
       "                            if (Notification.permission === 'granted') {\n",
       "                                var notification = new Notification(\"Jupyter Notebook\", notificationPayload)\n",
       "                                appendUniqueDiv()\n",
       "                            }\n",
       "                        })\n",
       "                    } else if (Notification.permission === 'granted') {\n",
       "                        var notification = new Notification(\"Jupyter Notebook\", notificationPayload)\n",
       "                        appendUniqueDiv()\n",
       "                    }\n",
       "                }\n",
       "            }\n",
       "        }\n",
       "    }\n",
       ")\n"
      ],
      "text/plain": [
       "<IPython.core.display.Javascript object>"
      ]
     },
     "metadata": {},
     "output_type": "display_data"
    }
   ],
   "source": [
    "%%notify\n",
    "from xgboost import XGBRegressor\n",
    "xgb= XGBRegressor(nthread=-1)\n",
    "\n",
    "X_train, X_test, y_train, y_test = train_test_split(\n",
    "    X, y, test_size=0.2)\n",
    "\n",
    "learning_rate=np.arange(0.3,0.9,0.2)\n",
    "gamma = np.arange(0.1,0.9,0.1)\n",
    "subsample = [1]\n",
    "\n",
    "param_grid = {\"learning_rate\": learning_rate,'min_child_weight':[1,3],'gamma':gamma,'subsample':subsample}\n",
    "\n",
    "search = RandomizedSearchCV(xgb, param_distributions=param_grid ,cv=cv,n_iter=iteraciones_de_searchs,scoring=tipo_puntaje) \n",
    "start = time()\n",
    "search.fit(X_train, y_train)\n",
    "\n",
    "print(\"GridSearchCV duro %.2f segundos para %d candidatos a hiper-parametros.\"\n",
    "    % (time() - start, len(search.cv_results_['params'])))\n",
    "print(\"\")\n",
    "score.report_single(search.cv_results_)"
   ]
  },
  {
   "cell_type": "code",
   "execution_count": 50,
   "metadata": {
    "collapsed": true
   },
   "outputs": [],
   "source": [
    "xgboost = search.best_estimator_"
   ]
  },
  {
   "cell_type": "markdown",
   "metadata": {},
   "source": [
    "# RF"
   ]
  },
  {
   "cell_type": "code",
   "execution_count": 51,
   "metadata": {},
   "outputs": [
    {
     "name": "stdout",
     "output_type": "stream",
     "text": [
      "GridSearchCV duro 397.87 segundos para 20 candidatos a hiper-parametros.\n",
      "\n",
      "Puesto: 1\n",
      "Promedio training score: 0.915 (std: 0.001)\n",
      "Promedio validation score: 0.765 (std: 0.004)\n",
      "Promedio fit time: 3.555s\n",
      "Hiper-parametros: {'n_estimators': 95, 'max_features': None, 'criterion': 'mse'}\n",
      "\n",
      "Puesto: 2\n",
      "Promedio training score: 0.915 (std: 0.001)\n",
      "Promedio validation score: 0.764 (std: 0.004)\n",
      "Promedio fit time: 3.452s\n",
      "Hiper-parametros: {'n_estimators': 80, 'max_features': 'auto', 'criterion': 'mse'}\n",
      "\n",
      "Puesto: 3\n",
      "Promedio training score: 0.915 (std: 0.001)\n",
      "Promedio validation score: 0.764 (std: 0.004)\n",
      "Promedio fit time: 3.505s\n",
      "Hiper-parametros: {'n_estimators': 95, 'max_features': 'auto', 'criterion': 'mse'}\n",
      "\n",
      "Puesto: 4\n",
      "Promedio training score: 0.915 (std: 0.001)\n",
      "Promedio validation score: 0.764 (std: 0.004)\n",
      "Promedio fit time: 3.725s\n",
      "Hiper-parametros: {'n_estimators': 85, 'max_features': 'auto', 'criterion': 'mse'}\n",
      "\n",
      "Puesto: 5\n",
      "Promedio training score: 0.915 (std: 0.001)\n",
      "Promedio validation score: 0.764 (std: 0.004)\n",
      "Promedio fit time: 3.861s\n",
      "Hiper-parametros: {'n_estimators': 90, 'max_features': 'auto', 'criterion': 'mse'}\n",
      "\n",
      "Puesto: 6\n",
      "Promedio training score: 0.915 (std: 0.001)\n",
      "Promedio validation score: 0.764 (std: 0.004)\n",
      "Promedio fit time: 3.630s\n",
      "Hiper-parametros: {'n_estimators': 90, 'max_features': None, 'criterion': 'mse'}\n",
      "\n",
      "Puesto: 7\n",
      "Promedio training score: 0.915 (std: 0.001)\n",
      "Promedio validation score: 0.764 (std: 0.004)\n",
      "Promedio fit time: 2.813s\n",
      "Hiper-parametros: {'n_estimators': 65, 'max_features': 'auto', 'criterion': 'mse'}\n",
      "\n",
      "Puesto: 8\n",
      "Promedio training score: 0.915 (std: 0.001)\n",
      "Promedio validation score: 0.764 (std: 0.004)\n",
      "Promedio fit time: 2.320s\n",
      "Hiper-parametros: {'n_estimators': 60, 'max_features': None, 'criterion': 'mse'}\n",
      "\n",
      "Puesto: 9\n",
      "Promedio training score: 0.915 (std: 0.001)\n",
      "Promedio validation score: 0.764 (std: 0.004)\n",
      "Promedio fit time: 2.999s\n",
      "Hiper-parametros: {'n_estimators': 80, 'max_features': None, 'criterion': 'mse'}\n",
      "\n",
      "Puesto: 10\n",
      "Promedio training score: 0.915 (std: 0.001)\n",
      "Promedio validation score: 0.764 (std: 0.004)\n",
      "Promedio fit time: 3.431s\n",
      "Hiper-parametros: {'n_estimators': 85, 'max_features': None, 'criterion': 'mse'}\n",
      "\n"
     ]
    },
    {
     "data": {
      "application/javascript": [
       "$(document).ready(\n",
       "    function() {\n",
       "        function appendUniqueDiv(){\n",
       "            // append a div with our uuid so we can check that it's already\n",
       "            // been sent and avoid duplicates on page reload\n",
       "            var notifiedDiv = document.createElement(\"div\")\n",
       "            notifiedDiv.id = \"bb098eea-3955-49d1-9a3a-200302e0d00d\"\n",
       "            element.append(notifiedDiv)\n",
       "        }\n",
       "\n",
       "        // only send notifications if the pageload is complete; this will\n",
       "        // help stop extra notifications when a saved notebook is loaded,\n",
       "        // which during testing gives us state \"interactive\", not \"complete\"\n",
       "        if (document.readyState === 'complete') {\n",
       "            // check for the div that signifies that the notification\n",
       "            // was already sent\n",
       "            if (document.getElementById(\"bb098eea-3955-49d1-9a3a-200302e0d00d\") === null) {\n",
       "                var notificationPayload = {\"body\": \"Cell Execution Has Finished!!\", \"requireInteraction\": false, \"icon\": \"/static/base/images/favicon.ico\"};\n",
       "                if (Notification.permission !== 'denied') {\n",
       "                    if (Notification.permission !== 'granted') { \n",
       "                        Notification.requestPermission(function (permission) {\n",
       "                            if(!('permission' in Notification)) {\n",
       "                                Notification.permission = permission\n",
       "                            }\n",
       "                            if (Notification.permission === 'granted') {\n",
       "                                var notification = new Notification(\"Jupyter Notebook\", notificationPayload)\n",
       "                                appendUniqueDiv()\n",
       "                            }\n",
       "                        })\n",
       "                    } else if (Notification.permission === 'granted') {\n",
       "                        var notification = new Notification(\"Jupyter Notebook\", notificationPayload)\n",
       "                        appendUniqueDiv()\n",
       "                    }\n",
       "                }\n",
       "            }\n",
       "        }\n",
       "    }\n",
       ")\n"
      ],
      "text/plain": [
       "<IPython.core.display.Javascript object>"
      ]
     },
     "metadata": {},
     "output_type": "display_data"
    }
   ],
   "source": [
    "%%notify\n",
    "\n",
    "rf = RandomForestRegressor(n_jobs=-1)\n",
    "\n",
    "X_train, X_test, y_train, y_test = train_test_split(\n",
    "    X, y, test_size=0.2)\n",
    "\n",
    "criterion = ['mse']\n",
    "max_features =[\"auto\",None]\n",
    "n_estimators = np.arange(40,100,5)\n",
    "\n",
    "X_train, X_test, y_train, y_test = train_test_split(\n",
    "    X, y, test_size=0.2)\n",
    "\n",
    "param_grid = {\"criterion\": criterion,\"max_features\":max_features,\"n_estimators\":n_estimators}\n",
    "\n",
    "search = RandomizedSearchCV(rf, param_distributions=param_grid ,cv=cv,n_iter=iteraciones_de_searchs,scoring=tipo_puntaje) #refit deja el estimador fiteado con los mejores hiperparametros\n",
    "start = time()\n",
    "search.fit(X_train, y_train)\n",
    "\n",
    "print(\"GridSearchCV duro %.2f segundos para %d candidatos a hiper-parametros.\"\n",
    "    % (time() - start, len(search.cv_results_['params'])))\n",
    "print(\"\")\n",
    "score.report_single(search.cv_results_)"
   ]
  },
  {
   "cell_type": "code",
   "execution_count": 52,
   "metadata": {
    "collapsed": true
   },
   "outputs": [],
   "source": [
    "rf= search.best_estimator_"
   ]
  },
  {
   "cell_type": "code",
   "execution_count": 12,
   "metadata": {},
   "outputs": [
    {
     "data": {
      "text/plain": [
       "-7183099846.015913"
      ]
     },
     "execution_count": 12,
     "metadata": {},
     "output_type": "execute_result"
    }
   ],
   "source": [
    "search.score(X_test,y_test)"
   ]
  },
  {
   "cell_type": "markdown",
   "metadata": {},
   "source": [
    "# ETR"
   ]
  },
  {
   "cell_type": "code",
   "execution_count": 53,
   "metadata": {},
   "outputs": [
    {
     "name": "stdout",
     "output_type": "stream",
     "text": [
      "GridSearchCV duro 169.22 segundos para 12 candidatos a hiper-parametros.\n",
      "\n",
      "Puesto: 1\n",
      "Promedio training score: 0.937 (std: 0.001)\n",
      "Promedio validation score: 0.763 (std: 0.006)\n",
      "Promedio fit time: 1.895s\n",
      "Hiper-parametros: {'n_estimators': 85}\n",
      "\n",
      "Puesto: 2\n",
      "Promedio training score: 0.937 (std: 0.001)\n",
      "Promedio validation score: 0.762 (std: 0.006)\n",
      "Promedio fit time: 2.138s\n",
      "Hiper-parametros: {'n_estimators': 95}\n",
      "\n",
      "Puesto: 3\n",
      "Promedio training score: 0.937 (std: 0.001)\n",
      "Promedio validation score: 0.762 (std: 0.006)\n",
      "Promedio fit time: 1.700s\n",
      "Hiper-parametros: {'n_estimators': 70}\n",
      "\n",
      "Puesto: 4\n",
      "Promedio training score: 0.937 (std: 0.001)\n",
      "Promedio validation score: 0.762 (std: 0.006)\n",
      "Promedio fit time: 2.057s\n",
      "Hiper-parametros: {'n_estimators': 90}\n",
      "\n",
      "Puesto: 5\n",
      "Promedio training score: 0.937 (std: 0.001)\n",
      "Promedio validation score: 0.762 (std: 0.006)\n",
      "Promedio fit time: 1.980s\n",
      "Hiper-parametros: {'n_estimators': 80}\n",
      "\n",
      "Puesto: 6\n",
      "Promedio training score: 0.937 (std: 0.001)\n",
      "Promedio validation score: 0.762 (std: 0.006)\n",
      "Promedio fit time: 1.755s\n",
      "Hiper-parametros: {'n_estimators': 75}\n",
      "\n",
      "Puesto: 7\n",
      "Promedio training score: 0.937 (std: 0.001)\n",
      "Promedio validation score: 0.762 (std: 0.005)\n",
      "Promedio fit time: 1.220s\n",
      "Hiper-parametros: {'n_estimators': 50}\n",
      "\n",
      "Puesto: 8\n",
      "Promedio training score: 0.937 (std: 0.001)\n",
      "Promedio validation score: 0.762 (std: 0.006)\n",
      "Promedio fit time: 1.699s\n",
      "Hiper-parametros: {'n_estimators': 65}\n",
      "\n",
      "Puesto: 9\n",
      "Promedio training score: 0.937 (std: 0.001)\n",
      "Promedio validation score: 0.761 (std: 0.006)\n",
      "Promedio fit time: 1.338s\n",
      "Hiper-parametros: {'n_estimators': 55}\n",
      "\n",
      "Puesto: 10\n",
      "Promedio training score: 0.937 (std: 0.001)\n",
      "Promedio validation score: 0.761 (std: 0.006)\n",
      "Promedio fit time: 1.543s\n",
      "Hiper-parametros: {'n_estimators': 60}\n",
      "\n"
     ]
    },
    {
     "data": {
      "application/javascript": [
       "$(document).ready(\n",
       "    function() {\n",
       "        function appendUniqueDiv(){\n",
       "            // append a div with our uuid so we can check that it's already\n",
       "            // been sent and avoid duplicates on page reload\n",
       "            var notifiedDiv = document.createElement(\"div\")\n",
       "            notifiedDiv.id = \"da5a667b-42ce-40d8-add7-1ee729357af1\"\n",
       "            element.append(notifiedDiv)\n",
       "        }\n",
       "\n",
       "        // only send notifications if the pageload is complete; this will\n",
       "        // help stop extra notifications when a saved notebook is loaded,\n",
       "        // which during testing gives us state \"interactive\", not \"complete\"\n",
       "        if (document.readyState === 'complete') {\n",
       "            // check for the div that signifies that the notification\n",
       "            // was already sent\n",
       "            if (document.getElementById(\"da5a667b-42ce-40d8-add7-1ee729357af1\") === null) {\n",
       "                var notificationPayload = {\"body\": \"Cell Execution Has Finished!!\", \"requireInteraction\": false, \"icon\": \"/static/base/images/favicon.ico\"};\n",
       "                if (Notification.permission !== 'denied') {\n",
       "                    if (Notification.permission !== 'granted') { \n",
       "                        Notification.requestPermission(function (permission) {\n",
       "                            if(!('permission' in Notification)) {\n",
       "                                Notification.permission = permission\n",
       "                            }\n",
       "                            if (Notification.permission === 'granted') {\n",
       "                                var notification = new Notification(\"Jupyter Notebook\", notificationPayload)\n",
       "                                appendUniqueDiv()\n",
       "                            }\n",
       "                        })\n",
       "                    } else if (Notification.permission === 'granted') {\n",
       "                        var notification = new Notification(\"Jupyter Notebook\", notificationPayload)\n",
       "                        appendUniqueDiv()\n",
       "                    }\n",
       "                }\n",
       "            }\n",
       "        }\n",
       "    }\n",
       ")\n"
      ],
      "text/plain": [
       "<IPython.core.display.Javascript object>"
      ]
     },
     "metadata": {},
     "output_type": "display_data"
    }
   ],
   "source": [
    "%%notify\n",
    "\n",
    "etr = ExtraTreesRegressor(n_jobs=-1)\n",
    "\n",
    "n_estimators = np.arange(40,100,5)\n",
    "\n",
    "X_train, X_test, y_train, y_test = train_test_split(\n",
    "    X, y, test_size=0.2)\n",
    "\n",
    "param_grid = {\"n_estimators\":n_estimators}\n",
    "\n",
    "search = GridSearchCV(etr, param_grid=param_grid ,cv=cv,scoring=tipo_puntaje) #refit deja el estimador fiteado con los mejores hiperparametros\n",
    "start = time()\n",
    "search.fit(X_train, y_train)\n",
    "\n",
    "print(\"GridSearchCV duro %.2f segundos para %d candidatos a hiper-parametros.\"\n",
    "    % (time() - start, len(search.cv_results_['params'])))\n",
    "print(\"\")\n",
    "score.report_single(search.cv_results_)"
   ]
  },
  {
   "cell_type": "code",
   "execution_count": 54,
   "metadata": {
    "collapsed": true
   },
   "outputs": [],
   "source": [
    "etr= search.best_estimator_"
   ]
  },
  {
   "cell_type": "code",
   "execution_count": 15,
   "metadata": {},
   "outputs": [
    {
     "data": {
      "text/plain": [
       "array([ 0.20572789,  0.56569375,  0.22857836])"
      ]
     },
     "execution_count": 15,
     "metadata": {},
     "output_type": "execute_result"
    }
   ],
   "source": [
    "etr.feature_importances_"
   ]
  },
  {
   "cell_type": "markdown",
   "metadata": {},
   "source": [
    "# MLP"
   ]
  },
  {
   "cell_type": "code",
   "execution_count": 127,
   "metadata": {
    "collapsed": true
   },
   "outputs": [],
   "source": [
    "from sklearn.neural_network import MLPRegressor"
   ]
  },
  {
   "cell_type": "code",
   "execution_count": 128,
   "metadata": {},
   "outputs": [
    {
     "name": "stdout",
     "output_type": "stream",
     "text": [
      "GridSearchCV duro 64.37 segundos para 1 candidatos a hiper-parametros.\n",
      "\n",
      "Puesto: 1\n",
      "Promedio training score: -48649291414.936 (std: 1278210409.982)\n",
      "Promedio validation score: -48843115430.570 (std: 5226556298.293)\n",
      "Promedio fit time: 10.628s\n",
      "Hiper-parametros: {'activation': 'identity'}\n",
      "\n"
     ]
    },
    {
     "data": {
      "application/javascript": [
       "$(document).ready(\n",
       "    function() {\n",
       "        function appendUniqueDiv(){\n",
       "            // append a div with our uuid so we can check that it's already\n",
       "            // been sent and avoid duplicates on page reload\n",
       "            var notifiedDiv = document.createElement(\"div\")\n",
       "            notifiedDiv.id = \"12a08486-548d-46c5-855e-660e239cec70\"\n",
       "            element.append(notifiedDiv)\n",
       "        }\n",
       "\n",
       "        // only send notifications if the pageload is complete; this will\n",
       "        // help stop extra notifications when a saved notebook is loaded,\n",
       "        // which during testing gives us state \"interactive\", not \"complete\"\n",
       "        if (document.readyState === 'complete') {\n",
       "            // check for the div that signifies that the notification\n",
       "            // was already sent\n",
       "            if (document.getElementById(\"12a08486-548d-46c5-855e-660e239cec70\") === null) {\n",
       "                var notificationPayload = {\"body\": \"Cell Execution Has Finished!!\", \"requireInteraction\": false, \"icon\": \"/static/base/images/favicon.ico\"};\n",
       "                if (Notification.permission !== 'denied') {\n",
       "                    if (Notification.permission !== 'granted') { \n",
       "                        Notification.requestPermission(function (permission) {\n",
       "                            if(!('permission' in Notification)) {\n",
       "                                Notification.permission = permission\n",
       "                            }\n",
       "                            if (Notification.permission === 'granted') {\n",
       "                                var notification = new Notification(\"Jupyter Notebook\", notificationPayload)\n",
       "                                appendUniqueDiv()\n",
       "                            }\n",
       "                        })\n",
       "                    } else if (Notification.permission === 'granted') {\n",
       "                        var notification = new Notification(\"Jupyter Notebook\", notificationPayload)\n",
       "                        appendUniqueDiv()\n",
       "                    }\n",
       "                }\n",
       "            }\n",
       "        }\n",
       "    }\n",
       ")\n"
      ],
      "text/plain": [
       "<IPython.core.display.Javascript object>"
      ]
     },
     "metadata": {},
     "output_type": "display_data"
    }
   ],
   "source": [
    "%%notify\n",
    "\n",
    "mlp = MLPRegressor()\n",
    "\n",
    "#activation = [\"identity\", \"logistic\", \"tanh\", \"relu\"]\n",
    "activation = [\"identity\"]\n",
    "\n",
    "X_train, X_test, y_train, y_test = train_test_split(\n",
    "    X, y, test_size=0.2)\n",
    "\n",
    "param_grid = {\"activation\": activation}\n",
    "\n",
    "search = GridSearchCV(mlp, param_grid=param_grid ,cv=cv,scoring=tipo_puntaje) #refit deja el estimador fiteado con los mejores hiperparametros\n",
    "start = time()\n",
    "search.fit(X_train, y_train)\n",
    "\n",
    "print(\"GridSearchCV duro %.2f segundos para %d candidatos a hiper-parametros.\"\n",
    "    % (time() - start, len(search.cv_results_['params'])))\n",
    "print(\"\")\n",
    "score.report_single(search.cv_results_)"
   ]
  },
  {
   "cell_type": "code",
   "execution_count": 129,
   "metadata": {
    "collapsed": true
   },
   "outputs": [],
   "source": [
    "mlp=search.best_estimator_"
   ]
  },
  {
   "cell_type": "code",
   "execution_count": 130,
   "metadata": {},
   "outputs": [
    {
     "data": {
      "text/plain": [
       "-43791592775.715477"
      ]
     },
     "execution_count": 130,
     "metadata": {},
     "output_type": "execute_result"
    }
   ],
   "source": [
    "search.score(X_test,y_test)"
   ]
  },
  {
   "cell_type": "markdown",
   "metadata": {},
   "source": [
    "# Lineales (No usar)"
   ]
  },
  {
   "cell_type": "code",
   "execution_count": 55,
   "metadata": {
    "collapsed": true
   },
   "outputs": [],
   "source": [
    "from sklearn.linear_model import Ridge"
   ]
  },
  {
   "cell_type": "code",
   "execution_count": 56,
   "metadata": {},
   "outputs": [
    {
     "data": {
      "text/plain": [
       "0.38512297260993805"
      ]
     },
     "execution_count": 56,
     "metadata": {},
     "output_type": "execute_result"
    },
    {
     "data": {
      "application/javascript": [
       "$(document).ready(\n",
       "    function() {\n",
       "        function appendUniqueDiv(){\n",
       "            // append a div with our uuid so we can check that it's already\n",
       "            // been sent and avoid duplicates on page reload\n",
       "            var notifiedDiv = document.createElement(\"div\")\n",
       "            notifiedDiv.id = \"78fac112-0311-45a6-b48a-04339cc53e6b\"\n",
       "            element.append(notifiedDiv)\n",
       "        }\n",
       "\n",
       "        // only send notifications if the pageload is complete; this will\n",
       "        // help stop extra notifications when a saved notebook is loaded,\n",
       "        // which during testing gives us state \"interactive\", not \"complete\"\n",
       "        if (document.readyState === 'complete') {\n",
       "            // check for the div that signifies that the notification\n",
       "            // was already sent\n",
       "            if (document.getElementById(\"78fac112-0311-45a6-b48a-04339cc53e6b\") === null) {\n",
       "                var notificationPayload = {\"body\": \"Cell Execution Has Finished!!\", \"requireInteraction\": false, \"icon\": \"/static/base/images/favicon.ico\"};\n",
       "                if (Notification.permission !== 'denied') {\n",
       "                    if (Notification.permission !== 'granted') { \n",
       "                        Notification.requestPermission(function (permission) {\n",
       "                            if(!('permission' in Notification)) {\n",
       "                                Notification.permission = permission\n",
       "                            }\n",
       "                            if (Notification.permission === 'granted') {\n",
       "                                var notification = new Notification(\"Jupyter Notebook\", notificationPayload)\n",
       "                                appendUniqueDiv()\n",
       "                            }\n",
       "                        })\n",
       "                    } else if (Notification.permission === 'granted') {\n",
       "                        var notification = new Notification(\"Jupyter Notebook\", notificationPayload)\n",
       "                        appendUniqueDiv()\n",
       "                    }\n",
       "                }\n",
       "            }\n",
       "        }\n",
       "    }\n",
       ")\n"
      ],
      "text/plain": [
       "<IPython.core.display.Javascript object>"
      ]
     },
     "metadata": {},
     "output_type": "display_data"
    }
   ],
   "source": [
    "%%notify\n",
    "\n",
    "ridge = Ridge()\n",
    "\n",
    "X_train, X_test, y_train, y_test = train_test_split(\n",
    "    X, y, test_size=0.2)\n",
    "\n",
    "ridge.fit(X_train, y_train)\n",
    "ridge.score(X_test,y_test)"
   ]
  },
  {
   "cell_type": "code",
   "execution_count": 57,
   "metadata": {
    "collapsed": true
   },
   "outputs": [],
   "source": [
    "from sklearn.linear_model import Lasso"
   ]
  },
  {
   "cell_type": "code",
   "execution_count": 58,
   "metadata": {},
   "outputs": [
    {
     "data": {
      "text/plain": [
       "0.40107496047376923"
      ]
     },
     "execution_count": 58,
     "metadata": {},
     "output_type": "execute_result"
    },
    {
     "data": {
      "application/javascript": [
       "$(document).ready(\n",
       "    function() {\n",
       "        function appendUniqueDiv(){\n",
       "            // append a div with our uuid so we can check that it's already\n",
       "            // been sent and avoid duplicates on page reload\n",
       "            var notifiedDiv = document.createElement(\"div\")\n",
       "            notifiedDiv.id = \"b0954561-6eca-4073-adb1-f253a1050181\"\n",
       "            element.append(notifiedDiv)\n",
       "        }\n",
       "\n",
       "        // only send notifications if the pageload is complete; this will\n",
       "        // help stop extra notifications when a saved notebook is loaded,\n",
       "        // which during testing gives us state \"interactive\", not \"complete\"\n",
       "        if (document.readyState === 'complete') {\n",
       "            // check for the div that signifies that the notification\n",
       "            // was already sent\n",
       "            if (document.getElementById(\"b0954561-6eca-4073-adb1-f253a1050181\") === null) {\n",
       "                var notificationPayload = {\"body\": \"Cell Execution Has Finished!!\", \"requireInteraction\": false, \"icon\": \"/static/base/images/favicon.ico\"};\n",
       "                if (Notification.permission !== 'denied') {\n",
       "                    if (Notification.permission !== 'granted') { \n",
       "                        Notification.requestPermission(function (permission) {\n",
       "                            if(!('permission' in Notification)) {\n",
       "                                Notification.permission = permission\n",
       "                            }\n",
       "                            if (Notification.permission === 'granted') {\n",
       "                                var notification = new Notification(\"Jupyter Notebook\", notificationPayload)\n",
       "                                appendUniqueDiv()\n",
       "                            }\n",
       "                        })\n",
       "                    } else if (Notification.permission === 'granted') {\n",
       "                        var notification = new Notification(\"Jupyter Notebook\", notificationPayload)\n",
       "                        appendUniqueDiv()\n",
       "                    }\n",
       "                }\n",
       "            }\n",
       "        }\n",
       "    }\n",
       ")\n"
      ],
      "text/plain": [
       "<IPython.core.display.Javascript object>"
      ]
     },
     "metadata": {},
     "output_type": "display_data"
    }
   ],
   "source": [
    "%%notify\n",
    "\n",
    "lasso = Lasso()\n",
    "\n",
    "X_train, X_test, y_train, y_test = train_test_split(\n",
    "    X, y, test_size=0.2)\n",
    "\n",
    "lasso.fit(X_train, y_train)\n",
    "lasso.score(X_test,y_test)"
   ]
  },
  {
   "cell_type": "markdown",
   "metadata": {},
   "source": [
    "# Ensamble"
   ]
  },
  {
   "cell_type": "code",
   "execution_count": 59,
   "metadata": {
    "collapsed": true
   },
   "outputs": [],
   "source": [
    "from mlxtend.regressor import StackingRegressor\n",
    "\n",
    "stregr = StackingRegressor(regressors=[xgb,etr], \n",
    "                           meta_regressor=rf)"
   ]
  },
  {
   "cell_type": "code",
   "execution_count": 60,
   "metadata": {},
   "outputs": [
    {
     "data": {
      "text/plain": [
       "StackingRegressor(meta_regressor=XGBRegressor(base_score=0.5, colsample_bylevel=1, colsample_bytree=1, gamma=0,\n",
       "       learning_rate=0.1, max_delta_step=0, max_depth=3,\n",
       "       min_child_weight=1, missing=None, n_estimators=100, nthread=-1,\n",
       "       objective='reg:linear', reg_alpha=0, reg_lambda=1,\n",
       "       scale_pos_weight=1, seed=0, silent=True, subsample=1),\n",
       "         regressors=[RandomForestRegressor(bootstrap=True, criterion='mse', max_depth=None,\n",
       "           max_features=None, max_leaf_nodes=None,\n",
       "           min_impurity_decrease=0.0, min_impurity_split=None,\n",
       "           min_samples_leaf=1, min_samples_split=2,\n",
       "           min_weight_fraction_leaf=0.0, n_estimato...fit_intercept=True, max_iter=None,\n",
       "   normalize=False, random_state=None, solver='auto', tol=0.001)],\n",
       "         verbose=0)"
      ]
     },
     "execution_count": 60,
     "metadata": {},
     "output_type": "execute_result"
    },
    {
     "data": {
      "application/javascript": [
       "$(document).ready(\n",
       "    function() {\n",
       "        function appendUniqueDiv(){\n",
       "            // append a div with our uuid so we can check that it's already\n",
       "            // been sent and avoid duplicates on page reload\n",
       "            var notifiedDiv = document.createElement(\"div\")\n",
       "            notifiedDiv.id = \"b5566d35-ff8f-4bb7-8663-a43591e4cd21\"\n",
       "            element.append(notifiedDiv)\n",
       "        }\n",
       "\n",
       "        // only send notifications if the pageload is complete; this will\n",
       "        // help stop extra notifications when a saved notebook is loaded,\n",
       "        // which during testing gives us state \"interactive\", not \"complete\"\n",
       "        if (document.readyState === 'complete') {\n",
       "            // check for the div that signifies that the notification\n",
       "            // was already sent\n",
       "            if (document.getElementById(\"b5566d35-ff8f-4bb7-8663-a43591e4cd21\") === null) {\n",
       "                var notificationPayload = {\"body\": \"Cell Execution Has Finished!!\", \"requireInteraction\": false, \"icon\": \"/static/base/images/favicon.ico\"};\n",
       "                if (Notification.permission !== 'denied') {\n",
       "                    if (Notification.permission !== 'granted') { \n",
       "                        Notification.requestPermission(function (permission) {\n",
       "                            if(!('permission' in Notification)) {\n",
       "                                Notification.permission = permission\n",
       "                            }\n",
       "                            if (Notification.permission === 'granted') {\n",
       "                                var notification = new Notification(\"Jupyter Notebook\", notificationPayload)\n",
       "                                appendUniqueDiv()\n",
       "                            }\n",
       "                        })\n",
       "                    } else if (Notification.permission === 'granted') {\n",
       "                        var notification = new Notification(\"Jupyter Notebook\", notificationPayload)\n",
       "                        appendUniqueDiv()\n",
       "                    }\n",
       "                }\n",
       "            }\n",
       "        }\n",
       "    }\n",
       ")\n"
      ],
      "text/plain": [
       "<IPython.core.display.Javascript object>"
      ]
     },
     "metadata": {},
     "output_type": "display_data"
    }
   ],
   "source": [
    "%%notify\n",
    "stregr.fit(X_train,y_train)"
   ]
  },
  {
   "cell_type": "code",
   "execution_count": 61,
   "metadata": {},
   "outputs": [
    {
     "data": {
      "text/plain": [
       "0.7795230526484852"
      ]
     },
     "execution_count": 61,
     "metadata": {},
     "output_type": "execute_result"
    }
   ],
   "source": [
    "stregr.score(X_test,y_test)"
   ]
  },
  {
   "cell_type": "code",
   "execution_count": 62,
   "metadata": {},
   "outputs": [
    {
     "name": "stdout",
     "output_type": "stream",
     "text": [
      "Error maximo:730433.387675\n",
      "Error minimo:0.0\n",
      "42928    -19943.337510\n",
      "94171     72896.903623\n",
      "110189     1026.315789\n",
      "98496      6784.448214\n",
      "83303     -8245.614035\n",
      "38559    -11344.736842\n",
      "123697    -5598.640351\n",
      "68347     -4574.877193\n",
      "21013     15028.077193\n",
      "48466      4114.344679\n",
      "75313     12955.263158\n",
      "117317    -5791.366160\n",
      "84382     57509.022556\n",
      "46966     -2950.292879\n",
      "64287      4757.447027\n",
      "5836       -321.052632\n",
      "108842    -1165.162907\n",
      "122607     6626.315789\n",
      "118024    15263.105263\n",
      "61100    -53562.642105\n",
      "44434         0.000000\n",
      "99728      4503.999499\n",
      "10902      -712.719298\n",
      "83083    -14422.807018\n",
      "43514     29201.670844\n",
      "6503     -14916.546706\n",
      "99106     -2931.961003\n",
      "3377     -14547.368421\n",
      "74761     -1400.000000\n",
      "50947    -13904.711779\n",
      "              ...     \n",
      "78003     -9736.842105\n",
      "17807     59494.360902\n",
      "111784   -20326.501587\n",
      "60986     -2869.515789\n",
      "58499    -13203.007519\n",
      "100593   -28060.741336\n",
      "65135     11147.357895\n",
      "83819    -19143.073684\n",
      "108238   -43481.203008\n",
      "16375     65250.526316\n",
      "111849     2566.000000\n",
      "103007   -22880.332825\n",
      "75557    -16059.747118\n",
      "127725   -16210.526316\n",
      "44038    -59315.114488\n",
      "79123     -7099.702856\n",
      "115687     1224.284211\n",
      "60354    -15490.651629\n",
      "27854     18696.033678\n",
      "2585     -56128.726316\n",
      "50413      -427.272727\n",
      "87040     14546.256640\n",
      "125512    15168.592957\n",
      "118636     3568.317171\n",
      "34780     72452.631579\n",
      "130420    -2914.063158\n",
      "72350     -2145.352281\n",
      "81821     -1315.789474\n",
      "29291      9084.710526\n",
      "48684     66458.806603\n",
      "Name: price_aprox_usd, Length: 25314, dtype: float64\n"
     ]
    }
   ],
   "source": [
    "errores = rf.predict(X_test)-y_test\n",
    "print (\"Error maximo:{0}\\nError minimo:{1}\".format( max(abs(errores)),min(abs(errores))))\n",
    "print(errores)"
   ]
  },
  {
   "cell_type": "code",
   "execution_count": 63,
   "metadata": {},
   "outputs": [
    {
     "name": "stdout",
     "output_type": "stream",
     "text": [
      "Hay 23500 de 25314 que tienen mas de 1000 USD de error (92%)\n"
     ]
    }
   ],
   "source": [
    "count_max=0\n",
    "max_error=1000\n",
    "lista=[]\n",
    "for error in errores:\n",
    "    if abs(error)>max_error:\n",
    "        count_max+=1\n",
    "        lista.append(abs(error))\n",
    "print (\"Hay {0} de {1} que tienen mas de {2} USD de error ({3}%)\".format(count_max,len(errores),max_error,100 * count_max/len(errores)))"
   ]
  },
  {
   "cell_type": "code",
   "execution_count": 64,
   "metadata": {},
   "outputs": [
    {
     "name": "stdout",
     "output_type": "stream",
     "text": [
      "Hay 18639 de 25314 que tienen mas de 5000 USD de error (73%)\n"
     ]
    }
   ],
   "source": [
    "count_max=0\n",
    "max_error=5000\n",
    "lista=[]\n",
    "for error in errores:\n",
    "    if abs(error)>max_error:\n",
    "        count_max+=1\n",
    "        lista.append(abs(error))\n",
    "print (\"Hay {0} de {1} que tienen mas de {2} USD de error ({3}%)\".format(count_max,len(errores),max_error,100 * count_max/len(errores)))"
   ]
  },
  {
   "cell_type": "code",
   "execution_count": 65,
   "metadata": {},
   "outputs": [
    {
     "name": "stdout",
     "output_type": "stream",
     "text": [
      "Hay 14362 de 25314 que tienen mas de 10000 USD de error (56%)\n"
     ]
    }
   ],
   "source": [
    "count_max=0\n",
    "max_error=10000\n",
    "lista=[]\n",
    "for error in errores:\n",
    "    if abs(error)>max_error:\n",
    "        count_max+=1\n",
    "        lista.append(abs(error))\n",
    "print (\"Hay {0} de {1} que tienen mas de {2} USD de error ({3}%)\".format(count_max,len(errores),max_error,100 * count_max/len(errores)))"
   ]
  },
  {
   "cell_type": "code",
   "execution_count": 66,
   "metadata": {},
   "outputs": [
    {
     "name": "stdout",
     "output_type": "stream",
     "text": [
      "Hay 1531 de 25314 que tienen mas de 100000 USD de error (6%)\n"
     ]
    }
   ],
   "source": [
    "count_max=0\n",
    "max_error=100000\n",
    "lista=[]\n",
    "for error in errores:\n",
    "    if abs(error)>max_error:\n",
    "        count_max+=1\n",
    "        lista.append(abs(error))\n",
    "print (\"Hay {0} de {1} que tienen mas de {2} USD de error ({3}%)\".format(count_max,len(errores),max_error,100 * count_max/len(errores)))"
   ]
  },
  {
   "cell_type": "markdown",
   "metadata": {},
   "source": [
    "### Errores arriba del maximo"
   ]
  },
  {
   "cell_type": "code",
   "execution_count": 67,
   "metadata": {},
   "outputs": [
    {
     "data": {
      "image/png": "[encoded data removed]",
      "text/plain": [
       "<matplotlib.figure.Figure at 0x7f25322cd0d0>"
      ]
     },
     "metadata": {},
     "output_type": "display_data"
    }
   ],
   "source": [
    "# the histogram of the data\n",
    "plt.figure(figsize=(12,8))\n",
    "plt.hist(lista, 500, facecolor='blue')\n",
    "plt.xlabel('Errores')\n",
    "plt.ylabel('Cantidad')\n",
    "#plt.xlim(-10000000, 10000000) #para variar el \"zoom a 0\"\n",
    "plt.yscale('log')\n",
    "plt.xscale('log')\n",
    "plt.show()"
   ]
  },
  {
   "cell_type": "markdown",
   "metadata": {},
   "source": [
    "### Errores totales"
   ]
  },
  {
   "cell_type": "code",
   "execution_count": 68,
   "metadata": {},
   "outputs": [
    {
     "data": {
      "image/png": "[encoded data removed]",
      "text/plain": [
       "<matplotlib.figure.Figure at 0x7f2533853e90>"
      ]
     },
     "metadata": {},
     "output_type": "display_data"
    }
   ],
   "source": [
    "# the histogram of the data\n",
    "plt.figure(figsize=(12,8))\n",
    "plt.hist(errores, 500, facecolor='blue')\n",
    "plt.xlabel('Errores')\n",
    "plt.ylabel('Cantidad')\n",
    "#plt.xlim(-10000000, 10000000) #para variar el \"zoom a 0\"\n",
    "plt.yscale('log')\n",
    "plt.xscale('log')\n",
    "plt.show()"
   ]
  },
  {
   "cell_type": "markdown",
   "metadata": {},
   "source": [
    "# Kaggle"
   ]
  },
  {
   "cell_type": "code",
   "execution_count": 69,
   "metadata": {},
   "outputs": [
    {
     "name": "stdout",
     "output_type": "stream",
     "text": [
      "<class 'pandas.core.frame.DataFrame'>\n",
      "RangeIndex: 14166 entries, 0 to 14165\n",
      "Data columns (total 17 columns):\n",
      "id                         14166 non-null int64\n",
      "created_on                 14166 non-null object\n",
      "property_type              14166 non-null object\n",
      "operation                  14166 non-null object\n",
      "place_name                 14166 non-null object\n",
      "place_with_parent_names    14166 non-null object\n",
      "country_name               14166 non-null object\n",
      "state_name                 14166 non-null object\n",
      "lat-lon                    10487 non-null object\n",
      "lat                        10487 non-null float64\n",
      "lon                        10487 non-null float64\n",
      "surface_total_in_m2        14166 non-null float64\n",
      "surface_covered_in_m2      14166 non-null float64\n",
      "floor                      1368 non-null float64\n",
      "rooms                      7500 non-null float64\n",
      "expenses                   2543 non-null object\n",
      "description                14166 non-null object\n",
      "dtypes: float64(6), int64(1), object(10)\n",
      "memory usage: 1.8+ MB\n"
     ]
    }
   ],
   "source": [
    "test_samples=pd.read_csv(\"datos/properati_dataset_testing_noprice_acondicionado.csv\")\n",
    "test_samples.info()"
   ]
  },
  {
   "cell_type": "code",
   "execution_count": 70,
   "metadata": {
    "collapsed": true
   },
   "outputs": [],
   "source": [
    "test= zip(test_samples['surface_total_in_m2'],\\\n",
    "        test_samples['surface_covered_in_m2'],le_barrio.transform(test_samples['place_name']))"
   ]
  },
  {
   "cell_type": "code",
   "execution_count": 71,
   "metadata": {
    "collapsed": true
   },
   "outputs": [],
   "source": [
    "resultados = stregr.predict(test)\n",
    "result=pd.DataFrame({'id':test_samples['id'],'price_usd':resultados})\n",
    "result.to_csv('datos/resultados.csv',index=False)"
   ]
  },
  {
   "cell_type": "code",
   "execution_count": null,
   "metadata": {
    "collapsed": true
   },
   "outputs": [],
   "source": []
  }
 ],
 "metadata": {
  "kernelspec": {
   "display_name": "Python 2",
   "language": "python",
   "name": "python2"
  },
  "language_info": {
   "codemirror_mode": {
    "name": "ipython",
    "version": 2
   },
   "file_extension": ".py",
   "mimetype": "text/x-python",
   "name": "python",
   "nbconvert_exporter": "python",
   "pygments_lexer": "ipython2",
   "version": "2.7.12"
  }
 },
 "nbformat": 4,
 "nbformat_minor": 2
}
