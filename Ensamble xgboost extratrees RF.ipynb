{
 "cells": [
  {
   "cell_type": "code",
   "execution_count": 82,
   "metadata": {},
   "outputs": [
    {
     "data": {
      "text/html": [
       "<style>.container { width:97% !important; }</style>"
      ],
      "text/plain": [
       "<IPython.core.display.HTML object>"
      ]
     },
     "metadata": {},
     "output_type": "display_data"
    },
    {
     "data": {
      "application/javascript": [
       "if (!(\"Notification\" in window)) {\n",
       "    alert(\"This browser does not support desktop notifications, so the %%notify magic will not work.\");\n",
       "} else if (Notification.permission !== 'granted' && Notification.permission !== 'denied') {\n",
       "    Notification.requestPermission(function (permission) {\n",
       "        if(!('permission' in Notification)) {\n",
       "            Notification.permission = permission;\n",
       "        }\n",
       "    })\n",
       "}\n"
      ],
      "text/plain": [
       "<IPython.core.display.Javascript object>"
      ]
     },
     "metadata": {},
     "output_type": "display_data"
    }
   ],
   "source": [
    "import pandas as pd\n",
    "import numpy as np\n",
    "import matplotlib.pyplot as plt\n",
    "\n",
    "from IPython.core.display import display, HTML\n",
    "display(HTML(\"<style>.container { width:97% !important; }</style>\"))\n",
    "\n",
    "from sklearn.model_selection import GridSearchCV, RandomizedSearchCV, train_test_split\n",
    "from sklearn.ensemble import RandomForestRegressor,IsolationForest,ExtraTreesRegressor,GradientBoostingRegressor\n",
    "\n",
    "from sklearn import preprocessing\n",
    "import scoring as score # para hacer los reportes de puntajes\n",
    "from time import time\n",
    "\n",
    "import jupyternotify\n",
    "ip = get_ipython()\n",
    "ip.register_magics(jupyternotify.JupyterNotifyMagics)\n",
    "\n",
    "import scoring as score # para hacer los reportes de puntajes\n",
    "\n",
    "properati = pd.read_csv('datos/properati_final.csv')\n",
    "zonas = pd.read_csv('datos/todos_los_barrios.csv')\n",
    "\n",
    "tipo_puntaje=\"neg_mean_squared_error\"\n",
    "iteraciones_de_searchs=20\n",
    "cv=5"
   ]
  },
  {
   "cell_type": "markdown",
   "metadata": {},
   "source": [
    "# Preprocesamiento"
   ]
  },
  {
   "cell_type": "code",
   "execution_count": 83,
   "metadata": {},
   "outputs": [],
   "source": [
    "#paso features con strings a numericos\n",
    "le_zona = preprocessing.LabelEncoder()\n",
    "properati['state_name'] =le_zona.fit_transform(properati['state_name'])\n",
    "\n",
    "le_barrio = preprocessing.LabelEncoder()\n",
    "le_barrio.fit(zonas.values)\n",
    "properati['place_name'] = le_barrio.transform(properati['place_name'])\n",
    "\n",
    "le_tipo = preprocessing.LabelEncoder()\n",
    "properati['property_type'] = le_tipo.fit_transform(properati['property_type'])"
   ]
  },
  {
   "cell_type": "code",
   "execution_count": 84,
   "metadata": {},
   "outputs": [
    {
     "name": "stdout",
     "output_type": "stream",
     "text": [
      "136327\n",
      "135917\n"
     ]
    }
   ],
   "source": [
    "properati=properati.loc[properati.price_aprox_usd<1e]\n",
    "properati=properati.loc[properati.surface_covered_in_m2<7000]\n",
    "print len(properati)\n",
    "properati=properati.groupby(\"place_name\").filter(lambda x: len(x)>5)\n",
    "print len(properati)"
   ]
  },
  {
   "cell_type": "code",
   "execution_count": 85,
   "metadata": {},
   "outputs": [],
   "source": [
    "#preparo set de datos\n",
    "X = zip(properati['surface_total_in_m2'],\\\n",
    "        properati['surface_covered_in_m2'],properati['place_name'])\n",
    "y = properati[\"price_aprox_usd\"]"
   ]
  },
  {
   "cell_type": "code",
   "execution_count": 86,
   "metadata": {},
   "outputs": [
    {
     "name": "stdout",
     "output_type": "stream",
     "text": [
      "122325\n"
     ]
    }
   ],
   "source": [
    "Z= zip(properati['surface_total_in_m2'],\\\n",
    "        properati['surface_covered_in_m2'],properati['place_name'],properati[\"price_aprox_usd\"])\n",
    "\n",
    "outs = IsolationForest(n_jobs=-1,n_estimators=50)\n",
    "outs.fit(Z)\n",
    "\n",
    "len(Z)\n",
    "\n",
    "nuevo_aux =zip(X,outs.predict(Z)) \n",
    "\n",
    "nuevo=[tupla for tupla in nuevo_aux if tupla[1]==1] #solo necesito lo que devuelve predecir Z y no el Z en si\n",
    "print len(nuevo)\n",
    "nuevo=[tupla[0] for tupla in nuevo_aux]\n",
    "X=nuevo"
   ]
  },
  {
   "cell_type": "markdown",
   "metadata": {},
   "source": [
    "# XGBoost"
   ]
  },
  {
   "cell_type": "code",
   "execution_count": 103,
   "metadata": {},
   "outputs": [
    {
     "name": "stdout",
     "output_type": "stream",
     "text": [
      "GridSearchCV duro 134.43 segundos para 20 candidatos a hiper-parametros.\n",
      "\n",
      "Puesto: 1\n",
      "Promedio training score: -16070066281.826 (std: 346293521.464)\n",
      "Promedio validation score: -23716086612.888 (std: 1799688388.330)\n",
      "Promedio fit time: 0.920s\n",
      "Hiper-parametros: {'subsample': 1, 'learning_rate': 0.69999999999999996, 'gamma': 0.70000000000000007, 'min_child_weight': 3}\n",
      "\n",
      "Puesto: 1\n",
      "Promedio training score: -16070066281.826 (std: 346293521.464)\n",
      "Promedio validation score: -23716086612.888 (std: 1799688388.330)\n",
      "Promedio fit time: 0.920s\n",
      "Hiper-parametros: {'subsample': 1, 'learning_rate': 0.69999999999999996, 'gamma': 0.59999999999999998, 'min_child_weight': 3}\n",
      "\n",
      "Puesto: 1\n",
      "Promedio training score: -16070066281.826 (std: 346293521.464)\n",
      "Promedio validation score: -23716086612.888 (std: 1799688388.330)\n",
      "Promedio fit time: 0.921s\n",
      "Hiper-parametros: {'subsample': 1, 'learning_rate': 0.69999999999999996, 'gamma': 0.10000000000000001, 'min_child_weight': 3}\n",
      "\n",
      "Puesto: 1\n",
      "Promedio training score: -16070066281.826 (std: 346293521.464)\n",
      "Promedio validation score: -23716086612.888 (std: 1799688388.330)\n",
      "Promedio fit time: 0.915s\n",
      "Hiper-parametros: {'subsample': 1, 'learning_rate': 0.69999999999999996, 'gamma': 0.20000000000000001, 'min_child_weight': 3}\n",
      "\n",
      "Puesto: 5\n",
      "Promedio training score: -16829895358.679 (std: 270229776.368)\n",
      "Promedio validation score: -24044148898.155 (std: 1637343162.571)\n",
      "Promedio fit time: 0.916s\n",
      "Hiper-parametros: {'subsample': 1, 'learning_rate': 0.5, 'gamma': 0.30000000000000004, 'min_child_weight': 1}\n",
      "\n",
      "Puesto: 5\n",
      "Promedio training score: -16829895358.679 (std: 270229776.368)\n",
      "Promedio validation score: -24044148898.155 (std: 1637343162.571)\n",
      "Promedio fit time: 0.922s\n",
      "Hiper-parametros: {'subsample': 1, 'learning_rate': 0.5, 'gamma': 0.80000000000000004, 'min_child_weight': 1}\n",
      "\n",
      "Puesto: 7\n",
      "Promedio training score: -17163387009.579 (std: 247698056.909)\n",
      "Promedio validation score: -24056919222.862 (std: 1749914420.873)\n",
      "Promedio fit time: 0.921s\n",
      "Hiper-parametros: {'subsample': 1, 'learning_rate': 0.5, 'gamma': 0.40000000000000002, 'min_child_weight': 3}\n",
      "\n",
      "Puesto: 8\n",
      "Promedio training score: -15586176537.007 (std: 144939430.042)\n",
      "Promedio validation score: -24463875325.639 (std: 1996995034.059)\n",
      "Promedio fit time: 1.005s\n",
      "Hiper-parametros: {'subsample': 1, 'learning_rate': 0.90000000000000013, 'gamma': 0.30000000000000004, 'min_child_weight': 3}\n",
      "\n",
      "Puesto: 8\n",
      "Promedio training score: -15586176537.007 (std: 144939430.042)\n",
      "Promedio validation score: -24463875325.639 (std: 1996995034.059)\n",
      "Promedio fit time: 1.027s\n",
      "Hiper-parametros: {'subsample': 1, 'learning_rate': 0.90000000000000013, 'gamma': 0.20000000000000001, 'min_child_weight': 3}\n",
      "\n",
      "Puesto: 8\n",
      "Promedio training score: -15586176537.007 (std: 144939430.042)\n",
      "Promedio validation score: -24463875325.639 (std: 1996995034.059)\n",
      "Promedio fit time: 0.934s\n",
      "Hiper-parametros: {'subsample': 1, 'learning_rate': 0.90000000000000013, 'gamma': 0.40000000000000002, 'min_child_weight': 3}\n",
      "\n",
      "Puesto: 8\n",
      "Promedio training score: -15586176537.007 (std: 144939430.042)\n",
      "Promedio validation score: -24463875325.639 (std: 1996995034.059)\n",
      "Promedio fit time: 0.925s\n",
      "Hiper-parametros: {'subsample': 1, 'learning_rate': 0.90000000000000013, 'gamma': 0.10000000000000001, 'min_child_weight': 3}\n",
      "\n",
      "Puesto: 8\n",
      "Promedio training score: -15586176537.007 (std: 144939430.042)\n",
      "Promedio validation score: -24463875325.639 (std: 1996995034.059)\n",
      "Promedio fit time: 0.922s\n",
      "Hiper-parametros: {'subsample': 1, 'learning_rate': 0.90000000000000013, 'gamma': 0.59999999999999998, 'min_child_weight': 3}\n",
      "\n"
     ]
    },
    {
     "data": {
      "application/javascript": [
       "$(document).ready(\n",
       "    function() {\n",
       "        function appendUniqueDiv(){\n",
       "            // append a div with our uuid so we can check that it's already\n",
       "            // been sent and avoid duplicates on page reload\n",
       "            var notifiedDiv = document.createElement(\"div\")\n",
       "            notifiedDiv.id = \"690319c8-c401-4498-98e8-41b69d035195\"\n",
       "            element.append(notifiedDiv)\n",
       "        }\n",
       "\n",
       "        // only send notifications if the pageload is complete; this will\n",
       "        // help stop extra notifications when a saved notebook is loaded,\n",
       "        // which during testing gives us state \"interactive\", not \"complete\"\n",
       "        if (document.readyState === 'complete') {\n",
       "            // check for the div that signifies that the notification\n",
       "            // was already sent\n",
       "            if (document.getElementById(\"690319c8-c401-4498-98e8-41b69d035195\") === null) {\n",
       "                var notificationPayload = {\"body\": \"Cell Execution Has Finished!!\", \"requireInteraction\": false, \"icon\": \"/static/base/images/favicon.ico\"};\n",
       "                if (Notification.permission !== 'denied') {\n",
       "                    if (Notification.permission !== 'granted') { \n",
       "                        Notification.requestPermission(function (permission) {\n",
       "                            if(!('permission' in Notification)) {\n",
       "                                Notification.permission = permission\n",
       "                            }\n",
       "                            if (Notification.permission === 'granted') {\n",
       "                                var notification = new Notification(\"Jupyter Notebook\", notificationPayload)\n",
       "                                appendUniqueDiv()\n",
       "                            }\n",
       "                        })\n",
       "                    } else if (Notification.permission === 'granted') {\n",
       "                        var notification = new Notification(\"Jupyter Notebook\", notificationPayload)\n",
       "                        appendUniqueDiv()\n",
       "                    }\n",
       "                }\n",
       "            }\n",
       "        }\n",
       "    }\n",
       ")\n"
      ],
      "text/plain": [
       "<IPython.core.display.Javascript object>"
      ]
     },
     "metadata": {},
     "output_type": "display_data"
    }
   ],
   "source": [
    "%%notify\n",
    "from xgboost import XGBRegressor\n",
    "xgb= XGBRegressor(nthread=-1)\n",
    "\n",
    "X_train, X_test, y_train, y_test = train_test_split(\n",
    "    X, y, test_size=0.2)\n",
    "\n",
    "learning_rate=np.arange(0.3,0.9,0.2)\n",
    "gamma = np.arange(0.1,0.9,0.1)\n",
    "subsample = [1]\n",
    "\n",
    "param_grid = {\"learning_rate\": learning_rate,'min_child_weight':[1,3],'gamma':gamma,'subsample':subsample}\n",
    "\n",
    "search = RandomizedSearchCV(xgb, param_distributions=param_grid ,cv=cv,n_iter=iteraciones_de_searchs,scoring=tipo_puntaje) \n",
    "start = time()\n",
    "search.fit(X_train, y_train)\n",
    "\n",
    "print(\"GridSearchCV duro %.2f segundos para %d candidatos a hiper-parametros.\"\n",
    "    % (time() - start, len(search.cv_results_['params'])))\n",
    "print(\"\")\n",
    "score.report_single(search.cv_results_)"
   ]
  },
  {
   "cell_type": "code",
   "execution_count": 104,
   "metadata": {
    "collapsed": true
   },
   "outputs": [],
   "source": [
    "xgboost = search.best_estimator_"
   ]
  },
  {
   "cell_type": "markdown",
   "metadata": {},
   "source": [
    "# RF"
   ]
  },
  {
   "cell_type": "code",
   "execution_count": 89,
   "metadata": {},
   "outputs": [
    {
     "name": "stdout",
     "output_type": "stream",
     "text": [
      "GridSearchCV duro 371.34 segundos para 20 candidatos a hiper-parametros.\n",
      "\n",
      "Puesto: 1\n",
      "Promedio training score: -4082974876.781 (std: 125720663.809)\n",
      "Promedio validation score: -20478988713.572 (std: 1940079580.514)\n",
      "Promedio fit time: 2.268s\n",
      "Hiper-parametros: {'n_estimators': 95, 'max_features': 'log2', 'criterion': 'mse'}\n",
      "\n",
      "Puesto: 2\n",
      "Promedio training score: -4160440258.237 (std: 68809977.649)\n",
      "Promedio validation score: -20519977722.650 (std: 1946757677.998)\n",
      "Promedio fit time: 1.345s\n",
      "Hiper-parametros: {'n_estimators': 55, 'max_features': 'log2', 'criterion': 'mse'}\n",
      "\n",
      "Puesto: 3\n",
      "Promedio training score: -4123357590.929 (std: 141315619.742)\n",
      "Promedio validation score: -20609040521.360 (std: 1956659284.226)\n",
      "Promedio fit time: 2.080s\n",
      "Hiper-parametros: {'n_estimators': 85, 'max_features': 'log2', 'criterion': 'mse'}\n",
      "\n",
      "Puesto: 4\n",
      "Promedio training score: -4064489517.962 (std: 140759157.442)\n",
      "Promedio validation score: -20673448867.512 (std: 1569818492.098)\n",
      "Promedio fit time: 1.995s\n",
      "Hiper-parametros: {'n_estimators': 80, 'max_features': 'log2', 'criterion': 'mse'}\n",
      "\n",
      "Puesto: 5\n",
      "Promedio training score: -4189879109.739 (std: 101458720.827)\n",
      "Promedio validation score: -20748223810.653 (std: 1976390766.591)\n",
      "Promedio fit time: 1.522s\n",
      "Hiper-parametros: {'n_estimators': 60, 'max_features': 'log2', 'criterion': 'mse'}\n",
      "\n",
      "Puesto: 6\n",
      "Promedio training score: -4256956749.464 (std: 70512746.084)\n",
      "Promedio validation score: -21054478101.703 (std: 1627307073.632)\n",
      "Promedio fit time: 3.937s\n",
      "Hiper-parametros: {'n_estimators': 95, 'max_features': None, 'criterion': 'mse'}\n",
      "\n",
      "Puesto: 7\n",
      "Promedio training score: -4180762405.883 (std: 90248222.808)\n",
      "Promedio validation score: -21061112159.437 (std: 1827056464.858)\n",
      "Promedio fit time: 3.618s\n",
      "Hiper-parametros: {'n_estimators': 85, 'max_features': 'auto', 'criterion': 'mse'}\n",
      "\n",
      "Puesto: 8\n",
      "Promedio training score: -4237886581.627 (std: 99556087.786)\n",
      "Promedio validation score: -21072563170.388 (std: 1670396563.928)\n",
      "Promedio fit time: 3.278s\n",
      "Hiper-parametros: {'n_estimators': 80, 'max_features': 'auto', 'criterion': 'mse'}\n",
      "\n",
      "Puesto: 9\n",
      "Promedio training score: -4289751173.190 (std: 85215628.603)\n",
      "Promedio validation score: -21157168418.220 (std: 1561903434.203)\n",
      "Promedio fit time: 3.002s\n",
      "Hiper-parametros: {'n_estimators': 70, 'max_features': None, 'criterion': 'mse'}\n",
      "\n",
      "Puesto: 10\n",
      "Promedio training score: -4223749938.978 (std: 100241317.453)\n",
      "Promedio validation score: -21179126850.052 (std: 1772550961.529)\n",
      "Promedio fit time: 3.821s\n",
      "Hiper-parametros: {'n_estimators': 90, 'max_features': 'auto', 'criterion': 'mse'}\n",
      "\n"
     ]
    },
    {
     "data": {
      "application/javascript": [
       "$(document).ready(\n",
       "    function() {\n",
       "        function appendUniqueDiv(){\n",
       "            // append a div with our uuid so we can check that it's already\n",
       "            // been sent and avoid duplicates on page reload\n",
       "            var notifiedDiv = document.createElement(\"div\")\n",
       "            notifiedDiv.id = \"2bcf710d-0f7f-40b0-92ba-2ee931ed1bd4\"\n",
       "            element.append(notifiedDiv)\n",
       "        }\n",
       "\n",
       "        // only send notifications if the pageload is complete; this will\n",
       "        // help stop extra notifications when a saved notebook is loaded,\n",
       "        // which during testing gives us state \"interactive\", not \"complete\"\n",
       "        if (document.readyState === 'complete') {\n",
       "            // check for the div that signifies that the notification\n",
       "            // was already sent\n",
       "            if (document.getElementById(\"2bcf710d-0f7f-40b0-92ba-2ee931ed1bd4\") === null) {\n",
       "                var notificationPayload = {\"body\": \"Cell Execution Has Finished!!\", \"requireInteraction\": false, \"icon\": \"/static/base/images/favicon.ico\"};\n",
       "                if (Notification.permission !== 'denied') {\n",
       "                    if (Notification.permission !== 'granted') { \n",
       "                        Notification.requestPermission(function (permission) {\n",
       "                            if(!('permission' in Notification)) {\n",
       "                                Notification.permission = permission\n",
       "                            }\n",
       "                            if (Notification.permission === 'granted') {\n",
       "                                var notification = new Notification(\"Jupyter Notebook\", notificationPayload)\n",
       "                                appendUniqueDiv()\n",
       "                            }\n",
       "                        })\n",
       "                    } else if (Notification.permission === 'granted') {\n",
       "                        var notification = new Notification(\"Jupyter Notebook\", notificationPayload)\n",
       "                        appendUniqueDiv()\n",
       "                    }\n",
       "                }\n",
       "            }\n",
       "        }\n",
       "    }\n",
       ")\n"
      ],
      "text/plain": [
       "<IPython.core.display.Javascript object>"
      ]
     },
     "metadata": {},
     "output_type": "display_data"
    }
   ],
   "source": [
    "%%notify\n",
    "\n",
    "rf = RandomForestRegressor(n_jobs=-1)\n",
    "\n",
    "X_train, X_test, y_train, y_test = train_test_split(\n",
    "    X, y, test_size=0.2)\n",
    "\n",
    "criterion = ['mse']\n",
    "max_features =[\"auto\",\"log2\",None]\n",
    "n_estimators = np.arange(40,100,5)\n",
    "\n",
    "X_train, X_test, y_train, y_test = train_test_split(\n",
    "    X, y, test_size=0.2)\n",
    "\n",
    "param_grid = {\"criterion\": criterion,\"max_features\":max_features,\"n_estimators\":n_estimators}\n",
    "\n",
    "search = RandomizedSearchCV(rf, param_distributions=param_grid ,cv=cv,n_iter=iteraciones_de_searchs,scoring=tipo_puntaje) #refit deja el estimador fiteado con los mejores hiperparametros\n",
    "start = time()\n",
    "search.fit(X_train, y_train)\n",
    "\n",
    "print(\"GridSearchCV duro %.2f segundos para %d candidatos a hiper-parametros.\"\n",
    "    % (time() - start, len(search.cv_results_['params'])))\n",
    "print(\"\")\n",
    "score.report_single(search.cv_results_)"
   ]
  },
  {
   "cell_type": "code",
   "execution_count": 90,
   "metadata": {
    "collapsed": true
   },
   "outputs": [],
   "source": [
    "rf= search.best_estimator_"
   ]
  },
  {
   "cell_type": "code",
   "execution_count": 91,
   "metadata": {},
   "outputs": [
    {
     "data": {
      "text/plain": [
       "-19116725569.397343"
      ]
     },
     "execution_count": 91,
     "metadata": {},
     "output_type": "execute_result"
    }
   ],
   "source": [
    "search.score(X_test,y_test)"
   ]
  },
  {
   "cell_type": "markdown",
   "metadata": {},
   "source": [
    "# ETR"
   ]
  },
  {
   "cell_type": "code",
   "execution_count": 92,
   "metadata": {},
   "outputs": [
    {
     "name": "stdout",
     "output_type": "stream",
     "text": [
      "GridSearchCV duro 180.12 segundos para 12 candidatos a hiper-parametros.\n",
      "\n",
      "Puesto: 1\n",
      "Promedio training score: -1778611336.720 (std: 113667004.116)\n",
      "Promedio validation score: -22915836319.841 (std: 1679046258.834)\n",
      "Promedio fit time: 1.736s\n",
      "Hiper-parametros: {'n_estimators': 65}\n",
      "\n",
      "Puesto: 2\n",
      "Promedio training score: -1778534752.314 (std: 113643142.545)\n",
      "Promedio validation score: -23083335823.027 (std: 1708920634.094)\n",
      "Promedio fit time: 2.337s\n",
      "Hiper-parametros: {'n_estimators': 90}\n",
      "\n",
      "Puesto: 3\n",
      "Promedio training score: -1778581372.589 (std: 113611681.753)\n",
      "Promedio validation score: -23294097430.496 (std: 1410360717.354)\n",
      "Promedio fit time: 1.132s\n",
      "Hiper-parametros: {'n_estimators': 40}\n",
      "\n",
      "Puesto: 4\n",
      "Promedio training score: -1778627144.267 (std: 113547548.829)\n",
      "Promedio validation score: -23305658676.229 (std: 1923610459.053)\n",
      "Promedio fit time: 2.079s\n",
      "Hiper-parametros: {'n_estimators': 80}\n",
      "\n",
      "Puesto: 5\n",
      "Promedio training score: -1778590574.218 (std: 113577698.267)\n",
      "Promedio validation score: -23307293174.597 (std: 1783932420.431)\n",
      "Promedio fit time: 2.198s\n",
      "Hiper-parametros: {'n_estimators': 85}\n",
      "\n",
      "Puesto: 6\n",
      "Promedio training score: -1778620799.292 (std: 113653900.042)\n",
      "Promedio validation score: -23406579143.821 (std: 1845915716.818)\n",
      "Promedio fit time: 1.969s\n",
      "Hiper-parametros: {'n_estimators': 75}\n",
      "\n",
      "Puesto: 7\n",
      "Promedio training score: -1778602765.955 (std: 113674234.018)\n",
      "Promedio validation score: -23428623503.264 (std: 1620031553.947)\n",
      "Promedio fit time: 1.357s\n",
      "Hiper-parametros: {'n_estimators': 50}\n",
      "\n",
      "Puesto: 8\n",
      "Promedio training score: -1778606873.952 (std: 113709192.357)\n",
      "Promedio validation score: -23492006536.775 (std: 1895885908.909)\n",
      "Promedio fit time: 1.201s\n",
      "Hiper-parametros: {'n_estimators': 45}\n",
      "\n",
      "Puesto: 9\n",
      "Promedio training score: -1778536266.464 (std: 113666926.192)\n",
      "Promedio validation score: -23526489146.874 (std: 1807185754.953)\n",
      "Promedio fit time: 1.624s\n",
      "Hiper-parametros: {'n_estimators': 60}\n",
      "\n",
      "Puesto: 10\n",
      "Promedio training score: -1778573647.739 (std: 113701590.197)\n",
      "Promedio validation score: -23537157307.661 (std: 2033062238.205)\n",
      "Promedio fit time: 2.437s\n",
      "Hiper-parametros: {'n_estimators': 95}\n",
      "\n"
     ]
    },
    {
     "data": {
      "application/javascript": [
       "$(document).ready(\n",
       "    function() {\n",
       "        function appendUniqueDiv(){\n",
       "            // append a div with our uuid so we can check that it's already\n",
       "            // been sent and avoid duplicates on page reload\n",
       "            var notifiedDiv = document.createElement(\"div\")\n",
       "            notifiedDiv.id = \"b9effa99-8654-4574-a792-aedd42871b8b\"\n",
       "            element.append(notifiedDiv)\n",
       "        }\n",
       "\n",
       "        // only send notifications if the pageload is complete; this will\n",
       "        // help stop extra notifications when a saved notebook is loaded,\n",
       "        // which during testing gives us state \"interactive\", not \"complete\"\n",
       "        if (document.readyState === 'complete') {\n",
       "            // check for the div that signifies that the notification\n",
       "            // was already sent\n",
       "            if (document.getElementById(\"b9effa99-8654-4574-a792-aedd42871b8b\") === null) {\n",
       "                var notificationPayload = {\"body\": \"Cell Execution Has Finished!!\", \"requireInteraction\": false, \"icon\": \"/static/base/images/favicon.ico\"};\n",
       "                if (Notification.permission !== 'denied') {\n",
       "                    if (Notification.permission !== 'granted') { \n",
       "                        Notification.requestPermission(function (permission) {\n",
       "                            if(!('permission' in Notification)) {\n",
       "                                Notification.permission = permission\n",
       "                            }\n",
       "                            if (Notification.permission === 'granted') {\n",
       "                                var notification = new Notification(\"Jupyter Notebook\", notificationPayload)\n",
       "                                appendUniqueDiv()\n",
       "                            }\n",
       "                        })\n",
       "                    } else if (Notification.permission === 'granted') {\n",
       "                        var notification = new Notification(\"Jupyter Notebook\", notificationPayload)\n",
       "                        appendUniqueDiv()\n",
       "                    }\n",
       "                }\n",
       "            }\n",
       "        }\n",
       "    }\n",
       ")\n"
      ],
      "text/plain": [
       "<IPython.core.display.Javascript object>"
      ]
     },
     "metadata": {},
     "output_type": "display_data"
    }
   ],
   "source": [
    "%%notify\n",
    "\n",
    "etr = ExtraTreesRegressor(n_jobs=-1)\n",
    "\n",
    "n_estimators = np.arange(40,100,5)\n",
    "\n",
    "X_train, X_test, y_train, y_test = train_test_split(\n",
    "    X, y, test_size=0.2)\n",
    "\n",
    "param_grid = {\"n_estimators\":n_estimators}\n",
    "\n",
    "search = GridSearchCV(etr, param_grid=param_grid ,cv=cv,scoring=tipo_puntaje) #refit deja el estimador fiteado con los mejores hiperparametros\n",
    "start = time()\n",
    "search.fit(X_train, y_train)\n",
    "\n",
    "print(\"GridSearchCV duro %.2f segundos para %d candidatos a hiper-parametros.\"\n",
    "    % (time() - start, len(search.cv_results_['params'])))\n",
    "print(\"\")\n",
    "score.report_single(search.cv_results_)"
   ]
  },
  {
   "cell_type": "code",
   "execution_count": 93,
   "metadata": {
    "collapsed": true
   },
   "outputs": [],
   "source": [
    "etr= search.best_estimator_"
   ]
  },
  {
   "cell_type": "code",
   "execution_count": 94,
   "metadata": {},
   "outputs": [
    {
     "data": {
      "text/plain": [
       "array([ 0.17646367,  0.63517484,  0.18836149])"
      ]
     },
     "execution_count": 94,
     "metadata": {},
     "output_type": "execute_result"
    }
   ],
   "source": [
    "etr.feature_importances_"
   ]
  },
  {
   "cell_type": "markdown",
   "metadata": {},
   "source": [
    "# MLP"
   ]
  },
  {
   "cell_type": "code",
   "execution_count": 127,
   "metadata": {
    "collapsed": true
   },
   "outputs": [],
   "source": [
    "from sklearn.neural_network import MLPRegressor"
   ]
  },
  {
   "cell_type": "code",
   "execution_count": 128,
   "metadata": {},
   "outputs": [
    {
     "name": "stdout",
     "output_type": "stream",
     "text": [
      "GridSearchCV duro 64.37 segundos para 1 candidatos a hiper-parametros.\n",
      "\n",
      "Puesto: 1\n",
      "Promedio training score: -48649291414.936 (std: 1278210409.982)\n",
      "Promedio validation score: -48843115430.570 (std: 5226556298.293)\n",
      "Promedio fit time: 10.628s\n",
      "Hiper-parametros: {'activation': 'identity'}\n",
      "\n"
     ]
    },
    {
     "data": {
      "application/javascript": [
       "$(document).ready(\n",
       "    function() {\n",
       "        function appendUniqueDiv(){\n",
       "            // append a div with our uuid so we can check that it's already\n",
       "            // been sent and avoid duplicates on page reload\n",
       "            var notifiedDiv = document.createElement(\"div\")\n",
       "            notifiedDiv.id = \"12a08486-548d-46c5-855e-660e239cec70\"\n",
       "            element.append(notifiedDiv)\n",
       "        }\n",
       "\n",
       "        // only send notifications if the pageload is complete; this will\n",
       "        // help stop extra notifications when a saved notebook is loaded,\n",
       "        // which during testing gives us state \"interactive\", not \"complete\"\n",
       "        if (document.readyState === 'complete') {\n",
       "            // check for the div that signifies that the notification\n",
       "            // was already sent\n",
       "            if (document.getElementById(\"12a08486-548d-46c5-855e-660e239cec70\") === null) {\n",
       "                var notificationPayload = {\"body\": \"Cell Execution Has Finished!!\", \"requireInteraction\": false, \"icon\": \"/static/base/images/favicon.ico\"};\n",
       "                if (Notification.permission !== 'denied') {\n",
       "                    if (Notification.permission !== 'granted') { \n",
       "                        Notification.requestPermission(function (permission) {\n",
       "                            if(!('permission' in Notification)) {\n",
       "                                Notification.permission = permission\n",
       "                            }\n",
       "                            if (Notification.permission === 'granted') {\n",
       "                                var notification = new Notification(\"Jupyter Notebook\", notificationPayload)\n",
       "                                appendUniqueDiv()\n",
       "                            }\n",
       "                        })\n",
       "                    } else if (Notification.permission === 'granted') {\n",
       "                        var notification = new Notification(\"Jupyter Notebook\", notificationPayload)\n",
       "                        appendUniqueDiv()\n",
       "                    }\n",
       "                }\n",
       "            }\n",
       "        }\n",
       "    }\n",
       ")\n"
      ],
      "text/plain": [
       "<IPython.core.display.Javascript object>"
      ]
     },
     "metadata": {},
     "output_type": "display_data"
    }
   ],
   "source": [
    "%%notify\n",
    "\n",
    "mlp = MLPRegressor()\n",
    "\n",
    "#activation = [\"identity\", \"logistic\", \"tanh\", \"relu\"]\n",
    "activation = [\"identity\"]\n",
    "\n",
    "X_train, X_test, y_train, y_test = train_test_split(\n",
    "    X, y, test_size=0.2)\n",
    "\n",
    "param_grid = {\"activation\": activation}\n",
    "\n",
    "search = GridSearchCV(mlp, param_grid=param_grid ,cv=cv,scoring=tipo_puntaje) #refit deja el estimador fiteado con los mejores hiperparametros\n",
    "start = time()\n",
    "search.fit(X_train, y_train)\n",
    "\n",
    "print(\"GridSearchCV duro %.2f segundos para %d candidatos a hiper-parametros.\"\n",
    "    % (time() - start, len(search.cv_results_['params'])))\n",
    "print(\"\")\n",
    "score.report_single(search.cv_results_)"
   ]
  },
  {
   "cell_type": "code",
   "execution_count": 129,
   "metadata": {
    "collapsed": true
   },
   "outputs": [],
   "source": [
    "mlp=search.best_estimator_"
   ]
  },
  {
   "cell_type": "code",
   "execution_count": 130,
   "metadata": {},
   "outputs": [
    {
     "data": {
      "text/plain": [
       "-43791592775.715477"
      ]
     },
     "execution_count": 130,
     "metadata": {},
     "output_type": "execute_result"
    }
   ],
   "source": [
    "search.score(X_test,y_test)"
   ]
  },
  {
   "cell_type": "markdown",
   "metadata": {},
   "source": [
    "# Lineales"
   ]
  },
  {
   "cell_type": "code",
   "execution_count": 118,
   "metadata": {
    "collapsed": true
   },
   "outputs": [],
   "source": [
    "from sklearn.linear_model import Ridge"
   ]
  },
  {
   "cell_type": "code",
   "execution_count": 119,
   "metadata": {},
   "outputs": [
    {
     "data": {
      "text/plain": [
       "0.47329439411938912"
      ]
     },
     "execution_count": 119,
     "metadata": {},
     "output_type": "execute_result"
    },
    {
     "data": {
      "application/javascript": [
       "$(document).ready(\n",
       "    function() {\n",
       "        function appendUniqueDiv(){\n",
       "            // append a div with our uuid so we can check that it's already\n",
       "            // been sent and avoid duplicates on page reload\n",
       "            var notifiedDiv = document.createElement(\"div\")\n",
       "            notifiedDiv.id = \"1ae73072-e254-464f-8822-58c6d7ce73bd\"\n",
       "            element.append(notifiedDiv)\n",
       "        }\n",
       "\n",
       "        // only send notifications if the pageload is complete; this will\n",
       "        // help stop extra notifications when a saved notebook is loaded,\n",
       "        // which during testing gives us state \"interactive\", not \"complete\"\n",
       "        if (document.readyState === 'complete') {\n",
       "            // check for the div that signifies that the notification\n",
       "            // was already sent\n",
       "            if (document.getElementById(\"1ae73072-e254-464f-8822-58c6d7ce73bd\") === null) {\n",
       "                var notificationPayload = {\"body\": \"Cell Execution Has Finished!!\", \"requireInteraction\": false, \"icon\": \"/static/base/images/favicon.ico\"};\n",
       "                if (Notification.permission !== 'denied') {\n",
       "                    if (Notification.permission !== 'granted') { \n",
       "                        Notification.requestPermission(function (permission) {\n",
       "                            if(!('permission' in Notification)) {\n",
       "                                Notification.permission = permission\n",
       "                            }\n",
       "                            if (Notification.permission === 'granted') {\n",
       "                                var notification = new Notification(\"Jupyter Notebook\", notificationPayload)\n",
       "                                appendUniqueDiv()\n",
       "                            }\n",
       "                        })\n",
       "                    } else if (Notification.permission === 'granted') {\n",
       "                        var notification = new Notification(\"Jupyter Notebook\", notificationPayload)\n",
       "                        appendUniqueDiv()\n",
       "                    }\n",
       "                }\n",
       "            }\n",
       "        }\n",
       "    }\n",
       ")\n"
      ],
      "text/plain": [
       "<IPython.core.display.Javascript object>"
      ]
     },
     "metadata": {},
     "output_type": "display_data"
    }
   ],
   "source": [
    "%%notify\n",
    "\n",
    "ridge = Ridge()\n",
    "\n",
    "X_train, X_test, y_train, y_test = train_test_split(\n",
    "    X, y, test_size=0.2)\n",
    "\n",
    "ridge.fit(X_train, y_train)\n",
    "ridge.score(X_test,y_test)"
   ]
  },
  {
   "cell_type": "code",
   "execution_count": 201,
   "metadata": {
    "collapsed": true
   },
   "outputs": [],
   "source": [
    "from sklearn.linear_model import Lasso"
   ]
  },
  {
   "cell_type": "code",
   "execution_count": 202,
   "metadata": {},
   "outputs": [
    {
     "data": {
      "text/plain": [
       "0.54375167665157176"
      ]
     },
     "execution_count": 202,
     "metadata": {},
     "output_type": "execute_result"
    },
    {
     "data": {
      "application/javascript": [
       "$(document).ready(\n",
       "    function() {\n",
       "        function appendUniqueDiv(){\n",
       "            // append a div with our uuid so we can check that it's already\n",
       "            // been sent and avoid duplicates on page reload\n",
       "            var notifiedDiv = document.createElement(\"div\")\n",
       "            notifiedDiv.id = \"f2b7293d-216b-4cf7-8e08-aee424f84e6e\"\n",
       "            element.append(notifiedDiv)\n",
       "        }\n",
       "\n",
       "        // only send notifications if the pageload is complete; this will\n",
       "        // help stop extra notifications when a saved notebook is loaded,\n",
       "        // which during testing gives us state \"interactive\", not \"complete\"\n",
       "        if (document.readyState === 'complete') {\n",
       "            // check for the div that signifies that the notification\n",
       "            // was already sent\n",
       "            if (document.getElementById(\"f2b7293d-216b-4cf7-8e08-aee424f84e6e\") === null) {\n",
       "                var notificationPayload = {\"body\": \"Cell Execution Has Finished!!\", \"requireInteraction\": false, \"icon\": \"/static/base/images/favicon.ico\"};\n",
       "                if (Notification.permission !== 'denied') {\n",
       "                    if (Notification.permission !== 'granted') { \n",
       "                        Notification.requestPermission(function (permission) {\n",
       "                            if(!('permission' in Notification)) {\n",
       "                                Notification.permission = permission\n",
       "                            }\n",
       "                            if (Notification.permission === 'granted') {\n",
       "                                var notification = new Notification(\"Jupyter Notebook\", notificationPayload)\n",
       "                                appendUniqueDiv()\n",
       "                            }\n",
       "                        })\n",
       "                    } else if (Notification.permission === 'granted') {\n",
       "                        var notification = new Notification(\"Jupyter Notebook\", notificationPayload)\n",
       "                        appendUniqueDiv()\n",
       "                    }\n",
       "                }\n",
       "            }\n",
       "        }\n",
       "    }\n",
       ")\n"
      ],
      "text/plain": [
       "<IPython.core.display.Javascript object>"
      ]
     },
     "metadata": {},
     "output_type": "display_data"
    }
   ],
   "source": [
    "%%notify\n",
    "\n",
    "lasso = Lasso()\n",
    "\n",
    "X_train, X_test, y_train, y_test = train_test_split(\n",
    "    X, y, test_size=0.2)\n",
    "\n",
    "lasso.fit(X_train, y_train)\n",
    "lasso.score(X_test,y_test)"
   ]
  },
  {
   "cell_type": "markdown",
   "metadata": {},
   "source": [
    "# Ensamble"
   ]
  },
  {
   "cell_type": "code",
   "execution_count": 224,
   "metadata": {},
   "outputs": [],
   "source": [
    "from mlxtend.regressor import StackingRegressor\n",
    "\n",
    "stregr = StackingRegressor(regressors=[rf,etr,ridge,lasso], \n",
    "                           meta_regressor=xgb)"
   ]
  },
  {
   "cell_type": "code",
   "execution_count": 225,
   "metadata": {},
   "outputs": [
    {
     "name": "stderr",
     "output_type": "stream",
     "text": [
      "/usr/local/lib/python2.7/dist-packages/sklearn/linear_model/coordinate_descent.py:491: ConvergenceWarning: Objective did not converge. You might want to increase the number of iterations. Fitting data with very small alpha may cause precision problems.\n",
      "  ConvergenceWarning)\n"
     ]
    },
    {
     "data": {
      "text/plain": [
       "StackingRegressor(meta_regressor=Lasso(alpha=1.0, copy_X=True, fit_intercept=True, max_iter=1000,\n",
       "   normalize=False, positive=False, precompute=False, random_state=None,\n",
       "   selection='cyclic', tol=0.0001, warm_start=False),\n",
       "         regressors=[RandomForestRegressor(bootstrap=True, criterion='mse', max_depth=None,\n",
       "           max_features='log2', max_leaf_nodes=None,\n",
       "           min_impurity_decrease=0.0, min_impurity_split=None,\n",
       "           min_samples_leaf=1, min_samples_split=2,\n",
       "           min_weight_fraction_leaf=0.0, n_estima...eg:linear', reg_alpha=0, reg_lambda=1,\n",
       "       scale_pos_weight=1, seed=0, silent=True, subsample=1)],\n",
       "         verbose=0)"
      ]
     },
     "execution_count": 225,
     "metadata": {},
     "output_type": "execute_result"
    },
    {
     "data": {
      "application/javascript": [
       "$(document).ready(\n",
       "    function() {\n",
       "        function appendUniqueDiv(){\n",
       "            // append a div with our uuid so we can check that it's already\n",
       "            // been sent and avoid duplicates on page reload\n",
       "            var notifiedDiv = document.createElement(\"div\")\n",
       "            notifiedDiv.id = \"0fb9573c-6645-4c6d-834b-a02120361d23\"\n",
       "            element.append(notifiedDiv)\n",
       "        }\n",
       "\n",
       "        // only send notifications if the pageload is complete; this will\n",
       "        // help stop extra notifications when a saved notebook is loaded,\n",
       "        // which during testing gives us state \"interactive\", not \"complete\"\n",
       "        if (document.readyState === 'complete') {\n",
       "            // check for the div that signifies that the notification\n",
       "            // was already sent\n",
       "            if (document.getElementById(\"0fb9573c-6645-4c6d-834b-a02120361d23\") === null) {\n",
       "                var notificationPayload = {\"body\": \"Cell Execution Has Finished!!\", \"requireInteraction\": false, \"icon\": \"/static/base/images/favicon.ico\"};\n",
       "                if (Notification.permission !== 'denied') {\n",
       "                    if (Notification.permission !== 'granted') { \n",
       "                        Notification.requestPermission(function (permission) {\n",
       "                            if(!('permission' in Notification)) {\n",
       "                                Notification.permission = permission\n",
       "                            }\n",
       "                            if (Notification.permission === 'granted') {\n",
       "                                var notification = new Notification(\"Jupyter Notebook\", notificationPayload)\n",
       "                                appendUniqueDiv()\n",
       "                            }\n",
       "                        })\n",
       "                    } else if (Notification.permission === 'granted') {\n",
       "                        var notification = new Notification(\"Jupyter Notebook\", notificationPayload)\n",
       "                        appendUniqueDiv()\n",
       "                    }\n",
       "                }\n",
       "            }\n",
       "        }\n",
       "    }\n",
       ")\n"
      ],
      "text/plain": [
       "<IPython.core.display.Javascript object>"
      ]
     },
     "metadata": {},
     "output_type": "display_data"
    }
   ],
   "source": [
    "%%notify\n",
    "stregr.fit(X_train,y_train)"
   ]
  },
  {
   "cell_type": "code",
   "execution_count": 226,
   "metadata": {},
   "outputs": [
    {
     "data": {
      "text/plain": [
       "0.77880627435285699"
      ]
     },
     "execution_count": 226,
     "metadata": {},
     "output_type": "execute_result"
    }
   ],
   "source": [
    "stregr.score(X_test,y_test)"
   ]
  },
  {
   "cell_type": "code",
   "execution_count": 227,
   "metadata": {},
   "outputs": [
    {
     "name": "stdout",
     "output_type": "stream",
     "text": [
      "Error maximo:2536683.57895\n",
      "Error minimo:0.0\n",
      "46813          0.000000\n",
      "93959       6646.491228\n",
      "118919     -9136.842105\n",
      "18577       3498.802591\n",
      "96013      -1812.107206\n",
      "101086     16661.403509\n",
      "88434      -2357.894737\n",
      "91457       9848.453688\n",
      "39044       -527.368421\n",
      "67554      42280.821053\n",
      "53011      42252.631579\n",
      "116624     21018.421053\n",
      "123884    -11090.643161\n",
      "71944     -11947.368421\n",
      "48596     -76213.868003\n",
      "129025    -58012.873684\n",
      "66471     -18546.867669\n",
      "90600       8663.157895\n",
      "122238    -13340.968421\n",
      "16725      -8541.902834\n",
      "22691      -7998.370927\n",
      "79794      62869.780952\n",
      "1524        4521.825397\n",
      "105253      6271.052632\n",
      "134940    -24815.177945\n",
      "46357      48011.957166\n",
      "91342       4379.484211\n",
      "90637        954.550977\n",
      "78381      13964.028571\n",
      "16729      -8338.383459\n",
      "              ...      \n",
      "51284       -376.954150\n",
      "87793       1505.413534\n",
      "133023     63452.631579\n",
      "47528     -33628.434946\n",
      "48927      14168.421053\n",
      "45187       3379.526234\n",
      "44995       6100.582245\n",
      "130574      -502.413118\n",
      "111155    -71519.542857\n",
      "83744      41936.978947\n",
      "16566     -27658.646617\n",
      "107461     -7244.417425\n",
      "95589      -2259.649123\n",
      "37005      35255.894737\n",
      "56917       8715.789474\n",
      "47831     -73452.631579\n",
      "46462      -2801.914255\n",
      "56906      10489.536341\n",
      "16083     304758.077193\n",
      "70580      -9039.736842\n",
      "19177       2051.587694\n",
      "115668     -9744.275261\n",
      "48287       3917.437533\n",
      "90204      -3157.543860\n",
      "100381      7699.063158\n",
      "36129      81614.035088\n",
      "28599      -9715.789474\n",
      "37711     -28546.003386\n",
      "112498      5076.289118\n",
      "65519     -28428.903926\n",
      "Name: price_aprox_usd, Length: 27184, dtype: float64\n"
     ]
    }
   ],
   "source": [
    "errores = rf.predict(X_test)-y_test\n",
    "print (\"Error maximo:{0}\\nError minimo:{1}\".format( max(abs(errores)),min(abs(errores))))\n",
    "print(errores)"
   ]
  },
  {
   "cell_type": "code",
   "execution_count": 228,
   "metadata": {},
   "outputs": [
    {
     "name": "stdout",
     "output_type": "stream",
     "text": [
      "Hay 25391 de 27184 que tienen mas de 1000 USD de error (93%)\n"
     ]
    }
   ],
   "source": [
    "count_max=0\n",
    "max_error=1000\n",
    "lista=[]\n",
    "for error in errores:\n",
    "    if abs(error)>max_error:\n",
    "        count_max+=1\n",
    "        lista.append(abs(error))\n",
    "print (\"Hay {0} de {1} que tienen mas de {2} USD de error ({3}%)\".format(count_max,len(errores),max_error,100 * count_max/len(errores)))"
   ]
  },
  {
   "cell_type": "code",
   "execution_count": 229,
   "metadata": {},
   "outputs": [
    {
     "name": "stdout",
     "output_type": "stream",
     "text": [
      "Hay 20164 de 27184 que tienen mas de 5000 USD de error (74%)\n"
     ]
    }
   ],
   "source": [
    "count_max=0\n",
    "max_error=5000\n",
    "lista=[]\n",
    "for error in errores:\n",
    "    if abs(error)>max_error:\n",
    "        count_max+=1\n",
    "        lista.append(abs(error))\n",
    "print (\"Hay {0} de {1} que tienen mas de {2} USD de error ({3}%)\".format(count_max,len(errores),max_error,100 * count_max/len(errores)))"
   ]
  },
  {
   "cell_type": "code",
   "execution_count": 230,
   "metadata": {},
   "outputs": [
    {
     "name": "stdout",
     "output_type": "stream",
     "text": [
      "Hay 15770 de 27184 que tienen mas de 10000 USD de error (58%)\n"
     ]
    }
   ],
   "source": [
    "count_max=0\n",
    "max_error=10000\n",
    "lista=[]\n",
    "for error in errores:\n",
    "    if abs(error)>max_error:\n",
    "        count_max+=1\n",
    "        lista.append(abs(error))\n",
    "print (\"Hay {0} de {1} que tienen mas de {2} USD de error ({3}%)\".format(count_max,len(errores),max_error,100 * count_max/len(errores)))"
   ]
  },
  {
   "cell_type": "markdown",
   "metadata": {},
   "source": [
    "### Errores arriba del maximo"
   ]
  },
  {
   "cell_type": "code",
   "execution_count": 222,
   "metadata": {},
   "outputs": [
    {
     "data": {
      "image/png": "[encoded data removed]",
      "text/plain": [
       "<matplotlib.figure.Figure at 0x7f8402521550>"
      ]
     },
     "metadata": {},
     "output_type": "display_data"
    }
   ],
   "source": [
    "# the histogram of the data\n",
    "plt.figure(figsize=(12,8))\n",
    "plt.hist(lista, 500, facecolor='blue')\n",
    "plt.xlabel('Errores')\n",
    "plt.ylabel('Cantidad')\n",
    "#plt.xlim(-10000000, 10000000) #para variar el \"zoom a 0\"\n",
    "plt.yscale('log')\n",
    "plt.xscale('log')\n",
    "plt.show()"
   ]
  },
  {
   "cell_type": "markdown",
   "metadata": {},
   "source": [
    "### Errores totales"
   ]
  },
  {
   "cell_type": "code",
   "execution_count": 223,
   "metadata": {},
   "outputs": [
    {
     "data": {
      "image/png": "[encoded data removed]",
      "text/plain": [
       "<matplotlib.figure.Figure at 0x7f8411b16550>"
      ]
     },
     "metadata": {},
     "output_type": "display_data"
    }
   ],
   "source": [
    "# the histogram of the data\n",
    "plt.figure(figsize=(12,8))\n",
    "plt.hist(errores, 500, facecolor='blue')\n",
    "plt.xlabel('Errores')\n",
    "plt.ylabel('Cantidad')\n",
    "#plt.xlim(-10000000, 10000000) #para variar el \"zoom a 0\"\n",
    "plt.yscale('log')\n",
    "plt.xscale('log')\n",
    "plt.show()"
   ]
  },
  {
   "cell_type": "markdown",
   "metadata": {},
   "source": [
    "# Kaggle"
   ]
  },
  {
   "cell_type": "code",
   "execution_count": 212,
   "metadata": {},
   "outputs": [
    {
     "name": "stdout",
     "output_type": "stream",
     "text": [
      "<class 'pandas.core.frame.DataFrame'>\n",
      "RangeIndex: 14166 entries, 0 to 14165\n",
      "Data columns (total 17 columns):\n",
      "id                         14166 non-null int64\n",
      "created_on                 14166 non-null object\n",
      "property_type              14166 non-null object\n",
      "operation                  14166 non-null object\n",
      "place_name                 14166 non-null object\n",
      "place_with_parent_names    14166 non-null object\n",
      "country_name               14166 non-null object\n",
      "state_name                 14166 non-null object\n",
      "lat-lon                    10487 non-null object\n",
      "lat                        10487 non-null float64\n",
      "lon                        10487 non-null float64\n",
      "surface_total_in_m2        14166 non-null float64\n",
      "surface_covered_in_m2      14166 non-null float64\n",
      "floor                      1368 non-null float64\n",
      "rooms                      7500 non-null float64\n",
      "expenses                   2543 non-null object\n",
      "description                14166 non-null object\n",
      "dtypes: float64(6), int64(1), object(10)\n",
      "memory usage: 1.8+ MB\n"
     ]
    }
   ],
   "source": [
    "test_samples=pd.read_csv(\"datos/properati_dataset_testing_noprice_acondicionado.csv\")\n",
    "test_samples.info()"
   ]
  },
  {
   "cell_type": "code",
   "execution_count": 213,
   "metadata": {
    "collapsed": true
   },
   "outputs": [],
   "source": [
    "test= zip(test_samples['surface_total_in_m2'],\\\n",
    "        test_samples['surface_covered_in_m2'],le_barrio.transform(test_samples['place_name']))"
   ]
  },
  {
   "cell_type": "code",
   "execution_count": 214,
   "metadata": {
    "collapsed": true
   },
   "outputs": [],
   "source": [
    "resultados = stregr.predict(test)\n",
    "result=pd.DataFrame({'id':test_samples['id'],'price_usd':resultados})\n",
    "result.to_csv('datos/resultados.csv',index=False)"
   ]
  },
  {
   "cell_type": "code",
   "execution_count": null,
   "metadata": {
    "collapsed": true
   },
   "outputs": [],
   "source": []
  }
 ],
 "metadata": {
  "kernelspec": {
   "display_name": "Python 2",
   "language": "python",
   "name": "python2"
  },
  "language_info": {
   "codemirror_mode": {
    "name": "ipython",
    "version": 2
   },
   "file_extension": ".py",
   "mimetype": "text/x-python",
   "name": "python",
   "nbconvert_exporter": "python",
   "pygments_lexer": "ipython2",
   "version": "2.7.12"
  }
 },
 "nbformat": 4,
 "nbformat_minor": 2
}
