{
 "cells": [
  {
   "cell_type": "code",
   "execution_count": 38,
   "metadata": {},
   "outputs": [
    {
     "data": {
      "text/html": [
       "<style>.container { width:97% !important; }</style>"
      ],
      "text/plain": [
       "<IPython.core.display.HTML object>"
      ]
     },
     "metadata": {},
     "output_type": "display_data"
    },
    {
     "data": {
      "application/javascript": [
       "if (!(\"Notification\" in window)) {\n",
       "    alert(\"This browser does not support desktop notifications, so the %%notify magic will not work.\");\n",
       "} else if (Notification.permission !== 'granted' && Notification.permission !== 'denied') {\n",
       "    Notification.requestPermission(function (permission) {\n",
       "        if(!('permission' in Notification)) {\n",
       "            Notification.permission = permission;\n",
       "        }\n",
       "    })\n",
       "}\n"
      ],
      "text/plain": [
       "<IPython.core.display.Javascript object>"
      ]
     },
     "metadata": {},
     "output_type": "display_data"
    }
   ],
   "source": [
    "import pandas as pd\n",
    "import numpy as np\n",
    "import matplotlib.pyplot as plt\n",
    "\n",
    "from IPython.core.display import display, HTML\n",
    "display(HTML(\"<style>.container { width:97% !important; }</style>\"))\n",
    "\n",
    "from sklearn.model_selection import GridSearchCV, RandomizedSearchCV, train_test_split\n",
    "from sklearn.ensemble import RandomForestRegressor,IsolationForest,ExtraTreesRegressor\n",
    "\n",
    "from sklearn import preprocessing\n",
    "import scoring as score # para hacer los reportes de puntajes\n",
    "from time import time\n",
    "\n",
    "import jupyternotify\n",
    "ip = get_ipython()\n",
    "ip.register_magics(jupyternotify.JupyterNotifyMagics)\n",
    "\n",
    "import scoring as score # para hacer los reportes de puntajes\n",
    "\n",
    "properati = pd.read_csv('datos/properati_final.csv')\n",
    "zonas = pd.read_csv('datos/todos_los_barrios.csv')"
   ]
  },
  {
   "cell_type": "code",
   "execution_count": 39,
   "metadata": {},
   "outputs": [],
   "source": [
    "#paso features con strings a numericos\n",
    "le_zona = preprocessing.LabelEncoder()\n",
    "properati['state_name'] =le_zona.fit_transform(properati['state_name'])\n",
    "\n",
    "le_barrio = preprocessing.LabelEncoder()\n",
    "le_barrio.fit(zonas.values)\n",
    "properati['place_name'] = le_barrio.transform(properati['place_name'])\n",
    "\n",
    "le_tipo = preprocessing.LabelEncoder()\n",
    "properati['property_type'] = le_tipo.fit_transform(properati['property_type'])"
   ]
  },
  {
   "cell_type": "code",
   "execution_count": 40,
   "metadata": {},
   "outputs": [
    {
     "name": "stdout",
     "output_type": "stream",
     "text": [
      "136327\n",
      "135917\n"
     ]
    }
   ],
   "source": [
    "properati.loc[:,('created_on')] = pd.to_datetime(properati['created_on'])\n",
    "properati['anio'] = [x.year for x in properati['created_on'] ]\n",
    "properati=properati.loc[properati.price_aprox_usd<1e7]\n",
    "properati=properati.loc[properati.surface_covered_in_m2<7000]\n",
    "print len(properati)\n",
    "properati=properati.groupby(\"place_name\").filter(lambda x: len(x)>5)\n",
    "print len(properati)"
   ]
  },
  {
   "cell_type": "code",
   "execution_count": 41,
   "metadata": {
    "collapsed": true
   },
   "outputs": [],
   "source": [
    "#preparo set de datos\n",
    "X = zip(properati['surface_total_in_m2'],\\\n",
    "        properati['surface_covered_in_m2'],properati['place_name'])\n",
    "y = properati[\"price_aprox_usd\"]"
   ]
  },
  {
   "cell_type": "code",
   "execution_count": 43,
   "metadata": {},
   "outputs": [
    {
     "name": "stdout",
     "output_type": "stream",
     "text": [
      "122322\n"
     ]
    }
   ],
   "source": [
    "Z= zip(properati['surface_total_in_m2'],\\\n",
    "        properati['surface_covered_in_m2'],properati['place_name'],properati[\"price_aprox_usd\"])\n",
    "\n",
    "outs = IsolationForest(n_jobs=-1,n_estimators=50)\n",
    "outs.fit(Z)\n",
    "\n",
    "len(Z)\n",
    "\n",
    "nuevo_aux =zip(X,outs.predict(Z)) \n",
    "\n",
    "nuevo=[tupla for tupla in nuevo_aux if tupla[1]==1] #solo necesito lo que devuelve predecir Z y no el Z en si\n",
    "print len(nuevo)\n",
    "nuevo=[tupla[0] for tupla in nuevo_aux]\n",
    "X=nuevo"
   ]
  },
  {
   "cell_type": "markdown",
   "metadata": {},
   "source": [
    "# XGBoost"
   ]
  },
  {
   "cell_type": "code",
   "execution_count": 44,
   "metadata": {},
   "outputs": [
    {
     "name": "stderr",
     "output_type": "stream",
     "text": [
      "/usr/local/lib/python2.7/dist-packages/sklearn/cross_validation.py:41: DeprecationWarning: This module was deprecated in version 0.18 in favor of the model_selection module into which all the refactored classes and functions are moved. Also note that the interface of the new CV iterators are different from that of this module. This module will be removed in 0.20.\n",
      "  \"This module will be removed in 0.20.\", DeprecationWarning)\n"
     ]
    },
    {
     "name": "stdout",
     "output_type": "stream",
     "text": [
      "GridSearchCV duro 86.34 segundos para 10 candidatos a hiper-parametros.\n",
      "\n",
      "Puesto: 1\n",
      "Promedio training score: 0.789 (std: 0.002)\n",
      "Promedio validation score: 0.695 (std: 0.013)\n",
      "Promedio fit time: 1.208s\n",
      "Hiper-parametros: {'subsample': 0.7, 'learning_rate': 0.69999999999999996, 'gamma': 0.8, 'min_child_weight': 3}\n",
      "\n",
      "Puesto: 1\n",
      "Promedio training score: 0.789 (std: 0.002)\n",
      "Promedio validation score: 0.695 (std: 0.013)\n",
      "Promedio fit time: 1.203s\n",
      "Hiper-parametros: {'subsample': 0.7, 'learning_rate': 0.69999999999999996, 'gamma': 0.3, 'min_child_weight': 3}\n",
      "\n",
      "Puesto: 3\n",
      "Promedio training score: 0.782 (std: 0.003)\n",
      "Promedio validation score: 0.690 (std: 0.019)\n",
      "Promedio fit time: 1.327s\n",
      "Hiper-parametros: {'subsample': 0.7, 'learning_rate': 0.5, 'gamma': 0.8, 'min_child_weight': 1}\n",
      "\n",
      "Puesto: 4\n",
      "Promedio training score: 0.771 (std: 0.005)\n",
      "Promedio validation score: 0.684 (std: 0.013)\n",
      "Promedio fit time: 1.207s\n",
      "Hiper-parametros: {'subsample': 0.7, 'learning_rate': 0.5, 'gamma': 0.3, 'min_child_weight': 3}\n",
      "\n",
      "Puesto: 5\n",
      "Promedio training score: 0.766 (std: 0.002)\n",
      "Promedio validation score: 0.682 (std: 0.012)\n",
      "Promedio fit time: 1.297s\n",
      "Hiper-parametros: {'subsample': 0.6, 'learning_rate': 0.5, 'gamma': 0.2, 'min_child_weight': 3}\n",
      "\n",
      "Puesto: 5\n",
      "Promedio training score: 0.766 (std: 0.002)\n",
      "Promedio validation score: 0.682 (std: 0.012)\n",
      "Promedio fit time: 1.261s\n",
      "Hiper-parametros: {'subsample': 0.6, 'learning_rate': 0.5, 'gamma': 0.8, 'min_child_weight': 3}\n",
      "\n",
      "Puesto: 7\n",
      "Promedio training score: 0.742 (std: 0.002)\n",
      "Promedio validation score: 0.681 (std: 0.020)\n",
      "Promedio fit time: 1.265s\n",
      "Hiper-parametros: {'subsample': 0.6, 'learning_rate': 0.29999999999999999, 'gamma': 0.5, 'min_child_weight': 3}\n",
      "\n",
      "Puesto: 8\n",
      "Promedio training score: 0.757 (std: 0.003)\n",
      "Promedio validation score: 0.680 (std: 0.017)\n",
      "Promedio fit time: 1.743s\n",
      "Hiper-parametros: {'subsample': 0.7, 'learning_rate': 0.29999999999999999, 'gamma': 0.2, 'min_child_weight': 1}\n",
      "\n",
      "Puesto: 9\n",
      "Promedio training score: 0.803 (std: 0.004)\n",
      "Promedio validation score: 0.677 (std: 0.010)\n",
      "Promedio fit time: 1.386s\n",
      "Hiper-parametros: {'subsample': 0.7, 'learning_rate': 0.90000000000000013, 'gamma': 0.1, 'min_child_weight': 1}\n",
      "\n",
      "Puesto: 10\n",
      "Promedio training score: 0.796 (std: 0.006)\n",
      "Promedio validation score: 0.674 (std: 0.013)\n",
      "Promedio fit time: 1.202s\n",
      "Hiper-parametros: {'subsample': 0.7, 'learning_rate': 0.90000000000000013, 'gamma': 0.6, 'min_child_weight': 3}\n",
      "\n"
     ]
    },
    {
     "data": {
      "application/javascript": [
       "$(document).ready(\n",
       "    function() {\n",
       "        function appendUniqueDiv(){\n",
       "            // append a div with our uuid so we can check that it's already\n",
       "            // been sent and avoid duplicates on page reload\n",
       "            var notifiedDiv = document.createElement(\"div\")\n",
       "            notifiedDiv.id = \"79494eb5-be91-4104-85c5-ccbb4c26f754\"\n",
       "            element.append(notifiedDiv)\n",
       "        }\n",
       "\n",
       "        // only send notifications if the pageload is complete; this will\n",
       "        // help stop extra notifications when a saved notebook is loaded,\n",
       "        // which during testing gives us state \"interactive\", not \"complete\"\n",
       "        if (document.readyState === 'complete') {\n",
       "            // check for the div that signifies that the notification\n",
       "            // was already sent\n",
       "            if (document.getElementById(\"79494eb5-be91-4104-85c5-ccbb4c26f754\") === null) {\n",
       "                var notificationPayload = {\"body\": \"Cell Execution Has Finished!!\", \"requireInteraction\": false, \"icon\": \"/static/base/images/favicon.ico\"};\n",
       "                if (Notification.permission !== 'denied') {\n",
       "                    if (Notification.permission !== 'granted') { \n",
       "                        Notification.requestPermission(function (permission) {\n",
       "                            if(!('permission' in Notification)) {\n",
       "                                Notification.permission = permission\n",
       "                            }\n",
       "                            if (Notification.permission === 'granted') {\n",
       "                                var notification = new Notification(\"Jupyter Notebook\", notificationPayload)\n",
       "                                appendUniqueDiv()\n",
       "                            }\n",
       "                        })\n",
       "                    } else if (Notification.permission === 'granted') {\n",
       "                        var notification = new Notification(\"Jupyter Notebook\", notificationPayload)\n",
       "                        appendUniqueDiv()\n",
       "                    }\n",
       "                }\n",
       "            }\n",
       "        }\n",
       "    }\n",
       ")\n"
      ],
      "text/plain": [
       "<IPython.core.display.Javascript object>"
      ]
     },
     "metadata": {},
     "output_type": "display_data"
    }
   ],
   "source": [
    "%%notify\n",
    "from xgboost import XGBRegressor\n",
    "xgb= XGBRegressor(nthread=-1)\n",
    "\n",
    "X_train, X_test, y_train, y_test = train_test_split(\n",
    "    X, y, test_size=0.2)\n",
    "\n",
    "learning_rate=np.arange(0.3,0.9,0.2)\n",
    "\n",
    "param_grid = {\"learning_rate\": learning_rate,'min_child_weight':[1,3],'gamma':[i/10.0 for i in range(1,9)],'subsample':[i/10.0 for i in range(6,8)]}\n",
    "\n",
    "search = RandomizedSearchCV(xgb, param_distributions=param_grid ,cv=5,n_iter=10) \n",
    "start = time()\n",
    "search.fit(X_train, y_train)\n",
    "\n",
    "print(\"GridSearchCV duro %.2f segundos para %d candidatos a hiper-parametros.\"\n",
    "    % (time() - start, len(search.cv_results_['params'])))\n",
    "print(\"\")\n",
    "score.report_single(search.cv_results_)"
   ]
  },
  {
   "cell_type": "code",
   "execution_count": 45,
   "metadata": {
    "collapsed": true
   },
   "outputs": [],
   "source": [
    "xgboost = search.best_estimator_"
   ]
  },
  {
   "cell_type": "markdown",
   "metadata": {},
   "source": [
    "# RF"
   ]
  },
  {
   "cell_type": "code",
   "execution_count": 46,
   "metadata": {},
   "outputs": [
    {
     "name": "stdout",
     "output_type": "stream",
     "text": [
      "GridSearchCV duro 40.94 segundos para 2 candidatos a hiper-parametros.\n",
      "\n",
      "Puesto: 1\n",
      "Promedio training score: 0.948 (std: 0.002)\n",
      "Promedio validation score: 0.738 (std: 0.020)\n",
      "Promedio fit time: 3.079s\n",
      "Hiper-parametros: {'n_estimators': 70, 'max_features': 'auto', 'criterion': 'mse'}\n",
      "\n",
      "Puesto: 2\n",
      "Promedio training score: 0.946 (std: 0.002)\n",
      "Promedio validation score: 0.733 (std: 0.021)\n",
      "Promedio fit time: 2.342s\n",
      "Hiper-parametros: {'n_estimators': 40, 'max_features': None, 'criterion': 'mse'}\n",
      "\n"
     ]
    },
    {
     "data": {
      "application/javascript": [
       "$(document).ready(\n",
       "    function() {\n",
       "        function appendUniqueDiv(){\n",
       "            // append a div with our uuid so we can check that it's already\n",
       "            // been sent and avoid duplicates on page reload\n",
       "            var notifiedDiv = document.createElement(\"div\")\n",
       "            notifiedDiv.id = \"c7e2d2d2-a09e-4621-90fb-4c68c9c78f06\"\n",
       "            element.append(notifiedDiv)\n",
       "        }\n",
       "\n",
       "        // only send notifications if the pageload is complete; this will\n",
       "        // help stop extra notifications when a saved notebook is loaded,\n",
       "        // which during testing gives us state \"interactive\", not \"complete\"\n",
       "        if (document.readyState === 'complete') {\n",
       "            // check for the div that signifies that the notification\n",
       "            // was already sent\n",
       "            if (document.getElementById(\"c7e2d2d2-a09e-4621-90fb-4c68c9c78f06\") === null) {\n",
       "                var notificationPayload = {\"body\": \"Cell Execution Has Finished!!\", \"requireInteraction\": false, \"icon\": \"/static/base/images/favicon.ico\"};\n",
       "                if (Notification.permission !== 'denied') {\n",
       "                    if (Notification.permission !== 'granted') { \n",
       "                        Notification.requestPermission(function (permission) {\n",
       "                            if(!('permission' in Notification)) {\n",
       "                                Notification.permission = permission\n",
       "                            }\n",
       "                            if (Notification.permission === 'granted') {\n",
       "                                var notification = new Notification(\"Jupyter Notebook\", notificationPayload)\n",
       "                                appendUniqueDiv()\n",
       "                            }\n",
       "                        })\n",
       "                    } else if (Notification.permission === 'granted') {\n",
       "                        var notification = new Notification(\"Jupyter Notebook\", notificationPayload)\n",
       "                        appendUniqueDiv()\n",
       "                    }\n",
       "                }\n",
       "            }\n",
       "        }\n",
       "    }\n",
       ")\n"
      ],
      "text/plain": [
       "<IPython.core.display.Javascript object>"
      ]
     },
     "metadata": {},
     "output_type": "display_data"
    }
   ],
   "source": [
    "%%notify\n",
    "\n",
    "rf = RandomForestRegressor(n_jobs=-1)\n",
    "\n",
    "X_train, X_test, y_train, y_test = train_test_split(\n",
    "    X, y, test_size=0.2)\n",
    "\n",
    "criterion = ['mse']\n",
    "max_features =[\"auto\",\"log2\",None]\n",
    "n_estimators = np.arange(40,100,5)\n",
    "\n",
    "X_train, X_test, y_train, y_test = train_test_split(\n",
    "    X, y, test_size=0.2)\n",
    "\n",
    "param_grid = {\"criterion\": criterion,\"max_features\":max_features,\"n_estimators\":n_estimators}\n",
    "\n",
    "search = RandomizedSearchCV(rf, param_distributions=param_grid ,cv=5,n_iter=2) #refit deja el estimador fiteado con los mejores hiperparametros\n",
    "start = time()\n",
    "search.fit(X_train, y_train)\n",
    "\n",
    "print(\"GridSearchCV duro %.2f segundos para %d candidatos a hiper-parametros.\"\n",
    "    % (time() - start, len(search.cv_results_['params'])))\n",
    "print(\"\")\n",
    "score.report_single(search.cv_results_)"
   ]
  },
  {
   "cell_type": "code",
   "execution_count": 47,
   "metadata": {
    "collapsed": true
   },
   "outputs": [],
   "source": [
    "rf= search.best_estimator_"
   ]
  },
  {
   "cell_type": "code",
   "execution_count": 15,
   "metadata": {},
   "outputs": [
    {
     "data": {
      "text/plain": [
       "0.78551620775489417"
      ]
     },
     "execution_count": 15,
     "metadata": {},
     "output_type": "execute_result"
    }
   ],
   "source": [
    "search.score(X_test,y_test)"
   ]
  },
  {
   "cell_type": "markdown",
   "metadata": {},
   "source": [
    "# ETR"
   ]
  },
  {
   "cell_type": "code",
   "execution_count": 48,
   "metadata": {},
   "outputs": [
    {
     "name": "stdout",
     "output_type": "stream",
     "text": [
      "GridSearchCV duro 196.51 segundos para 12 candidatos a hiper-parametros.\n",
      "\n",
      "Puesto: 1\n",
      "Promedio training score: 0.981 (std: 0.002)\n",
      "Promedio validation score: 0.738 (std: 0.019)\n",
      "Promedio fit time: 1.978s\n",
      "Hiper-parametros: {'n_estimators': 70}\n",
      "\n",
      "Puesto: 2\n",
      "Promedio training score: 0.981 (std: 0.002)\n",
      "Promedio validation score: 0.737 (std: 0.017)\n",
      "Promedio fit time: 2.129s\n",
      "Hiper-parametros: {'n_estimators': 75}\n",
      "\n",
      "Puesto: 3\n",
      "Promedio training score: 0.981 (std: 0.002)\n",
      "Promedio validation score: 0.737 (std: 0.019)\n",
      "Promedio fit time: 2.435s\n",
      "Hiper-parametros: {'n_estimators': 85}\n",
      "\n",
      "Puesto: 4\n",
      "Promedio training score: 0.981 (std: 0.002)\n",
      "Promedio validation score: 0.736 (std: 0.022)\n",
      "Promedio fit time: 1.801s\n",
      "Hiper-parametros: {'n_estimators': 60}\n",
      "\n",
      "Puesto: 5\n",
      "Promedio training score: 0.981 (std: 0.002)\n",
      "Promedio validation score: 0.735 (std: 0.020)\n",
      "Promedio fit time: 2.597s\n",
      "Hiper-parametros: {'n_estimators': 95}\n",
      "\n",
      "Puesto: 6\n",
      "Promedio training score: 0.981 (std: 0.002)\n",
      "Promedio validation score: 0.734 (std: 0.019)\n",
      "Promedio fit time: 1.876s\n",
      "Hiper-parametros: {'n_estimators': 65}\n",
      "\n",
      "Puesto: 7\n",
      "Promedio training score: 0.981 (std: 0.002)\n",
      "Promedio validation score: 0.734 (std: 0.018)\n",
      "Promedio fit time: 1.715s\n",
      "Hiper-parametros: {'n_estimators': 55}\n",
      "\n",
      "Puesto: 8\n",
      "Promedio training score: 0.981 (std: 0.002)\n",
      "Promedio validation score: 0.733 (std: 0.018)\n",
      "Promedio fit time: 1.577s\n",
      "Hiper-parametros: {'n_estimators': 50}\n",
      "\n",
      "Puesto: 9\n",
      "Promedio training score: 0.981 (std: 0.002)\n",
      "Promedio validation score: 0.732 (std: 0.023)\n",
      "Promedio fit time: 2.401s\n",
      "Hiper-parametros: {'n_estimators': 90}\n",
      "\n",
      "Puesto: 10\n",
      "Promedio training score: 0.981 (std: 0.002)\n",
      "Promedio validation score: 0.732 (std: 0.019)\n",
      "Promedio fit time: 1.429s\n",
      "Hiper-parametros: {'n_estimators': 45}\n",
      "\n"
     ]
    },
    {
     "data": {
      "application/javascript": [
       "$(document).ready(\n",
       "    function() {\n",
       "        function appendUniqueDiv(){\n",
       "            // append a div with our uuid so we can check that it's already\n",
       "            // been sent and avoid duplicates on page reload\n",
       "            var notifiedDiv = document.createElement(\"div\")\n",
       "            notifiedDiv.id = \"49d58f37-467c-4777-9896-da4c605b3ae0\"\n",
       "            element.append(notifiedDiv)\n",
       "        }\n",
       "\n",
       "        // only send notifications if the pageload is complete; this will\n",
       "        // help stop extra notifications when a saved notebook is loaded,\n",
       "        // which during testing gives us state \"interactive\", not \"complete\"\n",
       "        if (document.readyState === 'complete') {\n",
       "            // check for the div that signifies that the notification\n",
       "            // was already sent\n",
       "            if (document.getElementById(\"49d58f37-467c-4777-9896-da4c605b3ae0\") === null) {\n",
       "                var notificationPayload = {\"body\": \"Cell Execution Has Finished!!\", \"requireInteraction\": false, \"icon\": \"/static/base/images/favicon.ico\"};\n",
       "                if (Notification.permission !== 'denied') {\n",
       "                    if (Notification.permission !== 'granted') { \n",
       "                        Notification.requestPermission(function (permission) {\n",
       "                            if(!('permission' in Notification)) {\n",
       "                                Notification.permission = permission\n",
       "                            }\n",
       "                            if (Notification.permission === 'granted') {\n",
       "                                var notification = new Notification(\"Jupyter Notebook\", notificationPayload)\n",
       "                                appendUniqueDiv()\n",
       "                            }\n",
       "                        })\n",
       "                    } else if (Notification.permission === 'granted') {\n",
       "                        var notification = new Notification(\"Jupyter Notebook\", notificationPayload)\n",
       "                        appendUniqueDiv()\n",
       "                    }\n",
       "                }\n",
       "            }\n",
       "        }\n",
       "    }\n",
       ")\n"
      ],
      "text/plain": [
       "<IPython.core.display.Javascript object>"
      ]
     },
     "metadata": {},
     "output_type": "display_data"
    }
   ],
   "source": [
    "%%notify\n",
    "\n",
    "etr = ExtraTreesRegressor(n_jobs=-1)\n",
    "\n",
    "n_estimators = np.arange(40,100,5)\n",
    "\n",
    "X_train, X_test, y_train, y_test = train_test_split(\n",
    "    X, y, test_size=0.2)\n",
    "\n",
    "param_grid = {\"n_estimators\":n_estimators}\n",
    "\n",
    "search = GridSearchCV(etr, param_grid=param_grid ,cv=5) #refit deja el estimador fiteado con los mejores hiperparametros\n",
    "start = time()\n",
    "search.fit(X_train, y_train)\n",
    "\n",
    "print(\"GridSearchCV duro %.2f segundos para %d candidatos a hiper-parametros.\"\n",
    "    % (time() - start, len(search.cv_results_['params'])))\n",
    "print(\"\")\n",
    "score.report_single(search.cv_results_)"
   ]
  },
  {
   "cell_type": "code",
   "execution_count": 49,
   "metadata": {
    "collapsed": true
   },
   "outputs": [],
   "source": [
    "etr= search.best_estimator_"
   ]
  },
  {
   "cell_type": "code",
   "execution_count": 18,
   "metadata": {},
   "outputs": [
    {
     "data": {
      "text/plain": [
       "array([ 0.16253432,  0.64793845,  0.18952722])"
      ]
     },
     "execution_count": 18,
     "metadata": {},
     "output_type": "execute_result"
    }
   ],
   "source": [
    "etr.feature_importances_"
   ]
  },
  {
   "cell_type": "markdown",
   "metadata": {},
   "source": [
    "# MLP"
   ]
  },
  {
   "cell_type": "code",
   "execution_count": 22,
   "metadata": {
    "collapsed": true
   },
   "outputs": [],
   "source": [
    "from sklearn.neural_network import MLPRegressor"
   ]
  },
  {
   "cell_type": "code",
   "execution_count": 23,
   "metadata": {},
   "outputs": [
    {
     "name": "stderr",
     "output_type": "stream",
     "text": [
      "/usr/local/lib/python2.7/dist-packages/sklearn/neural_network/multilayer_perceptron.py:564: ConvergenceWarning: Stochastic Optimizer: Maximum iterations (200) reached and the optimization hasn't converged yet.\n",
      "  % self.max_iter, ConvergenceWarning)\n",
      "/usr/local/lib/python2.7/dist-packages/sklearn/neural_network/multilayer_perceptron.py:564: ConvergenceWarning: Stochastic Optimizer: Maximum iterations (200) reached and the optimization hasn't converged yet.\n",
      "  % self.max_iter, ConvergenceWarning)\n",
      "/usr/local/lib/python2.7/dist-packages/sklearn/neural_network/multilayer_perceptron.py:564: ConvergenceWarning: Stochastic Optimizer: Maximum iterations (200) reached and the optimization hasn't converged yet.\n",
      "  % self.max_iter, ConvergenceWarning)\n",
      "/usr/local/lib/python2.7/dist-packages/sklearn/neural_network/multilayer_perceptron.py:564: ConvergenceWarning: Stochastic Optimizer: Maximum iterations (200) reached and the optimization hasn't converged yet.\n",
      "  % self.max_iter, ConvergenceWarning)\n"
     ]
    },
    {
     "name": "stdout",
     "output_type": "stream",
     "text": [
      "GridSearchCV duro 804.48 segundos para 4 candidatos a hiper-parametros.\n",
      "\n",
      "Puesto: 1\n",
      "Promedio training score: 0.493 (std: 0.072)\n",
      "Promedio validation score: -0.121 (std: 1.035)\n",
      "Promedio fit time: 105.808s\n",
      "Hiper-parametros: {'activation': 'relu'}\n",
      "\n",
      "Puesto: 2\n",
      "Promedio training score: -0.527 (std: 0.059)\n",
      "Promedio validation score: -0.576 (std: 0.140)\n",
      "Promedio fit time: 93.532s\n",
      "Hiper-parametros: {'activation': 'tanh'}\n",
      "\n",
      "Puesto: 3\n",
      "Promedio training score: -0.528 (std: 0.059)\n",
      "Promedio validation score: -0.577 (std: 0.141)\n",
      "Promedio fit time: 219.882s\n",
      "Hiper-parametros: {'activation': 'logistic'}\n",
      "\n",
      "Puesto: 4\n",
      "Promedio training score: 0.161 (std: 0.131)\n",
      "Promedio validation score: -0.904 (std: 2.015)\n",
      "Promedio fit time: 41.417s\n",
      "Hiper-parametros: {'activation': 'identity'}\n",
      "\n"
     ]
    },
    {
     "name": "stderr",
     "output_type": "stream",
     "text": [
      "/usr/local/lib/python2.7/dist-packages/sklearn/neural_network/multilayer_perceptron.py:564: ConvergenceWarning: Stochastic Optimizer: Maximum iterations (200) reached and the optimization hasn't converged yet.\n",
      "  % self.max_iter, ConvergenceWarning)\n"
     ]
    },
    {
     "data": {
      "application/javascript": [
       "$(document).ready(\n",
       "    function() {\n",
       "        function appendUniqueDiv(){\n",
       "            // append a div with our uuid so we can check that it's already\n",
       "            // been sent and avoid duplicates on page reload\n",
       "            var notifiedDiv = document.createElement(\"div\")\n",
       "            notifiedDiv.id = \"afbf04ff-0073-4a1b-8eea-f7024ddeeed5\"\n",
       "            element.append(notifiedDiv)\n",
       "        }\n",
       "\n",
       "        // only send notifications if the pageload is complete; this will\n",
       "        // help stop extra notifications when a saved notebook is loaded,\n",
       "        // which during testing gives us state \"interactive\", not \"complete\"\n",
       "        if (document.readyState === 'complete') {\n",
       "            // check for the div that signifies that the notification\n",
       "            // was already sent\n",
       "            if (document.getElementById(\"afbf04ff-0073-4a1b-8eea-f7024ddeeed5\") === null) {\n",
       "                var notificationPayload = {\"body\": \"Cell Execution Has Finished!!\", \"requireInteraction\": false, \"icon\": \"/static/base/images/favicon.ico\"};\n",
       "                if (Notification.permission !== 'denied') {\n",
       "                    if (Notification.permission !== 'granted') { \n",
       "                        Notification.requestPermission(function (permission) {\n",
       "                            if(!('permission' in Notification)) {\n",
       "                                Notification.permission = permission\n",
       "                            }\n",
       "                            if (Notification.permission === 'granted') {\n",
       "                                var notification = new Notification(\"Jupyter Notebook\", notificationPayload)\n",
       "                                appendUniqueDiv()\n",
       "                            }\n",
       "                        })\n",
       "                    } else if (Notification.permission === 'granted') {\n",
       "                        var notification = new Notification(\"Jupyter Notebook\", notificationPayload)\n",
       "                        appendUniqueDiv()\n",
       "                    }\n",
       "                }\n",
       "            }\n",
       "        }\n",
       "    }\n",
       ")\n"
      ],
      "text/plain": [
       "<IPython.core.display.Javascript object>"
      ]
     },
     "metadata": {},
     "output_type": "display_data"
    }
   ],
   "source": [
    "%%notify\n",
    "\n",
    "mlp = MLPRegressor()\n",
    "\n",
    "activation = [\"identity\", \"logistic\", \"tanh\", \"relu\"]\n",
    "\n",
    "X_train, X_test, y_train, y_test = train_test_split(\n",
    "    X, y, test_size=0.2)\n",
    "\n",
    "param_grid = {\"activation\": activation}\n",
    "\n",
    "search = GridSearchCV(mlp, param_grid=param_grid ,cv=5,n_jobs=-1) #refit deja el estimador fiteado con los mejores hiperparametros\n",
    "start = time()\n",
    "search.fit(X_train, y_train)\n",
    "\n",
    "print(\"GridSearchCV duro %.2f segundos para %d candidatos a hiper-parametros.\"\n",
    "    % (time() - start, len(search.cv_results_['params'])))\n",
    "print(\"\")\n",
    "score.report_single(search.cv_results_)"
   ]
  },
  {
   "cell_type": "code",
   "execution_count": 24,
   "metadata": {
    "collapsed": true
   },
   "outputs": [],
   "source": [
    "mlp=search.best_estimator_"
   ]
  },
  {
   "cell_type": "code",
   "execution_count": 61,
   "metadata": {},
   "outputs": [
    {
     "data": {
      "text/plain": [
       "0.79543121149897333"
      ]
     },
     "execution_count": 61,
     "metadata": {},
     "output_type": "execute_result"
    }
   ],
   "source": [
    "search.score(X_test,y_test)"
   ]
  },
  {
   "cell_type": "markdown",
   "metadata": {},
   "source": [
    "# Lineales"
   ]
  },
  {
   "cell_type": "code",
   "execution_count": 40,
   "metadata": {
    "collapsed": true
   },
   "outputs": [],
   "source": [
    "from sklearn.linear_model import LogisticRegression"
   ]
  },
  {
   "cell_type": "code",
   "execution_count": null,
   "metadata": {},
   "outputs": [
    {
     "name": "stderr",
     "output_type": "stream",
     "text": [
      "/usr/local/lib/python2.7/dist-packages/sklearn/linear_model/logistic.py:1228: UserWarning: 'n_jobs' > 1 does not have any effect when 'solver' is set to 'liblinear'. Got 'n_jobs' = -1.\n",
      "  \" = {}.\".format(self.n_jobs))\n"
     ]
    }
   ],
   "source": [
    "%%notify\n",
    "\n",
    "logr = LogisticRegression(n_jobs=-1)\n",
    "\n",
    "X_train, X_test, y_train, y_test = train_test_split(\n",
    "    X, y, test_size=0.2)\n",
    "\n",
    "logr.fit(X_train, y_train)\n",
    "logr.score(X_test,y_test)"
   ]
  },
  {
   "cell_type": "markdown",
   "metadata": {},
   "source": [
    "# Ensamble"
   ]
  },
  {
   "cell_type": "code",
   "execution_count": 50,
   "metadata": {
    "collapsed": true
   },
   "outputs": [],
   "source": [
    "from mlxtend.regressor import StackingRegressor\n",
    "\n",
    "stregr = StackingRegressor(regressors=[xgb,etr], \n",
    "                           meta_regressor=rf)"
   ]
  },
  {
   "cell_type": "code",
   "execution_count": 51,
   "metadata": {},
   "outputs": [
    {
     "data": {
      "text/plain": [
       "StackingRegressor(meta_regressor=RandomForestRegressor(bootstrap=True, criterion='mse', max_depth=None,\n",
       "           max_features='auto', max_leaf_nodes=None,\n",
       "           min_impurity_decrease=0.0, min_impurity_split=None,\n",
       "           min_samples_leaf=1, min_samples_split=2,\n",
       "           min_weight_fraction_leaf=0.0, n_estimators=70, n_jobs=-1,\n",
       "           oob_score=False, random_state=None, verbose=0, warm_start=False),\n",
       "         regressors=[XGBRegressor(base_score=0.5, colsample_bylevel=1, colsample_bytree=1, gamma=0,\n",
       "       learning_rate=0.1, max_delta_step=0, max_depth=3,\n",
       "       min_child_weight=1, missing=None, n_estimators=100, nthread=-1,\n",
       "       objective='reg:linear', reg_alpha=0, reg_lambda=1,\n",
       "       scale_pos_weight...stimators=70, n_jobs=-1,\n",
       "          oob_score=False, random_state=None, verbose=0, warm_start=False)],\n",
       "         verbose=0)"
      ]
     },
     "execution_count": 51,
     "metadata": {},
     "output_type": "execute_result"
    },
    {
     "data": {
      "application/javascript": [
       "$(document).ready(\n",
       "    function() {\n",
       "        function appendUniqueDiv(){\n",
       "            // append a div with our uuid so we can check that it's already\n",
       "            // been sent and avoid duplicates on page reload\n",
       "            var notifiedDiv = document.createElement(\"div\")\n",
       "            notifiedDiv.id = \"391ca743-7157-4cd6-b8f2-bd90b07ae19a\"\n",
       "            element.append(notifiedDiv)\n",
       "        }\n",
       "\n",
       "        // only send notifications if the pageload is complete; this will\n",
       "        // help stop extra notifications when a saved notebook is loaded,\n",
       "        // which during testing gives us state \"interactive\", not \"complete\"\n",
       "        if (document.readyState === 'complete') {\n",
       "            // check for the div that signifies that the notification\n",
       "            // was already sent\n",
       "            if (document.getElementById(\"391ca743-7157-4cd6-b8f2-bd90b07ae19a\") === null) {\n",
       "                var notificationPayload = {\"body\": \"Cell Execution Has Finished!!\", \"requireInteraction\": false, \"icon\": \"/static/base/images/favicon.ico\"};\n",
       "                if (Notification.permission !== 'denied') {\n",
       "                    if (Notification.permission !== 'granted') { \n",
       "                        Notification.requestPermission(function (permission) {\n",
       "                            if(!('permission' in Notification)) {\n",
       "                                Notification.permission = permission\n",
       "                            }\n",
       "                            if (Notification.permission === 'granted') {\n",
       "                                var notification = new Notification(\"Jupyter Notebook\", notificationPayload)\n",
       "                                appendUniqueDiv()\n",
       "                            }\n",
       "                        })\n",
       "                    } else if (Notification.permission === 'granted') {\n",
       "                        var notification = new Notification(\"Jupyter Notebook\", notificationPayload)\n",
       "                        appendUniqueDiv()\n",
       "                    }\n",
       "                }\n",
       "            }\n",
       "        }\n",
       "    }\n",
       ")\n"
      ],
      "text/plain": [
       "<IPython.core.display.Javascript object>"
      ]
     },
     "metadata": {},
     "output_type": "display_data"
    }
   ],
   "source": [
    "%%notify\n",
    "stregr.fit(X_train,y_train)"
   ]
  },
  {
   "cell_type": "code",
   "execution_count": 67,
   "metadata": {},
   "outputs": [
    {
     "data": {
      "text/plain": [
       "0.72001270439408871"
      ]
     },
     "execution_count": 67,
     "metadata": {},
     "output_type": "execute_result"
    }
   ],
   "source": [
    "stregr.score(X_test,y_test)"
   ]
  },
  {
   "cell_type": "code",
   "execution_count": 53,
   "metadata": {},
   "outputs": [
    {
     "name": "stdout",
     "output_type": "stream",
     "text": [
      "Error maximo:6873633.33333\n",
      "Error minimo:0.0\n",
      "52321     165553.571429\n",
      "130981     95356.464291\n",
      "65284    -169985.714286\n",
      "118799     -5635.022449\n",
      "65512      71022.709524\n",
      "66477     469154.044898\n",
      "33042       4203.699090\n",
      "96107        113.533333\n",
      "67806     -32827.568027\n",
      "22232      62001.959476\n",
      "44538      68166.904762\n",
      "34264     -82267.755102\n",
      "120143   -128136.241497\n",
      "10147     -20007.695841\n",
      "6353       46455.157065\n",
      "83287      14817.207580\n",
      "105737    -41835.623108\n",
      "127245     15335.933333\n",
      "136281     -4546.807074\n",
      "94706      16429.792261\n",
      "90285       8340.322769\n",
      "60827      -8724.804762\n",
      "28901     192332.557143\n",
      "67789      74200.926407\n",
      "17515      20778.320878\n",
      "110849      1905.313239\n",
      "134913     18834.945238\n",
      "34321    -194058.888435\n",
      "29808      45101.361025\n",
      "27709    -104227.411855\n",
      "              ...      \n",
      "134532    -47888.664009\n",
      "106645      1618.240043\n",
      "59784      66505.742630\n",
      "37208          0.000000\n",
      "92590     -54440.043290\n",
      "46862       -438.793396\n",
      "111298         0.000000\n",
      "31201      -3817.541904\n",
      "110948     14634.719668\n",
      "68148       6406.381674\n",
      "29734      32483.817949\n",
      "69942       4278.320878\n",
      "27490          0.000000\n",
      "71239      -5665.130674\n",
      "77474       7918.561597\n",
      "30554       7988.213946\n",
      "5251       22846.781278\n",
      "83801     -22905.923557\n",
      "130630     14991.405442\n",
      "136066         0.000000\n",
      "32315     -21185.714286\n",
      "32481      97792.882632\n",
      "128802      -675.988891\n",
      "51061     102207.078903\n",
      "46542     316770.578231\n",
      "55102       -454.285714\n",
      "112129      8200.766621\n",
      "123459     -2464.798753\n",
      "118702         0.000000\n",
      "134901    -18062.135767\n",
      "Name: price_aprox_usd, Length: 27184, dtype: float64\n"
     ]
    }
   ],
   "source": [
    "errores = stregr.predict(X_test)-y_test\n",
    "print (\"Error maximo:{0}\\nError minimo:{1}\".format( max(abs(errores)),min(abs(errores))))\n",
    "print(errores)"
   ]
  },
  {
   "cell_type": "code",
   "execution_count": 54,
   "metadata": {},
   "outputs": [
    {
     "name": "stdout",
     "output_type": "stream",
     "text": [
      "Hay 17176 de 27184 que tienen mas de 10000 USD de error (63%)\n"
     ]
    }
   ],
   "source": [
    "count_max=0\n",
    "max_error=10000\n",
    "lista=[]\n",
    "for error in errores:\n",
    "    if abs(error)>max_error:\n",
    "        count_max+=1\n",
    "        lista.append(abs(error))\n",
    "print (\"Hay {0} de {1} que tienen mas de {2} USD de error ({3}%)\".format(count_max,len(errores),max_error,100 * count_max/len(errores)))"
   ]
  },
  {
   "cell_type": "markdown",
   "metadata": {},
   "source": [
    "### Errores arriba del maximo"
   ]
  },
  {
   "cell_type": "code",
   "execution_count": 55,
   "metadata": {},
   "outputs": [
    {
     "data": {
      "image/png": "[encoded data removed]",
      "text/plain": [
       "<matplotlib.figure.Figure at 0x7f071fe60c50>"
      ]
     },
     "metadata": {},
     "output_type": "display_data"
    }
   ],
   "source": [
    "# the histogram of the data\n",
    "plt.figure(figsize=(12,8))\n",
    "plt.hist(lista, 500, facecolor='blue')\n",
    "plt.xlabel('Errores')\n",
    "plt.ylabel('Cantidad')\n",
    "#plt.xlim(-10000000, 10000000) #para variar el \"zoom a 0\"\n",
    "plt.yscale('log')\n",
    "plt.xscale('log')\n",
    "plt.show()"
   ]
  },
  {
   "cell_type": "markdown",
   "metadata": {},
   "source": [
    "### Errores totales"
   ]
  },
  {
   "cell_type": "code",
   "execution_count": 56,
   "metadata": {},
   "outputs": [
    {
     "data": {
      "image/png": "[encoded data removed]",
      "text/plain": [
       "<matplotlib.figure.Figure at 0x7f0722819b10>"
      ]
     },
     "metadata": {},
     "output_type": "display_data"
    }
   ],
   "source": [
    "# the histogram of the data\n",
    "plt.figure(figsize=(12,8))\n",
    "plt.hist(errores, 500, facecolor='blue')\n",
    "plt.xlabel('Errores')\n",
    "plt.ylabel('Cantidad')\n",
    "#plt.xlim(-10000000, 10000000) #para variar el \"zoom a 0\"\n",
    "plt.yscale('log')\n",
    "plt.xscale('log')\n",
    "plt.show()"
   ]
  },
  {
   "cell_type": "markdown",
   "metadata": {},
   "source": [
    "# Kaggle"
   ]
  },
  {
   "cell_type": "code",
   "execution_count": 64,
   "metadata": {},
   "outputs": [
    {
     "name": "stdout",
     "output_type": "stream",
     "text": [
      "<class 'pandas.core.frame.DataFrame'>\n",
      "RangeIndex: 14166 entries, 0 to 14165\n",
      "Data columns (total 17 columns):\n",
      "id                         14166 non-null int64\n",
      "created_on                 14166 non-null object\n",
      "property_type              14166 non-null object\n",
      "operation                  14166 non-null object\n",
      "place_name                 14166 non-null object\n",
      "place_with_parent_names    14166 non-null object\n",
      "country_name               14166 non-null object\n",
      "state_name                 14166 non-null object\n",
      "lat-lon                    10487 non-null object\n",
      "lat                        10487 non-null float64\n",
      "lon                        10487 non-null float64\n",
      "surface_total_in_m2        14166 non-null float64\n",
      "surface_covered_in_m2      14166 non-null float64\n",
      "floor                      1368 non-null float64\n",
      "rooms                      7500 non-null float64\n",
      "expenses                   2543 non-null object\n",
      "description                14166 non-null object\n",
      "dtypes: float64(6), int64(1), object(10)\n",
      "memory usage: 1.8+ MB\n"
     ]
    }
   ],
   "source": [
    "test_samples=pd.read_csv(\"datos/properati_dataset_testing_noprice_acondicionado.csv\")\n",
    "test_samples.info()"
   ]
  },
  {
   "cell_type": "code",
   "execution_count": 65,
   "metadata": {},
   "outputs": [],
   "source": [
    "test= zip(test_samples['surface_total_in_m2'],\\\n",
    "        test_samples['surface_covered_in_m2'],le_barrio.transform(test_samples['place_name']))"
   ]
  },
  {
   "cell_type": "code",
   "execution_count": 66,
   "metadata": {},
   "outputs": [],
   "source": [
    "resultados = stregr.predict(test)\n",
    "result=pd.DataFrame({'id':test_samples['id'],'price_usd':resultados})\n",
    "result.to_csv('datos/resultados.csv',index=False)"
   ]
  },
  {
   "cell_type": "code",
   "execution_count": null,
   "metadata": {
    "collapsed": true
   },
   "outputs": [],
   "source": []
  }
 ],
 "metadata": {
  "kernelspec": {
   "display_name": "Python 2",
   "language": "python",
   "name": "python2"
  },
  "language_info": {
   "codemirror_mode": {
    "name": "ipython",
    "version": 2
   },
   "file_extension": ".py",
   "mimetype": "text/x-python",
   "name": "python",
   "nbconvert_exporter": "python",
   "pygments_lexer": "ipython2",
   "version": "2.7.12"
  }
 },
 "nbformat": 4,
 "nbformat_minor": 2
}
