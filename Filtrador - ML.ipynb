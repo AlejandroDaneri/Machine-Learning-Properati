{
 "cells": [
  {
   "cell_type": "code",
   "execution_count": 1,
   "metadata": {
    "collapsed": true
   },
   "outputs": [],
   "source": [
    "import pandas as pd"
   ]
  },
  {
   "cell_type": "code",
   "execution_count": 2,
   "metadata": {},
   "outputs": [
    {
     "data": {
      "text/plain": [
       "Index([u'created_on', u'operation', u'property_type', u'place_name',\n",
       "       u'place_with_parent_names', u'country_name', u'state_name',\n",
       "       u'geonames_id', u'lat-lon', u'lat', u'lon', u'price', u'currency',\n",
       "       u'price_aprox_local_currency', u'price_aprox_usd',\n",
       "       u'surface_total_in_m2', u'surface_covered_in_m2', u'price_usd_per_m2',\n",
       "       u'price_per_m2', u'floor', u'rooms', u'expenses', u'properati_url',\n",
       "       u'description', u'title', u'image_thumbnail'],\n",
       "      dtype='object')"
      ]
     },
     "execution_count": 2,
     "metadata": {},
     "output_type": "execute_result"
    }
   ],
   "source": [
    "properati = pd.read_csv('datos/new.csv',index_col=0,error_bad_lines=False)\n",
    "properati.columns"
   ]
  },
  {
   "cell_type": "code",
   "execution_count": 3,
   "metadata": {},
   "outputs": [
    {
     "name": "stdout",
     "output_type": "stream",
     "text": [
      "121220\n",
      "81150\n"
     ]
    }
   ],
   "source": [
    "print len(properati)\n",
    "nuevo = properati.loc[(properati.state_name.str.contains(\"Capital Federal\")) | (properati.state_name.str.contains(\"G.B.A\"))]\n",
    "print len(nuevo)"
   ]
  },
  {
   "cell_type": "code",
   "execution_count": 4,
   "metadata": {},
   "outputs": [
    {
     "name": "stdout",
     "output_type": "stream",
     "text": [
      "72494\n"
     ]
    }
   ],
   "source": [
    "nuevo = nuevo.dropna(subset=['price'])\n",
    "nuevo.drop_duplicates(inplace=True)\n",
    "nuevo.drop_duplicates(subset=['properati_url'],inplace=True)\n",
    "\n",
    "def recalcular_precios(row):\n",
    "    if (row.currency == 'USD'):\n",
    "        row.price_aprox_usd   = float(row.price)\n",
    "        row.price_aprox_local_currency  = row.price_aprox_usd * 17.6445\n",
    "        \n",
    "    if (row.currency == 'ARS'):\n",
    "        row.price_aprox_local_currency  = float(row.price)\n",
    "        row.price_aprox_usd  = row.price_aprox_local_currency // 17.6445\n",
    "        \n",
    "    if (row.surface_total_in_m2 and row.price_aprox_local_currency and row.price_aprox_usd):\n",
    "        row.price_per_m2   = row.price_aprox_local_currency  // row.surface_total_in_m2\n",
    "        row.price_usd_per_m2  = row.price_aprox_usd // row.surface_total_in_m2\n",
    "    return row\n",
    "nuevo = nuevo.apply(recalcular_precios,axis=1)\n",
    "print len(nuevo)"
   ]
  },
  {
   "cell_type": "code",
   "execution_count": 10,
   "metadata": {
    "collapsed": true
   },
   "outputs": [],
   "source": [
    "nuevo = nuevo.dropna(subset= ['lat','lon'])\n",
    "nuevo = nuevo.loc[(nuevo.lat > -35) & (nuevo.lat < -34) & (nuevo.lon > -58.7)] #preparo para calcular distancias\n",
    "nuevo['lat-lon'] = [(x, y) for x,y in zip(nuevo['lat'], nuevo['lon'])] #preparo para calcular distancias\n",
    "#gp.scatter(caba_para_mapa['lat'], caba_para_mapa['lon'],colors='blue') #reviso si filtre bien \"puntos malos\""
   ]
  },
  {
   "cell_type": "code",
   "execution_count": 11,
   "metadata": {
    "collapsed": true
   },
   "outputs": [],
   "source": [
    "from haversine import haversine\n",
    "def distancia_minima(partida, points):\n",
    "    dist_min = 9999999\n",
    "    distancias=[]\n",
    "    for destino in points:\n",
    "        dist= round(haversine(partida,destino),1)\n",
    "        if (dist<dist_min):\n",
    "            dist_min = dist\n",
    "    return dist"
   ]
  },
  {
   "cell_type": "code",
   "execution_count": 15,
   "metadata": {
    "collapsed": true
   },
   "outputs": [],
   "source": [
    "subtes = pd.read_csv('datos/datasets/CABA/latlon/estaciones-de-subte.csv')\n",
    "subtes['lat-lon'] = [(x, y) for x,y in zip(subtes['y'], subtes['x'])]\n",
    "nuevo['distancia_subte'] = [distancia_minima(x, list(subtes['lat-lon'])) for x in nuevo['lat-lon']]"
   ]
  },
  {
   "cell_type": "code",
   "execution_count": 16,
   "metadata": {
    "collapsed": true
   },
   "outputs": [],
   "source": [
    "univ = pd.read_csv('datos/datasets/CABA/latlon/universidades.csv',sep=';',error_bad_lines=False)\n",
    "univ['lat-lon']= [(x, y) for x,y in zip(univ['LAT'], univ['LNG'])]\n",
    "nuevo['distancia_universidad'] = [distancia_minima(x, list(univ['lat-lon'])) for x in nuevo['lat-lon']]"
   ]
  },
  {
   "cell_type": "code",
   "execution_count": 17,
   "metadata": {
    "collapsed": true
   },
   "outputs": [],
   "source": [
    "nuevo['lon']=properati['lat-lon'].str.split(\",\").str[0]\n",
    "nuevo['lat']=properati['lat-lon'].str.split(\",\").str[1]"
   ]
  },
  {
   "cell_type": "code",
   "execution_count": 18,
   "metadata": {
    "collapsed": true
   },
   "outputs": [],
   "source": [
    "nuevo.to_csv('datos/properati_2.csv',index=False)"
   ]
  },
  {
   "cell_type": "code",
   "execution_count": null,
   "metadata": {
    "collapsed": true
   },
   "outputs": [],
   "source": []
  }
 ],
 "metadata": {
  "kernelspec": {
   "display_name": "Python 2",
   "language": "python",
   "name": "python2"
  },
  "language_info": {
   "codemirror_mode": {
    "name": "ipython",
    "version": 2
   },
   "file_extension": ".py",
   "mimetype": "text/x-python",
   "name": "python",
   "nbconvert_exporter": "python",
   "pygments_lexer": "ipython2",
   "version": "2.7.12"
  }
 },
 "nbformat": 4,
 "nbformat_minor": 2
}
