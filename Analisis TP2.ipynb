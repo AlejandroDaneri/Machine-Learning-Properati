{
 "cells": [
  {
   "cell_type": "code",
   "execution_count": 1,
   "metadata": {},
   "outputs": [
    {
     "data": {
      "text/html": [
       "<style>.container { width:97% !important; }</style>"
      ],
      "text/plain": [
       "<IPython.core.display.HTML object>"
      ]
     },
     "metadata": {},
     "output_type": "display_data"
    },
    {
     "data": {
      "application/javascript": [
       "if (!(\"Notification\" in window)) {\n",
       "    alert(\"This browser does not support desktop notifications, so the %%notify magic will not work.\");\n",
       "} else if (Notification.permission !== 'granted' && Notification.permission !== 'denied') {\n",
       "    Notification.requestPermission(function (permission) {\n",
       "        if(!('permission' in Notification)) {\n",
       "            Notification.permission = permission;\n",
       "        }\n",
       "    })\n",
       "}\n"
      ],
      "text/plain": [
       "<IPython.core.display.Javascript object>"
      ]
     },
     "metadata": {},
     "output_type": "display_data"
    }
   ],
   "source": [
    "import pandas as pd\n",
    "import numpy as np\n",
    "import matplotlib.pyplot as plt\n",
    "\n",
    "from IPython.core.display import display, HTML\n",
    "display(HTML(\"<style>.container { width:97% !important; }</style>\"))\n",
    "\n",
    "import jupyternotify\n",
    "ip = get_ipython()\n",
    "ip.register_magics(jupyternotify.JupyterNotifyMagics)\n",
    "\n",
    "properati = pd.read_csv('datos/caba_para_mapa.csv',error_bad_lines=False)"
   ]
  },
  {
   "cell_type": "code",
   "execution_count": 96,
   "metadata": {},
   "outputs": [],
   "source": [
    "properati=properati.loc[properati[\"surface_total_in_m2\"]<20000]\n",
    "properati.drop_duplicates(inplace=True)"
   ]
  },
  {
   "cell_type": "code",
   "execution_count": 106,
   "metadata": {},
   "outputs": [
    {
     "data": {
      "image/png": "[encoded data removed]",
      "text/plain": [
       "<matplotlib.figure.Figure at 0x7f4c9ef42ed0>"
      ]
     },
     "metadata": {},
     "output_type": "display_data"
    }
   ],
   "source": [
    "prueba=properati.loc[properati[\"price_per_m2\"]>1000]\n",
    "# the histogram of the data\n",
    "plt.figure(figsize=(12,8))\n",
    "plt.hist(prueba[\"price_per_m2\"], 100, facecolor='blue')\n",
    "plt.xlabel('Errores')\n",
    "plt.ylabel('Cantidad')\n",
    "#plt.xlim(-1000, 1000) #para variar el \"zoom a 0\"\n",
    "plt.yscale('log')\n",
    "plt.show()"
   ]
  },
  {
   "cell_type": "code",
   "execution_count": 126,
   "metadata": {},
   "outputs": [
    {
     "name": "stdout",
     "output_type": "stream",
     "text": [
      "55\n",
      "46145\n",
      "48322\n"
     ]
    },
    {
     "data": {
      "image/png": "[encoded data removed]",
      "text/plain": [
       "<matplotlib.figure.Figure at 0x7f4c9f0b5450>"
      ]
     },
     "metadata": {},
     "output_type": "display_data"
    },
    {
     "data": {
      "image/png": "[encoded data removed]",
      "text/plain": [
       "<matplotlib.figure.Figure at 0x7f4c9f5c0c50>"
      ]
     },
     "metadata": {},
     "output_type": "display_data"
    }
   ],
   "source": [
    "minimo=1000\n",
    "prueba=properati.loc[(properati[\"price_aprox_usd\"]<0.7e6)]\n",
    "print minimo/18\n",
    "print len(prueba)\n",
    "print len(properati)\n",
    "plt.figure(figsize=(12,8))\n",
    "plt.hist(prueba[\"price_aprox_usd\"], 100, facecolor='blue')\n",
    "plt.xlabel('Errores')\n",
    "plt.ylabel('Cantidad')\n",
    "#plt.xlim(-1000, 1000) #para variar el \"zoom a 0\"\n",
    "plt.yscale('log')\n",
    "plt.show()\n",
    "plt.scatter(prueba[\"lat\"],prueba[\"lon\"])\n",
    "plt.show()"
   ]
  },
  {
   "cell_type": "code",
   "execution_count": 118,
   "metadata": {},
   "outputs": [
    {
     "data": {
      "text/plain": [
       "11459        0.0\n",
       "5879         0.0\n",
       "34120        0.0\n",
       "3880         0.0\n",
       "34122        0.0\n",
       "34126        0.0\n",
       "20803        0.0\n",
       "10646        0.0\n",
       "10490        0.0\n",
       "9817         0.0\n",
       "18805        0.0\n",
       "35780        0.0\n",
       "4139         0.0\n",
       "9260         0.0\n",
       "8954         0.0\n",
       "8902         0.0\n",
       "8704         0.0\n",
       "37009        0.0\n",
       "4449         0.0\n",
       "8309         0.0\n",
       "37010        0.0\n",
       "8299         0.0\n",
       "22808        0.0\n",
       "7230         0.0\n",
       "5950         0.0\n",
       "5359         0.0\n",
       "12320        0.0\n",
       "14341        0.0\n",
       "5837         0.0\n",
       "25470        0.0\n",
       "          ...   \n",
       "20968     2224.0\n",
       "21818     2330.0\n",
       "21794     2330.0\n",
       "26931     2379.0\n",
       "37076     2400.0\n",
       "28717     2400.0\n",
       "37093     2400.0\n",
       "41163     2500.0\n",
       "28362     2699.0\n",
       "4833      2700.0\n",
       "41168     2700.0\n",
       "10770     2750.0\n",
       "34180     2750.0\n",
       "45237     2750.0\n",
       "5574      3000.0\n",
       "42602     3250.0\n",
       "37012     3700.0\n",
       "42607     3800.0\n",
       "37011     3800.0\n",
       "19750     4300.0\n",
       "10567     4516.0\n",
       "32449     4800.0\n",
       "42539     4800.0\n",
       "42657     4800.0\n",
       "18867     5000.0\n",
       "9585      5079.0\n",
       "44873     5079.0\n",
       "42582     7722.0\n",
       "8980     10000.0\n",
       "42660    10958.0\n",
       "Name: surface_total_in_m2, Length: 929, dtype: float64"
      ]
     },
     "execution_count": 118,
     "metadata": {},
     "output_type": "execute_result"
    }
   ],
   "source": [
    "properati.loc[(properati[\"price_aprox_usd\"]>0.1e7)][\"surface_total_in_m2\"].sort_values()"
   ]
  },
  {
   "cell_type": "code",
   "execution_count": null,
   "metadata": {
    "collapsed": true
   },
   "outputs": [],
   "source": []
  }
 ],
 "metadata": {
  "kernelspec": {
   "display_name": "Python 2",
   "language": "python",
   "name": "python2"
  },
  "language_info": {
   "codemirror_mode": {
    "name": "ipython",
    "version": 2
   },
   "file_extension": ".py",
   "mimetype": "text/x-python",
   "name": "python",
   "nbconvert_exporter": "python",
   "pygments_lexer": "ipython2",
   "version": "2.7.12"
  }
 },
 "nbformat": 4,
 "nbformat_minor": 2
}
