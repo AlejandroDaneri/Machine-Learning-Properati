{
 "cells": [
  {
   "cell_type": "code",
   "execution_count": 73,
   "metadata": {},
   "outputs": [
    {
     "data": {
      "text/html": [
       "<style>.container { width:97% !important; }</style>"
      ],
      "text/plain": [
       "<IPython.core.display.HTML object>"
      ]
     },
     "metadata": {},
     "output_type": "display_data"
    }
   ],
   "source": [
    "import pandas as pd\n",
    "import numpy as np\n",
    "import matplotlib.pyplot as plt\n",
    "properati = pd.read_csv('datos/caba_para_mapa.csv',index_col=0,error_bad_lines=False)\n",
    "from IPython.core.display import display, HTML\n",
    "display(HTML(\"<style>.container { width:97% !important; }</style>\"))\n",
    "from sklearn import svm\n",
    "from sklearn.model_selection import train_test_split\n",
    "from sklearn.model_selection import validation_curve\n",
    "from matplotlib.mlab import frange\n",
    "from sklearn.preprocessing import StandardScaler  \n",
    "\n",
    "properati=properati.dropna().reset_index()"
   ]
  },
  {
   "cell_type": "code",
   "execution_count": 86,
   "metadata": {},
   "outputs": [],
   "source": [
    "def bucketnizer(elements_size,max_price,bucket_size=100):\n",
    "    range_end=0\n",
    "    bins=[]\n",
    "    labels=[]\n",
    "    for i in range(elements_size):\n",
    "        bins.append(range_end)\n",
    "        labels.append(i)\n",
    "        range_end+=bucket_size\n",
    "        if(range_end>max_price):\n",
    "            break\n",
    "    bins.append(max_price)\n",
    "    return bins,labels"
   ]
  },
  {
   "cell_type": "code",
   "execution_count": 90,
   "metadata": {},
   "outputs": [],
   "source": [
    "# Correme para bucketizar el set\n",
    "clf = svm.SVC()\n",
    "scaler = StandardScaler()  \n",
    "max_price=properati.loc[properati['price_usd_per_m2'].idxmax()]['price_usd_per_m2']\n",
    "\n",
    "bins,labels=bucketnizer(len(properati.index),max_price)\n",
    "\n",
    "properati['categories_by_price']=pd.cut(properati['price_usd_per_m2'],bins,labels=labels)\n",
    "properati['price_range']=pd.cut(properati['price_usd_per_m2'],bins)\n"
   ]
  },
  {
   "cell_type": "markdown",
   "metadata": {},
   "source": [
    "# Validation Curve"
   ]
  },
  {
   "cell_type": "code",
   "execution_count": 91,
   "metadata": {},
   "outputs": [
    {
     "data": {
      "image/png": "[encoded data removed]",
      "text/plain": [
       "<matplotlib.figure.Figure at 0x7fa7093c3990>"
      ]
     },
     "metadata": {},
     "output_type": "display_data"
    }
   ],
   "source": [
    "X = zip(properati['dist_a_subte'],properati['dist_a_univ'],properati['surface_total_in_m2'])\n",
    "y = properati['categories_by_price']\n",
    "scaler.fit(X)\n",
    "\n",
    "param_range=frange(1,10,1)\n",
    "train_scores, test_scores = validation_curve(\n",
    "clf, X, y, param_name=\"C\",param_range=param_range,\n",
    "cv=2,scoring=\"accuracy\" ,n_jobs=-1)\n",
    "train_scores_mean = np.mean(train_scores, axis=1)\n",
    "test_scores_mean = np.mean(test_scores, axis=1)\n",
    "\n",
    "plt.title(\"Validation Curve with SVM\")\n",
    "plt.xlabel(\"Gamma\")\n",
    "plt.ylabel(\"Score\")\n",
    "\n",
    "plt.plot(param_range, train_scores_mean, label=\"Training score\",\n",
    "color=\"darkorange\",marker=\"o\")\n",
    "plt.plot(param_range, test_scores_mean, label=\"Cross-validation score\",\n",
    "color=\"navy\",marker=\"o\")\n",
    "\n",
    "plt.legend(loc=\"best\")\n",
    "plt.show()"
   ]
  },
  {
   "cell_type": "markdown",
   "metadata": {
    "collapsed": true
   },
   "source": [
    "# Grid Search"
   ]
  },
  {
   "cell_type": "code",
   "execution_count": 89,
   "metadata": {},
   "outputs": [
    {
     "name": "stdout",
     "output_type": "stream",
     "text": [
      "GridSearchCV took 46.00 seconds for 100 candidate parameter settings.\n",
      "Model with rank: 1\n",
      "Mean training score: -0.507 (std: 0.226)\n",
      "Mean validation score: -20.414 (std: 0.659)\n",
      "Parameters: {'C': 7, 'gamma': 9}\n",
      "\n",
      "Model with rank: 1\n",
      "Mean training score: -0.507 (std: 0.226)\n",
      "Mean validation score: -20.414 (std: 0.659)\n",
      "Parameters: {'C': 8, 'gamma': 9}\n",
      "\n",
      "Model with rank: 1\n",
      "Mean training score: -0.507 (std: 0.226)\n",
      "Mean validation score: -20.414 (std: 0.659)\n",
      "Parameters: {'C': 9, 'gamma': 9}\n",
      "\n",
      "Model with rank: 1\n",
      "Mean training score: -0.507 (std: 0.226)\n",
      "Mean validation score: -20.414 (std: 0.659)\n",
      "Parameters: {'C': 10, 'gamma': 9}\n",
      "\n",
      "Model with rank: 5\n",
      "Mean training score: -0.507 (std: 0.226)\n",
      "Mean validation score: -20.421 (std: 0.652)\n",
      "Parameters: {'C': 6, 'gamma': 9}\n",
      "\n",
      "Model with rank: 6\n",
      "Mean training score: -1.190 (std: 0.093)\n",
      "Mean validation score: -20.441 (std: 0.627)\n",
      "Parameters: {'C': 1, 'gamma': 9}\n",
      "\n",
      "Model with rank: 7\n",
      "Mean training score: -0.758 (std: 0.139)\n",
      "Mean validation score: -20.477 (std: 0.745)\n",
      "Parameters: {'C': 3, 'gamma': 9}\n",
      "\n",
      "Model with rank: 8\n",
      "Mean training score: -0.693 (std: 0.073)\n",
      "Mean validation score: -20.495 (std: 0.726)\n",
      "Parameters: {'C': 4, 'gamma': 9}\n",
      "\n",
      "Model with rank: 8\n",
      "Mean training score: -0.642 (std: 0.091)\n",
      "Mean validation score: -20.495 (std: 0.726)\n",
      "Parameters: {'C': 5, 'gamma': 9}\n",
      "\n",
      "Model with rank: 10\n",
      "Mean training score: -1.660 (std: 0.031)\n",
      "Mean validation score: -20.518 (std: 0.740)\n",
      "Parameters: {'C': 1, 'gamma': 7}\n",
      "\n"
     ]
    }
   ],
   "source": [
    "import numpy as np\n",
    "from time import time\n",
    "from scipy.stats import randint as sp_randint\n",
    "\n",
    "from sklearn.model_selection import GridSearchCV\n",
    "from sklearn.model_selection import RandomizedSearchCV\n",
    "from sklearn.datasets import load_digits\n",
    "\n",
    "#preparo set de datos\n",
    "X = zip(properati['dist_a_subte'],properati['dist_a_univ'],properati['surface_total_in_m2'])\n",
    "y = properati['categories_by_price']\n",
    "\n",
    "def report(results, n_top=10):\n",
    "    for i in range(1, n_top + 1):\n",
    "        candidates = np.flatnonzero(results['rank_test_score'] == i)\n",
    "        for candidate in candidates:\n",
    "            print(\"Model with rank: {0}\".format(i))\n",
    "            print(\"Mean training score: {0:.3f} (std: {1:.3f})\".format(\n",
    "                results['mean_train_score'][candidate],\n",
    "                results['std_train_score'][candidate]))\n",
    "            print(\"Mean validation score: {0:.3f} (std: {1:.3f})\".format(\n",
    "                results['mean_test_score'][candidate],\n",
    "                results['std_test_score'][candidate]))\n",
    "            print(\"Parameters: {0}\".format(results['params'][candidate]))\n",
    "            print(\"\")\n",
    "        \n",
    "gamma=range(0,10,1)\n",
    "c=frange(1,10,1)\n",
    "param_grid = {\"gamma\": gamma, \"C\":c}\n",
    "grid_search = GridSearchCV(clf,param_grid=param_grid,cv=2,scoring=\"neg_mean_squared_error\")\n",
    "start = time()\n",
    "grid_search.fit(X, y)\n",
    "\n",
    "print(\"GridSearchCV took %.2f seconds for %d candidate parameter settings.\"\n",
    "    % (time() - start, len(grid_search.cv_results_['params'])))\n",
    "report(grid_search.cv_results_)"
   ]
  },
  {
   "cell_type": "code",
   "execution_count": null,
   "metadata": {
    "collapsed": true
   },
   "outputs": [],
   "source": []
  }
 ],
 "metadata": {
  "kernelspec": {
   "display_name": "Python 2",
   "language": "python",
   "name": "python2"
  },
  "language_info": {
   "codemirror_mode": {
    "name": "ipython",
    "version": 2
   },
   "file_extension": ".py",
   "mimetype": "text/x-python",
   "name": "python",
   "nbconvert_exporter": "python",
   "pygments_lexer": "ipython2",
   "version": "2.7.13"
  }
 },
 "nbformat": 4,
 "nbformat_minor": 2
}
