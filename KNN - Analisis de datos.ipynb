{
 "cells": [
  {
   "cell_type": "code",
   "execution_count": 3,
   "metadata": {
    "collapsed": true
   },
   "outputs": [],
   "source": [
    "import pandas as pd\n",
    "import numpy as np\n",
    "import matplotlib.pyplot as plt\n",
    "import matplotlib as mp\n",
    "from sklearn.neighbors import NearestNeighbors\n",
    "from mpl_toolkits.mplot3d import axes3d, Axes3D\n",
    "properati = pd.read_csv('datos/properati_2.csv',index_col=0,error_bad_lines=False)\n",
    "from IPython.core.display import display, HTML\n",
    "display(HTML(\"<style>.container { width:97% !important; }</style>\"))"
   ]
  },
  {
   "cell_type": "code",
   "execution_count": null,
   "metadata": {
    "collapsed": true
   },
   "outputs": [],
   "source": [
    "def function(x):\n",
    "    if(x<1500):\n",
    "        return 'green'\n",
    "    if(x<2000):\n",
    "        return 'pink'\n",
    "    if(x<2500):\n",
    "        return 'gray'\n",
    "    if(x<3000):\n",
    "        return 'red'\n",
    "    if(x<3500):\n",
    "        return 'blue'\n",
    "    return 'black'\n",
    "properati_CABA=properati[properati['place_name'].str.contains('Capital Federal') & properati['property_type'].str.contains('apartment')]\n",
    "properati_CABA=properati_CABA[['lat-lon','price_usd_per_m2','surface_covered_in_m2']].dropna()\n",
    "properati_CABA['lon']=properati_CABA['lat-lon'].str.split(\",\").str[0].str.replace(\"-34.\",\"\").astype(int)\n",
    "properati_CABA['lat']=properati_CABA['lat-lon'].str.split(\",\").str[1].str.replace(\"-58.\",\"\").astype(int)\n",
    "properati_CABA['price_usd_per_m2']=properati_CABA['price_usd_per_m2'].astype(int)\n",
    "properati_CABA['surface_covered_in_m2']=properati_CABA['surface_covered_in_m2'].astype(int)\n",
    "properati_CABA['color']=properati_CABA['price_usd_per_m2'].apply(function)"
   ]
  },
  {
   "cell_type": "code",
   "execution_count": null,
   "metadata": {
    "collapsed": true
   },
   "outputs": [],
   "source": [
    "\n",
    "threedee = plt.figure().gca(projection='3d')\n",
    "threedee.scatter(properati_CABA['lat'], properati_CABA['lon'], properati_CABA['surface_covered_in_m2'],c=properati_CABA['color'],marker='^')\n",
    "plt.show()"
   ]
  },
  {
   "cell_type": "markdown",
   "metadata": {},
   "source": [
    "# Ejemplo trivial KNN con cross validation (CV)"
   ]
  },
  {
   "cell_type": "code",
   "execution_count": 4,
   "metadata": {},
   "outputs": [
    {
     "name": "stdout",
     "output_type": "stream",
     "text": [
      "[[-1. -1.]\n",
      " [ 2.  2.]\n",
      " [-1. -1.]\n",
      " [ 0.  0.]\n",
      " [ 0.  0.]\n",
      " [ 1.  1.]\n",
      " [-1. -1.]]\n",
      "[ 1.  3.  1.  0.  0.  1.  1.]\n",
      "1.0\n"
     ]
    }
   ],
   "source": [
    "from sklearn.model_selection import train_test_split\n",
    "from sklearn.neighbors import KNeighborsRegressor\n",
    "import numpy as np\n",
    "#preparo set de datos\n",
    "X = np.array([[0., 0.], [1., 1.], [-1., -1.], [2., 2.],[0., 0.], [1., 1.], [-1., -1.], [2., 2.],[0., 0.], [1., 1.], [-1., -1.], [2., 2.],[0., 0.], [1., 1.], [-1., -1.], [2., 2.]])\n",
    "y = np.array([0, 1, 2, 3,0, 1, 2, 3,0, 1, 2, 3,0, 1, 2, 3])\n",
    "neigh = KNeighborsRegressor(n_neighbors=2,n_jobs=-1)\n",
    "\n",
    "#preparo lista de scores\n",
    "scores = []\n",
    "\n",
    "#spliteo en set de entrenamiento y de prueba\n",
    "X_train, X_test, y_train, y_test = train_test_split(\n",
    "X, y, test_size=0.4 ) # al asignarle random_state devuelve siempre lo mismo \n",
    "#entreno el set y veo el puntaje que tiene sobre el test\n",
    "reg=neigh.fit(X_train, y_train)\n",
    "print (X_test)\n",
    "prediccion=reg.predict(X_test)\n",
    "print (prediccion)\n",
    "print (reg.score(X_test,prediccion))\n"
   ]
  },
  {
   "cell_type": "markdown",
   "metadata": {},
   "source": [
    "## CV varias veces en ejemplo anterior"
   ]
  },
  {
   "cell_type": "code",
   "execution_count": 5,
   "metadata": {},
   "outputs": [
    {
     "name": "stdout",
     "output_type": "stream",
     "text": [
      "[1.0, 1.0, 1.0, 1.0, 1.0, 1.0, 1.0, 1.0, 1.0, 1.0]\n",
      "1.0\n"
     ]
    }
   ],
   "source": [
    "from sklearn.model_selection import train_test_split\n",
    "from sklearn.neighbors import KNeighborsRegressor\n",
    "import numpy as np\n",
    "#preparo set de datos\n",
    "X = np.array([[0., 0.], [1., 1.], [-1., -1.], [2., 2.],[0., 0.], [1., 1.], [-1., -1.], [2., 2.],[0., 0.], [1., 1.], [-1., -1.], [2., 2.],[0., 0.], [1., 1.], [-1., -1.], [2., 2.]])\n",
    "y = np.array([0, 1, 2, 3,0, 1, 2, 3,0, 1, 2, 3,0, 1, 2, 3])\n",
    "neigh = KNeighborsRegressor(n_neighbors=2,n_jobs=-1)\n",
    "\n",
    "#preparo lista de scores\n",
    "scores = []\n",
    "\n",
    "for i in range(0,10): # lo pruebo varias veces\n",
    "    #spliteo en set de entrenamiento y de prueba\n",
    "    X_train, X_test, y_train, y_test = train_test_split(\n",
    "    X, y, test_size=0.4 ) # al asignarle random_state devuelve siempre lo mismo \n",
    "    #entreno el set y veo el puntaje que tiene sobre el test\n",
    "    reg=neigh.fit(X_train, y_train)\n",
    "    prediccion=reg.predict(X_test)\n",
    "    scores.append(reg.score(X_test,prediccion))\n",
    "print(scores) \n",
    "print(np.mean(scores))"
   ]
  },
  {
   "cell_type": "markdown",
   "metadata": {},
   "source": [
    "# Plot de los diferentes puntajes segun K"
   ]
  },
  {
   "cell_type": "code",
   "execution_count": 6,
   "metadata": {},
   "outputs": [
    {
     "data": {
      "image/png": "[encoded data removed]",
      "text/plain": [
       "<matplotlib.figure.Figure at 0x7f65e31c2a10>"
      ]
     },
     "metadata": {},
     "output_type": "display_data"
    }
   ],
   "source": [
    "from sklearn.model_selection import validation_curve\n",
    "import matplotlib.pyplot as plt\n",
    "\n",
    "#preparo set de datos\n",
    "X = np.array([[0., 0.], [1., 1.], [-1., -1.], [2., 2.],[0., 0.], [1., 1.], [-1., -1.], [2., 2.],[0., 0.], [1., 1.], [-1., -1.], [2., 2.],[0., 0.], [1., 1.], [-1., -1.], [2., 2.]])\n",
    "y = np.array([0, 1, 2, 3,0, 1, 2, 3,0, 1, 2, 3,0, 1, 2, 3])\n",
    "neigh = KNeighborsRegressor(n_neighbors=2,n_jobs=-1)\n",
    "\n",
    "param_range=(1,3)\n",
    "train_scores, test_scores = validation_curve(\n",
    "KNeighborsRegressor(), X, y, param_name=\"n_neighbors\",param_range=param_range,\n",
    "cv=4, n_jobs=-1)\n",
    "train_scores_mean = np.mean(train_scores, axis=1)\n",
    "test_scores_mean = np.mean(test_scores, axis=1)\n",
    "\n",
    "plt.title(\"Validation Curve with KNN\")\n",
    "plt.xlabel(\"$\\n_neighbors$\")\n",
    "plt.ylabel(\"Score\")\n",
    "\n",
    "plt.plot(param_range, train_scores_mean, label=\"Training score\",\n",
    "color=\"darkorange\")\n",
    "plt.plot(param_range, test_scores_mean, label=\"Cross-validation score\",\n",
    "color=\"navy\")\n",
    "\n",
    "plt.legend(loc=\"best\")\n",
    "plt.show()"
   ]
  },
  {
   "cell_type": "markdown",
   "metadata": {},
   "source": [
    "###  Training vs CV score"
   ]
  },
  {
   "cell_type": "code",
   "execution_count": 48,
   "metadata": {},
   "outputs": [
    {
     "data": {
      "image/png": "[encoded data removed]",
      "text/plain": [
       "<matplotlib.figure.Figure at 0x7f6577ff8d50>"
      ]
     },
     "metadata": {},
     "output_type": "display_data"
    }
   ],
   "source": [
    "from sklearn.model_selection import validation_curve\n",
    "import matplotlib.pyplot as plt\n",
    "from sklearn.preprocessing import Imputer\n",
    "\n",
    "#preparo set de datos\n",
    "X = zip(properati['surface_total_in_m2'],properati['price_usd_per_m2'])\n",
    "y = properati['price']\n",
    "#Pone numeros en nans\n",
    "imp = Imputer(missing_values='NaN', strategy='mean', axis=0)\n",
    "imp.fit(X)\n",
    "X=imp.transform(X)\n",
    "\n",
    "neigh = KNeighborsRegressor(n_neighbors=2,n_jobs=-1)\n",
    "\n",
    "param_range=list(range(1,101,25))\n",
    "train_scores, test_scores = validation_curve(\n",
    "KNeighborsRegressor(), X, y, param_name=\"n_neighbors\",param_range=param_range,\n",
    "cv=4, n_jobs=-1)\n",
    "train_scores_mean = np.mean(train_scores, axis=1)\n",
    "test_scores_mean = np.mean(test_scores, axis=1)\n",
    "\n",
    "plt.title(\"Validation Curve with KNN\")\n",
    "plt.xlabel(\"K\")\n",
    "plt.ylabel(\"Score\")\n",
    "\n",
    "plt.plot(param_range, train_scores_mean, label=\"Training score\",\n",
    "color=\"darkorange\",marker=\"o\")\n",
    "plt.plot(param_range, test_scores_mean, label=\"Cross-validation score\",\n",
    "color=\"navy\",marker=\"o\")\n",
    "\n",
    "plt.legend(loc=\"best\")\n",
    "plt.show()"
   ]
  },
  {
   "cell_type": "markdown",
   "metadata": {},
   "source": [
    "### Learning curve"
   ]
  },
  {
   "cell_type": "code",
   "execution_count": 24,
   "metadata": {},
   "outputs": [
    {
     "data": {
      "image/png": "[encoded data removed]",
      "text/plain": [
       "<matplotlib.figure.Figure at 0x7f659510cbd0>"
      ]
     },
     "metadata": {},
     "output_type": "display_data"
    }
   ],
   "source": [
    "import matplotlib.pyplot as plt\n",
    "from sklearn.preprocessing import Imputer\n",
    "from sklearn.model_selection import learning_curve\n",
    "#preparo set de datos\n",
    "X = zip(properati['surface_total_in_m2'],properati['price_usd_per_m2'])\n",
    "y = properati['price']\n",
    "#Pone numeros en nans\n",
    "imp = Imputer(missing_values='NaN', strategy='mean', axis=0)\n",
    "imp.fit(X)\n",
    "X=imp.transform(X)\n",
    "\n",
    "neigh = KNeighborsRegressor(n_neighbors=10,n_jobs=-1)\n",
    "\n",
    "param_range=(10,20)\n",
    "train_sizes, train_scores, valid_scores = learning_curve(KNeighborsRegressor(), X, y, cv=2)\n",
    "\n",
    "plt.title(\"Learning Curve with KNN\")\n",
    "plt.xlabel(\"train_sizes\")\n",
    "plt.ylabel(\"Score\")\n",
    "\n",
    "plt.plot(train_sizes, train_scores, label=\"Training score\",\n",
    "color=\"darkorange\",marker=\"o\")\n",
    "plt.plot(train_sizes, valid_scores, label=\"Cross-validation score\",\n",
    "color=\"navy\",marker=\"o\")\n",
    "\n",
    "plt.legend(loc=\"best\")\n",
    "plt.show()\n"
   ]
  },
  {
   "cell_type": "markdown",
   "metadata": {},
   "source": [
    "## Ejemplo GridSearch"
   ]
  },
  {
   "cell_type": "code",
   "execution_count": 51,
   "metadata": {
    "scrolled": true
   },
   "outputs": [
    {
     "ename": "ValueError",
     "evalue": "Expected 2D array, got 1D array instead:\narray=[ 29.   0.   0. ...,  40.  nan  nan].\nReshape your data either using array.reshape(-1, 1) if your data has a single feature or array.reshape(1, -1) if it contains a single sample.",
     "output_type": "error",
     "traceback": [
      "\u001b[0;31m---------------------------------------------------------------------------\u001b[0m",
      "\u001b[0;31mValueError\u001b[0m                                Traceback (most recent call last)",
      "\u001b[0;32m<ipython-input-51-fa5b68ffa191>\u001b[0m in \u001b[0;36m<module>\u001b[0;34m()\u001b[0m\n\u001b[1;32m     12\u001b[0m \u001b[0;31m#Pone numeros en nans\u001b[0m\u001b[0;34m\u001b[0m\u001b[0;34m\u001b[0m\u001b[0m\n\u001b[1;32m     13\u001b[0m \u001b[0mimp\u001b[0m \u001b[0;34m=\u001b[0m \u001b[0mImputer\u001b[0m\u001b[0;34m(\u001b[0m\u001b[0mmissing_values\u001b[0m\u001b[0;34m=\u001b[0m\u001b[0;34m'NaN'\u001b[0m\u001b[0;34m,\u001b[0m \u001b[0mstrategy\u001b[0m\u001b[0;34m=\u001b[0m\u001b[0;34m'mean'\u001b[0m\u001b[0;34m,\u001b[0m \u001b[0maxis\u001b[0m\u001b[0;34m=\u001b[0m\u001b[0;36m0\u001b[0m\u001b[0;34m)\u001b[0m\u001b[0;34m\u001b[0m\u001b[0m\n\u001b[0;32m---> 14\u001b[0;31m \u001b[0mimp\u001b[0m\u001b[0;34m.\u001b[0m\u001b[0mfit\u001b[0m\u001b[0;34m(\u001b[0m\u001b[0mX\u001b[0m\u001b[0;34m)\u001b[0m\u001b[0;34m\u001b[0m\u001b[0m\n\u001b[0m\u001b[1;32m     15\u001b[0m \u001b[0mX\u001b[0m\u001b[0;34m=\u001b[0m\u001b[0mimp\u001b[0m\u001b[0;34m.\u001b[0m\u001b[0mtransform\u001b[0m\u001b[0;34m(\u001b[0m\u001b[0mX\u001b[0m\u001b[0;34m)\u001b[0m\u001b[0;34m\u001b[0m\u001b[0m\n\u001b[1;32m     16\u001b[0m \u001b[0;34m\u001b[0m\u001b[0m\n",
      "\u001b[0;32m/usr/local/lib/python2.7/dist-packages/sklearn/preprocessing/imputation.pyc\u001b[0m in \u001b[0;36mfit\u001b[0;34m(self, X, y)\u001b[0m\n\u001b[1;32m    153\u001b[0m         \u001b[0;32mif\u001b[0m \u001b[0mself\u001b[0m\u001b[0;34m.\u001b[0m\u001b[0maxis\u001b[0m \u001b[0;34m==\u001b[0m \u001b[0;36m0\u001b[0m\u001b[0;34m:\u001b[0m\u001b[0;34m\u001b[0m\u001b[0m\n\u001b[1;32m    154\u001b[0m             X = check_array(X, accept_sparse='csc', dtype=np.float64,\n\u001b[0;32m--> 155\u001b[0;31m                             force_all_finite=False)\n\u001b[0m\u001b[1;32m    156\u001b[0m \u001b[0;34m\u001b[0m\u001b[0m\n\u001b[1;32m    157\u001b[0m             \u001b[0;32mif\u001b[0m \u001b[0msparse\u001b[0m\u001b[0;34m.\u001b[0m\u001b[0missparse\u001b[0m\u001b[0;34m(\u001b[0m\u001b[0mX\u001b[0m\u001b[0;34m)\u001b[0m\u001b[0;34m:\u001b[0m\u001b[0;34m\u001b[0m\u001b[0m\n",
      "\u001b[0;32m/usr/local/lib/python2.7/dist-packages/sklearn/utils/validation.pyc\u001b[0m in \u001b[0;36mcheck_array\u001b[0;34m(array, accept_sparse, dtype, order, copy, force_all_finite, ensure_2d, allow_nd, ensure_min_samples, ensure_min_features, warn_on_dtype, estimator)\u001b[0m\n\u001b[1;32m    408\u001b[0m                     \u001b[0;34m\"Reshape your data either using array.reshape(-1, 1) if \"\u001b[0m\u001b[0;34m\u001b[0m\u001b[0m\n\u001b[1;32m    409\u001b[0m                     \u001b[0;34m\"your data has a single feature or array.reshape(1, -1) \"\u001b[0m\u001b[0;34m\u001b[0m\u001b[0m\n\u001b[0;32m--> 410\u001b[0;31m                     \"if it contains a single sample.\".format(array))\n\u001b[0m\u001b[1;32m    411\u001b[0m             \u001b[0marray\u001b[0m \u001b[0;34m=\u001b[0m \u001b[0mnp\u001b[0m\u001b[0;34m.\u001b[0m\u001b[0matleast_2d\u001b[0m\u001b[0;34m(\u001b[0m\u001b[0marray\u001b[0m\u001b[0;34m)\u001b[0m\u001b[0;34m\u001b[0m\u001b[0m\n\u001b[1;32m    412\u001b[0m             \u001b[0;31m# To ensure that array flags are maintained\u001b[0m\u001b[0;34m\u001b[0m\u001b[0;34m\u001b[0m\u001b[0m\n",
      "\u001b[0;31mValueError\u001b[0m: Expected 2D array, got 1D array instead:\narray=[ 29.   0.   0. ...,  40.  nan  nan].\nReshape your data either using array.reshape(-1, 1) if your data has a single feature or array.reshape(1, -1) if it contains a single sample."
     ]
    }
   ],
   "source": [
    "import numpy as np\n",
    "from time import time\n",
    "from scipy.stats import randint as sp_randint\n",
    "\n",
    "from sklearn.model_selection import GridSearchCV\n",
    "from sklearn.model_selection import RandomizedSearchCV\n",
    "from sklearn.datasets import load_digits\n",
    "\n",
    "#preparo set de datos\n",
    "X = zip(properati['surface_total_in_m2'],properati['price_usd_per_m2'])\n",
    "y = properati['price']\n",
    "#Pone numeros en nans\n",
    "imp = Imputer(missing_values='NaN', strategy='mean', axis=0)\n",
    "imp.fit(X)\n",
    "X=imp.transform(X)\n",
    "\n",
    "neigh = KNeighborsRegressor(n_neighbors=1,n_jobs=-1)\n",
    "# Utility function to report best scores\n",
    "def report(results, n_top=10):\n",
    "    for i in range(1, n_top + 1):\n",
    "        candidates = np.flatnonzero(results['rank_test_score'] == i)\n",
    "        for candidate in candidates:\n",
    "            print(\"Model with rank: {0}\".format(i))\n",
    "            print(\"Mean validation score: {0:.3f} (std: {1:.3f})\".format(\n",
    "                results['mean_test_score'][candidate],\n",
    "                results['std_test_score'][candidate]))\n",
    "            print(\"Parameters: {0}\".format(results['params'][candidate]))\n",
    "            print(\"\")\n",
    "        \n",
    "k=range(50,100)\n",
    "param_grid = {\"n_neighbors\": k}\n",
    "grid_search = GridSearchCV(neigh,param_grid=param_grid,cv=2)\n",
    "start = time()\n",
    "grid_search.fit(X, y)\n",
    "\n",
    "print(\"GridSearchCV took %.2f seconds for %d candidate parameter settings.\"\n",
    "    % (time() - start, len(grid_search.cv_results_['params'])))\n",
    "report(grid_search.cv_results_)"
   ]
  },
  {
   "cell_type": "markdown",
   "metadata": {},
   "source": [
    "## Random Search"
   ]
  },
  {
   "cell_type": "code",
   "execution_count": 50,
   "metadata": {},
   "outputs": [
    {
     "name": "stdout",
     "output_type": "stream",
     "text": [
      "GridSearchCV took 1161.82 seconds for 10 candidate parameter settings.\n",
      "Model with rank: 1\n",
      "Mean validation score: 0.103 (std: 0.001)\n",
      "Parameters: {'n_neighbors': 50}\n",
      "\n",
      "Model with rank: 2\n",
      "Mean validation score: 0.101 (std: 0.004)\n",
      "Parameters: {'n_neighbors': 70}\n",
      "\n",
      "Model with rank: 3\n",
      "Mean validation score: 0.101 (std: 0.003)\n",
      "Parameters: {'n_neighbors': 65}\n",
      "\n",
      "Model with rank: 4\n",
      "Mean validation score: 0.101 (std: 0.004)\n",
      "Parameters: {'n_neighbors': 75}\n",
      "\n",
      "Model with rank: 5\n",
      "Mean validation score: 0.101 (std: 0.003)\n",
      "Parameters: {'n_neighbors': 55}\n",
      "\n",
      "Model with rank: 6\n",
      "Mean validation score: 0.101 (std: 0.003)\n",
      "Parameters: {'n_neighbors': 60}\n",
      "\n",
      "Model with rank: 7\n",
      "Mean validation score: 0.100 (std: 0.004)\n",
      "Parameters: {'n_neighbors': 80}\n",
      "\n",
      "Model with rank: 8\n",
      "Mean validation score: 0.100 (std: 0.004)\n",
      "Parameters: {'n_neighbors': 85}\n",
      "\n",
      "Model with rank: 9\n",
      "Mean validation score: 0.100 (std: 0.005)\n",
      "Parameters: {'n_neighbors': 95}\n",
      "\n",
      "Model with rank: 10\n",
      "Mean validation score: 0.099 (std: 0.004)\n",
      "Parameters: {'n_neighbors': 90}\n",
      "\n"
     ]
    }
   ],
   "source": [
    "import numpy as np\n",
    "from time import time\n",
    "from scipy.stats import randint as sp_randint\n",
    "\n",
    "from sklearn.model_selection import GridSearchCV\n",
    "from sklearn.model_selection import RandomizedSearchCV\n",
    "from sklearn.datasets import load_digits\n",
    "\n",
    "#preparo set de datos\n",
    "X = zip(properati['surface_total_in_m2'],properati['price_usd_per_m2'])\n",
    "y = properati['price']\n",
    "#Pone numeros en nans\n",
    "imp = Imputer(missing_values='NaN', strategy='mean', axis=0)\n",
    "imp.fit(X)\n",
    "X=imp.transform(X)\n",
    "\n",
    "neigh = KNeighborsRegressor(n_neighbors=1,n_jobs=-1)\n",
    "# Utility function to report best scores\n",
    "def report(results, n_top=10):\n",
    "    for i in range(1, n_top + 1):\n",
    "        candidates = np.flatnonzero(results['rank_test_score'] == i)\n",
    "        for candidate in candidates:\n",
    "            print(\"Model with rank: {0}\".format(i))\n",
    "            print(\"Mean validation score: {0:.3f} (std: {1:.3f})\".format(\n",
    "                results['mean_test_score'][candidate],\n",
    "                results['std_test_score'][candidate]))\n",
    "            print(\"Parameters: {0}\".format(results['params'][candidate]))\n",
    "            print(\"\")\n",
    "        \n",
    "k=range(50,200,5)\n",
    "param_grid = {\"n_neighbors\": k}\n",
    "# run randomized search\n",
    "random_search = RandomizedSearchCV(neigh, param_distributions=param_grid,\n",
    "n_iter=10)\n",
    "start = time()\n",
    "random_search.fit(X, y)\n",
    "\n",
    "print(\"GridSearchCV took %.2f seconds for %d candidate parameter settings.\"\n",
    "    % (time() - start, len(grid_search.cv_results_['params'])))\n",
    "report(grid_search.cv_results_)"
   ]
  },
  {
   "cell_type": "markdown",
   "metadata": {},
   "source": [
    "# ======================================================="
   ]
  },
  {
   "cell_type": "markdown",
   "metadata": {},
   "source": [
    "# IMPLEMENTACIÓN KNN\n"
   ]
  },
  {
   "cell_type": "code",
   "execution_count": 3,
   "metadata": {
    "collapsed": true
   },
   "outputs": [],
   "source": [
    "properati_reduce=properati\n",
    "properati_reduce=properati_reduce.dropna().reset_index()"
   ]
  },
  {
   "cell_type": "code",
   "execution_count": 4,
   "metadata": {
    "collapsed": true
   },
   "outputs": [],
   "source": [
    "training_samples=[]\n",
    "test_samples=[]\n",
    "k=10\n",
    "test_samples_index=[100,150,200,350,400,450,460,461,462] #Indices de los elementos de prueba en el df\n",
    "for index, row in properati_reduce.iterrows():\n",
    "    if (index not in test_samples_index): #Uso para entrenar todos los indices, menos los de prueba.\n",
    "        training_samples.append([row['surface_total_in_m2'],row['floor'],row['rooms'],row['lat'],row['lon'],row['distancia_subte'],row['distancia_universidad']])\n",
    "    else:\n",
    "        test_samples.append([row['surface_total_in_m2'],row['floor'],row['rooms'],row['lat'],row['lon'],row['distancia_subte'],row['distancia_universidad']])\n",
    "        training_samples.append([0,0,0,0,0,0,0])\n"
   ]
  },
  {
   "cell_type": "code",
   "execution_count": 5,
   "metadata": {
    "collapsed": true
   },
   "outputs": [],
   "source": [
    "nbrs=NearestNeighbors(n_neighbors=k,algorithm ='kd_tree').fit(training_samples)"
   ]
  },
  {
   "cell_type": "code",
   "execution_count": 6,
   "metadata": {
    "collapsed": true
   },
   "outputs": [],
   "source": [
    "distances,indices=nbrs.kneighbors(test_samples) # Le paso las caracteristicas de los test de prueba para aplicar KNN"
   ]
  },
  {
   "cell_type": "code",
   "execution_count": 7,
   "metadata": {},
   "outputs": [
    {
     "name": "stdout",
     "output_type": "stream",
     "text": [
      "~~~~~~~~~~~~~~~~~~~~~~~~~~~~~~~~~~~~~~\n",
      "Original :  2222.0\n",
      "| Neighbor 0 :  2500.0\n",
      "| Neighbor 1 :  3076.0\n",
      "| Neighbor 2 :  3000.0\n",
      "| Neighbor 3 :  3010.0\n",
      "| Neighbor 4 :  3805.0\n",
      "| Neighbor 5 :  3074.0\n",
      "| Neighbor 6 :  2027.0\n",
      "| Neighbor 7 :  2742.0\n",
      "| Neighbor 8 :  2959.0\n",
      "| Neighbor 9 :  3000.0\n",
      "Mean:  2919.0\n",
      "~~~~~~~~~~~~~~~~~~~~~~~~~~~~~~~~~~~~~~\n",
      "Original :  1744.0\n",
      "| Neighbor 0 :  1744.0\n",
      "| Neighbor 1 :  1744.0\n",
      "| Neighbor 2 :  1790.0\n",
      "| Neighbor 3 :  1744.0\n",
      "| Neighbor 4 :  1790.0\n",
      "| Neighbor 5 :  1744.0\n",
      "| Neighbor 6 :  1744.0\n",
      "| Neighbor 7 :  1790.0\n",
      "| Neighbor 8 :  2044.0\n",
      "| Neighbor 9 :  2162.0\n",
      "Mean:  1829.0\n",
      "~~~~~~~~~~~~~~~~~~~~~~~~~~~~~~~~~~~~~~\n",
      "Original :  2444.0\n",
      "| Neighbor 0 :  2862.0\n",
      "| Neighbor 1 :  1938.0\n",
      "| Neighbor 2 :  2275.0\n",
      "| Neighbor 3 :  2345.0\n",
      "| Neighbor 4 :  3475.0\n",
      "| Neighbor 5 :  1641.0\n",
      "| Neighbor 6 :  3795.0\n",
      "| Neighbor 7 :  1987.0\n",
      "| Neighbor 8 :  3062.0\n",
      "| Neighbor 9 :  1569.0\n",
      "Mean:  2494.0\n",
      "~~~~~~~~~~~~~~~~~~~~~~~~~~~~~~~~~~~~~~\n",
      "Original :  2322.0\n",
      "| Neighbor 0 :  2322.0\n",
      "| Neighbor 1 :  2322.0\n",
      "| Neighbor 2 :  2583.0\n",
      "| Neighbor 3 :  2583.0\n",
      "| Neighbor 4 :  1774.0\n",
      "| Neighbor 5 :  2083.0\n",
      "| Neighbor 6 :  2543.0\n",
      "| Neighbor 7 :  2192.0\n",
      "| Neighbor 8 :  2934.0\n",
      "| Neighbor 9 :  3036.0\n",
      "Mean:  2437.0\n",
      "~~~~~~~~~~~~~~~~~~~~~~~~~~~~~~~~~~~~~~\n",
      "Original :  2700.0\n",
      "| Neighbor 0 :  1761.0\n",
      "| Neighbor 1 :  3076.0\n",
      "| Neighbor 2 :  2500.0\n",
      "| Neighbor 3 :  2500.0\n",
      "| Neighbor 4 :  2692.0\n",
      "| Neighbor 5 :  2511.0\n",
      "| Neighbor 6 :  1921.0\n",
      "| Neighbor 7 :  1921.0\n",
      "| Neighbor 8 :  2800.0\n",
      "| Neighbor 9 :  2285.0\n",
      "Mean:  2396.0\n",
      "~~~~~~~~~~~~~~~~~~~~~~~~~~~~~~~~~~~~~~\n",
      "Original :  1603.0\n",
      "| Neighbor 0 :  1603.0\n",
      "| Neighbor 1 :  1603.0\n",
      "| Neighbor 2 :  2358.0\n",
      "| Neighbor 3 :  1363.0\n",
      "| Neighbor 4 :  1700.0\n",
      "| Neighbor 5 :  1491.0\n",
      "| Neighbor 6 :  1793.0\n",
      "| Neighbor 7 :  2407.0\n",
      "| Neighbor 8 :  1553.0\n",
      "| Neighbor 9 :  1630.0\n",
      "Mean:  1750.0\n",
      "~~~~~~~~~~~~~~~~~~~~~~~~~~~~~~~~~~~~~~\n",
      "Original :  2337.0\n",
      "| Neighbor 0 :  2105.0\n",
      "| Neighbor 1 :  2961.0\n",
      "| Neighbor 2 :  1337.0\n",
      "| Neighbor 3 :  1587.0\n",
      "| Neighbor 4 :  2763.0\n",
      "| Neighbor 5 :  2842.0\n",
      "| Neighbor 6 :  2437.0\n",
      "| Neighbor 7 :  3125.0\n",
      "| Neighbor 8 :  2039.0\n",
      "| Neighbor 9 :  2039.0\n",
      "Mean:  2323.0\n",
      "~~~~~~~~~~~~~~~~~~~~~~~~~~~~~~~~~~~~~~\n",
      "Original :  2741.0\n",
      "| Neighbor 0 :  2300.0\n",
      "| Neighbor 1 :  2233.0\n",
      "| Neighbor 2 :  1166.0\n",
      "| Neighbor 3 :  3063.0\n",
      "| Neighbor 4 :  2718.0\n",
      "| Neighbor 5 :  2718.0\n",
      "| Neighbor 6 :  2500.0\n",
      "| Neighbor 7 :  2500.0\n",
      "| Neighbor 8 :  1892.0\n",
      "| Neighbor 9 :  2576.0\n",
      "Mean:  2366.0\n",
      "~~~~~~~~~~~~~~~~~~~~~~~~~~~~~~~~~~~~~~\n",
      "Original :  2127.0\n",
      "| Neighbor 0 :  2903.0\n",
      "| Neighbor 1 :  2315.0\n",
      "| Neighbor 2 :  2315.0\n",
      "| Neighbor 3 :  2315.0\n",
      "| Neighbor 4 :  2315.0\n",
      "| Neighbor 5 :  2315.0\n",
      "| Neighbor 6 :  2315.0\n",
      "| Neighbor 7 :  2315.0\n",
      "| Neighbor 8 :  2315.0\n",
      "| Neighbor 9 :  2448.0\n",
      "Mean:  2387.0\n"
     ]
    }
   ],
   "source": [
    "i=0\n",
    "for index in test_samples_index:\n",
    "    mean=[]\n",
    "    print(\"~~~~~~~~~~~~~~~~~~~~~~~~~~~~~~~~~~~~~~\")\n",
    "    print(\"Original : \",properati_reduce[index:index+1]['price_usd_per_m2'].iloc[0])\n",
    "    for j in range(k):\n",
    "        print(\"|\",\"Neighbor\",j,\": \",properati_reduce[indices[i][j]:indices[i][j]+1]['price_usd_per_m2'].iloc[0])\n",
    "        mean.append(properati_reduce[indices[i][j]:indices[i][j]+1]['price_usd_per_m2'].iloc[0])\n",
    "    print(\"Mean: \",sum(mean)//len(mean))\n",
    "    i+=1"
   ]
  },
  {
   "cell_type": "code",
   "execution_count": 57,
   "metadata": {},
   "outputs": [
    {
     "name": "stdout",
     "output_type": "stream",
     "text": [
      "[0.10714285714285721, -0.42857142857142838, -0.42857142857142838, 0.37500000000000006, -4.0, -2.7499999999999987, 0.16666666666666663, -0.42857142857142838, -0.42857142857142838, 0.16666666666666663]\n",
      "-0.764880952381\n"
     ]
    }
   ],
   "source": [
    "from sklearn.model_selection import train_test_split\n",
    "from sklearn.neighbors import KNeighborsRegressor\n",
    "import numpy as np\n",
    "#preparo set de datos\n",
    "X = np.array([[0., 0.], [1., 1.], [-1., -1.], [2., 2.],[0., 0.], [1., 1.], [-1., -1.], [2., 2.],[0., 0.], [1., 1.], [-1., -1.], [2., 2.]])\n",
    "y = np.array([0, 1, 2, 1,2, 1,2, 1,2, 1,2, 1])\n",
    "neigh = KNeighborsRegressor(n_neighbors=2,n_jobs=-1)\n",
    "\n",
    "#preparo lista de scores\n",
    "scores = []\n",
    "\n",
    "for i in range(0,10): # lo pruebo varias veces\n",
    "    #spliteo en set de entrenamiento y de prueba\n",
    "    X_train, X_test, y_train, y_test = train_test_split(\n",
    "    X, y, test_size=0.4 ) # al asignarle random_state devuelve siempre lo mismo \n",
    "    #entreno el set y veo el puntaje que tiene sobre el test\n",
    "    clf=neigh.fit(X_train, y_train)\n",
    "    scores.append(clf.score(X_test,y_test))\n",
    "print(scores) #no estoy seguro como funciona esto\n",
    "print(np.mean(scores))"
   ]
  }
 ],
 "metadata": {
  "kernelspec": {
   "display_name": "Python 2",
   "language": "python",
   "name": "python2"
  }
 },
 "nbformat": 4,
 "nbformat_minor": 2
}
