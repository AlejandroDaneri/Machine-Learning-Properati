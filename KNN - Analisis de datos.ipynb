{
 "cells": [
  {
   "cell_type": "code",
   "execution_count": 4,
   "metadata": {
    "collapsed": true
   },
   "outputs": [],
   "source": [
    "import pandas as pd\n",
    "import numpy as np\n",
    "import matplotlib.pyplot as plt\n",
    "import matplotlib as mp\n",
    "from sklearn.neighbors import NearestNeighbors\n",
    "from mpl_toolkits.mplot3d import axes3d, Axes3D\n",
    "properati = pd.read_csv('datos/properati_2.csv',index_col=0,error_bad_lines=False)"
   ]
  },
  {
   "cell_type": "code",
   "execution_count": null,
   "metadata": {
    "collapsed": true
   },
   "outputs": [],
   "source": [
    "def function(x):\n",
    "    if(x<1500):\n",
    "        return 'green'\n",
    "    if(x<2000):\n",
    "        return 'pink'\n",
    "    if(x<2500):\n",
    "        return 'gray'\n",
    "    if(x<3000):\n",
    "        return 'red'\n",
    "    if(x<3500):\n",
    "        return 'blue'\n",
    "    return 'black'\n",
    "properati_CABA=properati[properati['place_name'].str.contains('Capital Federal') & properati['property_type'].str.contains('apartment')]\n",
    "properati_CABA=properati_CABA[['lat-lon','price_usd_per_m2','surface_covered_in_m2']].dropna()\n",
    "properati_CABA['lon']=properati_CABA['lat-lon'].str.split(\",\").str[0].str.replace(\"-34.\",\"\").astype(int)\n",
    "properati_CABA['lat']=properati_CABA['lat-lon'].str.split(\",\").str[1].str.replace(\"-58.\",\"\").astype(int)\n",
    "properati_CABA['price_usd_per_m2']=properati_CABA['price_usd_per_m2'].astype(int)\n",
    "properati_CABA['surface_covered_in_m2']=properati_CABA['surface_covered_in_m2'].astype(int)\n",
    "properati_CABA['color']=properati_CABA['price_usd_per_m2'].apply(function)"
   ]
  },
  {
   "cell_type": "code",
   "execution_count": null,
   "metadata": {
    "collapsed": true
   },
   "outputs": [],
   "source": [
    "\n",
    "threedee = plt.figure().gca(projection='3d')\n",
    "threedee.scatter(properati_CABA['lat'], properati_CABA['lon'], properati_CABA['surface_covered_in_m2'],c=properati_CABA['color'],marker='^')\n",
    "plt.show()"
   ]
  },
  {
   "cell_type": "markdown",
   "metadata": {},
   "source": [
    "# Ejemplo trivial KNN con cross validation (CV)"
   ]
  },
  {
   "cell_type": "code",
   "execution_count": 90,
   "metadata": {},
   "outputs": [
    {
     "name": "stdout",
     "output_type": "stream",
     "text": [
      "[[ 1.  1.]\n",
      " [ 0.  0.]\n",
      " [ 2.  2.]\n",
      " [ 2.  2.]\n",
      " [ 0.  0.]\n",
      " [-1. -1.]\n",
      " [-1. -1.]]\n",
      "[ 1.  0.  3.  3.  0.  2.  2.]\n",
      "1.0\n"
     ]
    }
   ],
   "source": [
    "from sklearn.model_selection import train_test_split\n",
    "from sklearn.neighbors import KNeighborsRegressor\n",
    "import numpy as np\n",
    "#preparo set de datos\n",
    "X = np.array([[0., 0.], [1., 1.], [-1., -1.], [2., 2.],[0., 0.], [1., 1.], [-1., -1.], [2., 2.],[0., 0.], [1., 1.], [-1., -1.], [2., 2.],[0., 0.], [1., 1.], [-1., -1.], [2., 2.]])\n",
    "y = np.array([0, 1, 2, 3,0, 1, 2, 3,0, 1, 2, 3,0, 1, 2, 3])\n",
    "neigh = KNeighborsRegressor(n_neighbors=2,n_jobs=-1)\n",
    "\n",
    "#preparo lista de scores\n",
    "scores = []\n",
    "\n",
    "#spliteo en set de entrenamiento y de prueba\n",
    "X_train, X_test, y_train, y_test = train_test_split(\n",
    "X, y, test_size=0.4 ) # al asignarle random_state devuelve siempre lo mismo \n",
    "#entreno el set y veo el puntaje que tiene sobre el test\n",
    "reg=neigh.fit(X_train, y_train)\n",
    "print (X_test)\n",
    "prediccion=reg.predict(X_test)\n",
    "print (prediccion)\n",
    "print (reg.score(X_test,prediccion))\n"
   ]
  },
  {
   "cell_type": "markdown",
   "metadata": {},
   "source": [
    "## CV varias veces en ejemplo anterior"
   ]
  },
  {
   "cell_type": "code",
   "execution_count": 91,
   "metadata": {},
   "outputs": [
    {
     "name": "stdout",
     "output_type": "stream",
     "text": [
      "[1.0, 1.0, 1.0, 1.0, 1.0, 1.0, 1.0, 1.0, 1.0, 1.0]\n",
      "1.0\n"
     ]
    }
   ],
   "source": [
    "from sklearn.model_selection import train_test_split\n",
    "from sklearn.neighbors import KNeighborsRegressor\n",
    "import numpy as np\n",
    "#preparo set de datos\n",
    "X = np.array([[0., 0.], [1., 1.], [-1., -1.], [2., 2.],[0., 0.], [1., 1.], [-1., -1.], [2., 2.],[0., 0.], [1., 1.], [-1., -1.], [2., 2.],[0., 0.], [1., 1.], [-1., -1.], [2., 2.]])\n",
    "y = np.array([0, 1, 2, 3,0, 1, 2, 3,0, 1, 2, 3,0, 1, 2, 3])\n",
    "neigh = KNeighborsRegressor(n_neighbors=2,n_jobs=-1)\n",
    "\n",
    "#preparo lista de scores\n",
    "scores = []\n",
    "\n",
    "for i in range(0,10): # lo pruebo varias veces\n",
    "    #spliteo en set de entrenamiento y de prueba\n",
    "    X_train, X_test, y_train, y_test = train_test_split(\n",
    "    X, y, test_size=0.4 ) # al asignarle random_state devuelve siempre lo mismo \n",
    "    #entreno el set y veo el puntaje que tiene sobre el test\n",
    "    reg=neigh.fit(X_train, y_train)\n",
    "    prediccion=reg.predict(X_test)\n",
    "    scores.append(reg.score(X_test,prediccion))\n",
    "print(scores) \n",
    "print(np.mean(scores))"
   ]
  },
  {
   "cell_type": "markdown",
   "metadata": {},
   "source": [
    "# ======================================================="
   ]
  },
  {
   "cell_type": "markdown",
   "metadata": {},
   "source": [
    "# IMPLEMENTACIÓN KNN\n"
   ]
  },
  {
   "cell_type": "code",
   "execution_count": 3,
   "metadata": {
    "collapsed": true
   },
   "outputs": [],
   "source": [
    "properati_reduce=properati\n",
    "properati_reduce=properati_reduce.dropna().reset_index()"
   ]
  },
  {
   "cell_type": "code",
   "execution_count": 4,
   "metadata": {
    "collapsed": true
   },
   "outputs": [],
   "source": [
    "training_samples=[]\n",
    "test_samples=[]\n",
    "k=10\n",
    "test_samples_index=[100,150,200,350,400,450,460,461,462] #Indices de los elementos de prueba en el df\n",
    "for index, row in properati_reduce.iterrows():\n",
    "    if (index not in test_samples_index): #Uso para entrenar todos los indices, menos los de prueba.\n",
    "        training_samples.append([row['surface_total_in_m2'],row['floor'],row['rooms'],row['lat'],row['lon'],row['distancia_subte'],row['distancia_universidad']])\n",
    "    else:\n",
    "        test_samples.append([row['surface_total_in_m2'],row['floor'],row['rooms'],row['lat'],row['lon'],row['distancia_subte'],row['distancia_universidad']])\n",
    "        training_samples.append([0,0,0,0,0,0,0])\n"
   ]
  },
  {
   "cell_type": "code",
   "execution_count": 5,
   "metadata": {
    "collapsed": true
   },
   "outputs": [],
   "source": [
    "nbrs=NearestNeighbors(n_neighbors=k,algorithm ='kd_tree').fit(training_samples)"
   ]
  },
  {
   "cell_type": "code",
   "execution_count": 6,
   "metadata": {
    "collapsed": true
   },
   "outputs": [],
   "source": [
    "distances,indices=nbrs.kneighbors(test_samples) # Le paso las caracteristicas de los test de prueba para aplicar KNN"
   ]
  },
  {
   "cell_type": "code",
   "execution_count": null,
   "metadata": {
    "collapsed": true
   },
   "outputs": [],
   "source": []
  },
  {
   "cell_type": "code",
   "execution_count": 7,
   "metadata": {},
   "outputs": [
    {
     "name": "stdout",
     "output_type": "stream",
     "text": [
      "~~~~~~~~~~~~~~~~~~~~~~~~~~~~~~~~~~~~~~\n",
      "Original :  2222.0\n",
      "| Neighbor 0 :  2500.0\n",
      "| Neighbor 1 :  3076.0\n",
      "| Neighbor 2 :  3000.0\n",
      "| Neighbor 3 :  3010.0\n",
      "| Neighbor 4 :  3805.0\n",
      "| Neighbor 5 :  3074.0\n",
      "| Neighbor 6 :  2027.0\n",
      "| Neighbor 7 :  2742.0\n",
      "| Neighbor 8 :  2959.0\n",
      "| Neighbor 9 :  3000.0\n",
      "Mean:  2919.0\n",
      "~~~~~~~~~~~~~~~~~~~~~~~~~~~~~~~~~~~~~~\n",
      "Original :  1744.0\n",
      "| Neighbor 0 :  1744.0\n",
      "| Neighbor 1 :  1744.0\n",
      "| Neighbor 2 :  1790.0\n",
      "| Neighbor 3 :  1744.0\n",
      "| Neighbor 4 :  1790.0\n",
      "| Neighbor 5 :  1744.0\n",
      "| Neighbor 6 :  1744.0\n",
      "| Neighbor 7 :  1790.0\n",
      "| Neighbor 8 :  2044.0\n",
      "| Neighbor 9 :  2162.0\n",
      "Mean:  1829.0\n",
      "~~~~~~~~~~~~~~~~~~~~~~~~~~~~~~~~~~~~~~\n",
      "Original :  2444.0\n",
      "| Neighbor 0 :  2862.0\n",
      "| Neighbor 1 :  1938.0\n",
      "| Neighbor 2 :  2275.0\n",
      "| Neighbor 3 :  2345.0\n",
      "| Neighbor 4 :  3475.0\n",
      "| Neighbor 5 :  1641.0\n",
      "| Neighbor 6 :  3795.0\n",
      "| Neighbor 7 :  1987.0\n",
      "| Neighbor 8 :  3062.0\n",
      "| Neighbor 9 :  1569.0\n",
      "Mean:  2494.0\n",
      "~~~~~~~~~~~~~~~~~~~~~~~~~~~~~~~~~~~~~~\n",
      "Original :  2322.0\n",
      "| Neighbor 0 :  2322.0\n",
      "| Neighbor 1 :  2322.0\n",
      "| Neighbor 2 :  2583.0\n",
      "| Neighbor 3 :  2583.0\n",
      "| Neighbor 4 :  1774.0\n",
      "| Neighbor 5 :  2083.0\n",
      "| Neighbor 6 :  2543.0\n",
      "| Neighbor 7 :  2192.0\n",
      "| Neighbor 8 :  2934.0\n",
      "| Neighbor 9 :  3036.0\n",
      "Mean:  2437.0\n",
      "~~~~~~~~~~~~~~~~~~~~~~~~~~~~~~~~~~~~~~\n",
      "Original :  2700.0\n",
      "| Neighbor 0 :  1761.0\n",
      "| Neighbor 1 :  3076.0\n",
      "| Neighbor 2 :  2500.0\n",
      "| Neighbor 3 :  2500.0\n",
      "| Neighbor 4 :  2692.0\n",
      "| Neighbor 5 :  2511.0\n",
      "| Neighbor 6 :  1921.0\n",
      "| Neighbor 7 :  1921.0\n",
      "| Neighbor 8 :  2800.0\n",
      "| Neighbor 9 :  2285.0\n",
      "Mean:  2396.0\n",
      "~~~~~~~~~~~~~~~~~~~~~~~~~~~~~~~~~~~~~~\n",
      "Original :  1603.0\n",
      "| Neighbor 0 :  1603.0\n",
      "| Neighbor 1 :  1603.0\n",
      "| Neighbor 2 :  2358.0\n",
      "| Neighbor 3 :  1363.0\n",
      "| Neighbor 4 :  1700.0\n",
      "| Neighbor 5 :  1491.0\n",
      "| Neighbor 6 :  1793.0\n",
      "| Neighbor 7 :  2407.0\n",
      "| Neighbor 8 :  1553.0\n",
      "| Neighbor 9 :  1630.0\n",
      "Mean:  1750.0\n",
      "~~~~~~~~~~~~~~~~~~~~~~~~~~~~~~~~~~~~~~\n",
      "Original :  2337.0\n",
      "| Neighbor 0 :  2105.0\n",
      "| Neighbor 1 :  2961.0\n",
      "| Neighbor 2 :  1337.0\n",
      "| Neighbor 3 :  1587.0\n",
      "| Neighbor 4 :  2763.0\n",
      "| Neighbor 5 :  2842.0\n",
      "| Neighbor 6 :  2437.0\n",
      "| Neighbor 7 :  3125.0\n",
      "| Neighbor 8 :  2039.0\n",
      "| Neighbor 9 :  2039.0\n",
      "Mean:  2323.0\n",
      "~~~~~~~~~~~~~~~~~~~~~~~~~~~~~~~~~~~~~~\n",
      "Original :  2741.0\n",
      "| Neighbor 0 :  2300.0\n",
      "| Neighbor 1 :  2233.0\n",
      "| Neighbor 2 :  1166.0\n",
      "| Neighbor 3 :  3063.0\n",
      "| Neighbor 4 :  2718.0\n",
      "| Neighbor 5 :  2718.0\n",
      "| Neighbor 6 :  2500.0\n",
      "| Neighbor 7 :  2500.0\n",
      "| Neighbor 8 :  1892.0\n",
      "| Neighbor 9 :  2576.0\n",
      "Mean:  2366.0\n",
      "~~~~~~~~~~~~~~~~~~~~~~~~~~~~~~~~~~~~~~\n",
      "Original :  2127.0\n",
      "| Neighbor 0 :  2903.0\n",
      "| Neighbor 1 :  2315.0\n",
      "| Neighbor 2 :  2315.0\n",
      "| Neighbor 3 :  2315.0\n",
      "| Neighbor 4 :  2315.0\n",
      "| Neighbor 5 :  2315.0\n",
      "| Neighbor 6 :  2315.0\n",
      "| Neighbor 7 :  2315.0\n",
      "| Neighbor 8 :  2315.0\n",
      "| Neighbor 9 :  2448.0\n",
      "Mean:  2387.0\n"
     ]
    }
   ],
   "source": [
    "i=0\n",
    "for index in test_samples_index:\n",
    "    mean=[]\n",
    "    print(\"~~~~~~~~~~~~~~~~~~~~~~~~~~~~~~~~~~~~~~\")\n",
    "    print(\"Original : \",properati_reduce[index:index+1]['price_usd_per_m2'].iloc[0])\n",
    "    for j in range(k):\n",
    "        print(\"|\",\"Neighbor\",j,\": \",properati_reduce[indices[i][j]:indices[i][j]+1]['price_usd_per_m2'].iloc[0])\n",
    "        mean.append(properati_reduce[indices[i][j]:indices[i][j]+1]['price_usd_per_m2'].iloc[0])\n",
    "    print(\"Mean: \",sum(mean)//len(mean))\n",
    "    i+=1"
   ]
  },
  {
   "cell_type": "code",
   "execution_count": 57,
   "metadata": {},
   "outputs": [
    {
     "name": "stdout",
     "output_type": "stream",
     "text": [
      "[0.10714285714285721, -0.42857142857142838, -0.42857142857142838, 0.37500000000000006, -4.0, -2.7499999999999987, 0.16666666666666663, -0.42857142857142838, -0.42857142857142838, 0.16666666666666663]\n",
      "-0.764880952381\n"
     ]
    }
   ],
   "source": [
    "from sklearn.model_selection import train_test_split\n",
    "from sklearn.neighbors import KNeighborsRegressor\n",
    "import numpy as np\n",
    "#preparo set de datos\n",
    "X = np.array([[0., 0.], [1., 1.], [-1., -1.], [2., 2.],[0., 0.], [1., 1.], [-1., -1.], [2., 2.],[0., 0.], [1., 1.], [-1., -1.], [2., 2.]])\n",
    "y = np.array([0, 1, 2, 1,2, 1,2, 1,2, 1,2, 1])\n",
    "neigh = KNeighborsRegressor(n_neighbors=2,n_jobs=-1)\n",
    "\n",
    "#preparo lista de scores\n",
    "scores = []\n",
    "\n",
    "for i in range(0,10): # lo pruebo varias veces\n",
    "    #spliteo en set de entrenamiento y de prueba\n",
    "    X_train, X_test, y_train, y_test = train_test_split(\n",
    "    X, y, test_size=0.4 ) # al asignarle random_state devuelve siempre lo mismo \n",
    "    #entreno el set y veo el puntaje que tiene sobre el test\n",
    "    clf=neigh.fit(X_train, y_train)\n",
    "    scores.append(clf.score(X_test,y_test))\n",
    "print(scores) #no estoy seguro como funciona esto\n",
    "print(np.mean(scores))"
   ]
  },
  {
   "cell_type": "code",
   "execution_count": null,
   "metadata": {
    "collapsed": true
   },
   "outputs": [],
   "source": []
  },
  {
   "cell_type": "code",
   "execution_count": null,
   "metadata": {
    "collapsed": true
   },
   "outputs": [],
   "source": []
  }
 ],
 "metadata": {
  "kernelspec": {
   "display_name": "Python 2",
   "language": "python",
   "name": "python2"
  },
  "language_info": {
   "codemirror_mode": {
    "name": "ipython",
    "version": 2
   },
   "file_extension": ".py",
   "mimetype": "text/x-python",
   "name": "python",
   "nbconvert_exporter": "python",
   "pygments_lexer": "ipython2",
   "version": "2.7.12"
  }
 },
 "nbformat": 4,
 "nbformat_minor": 2
}
