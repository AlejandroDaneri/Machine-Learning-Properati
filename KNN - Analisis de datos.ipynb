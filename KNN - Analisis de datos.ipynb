{
 "cells": [
  {
   "cell_type": "code",
   "execution_count": 139,
   "metadata": {
    "collapsed": true
   },
   "outputs": [],
   "source": [
    "import pandas as pd\n",
    "import numpy as np\n",
    "import matplotlib.pyplot as plt\n",
    "import matplotlib as mp\n",
    "from sklearn.neighbors import NearestNeighbors\n",
    "properati = pd.read_csv('datos/properati_2.csv',index_col=0,error_bad_lines=False)"
   ]
  },
  {
   "cell_type": "code",
   "execution_count": 140,
   "metadata": {},
   "outputs": [],
   "source": [
    "def function(x):\n",
    "    if(x<1500):\n",
    "        return 'green'\n",
    "    if(x<2000):\n",
    "        return 'pink'\n",
    "    if(x<2500):\n",
    "        return 'gray'\n",
    "    if(x<3000):\n",
    "        return 'red'\n",
    "    if(x<3500):\n",
    "        return 'blue'\n",
    "    return 'black'\n",
    "properati_CABA=properati[properati['place_name'].str.contains('Capital Federal') & properati['property_type'].str.contains('apartment')]\n",
    "properati_CABA=properati_CABA[['lat-lon','price_usd_per_m2','surface_covered_in_m2']].dropna()\n",
    "properati_CABA['lon']=properati_CABA['lat-lon'].str.split(\",\").str[0].str.replace(\"-34.\",\"\").astype(int)\n",
    "properati_CABA['lat']=properati_CABA['lat-lon'].str.split(\",\").str[1].str.replace(\"-58.\",\"\").astype(int)\n",
    "properati_CABA['price_usd_per_m2']=properati_CABA['price_usd_per_m2'].astype(int)\n",
    "properati_CABA['surface_covered_in_m2']=properati_CABA['surface_covered_in_m2'].astype(int)\n",
    "properati_CABA['color']=properati_CABA['price_usd_per_m2'].apply(function)"
   ]
  },
  {
   "cell_type": "code",
   "execution_count": 141,
   "metadata": {},
   "outputs": [
    {
     "ename": "ValueError",
     "evalue": "Unknown projection '3d'",
     "output_type": "error",
     "traceback": [
      "\u001b[0;31m---------------------------------------------------------------------------\u001b[0m",
      "\u001b[0;31mKeyError\u001b[0m                                  Traceback (most recent call last)",
      "\u001b[0;32m/usr/lib64/python3.5/site-packages/matplotlib/projections/__init__.py\u001b[0m in \u001b[0;36mget_projection_class\u001b[0;34m(projection)\u001b[0m\n\u001b[1;32m     64\u001b[0m     \u001b[0;32mtry\u001b[0m\u001b[0;34m:\u001b[0m\u001b[0;34m\u001b[0m\u001b[0m\n\u001b[0;32m---> 65\u001b[0;31m         \u001b[0;32mreturn\u001b[0m \u001b[0mprojection_registry\u001b[0m\u001b[0;34m.\u001b[0m\u001b[0mget_projection_class\u001b[0m\u001b[0;34m(\u001b[0m\u001b[0mprojection\u001b[0m\u001b[0;34m)\u001b[0m\u001b[0;34m\u001b[0m\u001b[0m\n\u001b[0m\u001b[1;32m     66\u001b[0m     \u001b[0;32mexcept\u001b[0m \u001b[0mKeyError\u001b[0m\u001b[0;34m:\u001b[0m\u001b[0;34m\u001b[0m\u001b[0m\n",
      "\u001b[0;32m/usr/lib64/python3.5/site-packages/matplotlib/projections/__init__.py\u001b[0m in \u001b[0;36mget_projection_class\u001b[0;34m(self, name)\u001b[0m\n\u001b[1;32m     28\u001b[0m         \"\"\"\n\u001b[0;32m---> 29\u001b[0;31m         \u001b[0;32mreturn\u001b[0m \u001b[0mself\u001b[0m\u001b[0;34m.\u001b[0m\u001b[0m_all_projection_types\u001b[0m\u001b[0;34m[\u001b[0m\u001b[0mname\u001b[0m\u001b[0;34m]\u001b[0m\u001b[0;34m\u001b[0m\u001b[0m\n\u001b[0m\u001b[1;32m     30\u001b[0m \u001b[0;34m\u001b[0m\u001b[0m\n",
      "\u001b[0;31mKeyError\u001b[0m: '3d'",
      "\nDuring handling of the above exception, another exception occurred:\n",
      "\u001b[0;31mValueError\u001b[0m                                Traceback (most recent call last)",
      "\u001b[0;32m<ipython-input-141-6d9fd13f8481>\u001b[0m in \u001b[0;36m<module>\u001b[0;34m()\u001b[0m\n\u001b[1;32m      1\u001b[0m \u001b[0;34m\u001b[0m\u001b[0m\n\u001b[0;32m----> 2\u001b[0;31m \u001b[0mthreedee\u001b[0m \u001b[0;34m=\u001b[0m \u001b[0mplt\u001b[0m\u001b[0;34m.\u001b[0m\u001b[0mfigure\u001b[0m\u001b[0;34m(\u001b[0m\u001b[0;34m)\u001b[0m\u001b[0;34m.\u001b[0m\u001b[0mgca\u001b[0m\u001b[0;34m(\u001b[0m\u001b[0mprojection\u001b[0m\u001b[0;34m=\u001b[0m\u001b[0;34m'3d'\u001b[0m\u001b[0;34m)\u001b[0m\u001b[0;34m\u001b[0m\u001b[0m\n\u001b[0m\u001b[1;32m      3\u001b[0m \u001b[0mthreedee\u001b[0m\u001b[0;34m.\u001b[0m\u001b[0mscatter\u001b[0m\u001b[0;34m(\u001b[0m\u001b[0mproperati_CABA\u001b[0m\u001b[0;34m[\u001b[0m\u001b[0;34m'lat'\u001b[0m\u001b[0;34m]\u001b[0m\u001b[0;34m,\u001b[0m \u001b[0mproperati_CABA\u001b[0m\u001b[0;34m[\u001b[0m\u001b[0;34m'lon'\u001b[0m\u001b[0;34m]\u001b[0m\u001b[0;34m,\u001b[0m \u001b[0mproperati_CABA\u001b[0m\u001b[0;34m[\u001b[0m\u001b[0;34m'surface_covered_in_m2'\u001b[0m\u001b[0;34m]\u001b[0m\u001b[0;34m,\u001b[0m\u001b[0mc\u001b[0m\u001b[0;34m=\u001b[0m\u001b[0mproperati_CABA\u001b[0m\u001b[0;34m[\u001b[0m\u001b[0;34m'color'\u001b[0m\u001b[0;34m]\u001b[0m\u001b[0;34m,\u001b[0m\u001b[0mmarker\u001b[0m\u001b[0;34m=\u001b[0m\u001b[0;34m'^'\u001b[0m\u001b[0;34m)\u001b[0m\u001b[0;34m\u001b[0m\u001b[0m\n\u001b[1;32m      4\u001b[0m \u001b[0mplt\u001b[0m\u001b[0;34m.\u001b[0m\u001b[0mshow\u001b[0m\u001b[0;34m(\u001b[0m\u001b[0;34m)\u001b[0m\u001b[0;34m\u001b[0m\u001b[0m\n",
      "\u001b[0;32m/usr/lib64/python3.5/site-packages/matplotlib/figure.py\u001b[0m in \u001b[0;36mgca\u001b[0;34m(self, **kwargs)\u001b[0m\n\u001b[1;32m   1367\u001b[0m \u001b[0;34m\u001b[0m\u001b[0m\n\u001b[1;32m   1368\u001b[0m         \u001b[0;31m# no axes found, so create one which spans the figure\u001b[0m\u001b[0;34m\u001b[0m\u001b[0;34m\u001b[0m\u001b[0m\n\u001b[0;32m-> 1369\u001b[0;31m         \u001b[0;32mreturn\u001b[0m \u001b[0mself\u001b[0m\u001b[0;34m.\u001b[0m\u001b[0madd_subplot\u001b[0m\u001b[0;34m(\u001b[0m\u001b[0;36m1\u001b[0m\u001b[0;34m,\u001b[0m \u001b[0;36m1\u001b[0m\u001b[0;34m,\u001b[0m \u001b[0;36m1\u001b[0m\u001b[0;34m,\u001b[0m \u001b[0;34m**\u001b[0m\u001b[0mkwargs\u001b[0m\u001b[0;34m)\u001b[0m\u001b[0;34m\u001b[0m\u001b[0m\n\u001b[0m\u001b[1;32m   1370\u001b[0m \u001b[0;34m\u001b[0m\u001b[0m\n\u001b[1;32m   1371\u001b[0m     \u001b[0;32mdef\u001b[0m \u001b[0msca\u001b[0m\u001b[0;34m(\u001b[0m\u001b[0mself\u001b[0m\u001b[0;34m,\u001b[0m \u001b[0ma\u001b[0m\u001b[0;34m)\u001b[0m\u001b[0;34m:\u001b[0m\u001b[0;34m\u001b[0m\u001b[0m\n",
      "\u001b[0;32m/usr/lib64/python3.5/site-packages/matplotlib/figure.py\u001b[0m in \u001b[0;36madd_subplot\u001b[0;34m(self, *args, **kwargs)\u001b[0m\n\u001b[1;32m   1001\u001b[0m         \u001b[0;32melse\u001b[0m\u001b[0;34m:\u001b[0m\u001b[0;34m\u001b[0m\u001b[0m\n\u001b[1;32m   1002\u001b[0m             projection_class, kwargs, key = process_projection_requirements(\n\u001b[0;32m-> 1003\u001b[0;31m                 self, *args, **kwargs)\n\u001b[0m\u001b[1;32m   1004\u001b[0m \u001b[0;34m\u001b[0m\u001b[0m\n\u001b[1;32m   1005\u001b[0m             \u001b[0;31m# try to find the axes with this key in the stack\u001b[0m\u001b[0;34m\u001b[0m\u001b[0;34m\u001b[0m\u001b[0m\n",
      "\u001b[0;32m/usr/lib64/python3.5/site-packages/matplotlib/projections/__init__.py\u001b[0m in \u001b[0;36mprocess_projection_requirements\u001b[0;34m(figure, *args, **kwargs)\u001b[0m\n\u001b[1;32m     96\u001b[0m \u001b[0;34m\u001b[0m\u001b[0m\n\u001b[1;32m     97\u001b[0m     \u001b[0;32mif\u001b[0m \u001b[0misinstance\u001b[0m\u001b[0;34m(\u001b[0m\u001b[0mprojection\u001b[0m\u001b[0;34m,\u001b[0m \u001b[0msix\u001b[0m\u001b[0;34m.\u001b[0m\u001b[0mstring_types\u001b[0m\u001b[0;34m)\u001b[0m \u001b[0;32mor\u001b[0m \u001b[0mprojection\u001b[0m \u001b[0;32mis\u001b[0m \u001b[0;32mNone\u001b[0m\u001b[0;34m:\u001b[0m\u001b[0;34m\u001b[0m\u001b[0m\n\u001b[0;32m---> 98\u001b[0;31m         \u001b[0mprojection_class\u001b[0m \u001b[0;34m=\u001b[0m \u001b[0mget_projection_class\u001b[0m\u001b[0;34m(\u001b[0m\u001b[0mprojection\u001b[0m\u001b[0;34m)\u001b[0m\u001b[0;34m\u001b[0m\u001b[0m\n\u001b[0m\u001b[1;32m     99\u001b[0m     \u001b[0;32melif\u001b[0m \u001b[0mhasattr\u001b[0m\u001b[0;34m(\u001b[0m\u001b[0mprojection\u001b[0m\u001b[0;34m,\u001b[0m \u001b[0;34m'_as_mpl_axes'\u001b[0m\u001b[0;34m)\u001b[0m\u001b[0;34m:\u001b[0m\u001b[0;34m\u001b[0m\u001b[0m\n\u001b[1;32m    100\u001b[0m         \u001b[0mprojection_class\u001b[0m\u001b[0;34m,\u001b[0m \u001b[0mextra_kwargs\u001b[0m \u001b[0;34m=\u001b[0m \u001b[0mprojection\u001b[0m\u001b[0;34m.\u001b[0m\u001b[0m_as_mpl_axes\u001b[0m\u001b[0;34m(\u001b[0m\u001b[0;34m)\u001b[0m\u001b[0;34m\u001b[0m\u001b[0m\n",
      "\u001b[0;32m/usr/lib64/python3.5/site-packages/matplotlib/projections/__init__.py\u001b[0m in \u001b[0;36mget_projection_class\u001b[0;34m(projection)\u001b[0m\n\u001b[1;32m     65\u001b[0m         \u001b[0;32mreturn\u001b[0m \u001b[0mprojection_registry\u001b[0m\u001b[0;34m.\u001b[0m\u001b[0mget_projection_class\u001b[0m\u001b[0;34m(\u001b[0m\u001b[0mprojection\u001b[0m\u001b[0;34m)\u001b[0m\u001b[0;34m\u001b[0m\u001b[0m\n\u001b[1;32m     66\u001b[0m     \u001b[0;32mexcept\u001b[0m \u001b[0mKeyError\u001b[0m\u001b[0;34m:\u001b[0m\u001b[0;34m\u001b[0m\u001b[0m\n\u001b[0;32m---> 67\u001b[0;31m         \u001b[0;32mraise\u001b[0m \u001b[0mValueError\u001b[0m\u001b[0;34m(\u001b[0m\u001b[0;34m\"Unknown projection '%s'\"\u001b[0m \u001b[0;34m%\u001b[0m \u001b[0mprojection\u001b[0m\u001b[0;34m)\u001b[0m\u001b[0;34m\u001b[0m\u001b[0m\n\u001b[0m\u001b[1;32m     68\u001b[0m \u001b[0;34m\u001b[0m\u001b[0m\n\u001b[1;32m     69\u001b[0m \u001b[0;34m\u001b[0m\u001b[0m\n",
      "\u001b[0;31mValueError\u001b[0m: Unknown projection '3d'"
     ]
    }
   ],
   "source": [
    "\n",
    "threedee = plt.figure().gca(projection='3d')\n",
    "threedee.scatter(properati_CABA['lat'], properati_CABA['lon'], properati_CABA['surface_covered_in_m2'],c=properati_CABA['color'],marker='^')\n",
    "plt.show()"
   ]
  },
  {
   "cell_type": "markdown",
   "metadata": {},
   "source": [
    "# ======================================================="
   ]
  },
  {
   "cell_type": "markdown",
   "metadata": {},
   "source": [
    "# IMPLEMENTACIÓN KNN\n"
   ]
  },
  {
   "cell_type": "code",
   "execution_count": null,
   "metadata": {
    "collapsed": true
   },
   "outputs": [],
   "source": [
    "properati_reduce=properati[['surface_total_in_m2','floor','rooms','price_usd_per_m2']]\n",
    "properati_reduce['lon']=properati['lat-lon'].str.split(\",\").str[0]\n",
    "properati_reduce['lat']=properati['lat-lon'].str.split(\",\").str[1]\n",
    "properati_reduce=properati_reduce.dropna().reset_index()"
   ]
  },
  {
   "cell_type": "code",
   "execution_count": 133,
   "metadata": {},
   "outputs": [],
   "source": [
    "training_samples=[]\n",
    "test_samples=[]\n",
    "k=10\n",
    "test_samples_index=[100,500,600,700,800,900,1000,1200,1300] #Indices de los elementos de prueba en el df\n",
    "for index, row in properati_reduce.iterrows():\n",
    "    if (index not in test_samples_index): #Uso para entrenar todos los indices, menos los de prueba.\n",
    "        training_samples.append([row['surface_total_in_m2'],row['floor'],row['rooms'],row['lat'],row['lon']])\n",
    "    else:\n",
    "        test_samples.append([row['surface_total_in_m2'],row['floor'],row['rooms'],row['lat'],row['lon']])"
   ]
  },
  {
   "cell_type": "code",
   "execution_count": 134,
   "metadata": {},
   "outputs": [],
   "source": [
    "nbrs=NearestNeighbors(n_neighbors=k,algorithm ='ball_tree').fit(training_samples)"
   ]
  },
  {
   "cell_type": "code",
   "execution_count": 135,
   "metadata": {},
   "outputs": [],
   "source": [
    "distances,indices=nbrs.kneighbors(test_samples) # Le paso las caracteristicas de los test de prueba para aplicar KNN"
   ]
  },
  {
   "cell_type": "code",
   "execution_count": 136,
   "metadata": {},
   "outputs": [
    {
     "data": {
      "text/plain": [
       "array([[  96,   93,   94,   95,   98,   97,   92,  101,   99,  100],\n",
       "       [ 502,  501,  504, 1385, 1370,  499,  503,  505,  500,  584],\n",
       "       [1380,  242,  598, 1018,  819,  491,  605,  377,  918,  387],\n",
       "       [ 693,  697,  694,  698,  695,  696,  699,  410,  233,  719],\n",
       "       [ 245, 1043,  620,  845, 1322,  723, 1245,  450, 1318, 1198],\n",
       "       [ 883,  896,  895,  882, 1211, 1203,  787,  802, 1093, 1099],\n",
       "       [  33,  385,  193, 1367, 1369, 1368, 1366, 1364, 1365,  227],\n",
       "       [ 701,  702,  700,  703, 1194,  287, 1313, 1312,  312, 1409],\n",
       "       [ 849, 1408,  562,  157,  158, 1410,  539,  617,  448,  603]])"
      ]
     },
     "execution_count": 136,
     "metadata": {},
     "output_type": "execute_result"
    }
   ],
   "source": [
    "indices"
   ]
  },
  {
   "cell_type": "code",
   "execution_count": 137,
   "metadata": {},
   "outputs": [
    {
     "name": "stdout",
     "output_type": "stream",
     "text": [
      "~~~~~~~~~~~~~~~~~~~~~~~~~~~~~~~~~~~~~~\n",
      "Original :  1888.88888889\n",
      "| Neighbor 0 :  1888.88888889\n",
      "| Neighbor 1 :  1888.88888889\n",
      "| Neighbor 2 :  1888.88888889\n",
      "| Neighbor 3 :  1888.88888889\n",
      "| Neighbor 4 :  1888.88888889\n",
      "| Neighbor 5 :  1888.88888889\n",
      "| Neighbor 6 :  1888.88888889\n",
      "| Neighbor 7 :  1888.88888889\n",
      "| Neighbor 8 :  1888.88888889\n",
      "| Neighbor 9 :  1888.88888889\n",
      "Mean:  1888.0\n",
      "~~~~~~~~~~~~~~~~~~~~~~~~~~~~~~~~~~~~~~\n",
      "Original :  2039.47368421\n",
      "| Neighbor 0 :  2039.47368421\n",
      "| Neighbor 1 :  2039.47368421\n",
      "| Neighbor 2 :  2039.47368421\n",
      "| Neighbor 3 :  2541.66666667\n",
      "| Neighbor 4 :  1971.15384615\n",
      "| Neighbor 5 :  2428.57142857\n",
      "| Neighbor 6 :  2039.47368421\n",
      "| Neighbor 7 :  2039.47368421\n",
      "| Neighbor 8 :  2039.47368421\n",
      "| Neighbor 9 :  2450.0\n",
      "Mean:  2162.0\n",
      "~~~~~~~~~~~~~~~~~~~~~~~~~~~~~~~~~~~~~~\n",
      "Original :  1323.52941176\n",
      "| Neighbor 0 :  2155.55555556\n",
      "| Neighbor 1 :  1236.84210526\n",
      "| Neighbor 2 :  1666.66666667\n",
      "| Neighbor 3 :  3840.57971014\n",
      "| Neighbor 4 :  1742.26804124\n",
      "| Neighbor 5 :  2794.11764706\n",
      "| Neighbor 6 :  2123.07692308\n",
      "| Neighbor 7 :  2300.0\n",
      "| Neighbor 8 :  2155.17241379\n",
      "| Neighbor 9 :  1909.09090909\n",
      "Mean:  2192.0\n",
      "~~~~~~~~~~~~~~~~~~~~~~~~~~~~~~~~~~~~~~\n",
      "Original :  2238.80597015\n",
      "| Neighbor 0 :  2054.79452055\n",
      "| Neighbor 1 :  2238.80597015\n",
      "| Neighbor 2 :  2054.79452055\n",
      "| Neighbor 3 :  2238.80597015\n",
      "| Neighbor 4 :  2054.79452055\n",
      "| Neighbor 5 :  2238.80597015\n",
      "| Neighbor 6 :  2238.80597015\n",
      "| Neighbor 7 :  1439.39393939\n",
      "| Neighbor 8 :  1925.92592593\n",
      "| Neighbor 9 :  1753.84615385\n",
      "Mean:  2023.0\n",
      "~~~~~~~~~~~~~~~~~~~~~~~~~~~~~~~~~~~~~~\n",
      "Original :  1666.66666667\n",
      "| Neighbor 0 :  1558.13953488\n",
      "| Neighbor 1 :  2297.2972973\n",
      "| Neighbor 2 :  1000.0\n",
      "| Neighbor 3 :  1204.54545455\n",
      "| Neighbor 4 :  2098.36065574\n",
      "| Neighbor 5 :  1970.14925373\n",
      "| Neighbor 6 :  1901.0989011\n",
      "| Neighbor 7 :  2111.11111111\n",
      "| Neighbor 8 :  1220.93023256\n",
      "| Neighbor 9 :  2497.36842105\n",
      "Mean:  1785.0\n",
      "~~~~~~~~~~~~~~~~~~~~~~~~~~~~~~~~~~~~~~\n",
      "Original :  2322.03389831\n",
      "| Neighbor 0 :  1953.125\n",
      "| Neighbor 1 :  2464.28571429\n",
      "| Neighbor 2 :  2194.91525424\n",
      "| Neighbor 3 :  1953.125\n",
      "| Neighbor 4 :  3275.86206897\n",
      "| Neighbor 5 :  2716.39344262\n",
      "| Neighbor 6 :  2265.82278481\n",
      "| Neighbor 7 :  1614.03508772\n",
      "| Neighbor 8 :  1903.84615385\n",
      "| Neighbor 9 :  3076.92307692\n",
      "Mean:  2341.0\n",
      "~~~~~~~~~~~~~~~~~~~~~~~~~~~~~~~~~~~~~~\n",
      "Original :  1818.18181818\n",
      "| Neighbor 0 :  1181.81818182\n",
      "| Neighbor 1 :  1413.04347826\n",
      "| Neighbor 2 :  1526.31578947\n",
      "| Neighbor 3 :  1857.14285714\n",
      "| Neighbor 4 :  2262.5\n",
      "| Neighbor 5 :  2857.14285714\n",
      "| Neighbor 6 :  2343.75\n",
      "| Neighbor 7 :  1923.07692308\n",
      "| Neighbor 8 :  3476.74418605\n",
      "| Neighbor 9 :  3363.63636364\n",
      "Mean:  2220.0\n",
      "~~~~~~~~~~~~~~~~~~~~~~~~~~~~~~~~~~~~~~\n",
      "Original :  2650.81967213\n",
      "| Neighbor 0 :  2238.80597015\n",
      "| Neighbor 1 :  2238.80597015\n",
      "| Neighbor 2 :  2238.80597015\n",
      "| Neighbor 3 :  2238.80597015\n",
      "| Neighbor 4 :  3322.03389831\n",
      "| Neighbor 5 :  2208.33333333\n",
      "| Neighbor 6 :  1875.0\n",
      "| Neighbor 7 :  2307.69230769\n",
      "| Neighbor 8 :  1627.90697674\n",
      "| Neighbor 9 :  2589.28571429\n",
      "Mean:  2288.0\n",
      "~~~~~~~~~~~~~~~~~~~~~~~~~~~~~~~~~~~~~~\n",
      "Original :  1873.41772152\n",
      "| Neighbor 0 :  2142.85714286\n",
      "| Neighbor 1 :  1643.1372549\n",
      "| Neighbor 2 :  4340.0\n",
      "| Neighbor 3 :  3086.41975309\n",
      "| Neighbor 4 :  3205.12820513\n",
      "| Neighbor 5 :  2339.47368421\n",
      "| Neighbor 6 :  1333.33333333\n",
      "| Neighbor 7 :  2392.90333333\n",
      "| Neighbor 8 :  2960.0\n",
      "| Neighbor 9 :  2213.1147541\n",
      "Mean:  2565.0\n"
     ]
    }
   ],
   "source": [
    "i=0\n",
    "for index in test_samples_index:\n",
    "    mean=[]\n",
    "    print(\"~~~~~~~~~~~~~~~~~~~~~~~~~~~~~~~~~~~~~~\")\n",
    "    print(\"Original : \",properati_reduce[index:index+1]['price_usd_per_m2'].iloc[0])\n",
    "    for j in range(k):\n",
    "        print(\"|\",\"Neighbor\",j,\": \",properati_reduce[indices[i][j]:indices[i][j]+1]['price_usd_per_m2'].iloc[0])\n",
    "        mean.append(properati_reduce[indices[i][j]:indices[i][j]+1]['price_usd_per_m2'].iloc[0])\n",
    "    print(\"Mean: \",sum(mean)//len(mean))\n",
    "    i+=1"
   ]
  },
  {
   "cell_type": "code",
   "execution_count": null,
   "metadata": {},
   "outputs": [],
   "source": []
  },
  {
   "cell_type": "code",
   "execution_count": null,
   "metadata": {
    "collapsed": true
   },
   "outputs": [],
   "source": []
  }
 ],
 "metadata": {
  "kernelspec": {
   "display_name": "Python 3",
   "language": "python",
   "name": "python3"
  },
  "language_info": {
   "codemirror_mode": {
    "name": "ipython",
    "version": 3
   },
   "file_extension": ".py",
   "mimetype": "text/x-python",
   "name": "python",
   "nbconvert_exporter": "python",
   "pygments_lexer": "ipython3",
   "version": "3.5.3"
  }
 },
 "nbformat": 4,
 "nbformat_minor": 2
}
