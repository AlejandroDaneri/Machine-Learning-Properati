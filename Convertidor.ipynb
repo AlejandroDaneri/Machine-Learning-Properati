{
 "cells": [
  {
   "cell_type": "code",
   "execution_count": 1,
   "metadata": {
    "collapsed": true
   },
   "outputs": [],
   "source": [
    "import pyspark_csv as pycsv\n",
    "sc.addPyFile('pyspark_csv.py')\n",
    "plaintext_rdd = sc.textFile('properati.csv')\n",
    "dataframe = pycsv.csvToDataFrame(sqlCtx, plaintext_rdd)\n",
    "data = dataframe.rdd"
   ]
  },
  {
   "cell_type": "code",
   "execution_count": 2,
   "metadata": {
    "collapsed": true
   },
   "outputs": [],
   "source": [
    "import sys\n",
    "reload(sys)\n",
    "sys.setdefaultencoding('utf-8')"
   ]
  },
  {
   "cell_type": "code",
   "execution_count": 3,
   "metadata": {
    "collapsed": true
   },
   "outputs": [],
   "source": [
    "def nose (row):\n",
    "    precio_aprox_usd=row.price_aprox_usd\n",
    "    precio_aprox_local=row.price_aprox_local_currency\n",
    "    precio_por_m2=row.price_per_m2\n",
    "    precio_usd_por_m2=row.price_usd_per_m2\n",
    "    if (row.price == 'USD' and row.price):\n",
    "        precio_aprox_usd = row.price\n",
    "        precio_aprox_local = row.price//17.6445\n",
    "    if (row.price == 'ARS' and row.price):\n",
    "        precio_aprox_local = row.price\n",
    "        precio_aprox_usd = row.price*17.6445\n",
    "    if(row.price_aprox_local_currency and row.surface_total_in_m2):\n",
    "        precio_por_m2 = row.price_aprox_local_currency/row.surface_total_in_m2\n",
    "    if(row.price_aprox_usd and row.surface_total_in_m2):\n",
    "        precio_usd_por_m2 = row.price_aprox_usd//row.surface_total_in_m2\n",
    "    return (row.created_on,row.operation,row.property_type,row.place_name,row.place_with_parent_names,\\\n",
    "           row.country_name,row.state_name,row.geonames_id,row.lat,row.lon,row.price,row.currency,\\\n",
    "           precio_aprox_local,precio_aprox_usd,row.surface_total_in_m2,row.surface_covered_in_m2,precio_usd_por_m2,\\\n",
    "           precio_por_m2,row.floor,row.rooms,row.expenses,row.description\\\n",
    "           )"
   ]
  },
  {
   "cell_type": "code",
   "execution_count": 5,
   "metadata": {
    "collapsed": true
   },
   "outputs": [],
   "source": [
    "nuevo=data.map(nose)\n",
    "nuevo.toDF().toPandas().to_csv('properati_remap.csv',header=['created_on','operation','property_type','place_name','place_with_parent_names','country_name','state_name','geonames_id','lat','lon','price','currency','precio_aprox_local','precio_aprox_usd','surface_total_in_m2','surface_covered_in_m2','precio_usd_por_m2','precio_por_m2','floor','rooms','expenses','description'])"
   ]
  },
  {
   "cell_type": "code",
   "execution_count": null,
   "metadata": {
    "collapsed": true
   },
   "outputs": [],
   "source": []
  }
 ],
 "metadata": {
  "kernelspec": {
   "display_name": "Python 2",
   "language": "python",
   "name": "python2"
  },
  "language_info": {
   "codemirror_mode": {
    "name": "ipython",
    "version": 2
   },
   "file_extension": ".py",
   "mimetype": "text/x-python",
   "name": "python",
   "nbconvert_exporter": "python",
   "pygments_lexer": "ipython2",
   "version": "2.7.12"
  }
 },
 "nbformat": 4,
 "nbformat_minor": 2
}
