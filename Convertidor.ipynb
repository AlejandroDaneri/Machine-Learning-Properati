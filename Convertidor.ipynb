{
 "cells": [
  {
   "cell_type": "code",
   "execution_count": 1,
   "metadata": {},
   "outputs": [],
   "source": [
    "import pyspark_csv as pycsv\n",
    "sc.addPyFile('pyspark_csv.py')\n",
    "plaintext_rdd = sc.textFile('datos/properati.csv')\n",
    "dataframe = pycsv.csvToDataFrame(sqlCtx, plaintext_rdd)\n",
    "data = dataframe.rdd"
   ]
  },
  {
   "cell_type": "code",
   "execution_count": 2,
   "metadata": {
    "collapsed": true
   },
   "outputs": [],
   "source": [
    "import sys\n",
    "reload(sys)\n",
    "sys.setdefaultencoding('utf-8')"
   ]
  },
  {
   "cell_type": "code",
   "execution_count": 3,
   "metadata": {
    "collapsed": true
   },
   "outputs": [],
   "source": [
    "def recalcular_precios(row):\n",
    "    precio_aprox_usd = None\n",
    "    precio_aprox_local = None\n",
    "    precio_por_m2 = None\n",
    "    precio_usd_por_m2 = None\n",
    "\n",
    "    if (row.currency == 'USD'):\n",
    "        precio_aprox_usd = float(row.price)\n",
    "        precio_aprox_local = precio_aprox_usd * 17.6445\n",
    "        \n",
    "    if (row.currency == 'ARS'):\n",
    "        precio_aprox_local = float(row.price)\n",
    "        precio_aprox_usd = precio_aprox_local // 17.6445\n",
    "        \n",
    "    if (row.surface_total_in_m2 and precio_aprox_local and precio_aprox_usd):\n",
    "        precio_por_m2 = precio_aprox_local // row.surface_total_in_m2\n",
    "        precio_usd_por_m2 = precio_aprox_usd // row.surface_total_in_m2\n",
    "        \n",
    "    return(row.created_on, row.operation, row.property_type, row.place_name, row.place_with_parent_names,\\\n",
    "           row.country_name, row.state_name, row.geonames_id, row.lat, row.lon, row.price, row.currency,\\\n",
    "           precio_aprox_local, precio_aprox_usd, row.surface_total_in_m2, row.surface_covered_in_m2, precio_usd_por_m2,\\\n",
    "           precio_por_m2, row.floor, row.rooms, row.expenses, row.description)"
   ]
  },
  {
   "cell_type": "code",
   "execution_count": 4,
   "metadata": {
    "collapsed": true,
    "scrolled": true
   },
   "outputs": [],
   "source": [
    "nuevo=data.map(recalcular_precios)\n",
    "nuevo.toDF().toPandas().to_csv('datos/properati_remap.csv',header=['created_on','operation','property_type','place_name','place_with_parent_names','country_name','state_name','geonames_id','lat','lon','price','currency','precio_aprox_local','precio_aprox_usd','surface_total_in_m2','surface_covered_in_m2','precio_usd_por_m2','precio_por_m2','floor','rooms','expenses','description'])"
   ]
  },
  {
   "cell_type": "code",
   "execution_count": null,
   "metadata": {
    "collapsed": true
   },
   "outputs": [],
   "source": []
  }
 ],
 "metadata": {
  "kernelspec": {
   "display_name": "Python 2",
   "language": "python",
   "name": "python2"
  },
  "language_info": {
   "codemirror_mode": {
    "name": "ipython",
    "version": 2
   },
   "file_extension": ".py",
   "mimetype": "text/x-python",
   "name": "python",
   "nbconvert_exporter": "python",
   "pygments_lexer": "ipython2",
   "version": "2.7.12"
  }
 },
 "nbformat": 4,
 "nbformat_minor": 2
}
