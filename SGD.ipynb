{
 "cells": [
  {
   "cell_type": "code",
   "execution_count": 1,
   "metadata": {},
   "outputs": [
    {
     "data": {
      "text/html": [
       "<style>.container { width:97% !important; }</style>"
      ],
      "text/plain": [
       "<IPython.core.display.HTML object>"
      ]
     },
     "metadata": {},
     "output_type": "display_data"
    },
    {
     "data": {
      "application/javascript": [
       "if (!(\"Notification\" in window)) {\n",
       "    alert(\"This browser does not support desktop notifications, so the %%notify magic will not work.\");\n",
       "} else if (Notification.permission !== 'granted' && Notification.permission !== 'denied') {\n",
       "    Notification.requestPermission(function (permission) {\n",
       "        if(!('permission' in Notification)) {\n",
       "            Notification.permission = permission;\n",
       "        }\n",
       "    })\n",
       "}\n"
      ],
      "text/plain": [
       "<IPython.core.display.Javascript object>"
      ]
     },
     "metadata": {},
     "output_type": "display_data"
    }
   ],
   "source": [
    "import pandas as pd\n",
    "import numpy as np\n",
    "import matplotlib.pyplot as plt\n",
    "\n",
    "from IPython.core.display import display, HTML\n",
    "display(HTML(\"<style>.container { width:97% !important; }</style>\"))\n",
    "\n",
    "import jupyternotify\n",
    "ip = get_ipython()\n",
    "ip.register_magics(jupyternotify.JupyterNotifyMagics)\n",
    "\n",
    "import scoring as score # para hacer los reportes de puntajes\n",
    "from time import time\n",
    "\n",
    "from sklearn import preprocessing\n",
    "from sklearn.linear_model import SGDClassifier\n",
    "from sklearn.preprocessing import StandardScaler  \n",
    "from sklearn.model_selection import GridSearchCV, RandomizedSearchCV, RandomizedSearchCV, ShuffleSplit\n",
    "\n",
    "properati = pd.read_csv('datos/caba_para_mapa.csv',error_bad_lines=False)\n",
    "\n",
    "#tenia un nan nose porque\n",
    "properati.dropna(inplace=True)"
   ]
  },
  {
   "cell_type": "code",
   "execution_count": 2,
   "metadata": {
    "collapsed": true
   },
   "outputs": [],
   "source": [
    "cant_buckets = 15\n",
    "\n",
    "#buckets\n",
    "cantidad,rango = np.histogram(properati['price_usd_per_m2'], bins=cant_buckets)\n",
    "properati['categories_by_price']=pd.cut(properati['price_usd_per_m2'],rango,labels=np.arange(cant_buckets))\n",
    "properati['price_range']=pd.cut(properati['price_usd_per_m2'],rango)\n",
    "#lo casteo a float porque si no tira error \n",
    "properati['categories_by_price']=properati['categories_by_price'].astype(np.float64) \n",
    "\n",
    "#tenia un nan nose porque\n",
    "properati.dropna(inplace=True)"
   ]
  },
  {
   "cell_type": "code",
   "execution_count": 3,
   "metadata": {},
   "outputs": [
    {
     "name": "stdout",
     "output_type": "stream",
     "text": [
      "True\n",
      "True\n"
     ]
    }
   ],
   "source": [
    "#preparo set de datos\n",
    "X = zip(properati['dist_a_subte'],properati['dist_a_univ'])\n",
    "y = properati['categories_by_price']\n",
    "\n",
    "scaler = StandardScaler()\n",
    "X = scaler.fit_transform(X,y)\n",
    "#reviso si quedo datos anomalos\n",
    "print (np.any(np.isnan(y)) == False)\n",
    "print (np.all(np.isfinite(y)) == True )"
   ]
  },
  {
   "cell_type": "markdown",
   "metadata": {},
   "source": [
    "### Busco una aproximacion de hiper-parametros con random search"
   ]
  },
  {
   "cell_type": "code",
   "execution_count": 4,
   "metadata": {},
   "outputs": [
    {
     "name": "stderr",
     "output_type": "stream",
     "text": [
      "/home/ale/.local/lib/python2.7/site-packages/sklearn/linear_model/stochastic_gradient.py:128: FutureWarning: max_iter and tol parameters have been added in <class 'sklearn.linear_model.stochastic_gradient.SGDClassifier'> in 0.19. If both are left unset, they default to max_iter=5 and tol=None. If tol is not None, max_iter defaults to max_iter=1000. From 0.21, default max_iter will be 1000, and default tol will be 1e-3.\n",
      "  \"and default tol will be 1e-3.\" % type(self), FutureWarning)\n"
     ]
    },
    {
     "name": "stdout",
     "output_type": "stream",
     "text": [
      "RandomizedSearchCV duro 255.65 segundos para 200 candidatos a hyper-parametros.\n",
      "\n",
      "Puesto: 1\n",
      "Promedio training score: 0.279 (std: 0.010)\n",
      "Promedio validation score: 0.282 (std: 0.013)\n",
      "Promedio score time: 0.006s\n",
      "Hiper-parametros: {'penalty': 'elasticnet', 'loss': 'log', 'alpha': 0.61665400000000004}\n",
      "\n",
      "Puesto: 2\n",
      "Promedio training score: 0.274 (std: 0.003)\n",
      "Promedio validation score: 0.280 (std: 0.013)\n",
      "Promedio score time: 0.007s\n",
      "Hiper-parametros: {'penalty': 'l1', 'loss': 'modified_huber', 'alpha': 0.82214100000000001}\n",
      "\n",
      "Puesto: 2\n",
      "Promedio training score: 0.274 (std: 0.003)\n",
      "Promedio validation score: 0.280 (std: 0.013)\n",
      "Promedio score time: 0.016s\n",
      "Hiper-parametros: {'penalty': 'l1', 'loss': 'modified_huber', 'alpha': 0.83802699999999997}\n",
      "\n",
      "Puesto: 2\n",
      "Promedio training score: 0.274 (std: 0.003)\n",
      "Promedio validation score: 0.280 (std: 0.013)\n",
      "Promedio score time: 0.017s\n",
      "Hiper-parametros: {'penalty': 'l1', 'loss': 'modified_huber', 'alpha': 0.97244900000000001}\n",
      "\n",
      "Puesto: 2\n",
      "Promedio training score: 0.274 (std: 0.003)\n",
      "Promedio validation score: 0.280 (std: 0.013)\n",
      "Promedio score time: 0.007s\n",
      "Hiper-parametros: {'penalty': 'l1', 'loss': 'log', 'alpha': 0.62490400000000002}\n",
      "\n",
      "Puesto: 2\n",
      "Promedio training score: 0.274 (std: 0.003)\n",
      "Promedio validation score: 0.280 (std: 0.013)\n",
      "Promedio score time: 0.006s\n",
      "Hiper-parametros: {'penalty': 'l1', 'loss': 'log', 'alpha': 0.44993799999999995}\n",
      "\n",
      "Puesto: 2\n",
      "Promedio training score: 0.274 (std: 0.003)\n",
      "Promedio validation score: 0.280 (std: 0.013)\n",
      "Promedio score time: 0.014s\n",
      "Hiper-parametros: {'penalty': 'l1', 'loss': 'huber', 'alpha': 0.23155399999999998}\n",
      "\n",
      "Puesto: 2\n",
      "Promedio training score: 0.274 (std: 0.003)\n",
      "Promedio validation score: 0.280 (std: 0.013)\n",
      "Promedio score time: 0.006s\n",
      "Hiper-parametros: {'penalty': 'l1', 'loss': 'modified_huber', 'alpha': 0.15864899999999998}\n",
      "\n",
      "Puesto: 2\n",
      "Promedio training score: 0.274 (std: 0.003)\n",
      "Promedio validation score: 0.280 (std: 0.013)\n",
      "Promedio score time: 0.013s\n",
      "Hiper-parametros: {'penalty': 'l1', 'loss': 'huber', 'alpha': 0.18584100000000001}\n",
      "\n",
      "Puesto: 2\n",
      "Promedio training score: 0.274 (std: 0.003)\n",
      "Promedio validation score: 0.280 (std: 0.013)\n",
      "Promedio score time: 0.006s\n",
      "Hiper-parametros: {'penalty': 'l1', 'loss': 'log', 'alpha': 0.94020599999999999}\n",
      "\n",
      "Puesto: 2\n",
      "Promedio training score: 0.274 (std: 0.003)\n",
      "Promedio validation score: 0.280 (std: 0.013)\n",
      "Promedio score time: 0.007s\n",
      "Hiper-parametros: {'penalty': 'l1', 'loss': 'log', 'alpha': 0.90857299999999996}\n",
      "\n",
      "Puesto: 2\n",
      "Promedio training score: 0.274 (std: 0.003)\n",
      "Promedio validation score: 0.280 (std: 0.013)\n",
      "Promedio score time: 0.006s\n",
      "Hiper-parametros: {'penalty': 'l1', 'loss': 'huber', 'alpha': 0.18995599999999999}\n",
      "\n",
      "Puesto: 2\n",
      "Promedio training score: 0.274 (std: 0.003)\n",
      "Promedio validation score: 0.280 (std: 0.013)\n",
      "Promedio score time: 0.014s\n",
      "Hiper-parametros: {'penalty': 'l1', 'loss': 'huber', 'alpha': 0.26334599999999997}\n",
      "\n",
      "Puesto: 2\n",
      "Promedio training score: 0.274 (std: 0.003)\n",
      "Promedio validation score: 0.280 (std: 0.013)\n",
      "Promedio score time: 0.022s\n",
      "Hiper-parametros: {'penalty': 'elasticnet', 'loss': 'huber', 'alpha': 0.096574999999999994}\n",
      "\n",
      "Puesto: 2\n",
      "Promedio training score: 0.274 (std: 0.003)\n",
      "Promedio validation score: 0.280 (std: 0.013)\n",
      "Promedio score time: 0.015s\n",
      "Hiper-parametros: {'penalty': 'l1', 'loss': 'log', 'alpha': 0.39536099999999996}\n",
      "\n"
     ]
    },
    {
     "name": "stderr",
     "output_type": "stream",
     "text": [
      "/home/ale/.local/lib/python2.7/site-packages/sklearn/utils/deprecation.py:122: FutureWarning: You are accessing a training score ('mean_train_score'), which will not be available by default any more in 0.21. If you need training scores, please set return_train_score=True\n",
      "  warnings.warn(*warn_args, **warn_kwargs)\n",
      "/home/ale/.local/lib/python2.7/site-packages/sklearn/utils/deprecation.py:122: FutureWarning: You are accessing a training score ('std_train_score'), which will not be available by default any more in 0.21. If you need training scores, please set return_train_score=True\n",
      "  warnings.warn(*warn_args, **warn_kwargs)\n"
     ]
    },
    {
     "data": {
      "application/javascript": [
       "$(document).ready(\n",
       "    function() {\n",
       "        function appendUniqueDiv(){\n",
       "            // append a div with our uuid so we can check that it's already\n",
       "            // been sent and avoid duplicates on page reload\n",
       "            var notifiedDiv = document.createElement(\"div\")\n",
       "            notifiedDiv.id = \"1e89b4f2-99cb-48e3-a5ec-08aa26d26763\"\n",
       "            element.append(notifiedDiv)\n",
       "        }\n",
       "\n",
       "        // only send notifications if the pageload is complete; this will\n",
       "        // help stop extra notifications when a saved notebook is loaded,\n",
       "        // which during testing gives us state \"interactive\", not \"complete\"\n",
       "        if (document.readyState === 'complete') {\n",
       "            // check for the div that signifies that the notification\n",
       "            // was already sent\n",
       "            if (document.getElementById(\"1e89b4f2-99cb-48e3-a5ec-08aa26d26763\") === null) {\n",
       "                var notificationPayload = {\"body\": \"Cell Execution Has Finished!!\", \"requireInteraction\": false, \"icon\": \"/static/base/images/favicon.ico\"};\n",
       "                if (Notification.permission !== 'denied') {\n",
       "                    if (Notification.permission !== 'granted') { \n",
       "                        Notification.requestPermission(function (permission) {\n",
       "                            if(!('permission' in Notification)) {\n",
       "                                Notification.permission = permission\n",
       "                            }\n",
       "                            if (Notification.permission === 'granted') {\n",
       "                                var notification = new Notification(\"Jupyter Notebook\", notificationPayload)\n",
       "                                appendUniqueDiv()\n",
       "                            }\n",
       "                        })\n",
       "                    } else if (Notification.permission === 'granted') {\n",
       "                        var notification = new Notification(\"Jupyter Notebook\", notificationPayload)\n",
       "                        appendUniqueDiv()\n",
       "                    }\n",
       "                }\n",
       "            }\n",
       "        }\n",
       "    }\n",
       ")\n"
      ],
      "text/plain": [
       "<IPython.core.display.Javascript object>"
      ]
     },
     "metadata": {},
     "output_type": "display_data"
    }
   ],
   "source": [
    "%%notify\n",
    "\n",
    "#preparo set de datos\n",
    "X = zip(properati['dist_a_subte'],properati['dist_a_univ'])\n",
    "y = properati['categories_by_price']\n",
    "\n",
    "sgd = SGDClassifier(n_jobs=-1)\n",
    "\n",
    "\n",
    "alpha=np.arange(0.000001,1,0.000001)\n",
    "pen =['l2','l1','elasticnet']\n",
    "loss = [\"hinge\", \"log\", \"modified_huber\", \"squared_hinge\", \"perceptron\", \"squared_loss\", \"huber\", \"epsilon_insensitive\", \"squared_epsilon_insensitive\"]\n",
    "param_grid = {\"loss\": loss, \"penalty\": pen, \"alpha\": alpha}\n",
    "custom_cv = ShuffleSplit(n_splits=5, test_size=0.2)\n",
    "\n",
    "# run randomized search\n",
    "random_search = RandomizedSearchCV(sgd, param_distributions=param_grid,\n",
    "n_iter=200,cv=custom_cv)\n",
    "start = time()\n",
    "random_search.fit(X, y)\n",
    "\n",
    "print(\"RandomizedSearchCV duro %.2f segundos para %d candidatos a hyper-parametros.\"\n",
    "    % (time() - start, len(random_search.cv_results_['params'])))\n",
    "print(\"\")\n",
    "score.report_single(random_search.cv_results_)"
   ]
  },
  {
   "cell_type": "code",
   "execution_count": 20,
   "metadata": {},
   "outputs": [
    {
     "name": "stdout",
     "output_type": "stream",
     "text": [
      "GridSearchCV took 620.32 seconds for 891 candidate parameter settings.\n",
      "Model with rank: 1\n",
      "Mean training score: 0.282 (std: 0.008)\n",
      "Mean validation score: 0.291 (std: 0.031)\n",
      "Parameters: {'penalty': 'elasticnet', 'alpha': 0.65000000000000002, 'loss': 'log'}\n",
      "\n",
      "Model with rank: 2\n",
      "Mean training score: 0.282 (std: 0.011)\n",
      "Mean validation score: 0.291 (std: 0.019)\n",
      "Parameters: {'penalty': 'l2', 'alpha': 0.37, 'loss': 'log'}\n",
      "\n",
      "Model with rank: 3\n",
      "Mean training score: 0.282 (std: 0.009)\n",
      "Mean validation score: 0.290 (std: 0.037)\n",
      "Parameters: {'penalty': 'l2', 'alpha': 0.94000000000000006, 'loss': 'log'}\n",
      "\n",
      "Model with rank: 4\n",
      "Mean training score: 0.279 (std: 0.004)\n",
      "Mean validation score: 0.290 (std: 0.030)\n",
      "Parameters: {'penalty': 'elasticnet', 'alpha': 0.42999999999999999, 'loss': 'log'}\n",
      "\n",
      "Model with rank: 5\n",
      "Mean training score: 0.282 (std: 0.014)\n",
      "Mean validation score: 0.289 (std: 0.019)\n",
      "Parameters: {'penalty': 'elasticnet', 'alpha': 0.90000000000000002, 'loss': 'log'}\n",
      "\n",
      "Model with rank: 6\n",
      "Mean training score: 0.284 (std: 0.008)\n",
      "Mean validation score: 0.289 (std: 0.023)\n",
      "Parameters: {'penalty': 'l2', 'alpha': 0.95000000000000007, 'loss': 'log'}\n",
      "\n",
      "Model with rank: 7\n",
      "Mean training score: 0.278 (std: 0.020)\n",
      "Mean validation score: 0.288 (std: 0.026)\n",
      "Parameters: {'penalty': 'l2', 'alpha': 0.58999999999999997, 'loss': 'log'}\n",
      "\n",
      "Model with rank: 7\n",
      "Mean training score: 0.279 (std: 0.010)\n",
      "Mean validation score: 0.288 (std: 0.033)\n",
      "Parameters: {'penalty': 'l2', 'alpha': 0.70000000000000007, 'loss': 'log'}\n",
      "\n",
      "Model with rank: 9\n",
      "Mean training score: 0.278 (std: 0.008)\n",
      "Mean validation score: 0.288 (std: 0.030)\n",
      "Parameters: {'penalty': 'elasticnet', 'alpha': 0.60999999999999999, 'loss': 'log'}\n",
      "\n",
      "Model with rank: 9\n",
      "Mean training score: 0.275 (std: 0.010)\n",
      "Mean validation score: 0.288 (std: 0.018)\n",
      "Parameters: {'penalty': 'l2', 'alpha': 0.98999999999999999, 'loss': 'huber'}\n",
      "\n"
     ]
    },
    {
     "data": {
      "application/javascript": [
       "$(document).ready(\n",
       "    function() {\n",
       "        function appendUniqueDiv(){\n",
       "            // append a div with our uuid so we can check that it's already\n",
       "            // been sent and avoid duplicates on page reload\n",
       "            var notifiedDiv = document.createElement(\"div\")\n",
       "            notifiedDiv.id = \"9718e31f-19ea-4e35-8649-a73b14a72189\"\n",
       "            element.append(notifiedDiv)\n",
       "        }\n",
       "\n",
       "        // only send notifications if the pageload is complete; this will\n",
       "        // help stop extra notifications when a saved notebook is loaded,\n",
       "        // which during testing gives us state \"interactive\", not \"complete\"\n",
       "        if (document.readyState === 'complete') {\n",
       "            // check for the div that signifies that the notification\n",
       "            // was already sent\n",
       "            if (document.getElementById(\"9718e31f-19ea-4e35-8649-a73b14a72189\") === null) {\n",
       "                var notificationPayload = {\"body\": \"Cell Execution Has Finished!!\", \"requireInteraction\": false, \"icon\": \"/static/base/images/favicon.ico\"};\n",
       "                if (Notification.permission !== 'denied') {\n",
       "                    if (Notification.permission !== 'granted') { \n",
       "                        Notification.requestPermission(function (permission) {\n",
       "                            if(!('permission' in Notification)) {\n",
       "                                Notification.permission = permission\n",
       "                            }\n",
       "                            if (Notification.permission === 'granted') {\n",
       "                                var notification = new Notification(\"Jupyter Notebook\", notificationPayload)\n",
       "                                appendUniqueDiv()\n",
       "                            }\n",
       "                        })\n",
       "                    } else if (Notification.permission === 'granted') {\n",
       "                        var notification = new Notification(\"Jupyter Notebook\", notificationPayload)\n",
       "                        appendUniqueDiv()\n",
       "                    }\n",
       "                }\n",
       "            }\n",
       "        }\n",
       "    }\n",
       ")\n"
      ],
      "text/plain": [
       "<IPython.core.display.Javascript object>"
      ]
     },
     "metadata": {},
     "output_type": "display_data"
    }
   ],
   "source": [
    "%%notify\n",
    "\n",
    "#preparo set de datos\n",
    "X = zip(properati['dist_a_subte'],properati['dist_a_univ'])\n",
    "y = properati['categories_by_price']\n",
    "\n",
    "sgd = SGDClassifier(n_jobs=-1)\n",
    "        \n",
    "alpha=np.arange(0.01,1,0.01)\n",
    "pen =['l2','elasticnet',\"l1\"]\n",
    "loss = [\"log\", \"modified_huber\",\"huber\"]\n",
    "param_grid = {\"loss\": loss, \"penalty\": pen, \"alpha\": alpha}\n",
    "\n",
    "custom_cv = ShuffleSplit(n_splits=5, test_size=0.2)\n",
    "\n",
    "grid_search = GridSearchCV(sgd,param_grid=param_grid,cv=custom_cv)\n",
    "start = time()\n",
    "grid_search.fit(X, y)\n",
    "\n",
    "print(\"GridSearchCV took %.2f seconds for %d candidate parameter settings.\"\n",
    "    % (time() - start, len(grid_search.cv_results_['params'])))\n",
    "score.report_single(grid_search.cv_results_)"
   ]
  },
  {
   "cell_type": "code",
   "execution_count": null,
   "metadata": {
    "collapsed": true
   },
   "outputs": [],
   "source": []
  }
 ],
 "metadata": {
  "kernelspec": {
   "display_name": "Python 2",
   "language": "python",
   "name": "python2"
  },
  "language_info": {
   "codemirror_mode": {
    "name": "ipython",
    "version": 2
   },
   "file_extension": ".py",
   "mimetype": "text/x-python",
   "name": "python",
   "nbconvert_exporter": "python",
   "pygments_lexer": "ipython2",
   "version": "2.7.12"
  }
 },
 "nbformat": 4,
 "nbformat_minor": 2
}
