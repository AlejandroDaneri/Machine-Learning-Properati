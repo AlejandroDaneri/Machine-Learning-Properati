{
 "cells": [
  {
   "cell_type": "code",
   "execution_count": 149,
   "metadata": {
    "collapsed": true
   },
   "outputs": [],
   "source": [
    "import pyspark_csv as pycsv\n",
    "sc.addPyFile('pyspark_csv.py')\n",
    "plaintext_rdd = sc.textFile('datos/caba_para_mapa.csv')\n",
    "dataframe = pycsv.csvToDataFrame(sqlCtx, plaintext_rdd)\n",
    "data = dataframe.rdd"
   ]
  },
  {
   "cell_type": "code",
   "execution_count": 2,
   "metadata": {},
   "outputs": [
    {
     "data": {
      "text/html": [
       "<style>.container { width:97% !important; }</style>"
      ],
      "text/plain": [
       "<IPython.core.display.HTML object>"
      ]
     },
     "metadata": {},
     "output_type": "display_data"
    }
   ],
   "source": [
    "from IPython.core.display import display, HTML\n",
    "display(HTML(\"<style>.container { width:97% !important; }</style>\"))"
   ]
  },
  {
   "cell_type": "markdown",
   "metadata": {},
   "source": [
    "# USE CABA PORQUE LSH TIRA ERROR CUANDO ENCUENTRA NANS"
   ]
  },
  {
   "cell_type": "code",
   "execution_count": 150,
   "metadata": {},
   "outputs": [
    {
     "data": {
      "text/plain": [
       "[('created_on', 'timestamp'),\n",
       " ('property_type', 'string'),\n",
       " ('place_name', 'string'),\n",
       " ('state_name', 'string'),\n",
       " ('lat-lon', 'string'),\n",
       " ('lat', 'double'),\n",
       " ('lon', 'double'),\n",
       " ('price', 'int'),\n",
       " ('currency', 'string'),\n",
       " ('price_aprox_local_currency', 'double'),\n",
       " ('price_aprox_usd', 'int'),\n",
       " ('surface_total_in_m2', 'int'),\n",
       " ('surface_covered_in_m2', 'int'),\n",
       " ('price_usd_per_m2', 'int'),\n",
       " ('price_per_m2', 'double'),\n",
       " ('floor', 'int'),\n",
       " ('rooms', 'int'),\n",
       " ('expenses', 'int'),\n",
       " ('properati_url', 'string'),\n",
       " ('description', 'string'),\n",
       " ('title', 'string'),\n",
       " ('dist_a_subte', 'double'),\n",
       " ('dist_a_tren', 'double'),\n",
       " ('dist_a_univ', 'double'),\n",
       " ('dist_a_villa', 'double'),\n",
       " ('dist_a_zona_anegada', 'double')]"
      ]
     },
     "execution_count": 150,
     "metadata": {},
     "output_type": "execute_result"
    }
   ],
   "source": [
    "dataframe.dtypes"
   ]
  },
  {
   "cell_type": "code",
   "execution_count": 153,
   "metadata": {
    "collapsed": true
   },
   "outputs": [],
   "source": [
    "from pyspark.ml.feature import VectorAssembler\n",
    "#preparo las columnas para pasarle lsh\n",
    "assembler = VectorAssembler(inputCols=[\"surface_total_in_m2\",\"dist_a_subte\"], outputCol=\"vector2\")\n",
    "dataframe = assembler.transform(dataframe)"
   ]
  },
  {
   "cell_type": "code",
   "execution_count": 154,
   "metadata": {},
   "outputs": [
    {
     "name": "stdout",
     "output_type": "stream",
     "text": [
      "+-----------+\n",
      "|    vector2|\n",
      "+-----------+\n",
      "| [29.0,2.7]|\n",
      "| [47.0,7.3]|\n",
      "| [47.0,7.3]|\n",
      "| [86.0,5.8]|\n",
      "| [65.0,9.3]|\n",
      "| [35.0,1.9]|\n",
      "|[153.0,4.5]|\n",
      "| [40.0,3.7]|\n",
      "| [40.0,3.7]|\n",
      "| [40.0,3.7]|\n",
      "|[470.0,8.7]|\n",
      "| [70.0,7.0]|\n",
      "| [47.0,4.3]|\n",
      "| [48.0,4.3]|\n",
      "| [33.0,4.3]|\n",
      "| [28.0,4.3]|\n",
      "| [26.0,4.3]|\n",
      "| [48.0,4.3]|\n",
      "| [50.0,4.3]|\n",
      "|[270.0,9.4]|\n",
      "+-----------+\n",
      "only showing top 20 rows\n",
      "\n"
     ]
    }
   ],
   "source": [
    "dataframe.select(\"vector2\").show()"
   ]
  },
  {
   "cell_type": "code",
   "execution_count": 158,
   "metadata": {},
   "outputs": [
    {
     "name": "stdout",
     "output_type": "stream",
     "text": [
      "('Approximately searching dfA for 20 nearest neighbors of', DenseVector([51.3, 0.62]))\n",
      "+------------+----------+--------------+-------------------+-------+\n",
      "|  place_name|   vector2|        bucket|          distancia|  price|\n",
      "+------------+----------+--------------+-------------------+-------+\n",
      "|Barrio Norte|[51.0,0.7]|[[0.0], [0.0]]| 0.3104834939251977| 170000|\n",
      "|   Balvanera|[51.0,0.7]|[[0.0], [0.0]]| 0.3104834939251977| 130000|\n",
      "|    Recoleta|[51.0,0.7]|[[0.0], [0.0]]| 0.3104834939251977| 140000|\n",
      "|    Recoleta|[51.0,0.5]|[[0.0], [0.0]]| 0.3231098884280676| 204585|\n",
      "|Barrio Norte|[51.0,0.5]|[[0.0], [0.0]]| 0.3231098884280676| 152000|\n",
      "|    Recoleta|[51.0,0.5]|[[0.0], [0.0]]| 0.3231098884280676| 178187|\n",
      "|    Recoleta|[51.0,0.5]|[[0.0], [0.0]]| 0.3231098884280676| 181486|\n",
      "|    Recoleta|[51.0,0.5]|[[0.0], [0.0]]| 0.3231098884280676| 184786|\n",
      "|    Recoleta|[51.0,0.5]|[[0.0], [0.0]]| 0.3231098884280676| 188746|\n",
      "|    Recoleta|[51.0,0.5]|[[0.0], [0.0]]| 0.3231098884280676| 192705|\n",
      "|    Recoleta|[51.0,0.5]|[[0.0], [0.0]]| 0.3231098884280676| 201285|\n",
      "|    Recoleta|[51.0,0.8]|[[0.0], [0.0]]|0.34985711369071565|2218764|\n",
      "|    Recoleta|[51.0,0.8]|[[0.0], [0.0]]|0.34985711369071565|2313180|\n",
      "|Barrio Norte|[51.0,0.4]|[[0.0], [0.0]]|0.37202150475476314| 145000|\n",
      "|Barrio Norte|[51.0,0.4]|[[0.0], [0.0]]|0.37202150475476314| 135000|\n",
      "|Barrio Norte|[51.0,0.4]|[[0.0], [0.0]]|0.37202150475476314| 170000|\n",
      "|    Recoleta|[51.0,0.4]|[[0.0], [0.0]]|0.37202150475476314| 169000|\n",
      "|     Palermo|[51.0,0.4]|[[0.0], [0.0]]|0.37202150475476314|  93000|\n",
      "|Barrio Norte|[51.0,0.9]|[[0.0], [0.0]]|0.41036569057366173| 145000|\n",
      "|Barrio Norte|[51.0,0.9]|[[0.0], [0.0]]|0.41036569057366173| 165000|\n",
      "+------------+----------+--------------+-------------------+-------+\n",
      "\n"
     ]
    }
   ],
   "source": [
    "from pyspark.ml.feature import BucketedRandomProjectionLSH\n",
    "from pyspark.ml.linalg import Vectors\n",
    "from pyspark.sql.functions import col\n",
    "\n",
    "key = Vectors.dense([51.3,0.62])\n",
    "\n",
    "brp = BucketedRandomProjectionLSH(inputCol=\"vector2\", outputCol=\"bucket\", bucketLength=500.0,\n",
    "                                  numHashTables=2)\n",
    "model = brp.fit(dataframe)\n",
    "\n",
    "# Compute the locality sensitive hashes for the input rows, then perform approximate nearest\n",
    "# neighbor search.\n",
    "# We could avoid computing hashes by passing in the already-transformed dataset, e.g.\n",
    "# `model.approxNearestNeighbors(transformedA, key, 2)`\n",
    "print(\"Approximately searching dfA for 20 nearest neighbors of\",key)\n",
    "resultado=model.approxNearestNeighbors(dataframe, key, 20,'distancia').select('place_name','vector2','bucket','distancia','price').show()\n"
   ]
  },
  {
   "cell_type": "code",
   "execution_count": null,
   "metadata": {
    "collapsed": true
   },
   "outputs": [],
   "source": [
    "resultado"
   ]
  }
 ],
 "metadata": {
  "kernelspec": {
   "display_name": "Python 2",
   "language": "python",
   "name": "python2"
  },
  "language_info": {
   "codemirror_mode": {
    "name": "ipython",
    "version": 2
   },
   "file_extension": ".py",
   "mimetype": "text/x-python",
   "name": "python",
   "nbconvert_exporter": "python",
   "pygments_lexer": "ipython2",
   "version": "2.7.12"
  }
 },
 "nbformat": 4,
 "nbformat_minor": 2
}
