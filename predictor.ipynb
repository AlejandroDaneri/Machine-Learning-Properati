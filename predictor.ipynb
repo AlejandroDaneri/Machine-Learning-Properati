{
 "cells": [
  {
   "cell_type": "code",
   "execution_count": 101,
   "metadata": {
    "collapsed": true
   },
   "outputs": [],
   "source": [
    "import pyspark_csv as pycsv\n",
    "sc.addPyFile('pyspark_csv.py')\n",
    "plaintext_rdd = sc.textFile('datos/properati_final.csv')\n",
    "dataframe = pycsv.csvToDataFrame(sqlCtx, plaintext_rdd)\n",
    "data = dataframe.rdd"
   ]
  },
  {
   "cell_type": "code",
   "execution_count": 2,
   "metadata": {},
   "outputs": [
    {
     "data": {
      "text/html": [
       "<style>.container { width:97% !important; }</style>"
      ],
      "text/plain": [
       "<IPython.core.display.HTML object>"
      ]
     },
     "metadata": {},
     "output_type": "display_data"
    }
   ],
   "source": [
    "from IPython.core.display import display, HTML\n",
    "display(HTML(\"<style>.container { width:97% !important; }</style>\"))"
   ]
  },
  {
   "cell_type": "code",
   "execution_count": 102,
   "metadata": {},
   "outputs": [],
   "source": [
    "from pyspark.ml.feature import VectorAssembler\n",
    "assembler = VectorAssembler(inputCols=[\"price\",\"surface_total_in_m2\"], outputCol=\"price_sup\")\n",
    "dataframe = assembler.transform(dataframe)"
   ]
  },
  {
   "cell_type": "code",
   "execution_count": 103,
   "metadata": {},
   "outputs": [
    {
     "name": "stdout",
     "output_type": "stream",
     "text": [
      "+----------------+\n",
      "|       price_sup|\n",
      "+----------------+\n",
      "|  [71000.0,29.0]|\n",
      "|  [140000.0,0.0]|\n",
      "|  [165000.0,0.0]|\n",
      "|  [148000.0,0.0]|\n",
      "|[132000.0,112.0]|\n",
      "| [190000.0,96.0]|\n",
      "|  [250000.0,0.0]|\n",
      "| [119000.0,95.0]|\n",
      "|  [98000.0,43.0]|\n",
      "| [110000.0,53.0]|\n",
      "|[190000.0,103.0]|\n",
      "|  [92000.0,45.0]|\n",
      "|  [159000.0,0.0]|\n",
      "|   [69500.0,0.0]|\n",
      "| [110000.0,54.0]|\n",
      "|  [71000.0,30.0]|\n",
      "|  [96000.0,47.0]|\n",
      "|  [86000.0,47.0]|\n",
      "|  [95000.0,50.0]|\n",
      "|  [87000.0,68.0]|\n",
      "+----------------+\n",
      "only showing top 20 rows\n",
      "\n"
     ]
    }
   ],
   "source": [
    "dataframe.select('price_sup').show()"
   ]
  },
  {
   "cell_type": "code",
   "execution_count": 104,
   "metadata": {},
   "outputs": [
    {
     "name": "stdout",
     "output_type": "stream",
     "text": [
      "('Approximately searching dfA for 20 nearest neighbors of', DenseVector([70150.0, 50.0]))\n",
      "+----------------+--------------+-----------------+------------------+\n",
      "|      place_name|     price_sup|           bucket|         distancia|\n",
      "+----------------+--------------+-----------------+------------------+\n",
      "|         Almagro|[70140.0,33.0]|[[83.0], [139.0]]| 19.72308292331602|\n",
      "| Lomas de Zamora|[70200.0,32.0]|[[83.0], [139.0]]| 53.14132102234569|\n",
      "|        Saavedra|[70205.0,37.0]|[[83.0], [139.0]]|56.515484603779164|\n",
      "|          Bernal|[70210.0,32.0]|[[83.0], [139.0]]|  62.6418390534633|\n",
      "|          Bernal|[70210.0,32.0]|[[83.0], [139.0]]|  62.6418390534633|\n",
      "|       San Telmo|[70066.0,37.0]|[[83.0], [139.0]]|              85.0|\n",
      "|     Villa Bosch|[70000.0,50.0]|[[83.0], [139.0]]|             150.0|\n",
      "|      La Matanza|[70000.0,50.0]|[[83.0], [139.0]]|             150.0|\n",
      "|      San Miguel|[70000.0,50.0]|[[83.0], [139.0]]|             150.0|\n",
      "|        AdroguÃ©|[70000.0,50.0]|[[83.0], [139.0]]|             150.0|\n",
      "|          Flores|[70000.0,50.0]|[[83.0], [139.0]]|             150.0|\n",
      "| Villa Ballester|[70000.0,50.0]|[[83.0], [139.0]]|             150.0|\n",
      "|MartÃ­n Coronado|[70000.0,50.0]|[[83.0], [139.0]]|             150.0|\n",
      "|      San Andres|[70000.0,50.0]|[[83.0], [139.0]]|             150.0|\n",
      "|       Mataderos|[70000.0,50.0]|[[83.0], [139.0]]|             150.0|\n",
      "|       San Justo|[70000.0,50.0]|[[83.0], [139.0]]|             150.0|\n",
      "|        Castelar|[70000.0,50.0]|[[83.0], [139.0]]|             150.0|\n",
      "| Villa Sarmiento|[70000.0,50.0]|[[83.0], [139.0]]|             150.0|\n",
      "| Villa Luzuriaga|[70000.0,50.0]|[[83.0], [139.0]]|             150.0|\n",
      "|       Temperley|[70000.0,50.0]|[[83.0], [139.0]]|             150.0|\n",
      "+----------------+--------------+-----------------+------------------+\n",
      "\n"
     ]
    }
   ],
   "source": [
    "from pyspark.ml.feature import BucketedRandomProjectionLSH\n",
    "from pyspark.ml.linalg import Vectors\n",
    "from pyspark.sql.functions import col\n",
    "\n",
    "key = Vectors.dense([70150.0,50.0])\n",
    "\n",
    "brp = BucketedRandomProjectionLSH(inputCol=\"price_sup\", outputCol=\"bucket\", bucketLength=500.0,\n",
    "                                  numHashTables=2)\n",
    "model = brp.fit(dataframe)\n",
    "\n",
    "# Compute the locality sensitive hashes for the input rows, then perform approximate nearest\n",
    "# neighbor search.\n",
    "# We could avoid computing hashes by passing in the already-transformed dataset, e.g.\n",
    "# `model.approxNearestNeighbors(transformedA, key, 2)`\n",
    "print(\"Approximately searching dfA for 20 nearest neighbors of\",key)\n",
    "model.approxNearestNeighbors(dataframe, key, 20,'distancia').select('place_name','price_sup','bucket','distancia').show()\n"
   ]
  },
  {
   "cell_type": "code",
   "execution_count": null,
   "metadata": {
    "collapsed": true
   },
   "outputs": [],
   "source": []
  }
 ],
 "metadata": {
  "kernelspec": {
   "display_name": "Python 2",
   "language": "python",
   "name": "python2"
  },
  "language_info": {
   "codemirror_mode": {
    "name": "ipython",
    "version": 2
   },
   "file_extension": ".py",
   "mimetype": "text/x-python",
   "name": "python",
   "nbconvert_exporter": "python",
   "pygments_lexer": "ipython2",
   "version": "2.7.12"
  }
 },
 "nbformat": 4,
 "nbformat_minor": 2
}
