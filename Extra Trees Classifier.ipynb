{
 "cells": [
  {
   "cell_type": "code",
   "execution_count": 1,
   "metadata": {},
   "outputs": [
    {
     "data": {
      "text/html": [
       "<style>.container { width:97% !important; }</style>"
      ],
      "text/plain": [
       "<IPython.core.display.HTML object>"
      ]
     },
     "metadata": {},
     "output_type": "display_data"
    },
    {
     "data": {
      "application/javascript": [
       "if (!(\"Notification\" in window)) {\n",
       "    alert(\"This browser does not support desktop notifications, so the %%notify magic will not work.\");\n",
       "} else if (Notification.permission !== 'granted' && Notification.permission !== 'denied') {\n",
       "    Notification.requestPermission(function (permission) {\n",
       "        if(!('permission' in Notification)) {\n",
       "            Notification.permission = permission;\n",
       "        }\n",
       "    })\n",
       "}\n"
      ],
      "text/plain": [
       "<IPython.core.display.Javascript object>"
      ]
     },
     "metadata": {},
     "output_type": "display_data"
    }
   ],
   "source": [
    "import pandas as pd\n",
    "import numpy as np\n",
    "import matplotlib.pyplot as plt\n",
    "\n",
    "from IPython.core.display import display, HTML\n",
    "display(HTML(\"<style>.container { width:97% !important; }</style>\"))\n",
    "\n",
    "import jupyternotify\n",
    "ip = get_ipython()\n",
    "ip.register_magics(jupyternotify.JupyterNotifyMagics)\n",
    "\n",
    "import scoring as score # para hacer los reportes de puntajes\n",
    "from time import time\n",
    "\n",
    "from sklearn import preprocessing\n",
    "from sklearn.ensemble import ExtraTreesClassifier\n",
    "from sklearn.preprocessing import StandardScaler  \n",
    "from sklearn.model_selection import GridSearchCV, RandomizedSearchCV, RandomizedSearchCV, ShuffleSplit\n",
    "\n",
    "properati = pd.read_csv('datos/caba_para_mapa.csv',index_col=0,error_bad_lines=False)\n",
    "\n",
    "#tenia un nan nose porque\n",
    "properati.dropna(inplace=True)"
   ]
  },
  {
   "cell_type": "code",
   "execution_count": 2,
   "metadata": {
    "collapsed": true
   },
   "outputs": [],
   "source": [
    "cant_buckets = 15\n",
    "\n",
    "#buckets\n",
    "cantidad,rango = np.histogram(properati['price_usd_per_m2'], bins=cant_buckets)\n",
    "properati['categories_by_price']=pd.cut(properati['price_usd_per_m2'],rango,labels=np.arange(cant_buckets))\n",
    "properati['price_range']=pd.cut(properati['price_usd_per_m2'],rango)\n",
    "#lo casteo a float porque si no tira error \n",
    "properati['categories_by_price']=properati['categories_by_price'].astype(np.float64) \n",
    "\n",
    "#tenia un nan nose porque\n",
    "properati.dropna(inplace=True)"
   ]
  },
  {
   "cell_type": "code",
   "execution_count": 3,
   "metadata": {},
   "outputs": [
    {
     "name": "stdout",
     "output_type": "stream",
     "text": [
      "True\n",
      "True\n"
     ]
    }
   ],
   "source": [
    "#preparo set de datos\n",
    "X = zip(properati['dist_a_subte'],properati['dist_a_univ'])\n",
    "y = properati['categories_by_price']\n",
    "\n",
    "#reviso si quedo datos anomalos\n",
    "print (np.any(np.isnan(y)) == False)\n",
    "print (np.all(np.isfinite(y)) == True )"
   ]
  },
  {
   "cell_type": "markdown",
   "metadata": {},
   "source": [
    "### Busco hiper-parametros con grid search"
   ]
  },
  {
   "cell_type": "code",
   "execution_count": 5,
   "metadata": {},
   "outputs": [
    {
     "name": "stdout",
     "output_type": "stream",
     "text": [
      "GridSearchCV duro 33.43 segundos para 8 candidatos a hyper-parametros.\n",
      "\n",
      "Model with rank: 1\n",
      "Mean training score: 0.705 (std: 0.005)\n",
      "Mean validation score: 0.469 (std: 0.019)\n",
      "Mean score time: 0.122\n",
      "Parameters: {'max_features': None, 'bootstrap': True}\n",
      "\n",
      "Model with rank: 2\n",
      "Mean training score: 0.707 (std: 0.004)\n",
      "Mean validation score: 0.466 (std: 0.018)\n",
      "Mean score time: 0.122\n",
      "Parameters: {'max_features': 'sqrt', 'bootstrap': True}\n",
      "\n",
      "Model with rank: 3\n",
      "Mean training score: 0.707 (std: 0.005)\n",
      "Mean validation score: 0.465 (std: 0.015)\n",
      "Mean score time: 0.122\n",
      "Parameters: {'max_features': 'log2', 'bootstrap': True}\n",
      "\n",
      "Model with rank: 4\n",
      "Mean training score: 0.706 (std: 0.005)\n",
      "Mean validation score: 0.465 (std: 0.019)\n",
      "Mean score time: 0.122\n",
      "Parameters: {'max_features': 'auto', 'bootstrap': True}\n",
      "\n",
      "Model with rank: 5\n",
      "Mean training score: 0.714 (std: 0.005)\n",
      "Mean validation score: 0.464 (std: 0.017)\n",
      "Mean score time: 0.122\n",
      "Parameters: {'max_features': 'log2', 'bootstrap': False}\n",
      "\n",
      "Model with rank: 6\n",
      "Mean training score: 0.714 (std: 0.005)\n",
      "Mean validation score: 0.463 (std: 0.016)\n",
      "Mean score time: 0.122\n",
      "Parameters: {'max_features': 'sqrt', 'bootstrap': False}\n",
      "\n",
      "Model with rank: 7\n",
      "Mean training score: 0.714 (std: 0.005)\n",
      "Mean validation score: 0.462 (std: 0.018)\n",
      "Mean score time: 0.122\n",
      "Parameters: {'max_features': 'auto', 'bootstrap': False}\n",
      "\n",
      "Model with rank: 7\n",
      "Mean training score: 0.714 (std: 0.005)\n",
      "Mean validation score: 0.462 (std: 0.016)\n",
      "Mean score time: 0.122\n",
      "Parameters: {'max_features': None, 'bootstrap': False}\n",
      "\n"
     ]
    },
    {
     "data": {
      "application/javascript": [
       "$(document).ready(\n",
       "    function() {\n",
       "        function appendUniqueDiv(){\n",
       "            // append a div with our uuid so we can check that it's already\n",
       "            // been sent and avoid duplicates on page reload\n",
       "            var notifiedDiv = document.createElement(\"div\")\n",
       "            notifiedDiv.id = \"5f284645-c53c-45d7-aa24-a6062334be56\"\n",
       "            element.append(notifiedDiv)\n",
       "        }\n",
       "\n",
       "        // only send notifications if the pageload is complete; this will\n",
       "        // help stop extra notifications when a saved notebook is loaded,\n",
       "        // which during testing gives us state \"interactive\", not \"complete\"\n",
       "        if (document.readyState === 'complete') {\n",
       "            // check for the div that signifies that the notification\n",
       "            // was already sent\n",
       "            if (document.getElementById(\"5f284645-c53c-45d7-aa24-a6062334be56\") === null) {\n",
       "                var notificationPayload = {\"body\": \"Cell Execution Has Finished!!\", \"requireInteraction\": false, \"icon\": \"/static/base/images/favicon.ico\"};\n",
       "                if (Notification.permission !== 'denied') {\n",
       "                    if (Notification.permission !== 'granted') { \n",
       "                        Notification.requestPermission(function (permission) {\n",
       "                            if(!('permission' in Notification)) {\n",
       "                                Notification.permission = permission\n",
       "                            }\n",
       "                            if (Notification.permission === 'granted') {\n",
       "                                var notification = new Notification(\"Jupyter Notebook\", notificationPayload)\n",
       "                                appendUniqueDiv()\n",
       "                            }\n",
       "                        })\n",
       "                    } else if (Notification.permission === 'granted') {\n",
       "                        var notification = new Notification(\"Jupyter Notebook\", notificationPayload)\n",
       "                        appendUniqueDiv()\n",
       "                    }\n",
       "                }\n",
       "            }\n",
       "        }\n",
       "    }\n",
       ")\n"
      ],
      "text/plain": [
       "<IPython.core.display.Javascript object>"
      ]
     },
     "metadata": {},
     "output_type": "display_data"
    }
   ],
   "source": [
    "%%notify\n",
    "\n",
    "#preparo set de datos\n",
    "X = zip(properati['dist_a_subte'],properati['dist_a_univ'])\n",
    "y = properati['categories_by_price']\n",
    "\n",
    "etc = ExtraTreesClassifier(n_jobs=-1)\n",
    "\n",
    "bootstrap=[True,False]\n",
    "max_features =[\"auto\",\"sqrt\",\"log2\",None]\n",
    "\n",
    "param_grid = {\"bootstrap\": bootstrap,\"max_features\":max_features}\n",
    "custom_cv = ShuffleSplit(n_splits=10, test_size=0.2)\n",
    "\n",
    "# run randomized search\n",
    "grid_search = GridSearchCV(etc, param_grid=param_grid ,cv=custom_cv)\n",
    "start = time()\n",
    "grid_search.fit(X, y)\n",
    "\n",
    "print(\"GridSearchCV duro %.2f segundos para %d candidatos a hyper-parametros.\"\n",
    "    % (time() - start, len(grid_search.cv_results_['params'])))\n",
    "print(\"\")\n",
    "score.report_single(grid_search.cv_results_)"
   ]
  },
  {
   "cell_type": "code",
   "execution_count": null,
   "metadata": {
    "collapsed": true
   },
   "outputs": [],
   "source": []
  }
 ],
 "metadata": {
  "kernelspec": {
   "display_name": "Python 2",
   "language": "python",
   "name": "python2"
  },
  "language_info": {
   "codemirror_mode": {
    "name": "ipython",
    "version": 2
   },
   "file_extension": ".py",
   "mimetype": "text/x-python",
   "name": "python",
   "nbconvert_exporter": "python",
   "pygments_lexer": "ipython2",
   "version": "2.7.12"
  }
 },
 "nbformat": 4,
 "nbformat_minor": 2
}
