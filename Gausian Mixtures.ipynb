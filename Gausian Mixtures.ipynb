{
 "cells": [
  {
   "cell_type": "code",
   "execution_count": 6,
   "metadata": {},
   "outputs": [
    {
     "data": {
      "text/html": [
       "<style>.container { width:97% !important; }</style>"
      ],
      "text/plain": [
       "<IPython.core.display.HTML object>"
      ]
     },
     "metadata": {},
     "output_type": "display_data"
    },
    {
     "data": {
      "application/javascript": [
       "if (!(\"Notification\" in window)) {\n",
       "    alert(\"This browser does not support desktop notifications, so the %%notify magic will not work.\");\n",
       "} else if (Notification.permission !== 'granted' && Notification.permission !== 'denied') {\n",
       "    Notification.requestPermission(function (permission) {\n",
       "        if(!('permission' in Notification)) {\n",
       "            Notification.permission = permission;\n",
       "        }\n",
       "    })\n",
       "}\n"
      ],
      "text/plain": [
       "<IPython.core.display.Javascript object>"
      ]
     },
     "metadata": {},
     "output_type": "display_data"
    }
   ],
   "source": [
    "import pandas as pd\n",
    "import numpy as np\n",
    "import matplotlib.pyplot as plt\n",
    "\n",
    "from IPython.core.display import display, HTML\n",
    "display(HTML(\"<style>.container { width:97% !important; }</style>\"))\n",
    "\n",
    "import jupyternotify\n",
    "ip = get_ipython()\n",
    "ip.register_magics(jupyternotify.JupyterNotifyMagics)\n",
    "\n",
    "import scoring as score # para hacer los reportes de puntajes\n",
    "from time import time\n",
    "\n",
    "from sklearn import preprocessing\n",
    "from sklearn.mixture import GaussianMixture\n",
    "from sklearn.model_selection import GridSearchCV, RandomizedSearchCV, train_test_split\n",
    "\n",
    "properati = pd.read_csv('datos/caba_para_mapa.csv',error_bad_lines=False)"
   ]
  },
  {
   "cell_type": "code",
   "execution_count": 7,
   "metadata": {},
   "outputs": [
    {
     "name": "stdout",
     "output_type": "stream",
     "text": [
      "<class 'pandas.core.frame.DataFrame'>\n",
      "RangeIndex: 48323 entries, 0 to 48322\n",
      "Data columns (total 26 columns):\n",
      "created_on                    48323 non-null object\n",
      "property_type                 48323 non-null object\n",
      "place_name                    48323 non-null object\n",
      "state_name                    48323 non-null object\n",
      "lat-lon                       48323 non-null object\n",
      "lat                           48323 non-null float64\n",
      "lon                           48323 non-null float64\n",
      "price                         48323 non-null float64\n",
      "currency                      48323 non-null object\n",
      "price_aprox_local_currency    48323 non-null float64\n",
      "price_aprox_usd               48323 non-null float64\n",
      "surface_total_in_m2           48323 non-null float64\n",
      "surface_covered_in_m2         48323 non-null float64\n",
      "price_usd_per_m2              48323 non-null float64\n",
      "price_per_m2                  48323 non-null float64\n",
      "floor                         6223 non-null float64\n",
      "rooms                         33792 non-null float64\n",
      "expenses                      14449 non-null float64\n",
      "properati_url                 48323 non-null object\n",
      "description                   48323 non-null object\n",
      "title                         48323 non-null object\n",
      "dist_a_subte                  48323 non-null float64\n",
      "dist_a_tren                   48323 non-null float64\n",
      "dist_a_univ                   48323 non-null float64\n",
      "dist_a_villa                  48323 non-null float64\n",
      "dist_a_zona_anegada           48323 non-null float64\n",
      "dtypes: float64(17), object(9)\n",
      "memory usage: 9.6+ MB\n"
     ]
    }
   ],
   "source": [
    "properati.info()"
   ]
  },
  {
   "cell_type": "code",
   "execution_count": 8,
   "metadata": {
    "collapsed": true
   },
   "outputs": [],
   "source": [
    "properati.loc[:,('created_on')] = pd.to_datetime(properati['created_on'])\n",
    "properati['anio'] = [x.year for x in properati['created_on'] ]"
   ]
  },
  {
   "cell_type": "code",
   "execution_count": 9,
   "metadata": {
    "collapsed": true
   },
   "outputs": [],
   "source": [
    "#paso features con strings a numericos\n",
    "le_barrio = preprocessing.LabelEncoder()\n",
    "barrios=properati['place_name']\n",
    "le_barrio.fit(barrios)\n",
    "properati['place_name'] = le_barrio.transform(barrios)\n",
    "\n",
    "le_divisa = preprocessing.LabelEncoder()\n",
    "divisa=properati['currency']\n",
    "le_divisa.fit(divisa)\n",
    "properati['currency'] = le_divisa.transform(divisa)\n",
    "\n",
    "le_tipo = preprocessing.LabelEncoder()\n",
    "tipos_prop=properati['property_type']\n",
    "le_tipo.fit(tipos_prop)\n",
    "properati['property_type'] = le_tipo.transform(tipos_prop)"
   ]
  },
  {
   "cell_type": "code",
   "execution_count": 22,
   "metadata": {},
   "outputs": [],
   "source": [
    "#preparo set de datos\n",
    "X = zip(       properati['surface_total_in_m2'],\\\n",
    "        properati['surface_covered_in_m2'],properati['lat'])\n",
    "y = properati['price_aprox_usd']"
   ]
  },
  {
   "cell_type": "markdown",
   "metadata": {},
   "source": [
    "### Busco hiper-parametros con random search"
   ]
  },
  {
   "cell_type": "code",
   "execution_count": 23,
   "metadata": {},
   "outputs": [
    {
     "name": "stdout",
     "output_type": "stream",
     "text": [
      "GridSearchCV duro 30.10 segundos para 2 candidatos a hiper-parametros.\n",
      "\n",
      "Puesto: 1\n",
      "Promedio training score: -11.324 (std: 0.333)\n",
      "Promedio validation score: -13.086 (std: 2.823)\n",
      "Promedio fit time: 0.047s\n",
      "Hiper-parametros: {'init_params': 'kmeans'}\n",
      "\n",
      "Puesto: 1\n",
      "Promedio training score: -11.324 (std: 0.333)\n",
      "Promedio validation score: -13.086 (std: 2.823)\n",
      "Promedio fit time: 0.031s\n",
      "Hiper-parametros: {'init_params': 'random'}\n",
      "\n"
     ]
    },
    {
     "data": {
      "application/javascript": [
       "$(document).ready(\n",
       "    function() {\n",
       "        function appendUniqueDiv(){\n",
       "            // append a div with our uuid so we can check that it's already\n",
       "            // been sent and avoid duplicates on page reload\n",
       "            var notifiedDiv = document.createElement(\"div\")\n",
       "            notifiedDiv.id = \"2daf438b-505c-4931-9818-5663ed71db4b\"\n",
       "            element.append(notifiedDiv)\n",
       "        }\n",
       "\n",
       "        // only send notifications if the pageload is complete; this will\n",
       "        // help stop extra notifications when a saved notebook is loaded,\n",
       "        // which during testing gives us state \"interactive\", not \"complete\"\n",
       "        if (document.readyState === 'complete') {\n",
       "            // check for the div that signifies that the notification\n",
       "            // was already sent\n",
       "            if (document.getElementById(\"2daf438b-505c-4931-9818-5663ed71db4b\") === null) {\n",
       "                var notificationPayload = {\"body\": \"Cell Execution Has Finished!!\", \"requireInteraction\": false, \"icon\": \"/static/base/images/favicon.ico\"};\n",
       "                if (Notification.permission !== 'denied') {\n",
       "                    if (Notification.permission !== 'granted') { \n",
       "                        Notification.requestPermission(function (permission) {\n",
       "                            if(!('permission' in Notification)) {\n",
       "                                Notification.permission = permission\n",
       "                            }\n",
       "                            if (Notification.permission === 'granted') {\n",
       "                                var notification = new Notification(\"Jupyter Notebook\", notificationPayload)\n",
       "                                appendUniqueDiv()\n",
       "                            }\n",
       "                        })\n",
       "                    } else if (Notification.permission === 'granted') {\n",
       "                        var notification = new Notification(\"Jupyter Notebook\", notificationPayload)\n",
       "                        appendUniqueDiv()\n",
       "                    }\n",
       "                }\n",
       "            }\n",
       "        }\n",
       "    }\n",
       ")\n"
      ],
      "text/plain": [
       "<IPython.core.display.Javascript object>"
      ]
     },
     "metadata": {},
     "output_type": "display_data"
    }
   ],
   "source": [
    "%%notify\n",
    "\n",
    "estimator = GaussianMixture()\n",
    "\n",
    "X_train, X_test, y_train, y_test = train_test_split(\n",
    "    X, y, test_size=0.2)\n",
    "\n",
    "param_grid = {\"init_params\": [\"kmeans\", \"random\"]}\n",
    "\n",
    "search = RandomizedSearchCV(estimator, param_distributions=param_grid ,cv=5,n_iter=2,n_jobs=-1) #refit deja el estimador fiteado con los mejores hiperparametros\n",
    "start = time()\n",
    "search.fit(X_train, y_train)\n",
    "\n",
    "print(\"GridSearchCV duro %.2f segundos para %d candidatos a hiper-parametros.\"\n",
    "    % (time() - start, len(search.cv_results_['params'])))\n",
    "print(\"\")\n",
    "score.report_single(search.cv_results_)"
   ]
  },
  {
   "cell_type": "code",
   "execution_count": 24,
   "metadata": {},
   "outputs": [
    {
     "data": {
      "text/plain": [
       "-10.645543673078134"
      ]
     },
     "execution_count": 24,
     "metadata": {},
     "output_type": "execute_result"
    }
   ],
   "source": [
    "search.score(X_test,y_test) # pruebo el estimador refiteado con el set de test"
   ]
  },
  {
   "cell_type": "code",
   "execution_count": 25,
   "metadata": {},
   "outputs": [
    {
     "name": "stdout",
     "output_type": "stream",
     "text": [
      "Error maximo:8000000.0\n",
      "Error minimo:4250.0\n",
      "28311    -597000.0\n",
      "41380    -375000.0\n",
      "11157    -269000.0\n",
      "32653     -81500.0\n",
      "36838    -160000.0\n",
      "13173    -105000.0\n",
      "20827     -80000.0\n",
      "4285    -1200000.0\n",
      "35519    -128000.0\n",
      "46285   -1400000.0\n",
      "33105    -240000.0\n",
      "28042    -210000.0\n",
      "27351    -143000.0\n",
      "17314    -110000.0\n",
      "18132    -295000.0\n",
      "18241     -65969.0\n",
      "41378    -170000.0\n",
      "36495    -103350.0\n",
      "17504    -240000.0\n",
      "48160    -129000.0\n",
      "15633    -420000.0\n",
      "3469     -190000.0\n",
      "10154    -498000.0\n",
      "27471    -369000.0\n",
      "27123    -130000.0\n",
      "42984    -279600.0\n",
      "9924     -117000.0\n",
      "32974    -470000.0\n",
      "37118    -800000.0\n",
      "39839    -120000.0\n",
      "           ...    \n",
      "18347    -104000.0\n",
      "1749      -29558.0\n",
      "9417     -365000.0\n",
      "32991    -225000.0\n",
      "33894     -78000.0\n",
      "3124     -345000.0\n",
      "4702     -209000.0\n",
      "16864     -71000.0\n",
      "48052     -78000.0\n",
      "22623     -79000.0\n",
      "354     -1500000.0\n",
      "25214    -225000.0\n",
      "47741    -210000.0\n",
      "4336      -33200.0\n",
      "21335    -280000.0\n",
      "32994    -227000.0\n",
      "36231    -120000.0\n",
      "42071    -230000.0\n",
      "14497    -119000.0\n",
      "4795     -185000.0\n",
      "5697     -175000.0\n",
      "18451    -799999.0\n",
      "47888     -89000.0\n",
      "44407     -92400.0\n",
      "23139    -130700.0\n",
      "7364     -185000.0\n",
      "39448    -135000.0\n",
      "16451    -365200.0\n",
      "9938     -150000.0\n",
      "14932     -95000.0\n",
      "Name: price_aprox_usd, Length: 9665, dtype: float64\n"
     ]
    }
   ],
   "source": [
    "mejor = search.best_estimator_\n",
    "errores = mejor.predict(X_test)-y_test\n",
    "print (\"Error maximo:{0}\\nError minimo:{1}\".format( max(abs(errores)),min(abs(errores))))\n",
    "print(errores)"
   ]
  },
  {
   "cell_type": "markdown",
   "metadata": {},
   "source": [
    "### Analsis de errores"
   ]
  },
  {
   "cell_type": "code",
   "execution_count": 26,
   "metadata": {},
   "outputs": [
    {
     "name": "stdout",
     "output_type": "stream",
     "text": [
      "Hay 9665 de de 9665 que tienen mas de 1000 USD de error\n"
     ]
    }
   ],
   "source": [
    "count_max=0\n",
    "max_error=1000\n",
    "lista=[]\n",
    "for error in errores:\n",
    "    if abs(error)>=max_error:\n",
    "        count_max+=1\n",
    "        lista.append(abs(error))\n",
    "print (\"Hay {0} de de {1} que tienen mas de {2} USD de error\".format(count_max,len(errores),max_error))"
   ]
  },
  {
   "cell_type": "code",
   "execution_count": 27,
   "metadata": {},
   "outputs": [
    {
     "data": {
      "image/png": "[encoded data removed]",
      "text/plain": [
       "<matplotlib.figure.Figure at 0x7ffb1fbf69d0>"
      ]
     },
     "metadata": {},
     "output_type": "display_data"
    }
   ],
   "source": [
    "# the histogram of the data\n",
    "plt.figure(figsize=(12,8))\n",
    "plt.hist(errores, 100, facecolor='blue')\n",
    "plt.xlabel('Errores')\n",
    "plt.ylabel('Cantidad')\n",
    "#plt.xlim(-1000, 1000) #para variar el \"zoom a 0\"\n",
    "plt.yscale('log')\n",
    "plt.show()"
   ]
  },
  {
   "cell_type": "code",
   "execution_count": null,
   "metadata": {
    "collapsed": true
   },
   "outputs": [],
   "source": []
  },
  {
   "cell_type": "code",
   "execution_count": null,
   "metadata": {
    "collapsed": true
   },
   "outputs": [],
   "source": []
  }
 ],
 "metadata": {
  "kernelspec": {
   "display_name": "Python 2",
   "language": "python",
   "name": "python2"
  },
  "language_info": {
   "codemirror_mode": {
    "name": "ipython",
    "version": 2
   },
   "file_extension": ".py",
   "mimetype": "text/x-python",
   "name": "python",
   "nbconvert_exporter": "python",
   "pygments_lexer": "ipython2",
   "version": "2.7.12"
  }
 },
 "nbformat": 4,
 "nbformat_minor": 2
}
